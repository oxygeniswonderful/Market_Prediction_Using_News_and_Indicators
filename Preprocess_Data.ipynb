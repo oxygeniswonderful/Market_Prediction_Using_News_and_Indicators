{
 "cells": [
  {
   "cell_type": "code",
   "execution_count": 1,
   "outputs": [],
   "source": [
    "import calendar\n",
    "from Core.Preprocess import *\n",
    "from Core.CryptoCompareAPI import *\n",
    "from Core.config_reader import config_reader\n",
    "from Core.reduce_dim_with_correlation import correlation\n",
    "from scipy import stats"
   ],
   "metadata": {
    "collapsed": false,
    "ExecuteTime": {
     "end_time": "2023-06-11T14:58:38.822126Z",
     "start_time": "2023-06-11T14:58:36.903365Z"
    }
   }
  },
  {
   "cell_type": "markdown",
   "source": [
    "## Download Data"
   ],
   "metadata": {
    "collapsed": false
   }
  },
  {
   "cell_type": "code",
   "execution_count": 2,
   "outputs": [],
   "source": [
    "reader = config_reader('/Users/admin/PycharmProjects/Market_Prediction_Using_News_and_Indicators/config.yml')\n",
    "\n",
    "crypto_currency_list = reader.read_config(\"CRYPTO_CURRENCIES_LIST\")\n",
    "exchange = reader.read_config(\"EXCHANGE\")\n",
    "currency = reader.read_config(\"CURRENCY\")"
   ],
   "metadata": {
    "collapsed": false,
    "ExecuteTime": {
     "end_time": "2023-06-11T15:01:33.365558Z",
     "start_time": "2023-06-11T15:01:33.341074Z"
    }
   }
  },
  {
   "cell_type": "code",
   "execution_count": 3,
   "outputs": [],
   "source": [
    "df_crypto_list = []"
   ],
   "metadata": {
    "collapsed": false,
    "ExecuteTime": {
     "end_time": "2023-06-11T15:01:34.370807Z",
     "start_time": "2023-06-11T15:01:34.365393Z"
    }
   }
  },
  {
   "cell_type": "code",
   "execution_count": 4,
   "outputs": [],
   "source": [
    " for crypto in crypto_currency_list:\n",
    "    raw_data = get_historical_price_hour_from(\n",
    "        coin=crypto,\n",
    "        currency=currency,\n",
    "        exchange=exchange,\n",
    "        toTs=int(calendar.timegm(datetime.datetime(2023, 7, 1, 0, 0, 0).timetuple())),\n",
    "        fromTs=int(calendar.timegm(datetime.datetime(2023, 4, 1, 0, 0, 0).timetuple()))\n",
    "    )\n",
    "    data = Preprocess.get_from_crypto_compare_hourly_price_data_to_pandas(raw_data)\n",
    "    df_crypto_list.append(data)"
   ],
   "metadata": {
    "collapsed": false,
    "ExecuteTime": {
     "end_time": "2023-06-11T15:02:39.753542Z",
     "start_time": "2023-06-11T15:02:35.626391Z"
    }
   }
  },
  {
   "cell_type": "markdown",
   "source": [
    "## Preprocessing"
   ],
   "metadata": {
    "collapsed": false
   }
  },
  {
   "cell_type": "code",
   "execution_count": 5,
   "outputs": [
    {
     "data": {
      "text/plain": "                        close      high       low      open  volumefrom  \\\ntime                                                                      \n2023-04-01 00:00:00  28438.27  28547.20  28408.57  28465.36     1524.82   \n2023-04-01 01:00:00  28610.63  28625.61  28410.35  28438.27     1458.59   \n2023-04-01 02:00:00  28583.36  28819.71  28467.31  28610.63     3522.34   \n2023-04-01 03:00:00  28541.10  28603.78  28503.29  28583.36     1088.36   \n2023-04-01 04:00:00  28580.00  28625.10  28526.59  28541.10     1117.54   \n...                       ...       ...       ...       ...         ...   \n2023-06-11 11:00:00  25796.06  25842.44  25757.13  25774.08     1164.36   \n2023-06-11 12:00:00  25750.00  25798.72  25747.61  25796.06      809.95   \n2023-06-11 13:00:00  25703.33  25776.13  25672.68  25750.00     1389.19   \n2023-06-11 14:00:00  25753.19  25806.11  25694.72  25703.33      950.09   \n2023-06-11 15:00:00  25753.20  25764.65  25746.86  25753.19       45.77   \n\n                         volumeto conversionType conversionSymbol   datetimes  \ntime                                                                           \n2023-04-01 00:00:00  4.341578e+07   force_direct                   2023-04-01  \n2023-04-01 01:00:00  4.157274e+07   force_direct                   2023-04-01  \n2023-04-01 02:00:00  1.009208e+08   force_direct                   2023-04-01  \n2023-04-01 03:00:00  3.107279e+07   force_direct                   2023-04-01  \n2023-04-01 04:00:00  3.193753e+07   force_direct                   2023-04-01  \n...                           ...            ...              ...         ...  \n2023-06-11 11:00:00  3.004146e+07   force_direct                   2023-06-11  \n2023-06-11 12:00:00  2.087544e+07   force_direct                   2023-06-11  \n2023-06-11 13:00:00  3.576042e+07   force_direct                   2023-06-11  \n2023-06-11 14:00:00  2.445435e+07   force_direct                   2023-06-11  \n2023-06-11 15:00:00  1.178911e+06   force_direct                   2023-06-11  \n\n[1720 rows x 9 columns]",
      "text/html": "<div>\n<style scoped>\n    .dataframe tbody tr th:only-of-type {\n        vertical-align: middle;\n    }\n\n    .dataframe tbody tr th {\n        vertical-align: top;\n    }\n\n    .dataframe thead th {\n        text-align: right;\n    }\n</style>\n<table border=\"1\" class=\"dataframe\">\n  <thead>\n    <tr style=\"text-align: right;\">\n      <th></th>\n      <th>close</th>\n      <th>high</th>\n      <th>low</th>\n      <th>open</th>\n      <th>volumefrom</th>\n      <th>volumeto</th>\n      <th>conversionType</th>\n      <th>conversionSymbol</th>\n      <th>datetimes</th>\n    </tr>\n    <tr>\n      <th>time</th>\n      <th></th>\n      <th></th>\n      <th></th>\n      <th></th>\n      <th></th>\n      <th></th>\n      <th></th>\n      <th></th>\n      <th></th>\n    </tr>\n  </thead>\n  <tbody>\n    <tr>\n      <th>2023-04-01 00:00:00</th>\n      <td>28438.27</td>\n      <td>28547.20</td>\n      <td>28408.57</td>\n      <td>28465.36</td>\n      <td>1524.82</td>\n      <td>4.341578e+07</td>\n      <td>force_direct</td>\n      <td></td>\n      <td>2023-04-01</td>\n    </tr>\n    <tr>\n      <th>2023-04-01 01:00:00</th>\n      <td>28610.63</td>\n      <td>28625.61</td>\n      <td>28410.35</td>\n      <td>28438.27</td>\n      <td>1458.59</td>\n      <td>4.157274e+07</td>\n      <td>force_direct</td>\n      <td></td>\n      <td>2023-04-01</td>\n    </tr>\n    <tr>\n      <th>2023-04-01 02:00:00</th>\n      <td>28583.36</td>\n      <td>28819.71</td>\n      <td>28467.31</td>\n      <td>28610.63</td>\n      <td>3522.34</td>\n      <td>1.009208e+08</td>\n      <td>force_direct</td>\n      <td></td>\n      <td>2023-04-01</td>\n    </tr>\n    <tr>\n      <th>2023-04-01 03:00:00</th>\n      <td>28541.10</td>\n      <td>28603.78</td>\n      <td>28503.29</td>\n      <td>28583.36</td>\n      <td>1088.36</td>\n      <td>3.107279e+07</td>\n      <td>force_direct</td>\n      <td></td>\n      <td>2023-04-01</td>\n    </tr>\n    <tr>\n      <th>2023-04-01 04:00:00</th>\n      <td>28580.00</td>\n      <td>28625.10</td>\n      <td>28526.59</td>\n      <td>28541.10</td>\n      <td>1117.54</td>\n      <td>3.193753e+07</td>\n      <td>force_direct</td>\n      <td></td>\n      <td>2023-04-01</td>\n    </tr>\n    <tr>\n      <th>...</th>\n      <td>...</td>\n      <td>...</td>\n      <td>...</td>\n      <td>...</td>\n      <td>...</td>\n      <td>...</td>\n      <td>...</td>\n      <td>...</td>\n      <td>...</td>\n    </tr>\n    <tr>\n      <th>2023-06-11 11:00:00</th>\n      <td>25796.06</td>\n      <td>25842.44</td>\n      <td>25757.13</td>\n      <td>25774.08</td>\n      <td>1164.36</td>\n      <td>3.004146e+07</td>\n      <td>force_direct</td>\n      <td></td>\n      <td>2023-06-11</td>\n    </tr>\n    <tr>\n      <th>2023-06-11 12:00:00</th>\n      <td>25750.00</td>\n      <td>25798.72</td>\n      <td>25747.61</td>\n      <td>25796.06</td>\n      <td>809.95</td>\n      <td>2.087544e+07</td>\n      <td>force_direct</td>\n      <td></td>\n      <td>2023-06-11</td>\n    </tr>\n    <tr>\n      <th>2023-06-11 13:00:00</th>\n      <td>25703.33</td>\n      <td>25776.13</td>\n      <td>25672.68</td>\n      <td>25750.00</td>\n      <td>1389.19</td>\n      <td>3.576042e+07</td>\n      <td>force_direct</td>\n      <td></td>\n      <td>2023-06-11</td>\n    </tr>\n    <tr>\n      <th>2023-06-11 14:00:00</th>\n      <td>25753.19</td>\n      <td>25806.11</td>\n      <td>25694.72</td>\n      <td>25703.33</td>\n      <td>950.09</td>\n      <td>2.445435e+07</td>\n      <td>force_direct</td>\n      <td></td>\n      <td>2023-06-11</td>\n    </tr>\n    <tr>\n      <th>2023-06-11 15:00:00</th>\n      <td>25753.20</td>\n      <td>25764.65</td>\n      <td>25746.86</td>\n      <td>25753.19</td>\n      <td>45.77</td>\n      <td>1.178911e+06</td>\n      <td>force_direct</td>\n      <td></td>\n      <td>2023-06-11</td>\n    </tr>\n  </tbody>\n</table>\n<p>1720 rows × 9 columns</p>\n</div>"
     },
     "execution_count": 5,
     "metadata": {},
     "output_type": "execute_result"
    }
   ],
   "source": [
    "df_crypto_list[0]"
   ],
   "metadata": {
    "collapsed": false,
    "ExecuteTime": {
     "end_time": "2023-06-11T15:03:49.082934Z",
     "start_time": "2023-06-11T15:03:49.037942Z"
    }
   }
  },
  {
   "cell_type": "code",
   "execution_count": 6,
   "outputs": [],
   "source": [
    "for i in range(len(df_crypto_list)):\n",
    "    Preprocess.rename_columns(df_crypto_list[i])"
   ],
   "metadata": {
    "collapsed": false,
    "ExecuteTime": {
     "end_time": "2023-06-11T15:03:50.343261Z",
     "start_time": "2023-06-11T15:03:50.325426Z"
    }
   }
  },
  {
   "cell_type": "code",
   "execution_count": 7,
   "outputs": [
    {
     "data": {
      "text/plain": "                        Close      High       Low      Open        Volume\ntime                                                                     \n2023-04-01 00:00:00  28438.27  28547.20  28408.57  28465.36  4.341578e+07\n2023-04-01 01:00:00  28610.63  28625.61  28410.35  28438.27  4.157274e+07\n2023-04-01 02:00:00  28583.36  28819.71  28467.31  28610.63  1.009208e+08\n2023-04-01 03:00:00  28541.10  28603.78  28503.29  28583.36  3.107279e+07\n2023-04-01 04:00:00  28580.00  28625.10  28526.59  28541.10  3.193753e+07\n...                       ...       ...       ...       ...           ...\n2023-06-11 11:00:00  25796.06  25842.44  25757.13  25774.08  3.004146e+07\n2023-06-11 12:00:00  25750.00  25798.72  25747.61  25796.06  2.087544e+07\n2023-06-11 13:00:00  25703.33  25776.13  25672.68  25750.00  3.576042e+07\n2023-06-11 14:00:00  25753.19  25806.11  25694.72  25703.33  2.445435e+07\n2023-06-11 15:00:00  25753.20  25764.65  25746.86  25753.19  1.178911e+06\n\n[1720 rows x 5 columns]",
      "text/html": "<div>\n<style scoped>\n    .dataframe tbody tr th:only-of-type {\n        vertical-align: middle;\n    }\n\n    .dataframe tbody tr th {\n        vertical-align: top;\n    }\n\n    .dataframe thead th {\n        text-align: right;\n    }\n</style>\n<table border=\"1\" class=\"dataframe\">\n  <thead>\n    <tr style=\"text-align: right;\">\n      <th></th>\n      <th>Close</th>\n      <th>High</th>\n      <th>Low</th>\n      <th>Open</th>\n      <th>Volume</th>\n    </tr>\n    <tr>\n      <th>time</th>\n      <th></th>\n      <th></th>\n      <th></th>\n      <th></th>\n      <th></th>\n    </tr>\n  </thead>\n  <tbody>\n    <tr>\n      <th>2023-04-01 00:00:00</th>\n      <td>28438.27</td>\n      <td>28547.20</td>\n      <td>28408.57</td>\n      <td>28465.36</td>\n      <td>4.341578e+07</td>\n    </tr>\n    <tr>\n      <th>2023-04-01 01:00:00</th>\n      <td>28610.63</td>\n      <td>28625.61</td>\n      <td>28410.35</td>\n      <td>28438.27</td>\n      <td>4.157274e+07</td>\n    </tr>\n    <tr>\n      <th>2023-04-01 02:00:00</th>\n      <td>28583.36</td>\n      <td>28819.71</td>\n      <td>28467.31</td>\n      <td>28610.63</td>\n      <td>1.009208e+08</td>\n    </tr>\n    <tr>\n      <th>2023-04-01 03:00:00</th>\n      <td>28541.10</td>\n      <td>28603.78</td>\n      <td>28503.29</td>\n      <td>28583.36</td>\n      <td>3.107279e+07</td>\n    </tr>\n    <tr>\n      <th>2023-04-01 04:00:00</th>\n      <td>28580.00</td>\n      <td>28625.10</td>\n      <td>28526.59</td>\n      <td>28541.10</td>\n      <td>3.193753e+07</td>\n    </tr>\n    <tr>\n      <th>...</th>\n      <td>...</td>\n      <td>...</td>\n      <td>...</td>\n      <td>...</td>\n      <td>...</td>\n    </tr>\n    <tr>\n      <th>2023-06-11 11:00:00</th>\n      <td>25796.06</td>\n      <td>25842.44</td>\n      <td>25757.13</td>\n      <td>25774.08</td>\n      <td>3.004146e+07</td>\n    </tr>\n    <tr>\n      <th>2023-06-11 12:00:00</th>\n      <td>25750.00</td>\n      <td>25798.72</td>\n      <td>25747.61</td>\n      <td>25796.06</td>\n      <td>2.087544e+07</td>\n    </tr>\n    <tr>\n      <th>2023-06-11 13:00:00</th>\n      <td>25703.33</td>\n      <td>25776.13</td>\n      <td>25672.68</td>\n      <td>25750.00</td>\n      <td>3.576042e+07</td>\n    </tr>\n    <tr>\n      <th>2023-06-11 14:00:00</th>\n      <td>25753.19</td>\n      <td>25806.11</td>\n      <td>25694.72</td>\n      <td>25703.33</td>\n      <td>2.445435e+07</td>\n    </tr>\n    <tr>\n      <th>2023-06-11 15:00:00</th>\n      <td>25753.20</td>\n      <td>25764.65</td>\n      <td>25746.86</td>\n      <td>25753.19</td>\n      <td>1.178911e+06</td>\n    </tr>\n  </tbody>\n</table>\n<p>1720 rows × 5 columns</p>\n</div>"
     },
     "execution_count": 7,
     "metadata": {},
     "output_type": "execute_result"
    }
   ],
   "source": [
    "df_crypto_list[0]"
   ],
   "metadata": {
    "collapsed": false,
    "ExecuteTime": {
     "end_time": "2023-06-11T15:03:52.102758Z",
     "start_time": "2023-06-11T15:03:52.095539Z"
    }
   }
  },
  {
   "cell_type": "code",
   "execution_count": 8,
   "outputs": [],
   "source": [
    "def sign(x):\n",
    "    return round((x + 1e-10) / (abs(x) + 1e-10), 1)\n",
    "\n",
    "target_list = []\n",
    "\n",
    "for df in df_crypto_list:\n",
    "    target_list.append(sign(df['Close'].shift(-24) - df['Close'])[90:-24])"
   ],
   "metadata": {
    "collapsed": false,
    "ExecuteTime": {
     "end_time": "2023-06-11T15:03:53.301009Z",
     "start_time": "2023-06-11T15:03:53.287463Z"
    }
   }
  },
  {
   "cell_type": "code",
   "execution_count": 9,
   "outputs": [
    {
     "data": {
      "text/plain": "time\n2023-04-04 18:00:00   -1.0\n2023-04-04 19:00:00    1.0\n2023-04-04 20:00:00   -1.0\n2023-04-04 21:00:00   -1.0\n2023-04-04 22:00:00   -1.0\n                      ... \n2023-06-10 11:00:00    1.0\n2023-06-10 12:00:00    1.0\n2023-06-10 13:00:00    1.0\n2023-06-10 14:00:00    1.0\n2023-06-10 15:00:00    1.0\nName: Close, Length: 1606, dtype: float64"
     },
     "execution_count": 9,
     "metadata": {},
     "output_type": "execute_result"
    }
   ],
   "source": [
    "target_list[0]"
   ],
   "metadata": {
    "collapsed": false,
    "ExecuteTime": {
     "end_time": "2023-06-11T15:03:54.080953Z",
     "start_time": "2023-06-11T15:03:54.069048Z"
    }
   }
  },
  {
   "cell_type": "markdown",
   "source": [
    "## Compute indicators"
   ],
   "metadata": {
    "collapsed": false
   }
  },
  {
   "cell_type": "code",
   "execution_count": 10,
   "outputs": [],
   "source": [
    "new_df_crypto_list = list(map(Preprocess.compute_all_indicators, df_crypto_list))"
   ],
   "metadata": {
    "collapsed": false,
    "ExecuteTime": {
     "end_time": "2023-06-11T15:03:57.030345Z",
     "start_time": "2023-06-11T15:03:55.288672Z"
    }
   }
  },
  {
   "cell_type": "code",
   "execution_count": 11,
   "outputs": [],
   "source": [
    "for i in range(len(new_df_crypto_list)):\n",
    "    new_df_crypto_list[i].drop(columns=[\"Close\", \"High\", \"Low\", \"Open\", \"Volume\"], inplace=True)\n",
    "    new_df_crypto_list[i] = new_df_crypto_list[i].iloc[90:-24]"
   ],
   "metadata": {
    "collapsed": false,
    "ExecuteTime": {
     "end_time": "2023-06-11T15:03:57.045688Z",
     "start_time": "2023-06-11T15:03:57.041708Z"
    }
   }
  },
  {
   "cell_type": "code",
   "execution_count": 12,
   "outputs": [],
   "source": [
    "for i in range(len(df_crypto_list)):\n",
    "    df_crypto_list[i].drop(columns=[\"UpperBB\", \"LowerBB\"], inplace = True)\n",
    "    df_crypto_list[i] = df_crypto_list[i].iloc[90:-24]"
   ],
   "metadata": {
    "collapsed": false,
    "ExecuteTime": {
     "end_time": "2023-06-11T15:03:59.413477Z",
     "start_time": "2023-06-11T15:03:59.394009Z"
    }
   }
  },
  {
   "cell_type": "code",
   "execution_count": 13,
   "outputs": [
    {
     "data": {
      "text/plain": "                        Close      High       Low      Open       Volume\ntime                                                                    \n2023-04-04 18:00:00  28114.42  28260.00  28083.33  28226.99  48084138.19\n2023-04-04 19:00:00  28189.25  28199.00  28070.70  28114.42  40961476.75\n2023-04-04 20:00:00  28250.04  28305.00  28174.44  28189.25  48298634.85\n2023-04-04 21:00:00  28223.62  28254.11  28160.51  28250.04  29109712.30\n2023-04-04 22:00:00  28187.26  28258.93  28182.22  28223.62  24092669.65\n...                       ...       ...       ...       ...          ...\n2023-06-10 11:00:00  25731.40  25739.29  25659.07  25698.31  30764553.12\n2023-06-10 12:00:00  25616.18  25731.41  25608.58  25731.40  39339506.49\n2023-06-10 13:00:00  25657.49  25679.06  25572.94  25616.18  31253570.80\n2023-06-10 14:00:00  25668.34  25706.57  25627.00  25657.49  36252475.61\n2023-06-10 15:00:00  25628.80  25679.93  25600.00  25668.34  28781851.26\n\n[1606 rows x 5 columns]",
      "text/html": "<div>\n<style scoped>\n    .dataframe tbody tr th:only-of-type {\n        vertical-align: middle;\n    }\n\n    .dataframe tbody tr th {\n        vertical-align: top;\n    }\n\n    .dataframe thead th {\n        text-align: right;\n    }\n</style>\n<table border=\"1\" class=\"dataframe\">\n  <thead>\n    <tr style=\"text-align: right;\">\n      <th></th>\n      <th>Close</th>\n      <th>High</th>\n      <th>Low</th>\n      <th>Open</th>\n      <th>Volume</th>\n    </tr>\n    <tr>\n      <th>time</th>\n      <th></th>\n      <th></th>\n      <th></th>\n      <th></th>\n      <th></th>\n    </tr>\n  </thead>\n  <tbody>\n    <tr>\n      <th>2023-04-04 18:00:00</th>\n      <td>28114.42</td>\n      <td>28260.00</td>\n      <td>28083.33</td>\n      <td>28226.99</td>\n      <td>48084138.19</td>\n    </tr>\n    <tr>\n      <th>2023-04-04 19:00:00</th>\n      <td>28189.25</td>\n      <td>28199.00</td>\n      <td>28070.70</td>\n      <td>28114.42</td>\n      <td>40961476.75</td>\n    </tr>\n    <tr>\n      <th>2023-04-04 20:00:00</th>\n      <td>28250.04</td>\n      <td>28305.00</td>\n      <td>28174.44</td>\n      <td>28189.25</td>\n      <td>48298634.85</td>\n    </tr>\n    <tr>\n      <th>2023-04-04 21:00:00</th>\n      <td>28223.62</td>\n      <td>28254.11</td>\n      <td>28160.51</td>\n      <td>28250.04</td>\n      <td>29109712.30</td>\n    </tr>\n    <tr>\n      <th>2023-04-04 22:00:00</th>\n      <td>28187.26</td>\n      <td>28258.93</td>\n      <td>28182.22</td>\n      <td>28223.62</td>\n      <td>24092669.65</td>\n    </tr>\n    <tr>\n      <th>...</th>\n      <td>...</td>\n      <td>...</td>\n      <td>...</td>\n      <td>...</td>\n      <td>...</td>\n    </tr>\n    <tr>\n      <th>2023-06-10 11:00:00</th>\n      <td>25731.40</td>\n      <td>25739.29</td>\n      <td>25659.07</td>\n      <td>25698.31</td>\n      <td>30764553.12</td>\n    </tr>\n    <tr>\n      <th>2023-06-10 12:00:00</th>\n      <td>25616.18</td>\n      <td>25731.41</td>\n      <td>25608.58</td>\n      <td>25731.40</td>\n      <td>39339506.49</td>\n    </tr>\n    <tr>\n      <th>2023-06-10 13:00:00</th>\n      <td>25657.49</td>\n      <td>25679.06</td>\n      <td>25572.94</td>\n      <td>25616.18</td>\n      <td>31253570.80</td>\n    </tr>\n    <tr>\n      <th>2023-06-10 14:00:00</th>\n      <td>25668.34</td>\n      <td>25706.57</td>\n      <td>25627.00</td>\n      <td>25657.49</td>\n      <td>36252475.61</td>\n    </tr>\n    <tr>\n      <th>2023-06-10 15:00:00</th>\n      <td>25628.80</td>\n      <td>25679.93</td>\n      <td>25600.00</td>\n      <td>25668.34</td>\n      <td>28781851.26</td>\n    </tr>\n  </tbody>\n</table>\n<p>1606 rows × 5 columns</p>\n</div>"
     },
     "execution_count": 13,
     "metadata": {},
     "output_type": "execute_result"
    }
   ],
   "source": [
    "df_crypto_list[0]"
   ],
   "metadata": {
    "collapsed": false,
    "ExecuteTime": {
     "end_time": "2023-06-11T15:04:00.085502Z",
     "start_time": "2023-06-11T15:04:00.056172Z"
    }
   }
  },
  {
   "cell_type": "code",
   "execution_count": 14,
   "outputs": [
    {
     "data": {
      "text/plain": "                          UpperBB       LowerBB          DEMA           EMA  \\\ntime                                                                          \n2023-04-04 18:00:00  28377.046239  27690.554761  28069.986877  28066.313562   \n2023-04-04 19:00:00  28384.626967  27721.899033  28085.100953  28074.244945   \n2023-04-04 20:00:00  28389.822077  27765.649923  28106.352081  28085.586562   \n2023-04-04 21:00:00  28390.898892  27805.319108  28122.248596  28094.491945   \n2023-04-04 22:00:00  28386.726415  27842.482585  28132.041784  28100.476981   \n...                           ...           ...           ...           ...   \n2023-06-10 11:00:00  26923.863031  25322.940969  25874.467675  26139.895934   \n2023-06-10 12:00:00  26892.346934  25267.791066  25826.195708  26106.107810   \n2023-06-10 13:00:00  26846.568847  25229.712153  25788.235680  26077.164725   \n2023-06-10 14:00:00  26799.184781  25198.930219  25755.826350  26050.788936   \n2023-06-10 15:00:00  26752.368981  25167.911019  25722.162466  26023.563844   \n\n                     HT_TRENDLINE          KAMA            MA   MIDPOINT  \\\ntime                                                                       \n2023-04-04 18:00:00  27987.808174  28077.185305  28007.634667  28089.765   \n2023-04-04 19:00:00  27999.931609  28077.885185  28005.317000  28155.410   \n2023-04-04 20:00:00  28017.770739  28080.437568  28013.817000  28155.410   \n2023-04-04 21:00:00  28037.541348  28081.974286  28019.555000  28159.780   \n2023-04-04 22:00:00  28057.095087  28083.610004  28028.102333  28159.780   \n...                           ...           ...           ...        ...   \n2023-06-10 11:00:00  26185.485799  25963.846462  26278.727000  26005.375   \n2023-06-10 12:00:00  26164.120107  25925.480816  26249.502000  25997.935   \n2023-06-10 13:00:00  26134.199081  25898.963796  26221.637333  25989.025   \n2023-06-10 14:00:00  26099.063478  25866.129584  26189.169667  25957.495   \n2023-06-10 15:00:00  26061.080783  25831.351988  26155.495333  25922.490   \n\n                      MIDPRICE       SAR  ...  STOCHRSI FASTD      TRIX  \\\ntime                                      ...                             \n2023-04-04 18:00:00  28129.150  28819.71  ...       53.944825 -0.019340   \n2023-04-04 19:00:00  28152.305  28819.71  ...       69.007400 -0.017924   \n2023-04-04 20:00:00  28187.820  28819.71  ...       68.969806 -0.016442   \n2023-04-04 21:00:00  28187.820  28819.71  ...       81.988357 -0.014945   \n2023-04-04 22:00:00  28196.015  28819.71  ...       71.045138 -0.013484   \n...                        ...       ...  ...             ...       ...   \n2023-06-10 11:00:00  25995.140  31000.00  ...       98.777806 -0.021071   \n2023-06-10 12:00:00  25995.140  31000.00  ...       81.130917 -0.024418   \n2023-06-10 13:00:00  25995.140  31000.00  ...       79.568733 -0.027703   \n2023-06-10 14:00:00  25995.140  31000.00  ...       79.568733 -0.030880   \n2023-06-10 15:00:00  25946.745  31000.00  ...       87.087691 -0.033965   \n\n                        ULTOSC      WILLR            AD         ADOSC  \\\ntime                                                                    \n2023-04-04 18:00:00  43.650444 -52.335945 -9.738522e+07 -1.968933e+07   \n2023-04-04 19:00:00  47.364655 -43.676725 -6.264937e+07 -6.188136e+06   \n2023-04-04 20:00:00  52.966516 -37.877017 -5.501393e+07  2.327096e+06   \n2023-04-04 21:00:00  57.152220 -43.024706 -4.486907e+07  8.826956e+06   \n2023-04-04 22:00:00  55.565123 -51.762101 -6.579586e+07  4.025012e+06   \n...                        ...        ...           ...           ...   \n2023-06-10 11:00:00  45.451903 -74.477939  2.795244e+08 -4.207018e+07   \n2023-06-10 12:00:00  47.872389 -85.171607  2.450531e+08 -3.914038e+07   \n2023-06-10 13:00:00  51.234049 -81.337590  2.636014e+08 -2.848187e+07   \n2023-06-10 14:00:00  50.578798 -80.330592  2.650183e+08 -2.108146e+07   \n2023-06-10 15:00:00  49.272574 -82.421202  2.569776e+08 -1.869596e+07   \n\n                              OBV  TRANGE         ATR      NATR  \ntime                                                             \n2023-04-04 18:00:00  1.373518e+08  176.67  209.146034  0.002646  \n2023-04-04 19:00:00  1.783133e+08  128.30  203.371318  0.002559  \n2023-04-04 20:00:00  2.266119e+08  130.56  198.170509  0.002483  \n2023-04-04 21:00:00  1.975022e+08   93.60  190.701187  0.002394  \n2023-04-04 22:00:00  1.734095e+08   76.71  182.558959  0.002298  \n...                           ...     ...         ...       ...  \n2023-06-10 11:00:00 -2.558505e+09   80.22  154.057619  0.002327  \n2023-06-10 12:00:00 -2.597845e+09  122.83  151.827075  0.002314  \n2023-06-10 13:00:00 -2.566591e+09  106.12  148.562284  0.002257  \n2023-06-10 14:00:00 -2.530339e+09   79.57  143.634263  0.002180  \n2023-06-10 15:00:00 -2.559121e+09   79.93  139.083959  0.002117  \n\n[1606 rows x 61 columns]",
      "text/html": "<div>\n<style scoped>\n    .dataframe tbody tr th:only-of-type {\n        vertical-align: middle;\n    }\n\n    .dataframe tbody tr th {\n        vertical-align: top;\n    }\n\n    .dataframe thead th {\n        text-align: right;\n    }\n</style>\n<table border=\"1\" class=\"dataframe\">\n  <thead>\n    <tr style=\"text-align: right;\">\n      <th></th>\n      <th>UpperBB</th>\n      <th>LowerBB</th>\n      <th>DEMA</th>\n      <th>EMA</th>\n      <th>HT_TRENDLINE</th>\n      <th>KAMA</th>\n      <th>MA</th>\n      <th>MIDPOINT</th>\n      <th>MIDPRICE</th>\n      <th>SAR</th>\n      <th>...</th>\n      <th>STOCHRSI FASTD</th>\n      <th>TRIX</th>\n      <th>ULTOSC</th>\n      <th>WILLR</th>\n      <th>AD</th>\n      <th>ADOSC</th>\n      <th>OBV</th>\n      <th>TRANGE</th>\n      <th>ATR</th>\n      <th>NATR</th>\n    </tr>\n    <tr>\n      <th>time</th>\n      <th></th>\n      <th></th>\n      <th></th>\n      <th></th>\n      <th></th>\n      <th></th>\n      <th></th>\n      <th></th>\n      <th></th>\n      <th></th>\n      <th></th>\n      <th></th>\n      <th></th>\n      <th></th>\n      <th></th>\n      <th></th>\n      <th></th>\n      <th></th>\n      <th></th>\n      <th></th>\n      <th></th>\n    </tr>\n  </thead>\n  <tbody>\n    <tr>\n      <th>2023-04-04 18:00:00</th>\n      <td>28377.046239</td>\n      <td>27690.554761</td>\n      <td>28069.986877</td>\n      <td>28066.313562</td>\n      <td>27987.808174</td>\n      <td>28077.185305</td>\n      <td>28007.634667</td>\n      <td>28089.765</td>\n      <td>28129.150</td>\n      <td>28819.71</td>\n      <td>...</td>\n      <td>53.944825</td>\n      <td>-0.019340</td>\n      <td>43.650444</td>\n      <td>-52.335945</td>\n      <td>-9.738522e+07</td>\n      <td>-1.968933e+07</td>\n      <td>1.373518e+08</td>\n      <td>176.67</td>\n      <td>209.146034</td>\n      <td>0.002646</td>\n    </tr>\n    <tr>\n      <th>2023-04-04 19:00:00</th>\n      <td>28384.626967</td>\n      <td>27721.899033</td>\n      <td>28085.100953</td>\n      <td>28074.244945</td>\n      <td>27999.931609</td>\n      <td>28077.885185</td>\n      <td>28005.317000</td>\n      <td>28155.410</td>\n      <td>28152.305</td>\n      <td>28819.71</td>\n      <td>...</td>\n      <td>69.007400</td>\n      <td>-0.017924</td>\n      <td>47.364655</td>\n      <td>-43.676725</td>\n      <td>-6.264937e+07</td>\n      <td>-6.188136e+06</td>\n      <td>1.783133e+08</td>\n      <td>128.30</td>\n      <td>203.371318</td>\n      <td>0.002559</td>\n    </tr>\n    <tr>\n      <th>2023-04-04 20:00:00</th>\n      <td>28389.822077</td>\n      <td>27765.649923</td>\n      <td>28106.352081</td>\n      <td>28085.586562</td>\n      <td>28017.770739</td>\n      <td>28080.437568</td>\n      <td>28013.817000</td>\n      <td>28155.410</td>\n      <td>28187.820</td>\n      <td>28819.71</td>\n      <td>...</td>\n      <td>68.969806</td>\n      <td>-0.016442</td>\n      <td>52.966516</td>\n      <td>-37.877017</td>\n      <td>-5.501393e+07</td>\n      <td>2.327096e+06</td>\n      <td>2.266119e+08</td>\n      <td>130.56</td>\n      <td>198.170509</td>\n      <td>0.002483</td>\n    </tr>\n    <tr>\n      <th>2023-04-04 21:00:00</th>\n      <td>28390.898892</td>\n      <td>27805.319108</td>\n      <td>28122.248596</td>\n      <td>28094.491945</td>\n      <td>28037.541348</td>\n      <td>28081.974286</td>\n      <td>28019.555000</td>\n      <td>28159.780</td>\n      <td>28187.820</td>\n      <td>28819.71</td>\n      <td>...</td>\n      <td>81.988357</td>\n      <td>-0.014945</td>\n      <td>57.152220</td>\n      <td>-43.024706</td>\n      <td>-4.486907e+07</td>\n      <td>8.826956e+06</td>\n      <td>1.975022e+08</td>\n      <td>93.60</td>\n      <td>190.701187</td>\n      <td>0.002394</td>\n    </tr>\n    <tr>\n      <th>2023-04-04 22:00:00</th>\n      <td>28386.726415</td>\n      <td>27842.482585</td>\n      <td>28132.041784</td>\n      <td>28100.476981</td>\n      <td>28057.095087</td>\n      <td>28083.610004</td>\n      <td>28028.102333</td>\n      <td>28159.780</td>\n      <td>28196.015</td>\n      <td>28819.71</td>\n      <td>...</td>\n      <td>71.045138</td>\n      <td>-0.013484</td>\n      <td>55.565123</td>\n      <td>-51.762101</td>\n      <td>-6.579586e+07</td>\n      <td>4.025012e+06</td>\n      <td>1.734095e+08</td>\n      <td>76.71</td>\n      <td>182.558959</td>\n      <td>0.002298</td>\n    </tr>\n    <tr>\n      <th>...</th>\n      <td>...</td>\n      <td>...</td>\n      <td>...</td>\n      <td>...</td>\n      <td>...</td>\n      <td>...</td>\n      <td>...</td>\n      <td>...</td>\n      <td>...</td>\n      <td>...</td>\n      <td>...</td>\n      <td>...</td>\n      <td>...</td>\n      <td>...</td>\n      <td>...</td>\n      <td>...</td>\n      <td>...</td>\n      <td>...</td>\n      <td>...</td>\n      <td>...</td>\n      <td>...</td>\n    </tr>\n    <tr>\n      <th>2023-06-10 11:00:00</th>\n      <td>26923.863031</td>\n      <td>25322.940969</td>\n      <td>25874.467675</td>\n      <td>26139.895934</td>\n      <td>26185.485799</td>\n      <td>25963.846462</td>\n      <td>26278.727000</td>\n      <td>26005.375</td>\n      <td>25995.140</td>\n      <td>31000.00</td>\n      <td>...</td>\n      <td>98.777806</td>\n      <td>-0.021071</td>\n      <td>45.451903</td>\n      <td>-74.477939</td>\n      <td>2.795244e+08</td>\n      <td>-4.207018e+07</td>\n      <td>-2.558505e+09</td>\n      <td>80.22</td>\n      <td>154.057619</td>\n      <td>0.002327</td>\n    </tr>\n    <tr>\n      <th>2023-06-10 12:00:00</th>\n      <td>26892.346934</td>\n      <td>25267.791066</td>\n      <td>25826.195708</td>\n      <td>26106.107810</td>\n      <td>26164.120107</td>\n      <td>25925.480816</td>\n      <td>26249.502000</td>\n      <td>25997.935</td>\n      <td>25995.140</td>\n      <td>31000.00</td>\n      <td>...</td>\n      <td>81.130917</td>\n      <td>-0.024418</td>\n      <td>47.872389</td>\n      <td>-85.171607</td>\n      <td>2.450531e+08</td>\n      <td>-3.914038e+07</td>\n      <td>-2.597845e+09</td>\n      <td>122.83</td>\n      <td>151.827075</td>\n      <td>0.002314</td>\n    </tr>\n    <tr>\n      <th>2023-06-10 13:00:00</th>\n      <td>26846.568847</td>\n      <td>25229.712153</td>\n      <td>25788.235680</td>\n      <td>26077.164725</td>\n      <td>26134.199081</td>\n      <td>25898.963796</td>\n      <td>26221.637333</td>\n      <td>25989.025</td>\n      <td>25995.140</td>\n      <td>31000.00</td>\n      <td>...</td>\n      <td>79.568733</td>\n      <td>-0.027703</td>\n      <td>51.234049</td>\n      <td>-81.337590</td>\n      <td>2.636014e+08</td>\n      <td>-2.848187e+07</td>\n      <td>-2.566591e+09</td>\n      <td>106.12</td>\n      <td>148.562284</td>\n      <td>0.002257</td>\n    </tr>\n    <tr>\n      <th>2023-06-10 14:00:00</th>\n      <td>26799.184781</td>\n      <td>25198.930219</td>\n      <td>25755.826350</td>\n      <td>26050.788936</td>\n      <td>26099.063478</td>\n      <td>25866.129584</td>\n      <td>26189.169667</td>\n      <td>25957.495</td>\n      <td>25995.140</td>\n      <td>31000.00</td>\n      <td>...</td>\n      <td>79.568733</td>\n      <td>-0.030880</td>\n      <td>50.578798</td>\n      <td>-80.330592</td>\n      <td>2.650183e+08</td>\n      <td>-2.108146e+07</td>\n      <td>-2.530339e+09</td>\n      <td>79.57</td>\n      <td>143.634263</td>\n      <td>0.002180</td>\n    </tr>\n    <tr>\n      <th>2023-06-10 15:00:00</th>\n      <td>26752.368981</td>\n      <td>25167.911019</td>\n      <td>25722.162466</td>\n      <td>26023.563844</td>\n      <td>26061.080783</td>\n      <td>25831.351988</td>\n      <td>26155.495333</td>\n      <td>25922.490</td>\n      <td>25946.745</td>\n      <td>31000.00</td>\n      <td>...</td>\n      <td>87.087691</td>\n      <td>-0.033965</td>\n      <td>49.272574</td>\n      <td>-82.421202</td>\n      <td>2.569776e+08</td>\n      <td>-1.869596e+07</td>\n      <td>-2.559121e+09</td>\n      <td>79.93</td>\n      <td>139.083959</td>\n      <td>0.002117</td>\n    </tr>\n  </tbody>\n</table>\n<p>1606 rows × 61 columns</p>\n</div>"
     },
     "execution_count": 14,
     "metadata": {},
     "output_type": "execute_result"
    }
   ],
   "source": [
    "new_df_crypto_list[0]"
   ],
   "metadata": {
    "collapsed": false,
    "ExecuteTime": {
     "end_time": "2023-06-11T15:04:02.689859Z",
     "start_time": "2023-06-11T15:04:02.612515Z"
    }
   }
  },
  {
   "cell_type": "markdown",
   "source": [
    "## Reduce dim with Correlation"
   ],
   "metadata": {
    "collapsed": false
   }
  },
  {
   "cell_type": "code",
   "execution_count": 15,
   "outputs": [],
   "source": [
    "red_df_list = []\n",
    "\n",
    "for i in range(len(new_df_crypto_list)):\n",
    "    red_df_list.append(correlation.compute_correlation(new_df_crypto_list[i], \"spearman\", False))\n",
    "    red_df_list[i] = new_df_crypto_list[i].drop(columns=correlation.reducing_dimension(red_df_list[i], 0.75))"
   ],
   "metadata": {
    "collapsed": false,
    "ExecuteTime": {
     "end_time": "2023-06-11T15:04:05.751346Z",
     "start_time": "2023-06-11T15:04:05.629527Z"
    }
   }
  },
  {
   "cell_type": "code",
   "execution_count": 16,
   "outputs": [
    {
     "data": {
      "text/plain": "                          UpperBB       SAR        ADX         APO  Aroon Up  \\\ntime                                                                           \n2023-04-04 18:00:00  28377.046239  28819.71  12.848769  150.677244      72.0   \n2023-04-04 19:00:00  28384.626967  28819.71  12.133606  156.874231      68.0   \n2023-04-04 20:00:00  28389.822077  28819.71  12.134229  165.316795      64.0   \n2023-04-04 21:00:00  28390.898892  28819.71  12.027685  161.906154      60.0   \n2023-04-04 22:00:00  28386.726415  28819.71  11.960401  135.959423      56.0   \n...                           ...       ...        ...         ...       ...   \n2023-06-10 11:00:00  26923.863031  31000.00  33.979583 -340.152372      12.0   \n2023-06-10 12:00:00  26892.346934  31000.00  35.191585 -371.269103       8.0   \n2023-06-10 13:00:00  26846.568847  31000.00  36.455164 -396.246795       4.0   \n2023-06-10 14:00:00  26799.184781  31000.00  37.281930 -412.458462       0.0   \n2023-06-10 15:00:00  26752.368981  31000.00  38.170118 -431.627756       0.0   \n\n                     Aroon Down       BOP        CCI         DX  STOCH SLOWK  \\\ntime                                                                           \n2023-04-04 18:00:00        16.0 -0.637177  54.364140   4.055920    49.611762   \n2023-04-04 19:00:00        12.0  0.583242  49.407982   2.836497    64.216470   \n2023-04-04 20:00:00         8.0  0.465610  86.627515  12.142316    71.431973   \n2023-04-04 21:00:00         4.0 -0.282265  64.586351  10.642618    75.387230   \n2023-04-04 22:00:00         0.0 -0.473993  57.689269  11.085703    66.185466   \n...                         ...       ...        ...        ...          ...   \n2023-06-10 11:00:00        76.0  0.412491 -76.942510  48.147735    76.834053   \n2023-06-10 12:00:00        72.0 -0.938044 -77.638228  50.947606    67.996205   \n2023-06-10 13:00:00        68.0  0.389276 -72.295459  52.881697    57.518287   \n2023-06-10 14:00:00        64.0  0.136358 -60.825183  48.029888    45.746342   \n2023-06-10 15:00:00        60.0 -0.494683 -60.954448  49.716561    47.251778   \n\n                         TRIX     ULTOSC            AD  TRANGE         ATR  \ntime                                                                        \n2023-04-04 18:00:00 -0.019340  43.650444 -9.738522e+07  176.67  209.146034  \n2023-04-04 19:00:00 -0.017924  47.364655 -6.264937e+07  128.30  203.371318  \n2023-04-04 20:00:00 -0.016442  52.966516 -5.501393e+07  130.56  198.170509  \n2023-04-04 21:00:00 -0.014945  57.152220 -4.486907e+07   93.60  190.701187  \n2023-04-04 22:00:00 -0.013484  55.565123 -6.579586e+07   76.71  182.558959  \n...                       ...        ...           ...     ...         ...  \n2023-06-10 11:00:00 -0.021071  45.451903  2.795244e+08   80.22  154.057619  \n2023-06-10 12:00:00 -0.024418  47.872389  2.450531e+08  122.83  151.827075  \n2023-06-10 13:00:00 -0.027703  51.234049  2.636014e+08  106.12  148.562284  \n2023-06-10 14:00:00 -0.030880  50.578798  2.650183e+08   79.57  143.634263  \n2023-06-10 15:00:00 -0.033965  49.272574  2.569776e+08   79.93  139.083959  \n\n[1606 rows x 15 columns]",
      "text/html": "<div>\n<style scoped>\n    .dataframe tbody tr th:only-of-type {\n        vertical-align: middle;\n    }\n\n    .dataframe tbody tr th {\n        vertical-align: top;\n    }\n\n    .dataframe thead th {\n        text-align: right;\n    }\n</style>\n<table border=\"1\" class=\"dataframe\">\n  <thead>\n    <tr style=\"text-align: right;\">\n      <th></th>\n      <th>UpperBB</th>\n      <th>SAR</th>\n      <th>ADX</th>\n      <th>APO</th>\n      <th>Aroon Up</th>\n      <th>Aroon Down</th>\n      <th>BOP</th>\n      <th>CCI</th>\n      <th>DX</th>\n      <th>STOCH SLOWK</th>\n      <th>TRIX</th>\n      <th>ULTOSC</th>\n      <th>AD</th>\n      <th>TRANGE</th>\n      <th>ATR</th>\n    </tr>\n    <tr>\n      <th>time</th>\n      <th></th>\n      <th></th>\n      <th></th>\n      <th></th>\n      <th></th>\n      <th></th>\n      <th></th>\n      <th></th>\n      <th></th>\n      <th></th>\n      <th></th>\n      <th></th>\n      <th></th>\n      <th></th>\n      <th></th>\n    </tr>\n  </thead>\n  <tbody>\n    <tr>\n      <th>2023-04-04 18:00:00</th>\n      <td>28377.046239</td>\n      <td>28819.71</td>\n      <td>12.848769</td>\n      <td>150.677244</td>\n      <td>72.0</td>\n      <td>16.0</td>\n      <td>-0.637177</td>\n      <td>54.364140</td>\n      <td>4.055920</td>\n      <td>49.611762</td>\n      <td>-0.019340</td>\n      <td>43.650444</td>\n      <td>-9.738522e+07</td>\n      <td>176.67</td>\n      <td>209.146034</td>\n    </tr>\n    <tr>\n      <th>2023-04-04 19:00:00</th>\n      <td>28384.626967</td>\n      <td>28819.71</td>\n      <td>12.133606</td>\n      <td>156.874231</td>\n      <td>68.0</td>\n      <td>12.0</td>\n      <td>0.583242</td>\n      <td>49.407982</td>\n      <td>2.836497</td>\n      <td>64.216470</td>\n      <td>-0.017924</td>\n      <td>47.364655</td>\n      <td>-6.264937e+07</td>\n      <td>128.30</td>\n      <td>203.371318</td>\n    </tr>\n    <tr>\n      <th>2023-04-04 20:00:00</th>\n      <td>28389.822077</td>\n      <td>28819.71</td>\n      <td>12.134229</td>\n      <td>165.316795</td>\n      <td>64.0</td>\n      <td>8.0</td>\n      <td>0.465610</td>\n      <td>86.627515</td>\n      <td>12.142316</td>\n      <td>71.431973</td>\n      <td>-0.016442</td>\n      <td>52.966516</td>\n      <td>-5.501393e+07</td>\n      <td>130.56</td>\n      <td>198.170509</td>\n    </tr>\n    <tr>\n      <th>2023-04-04 21:00:00</th>\n      <td>28390.898892</td>\n      <td>28819.71</td>\n      <td>12.027685</td>\n      <td>161.906154</td>\n      <td>60.0</td>\n      <td>4.0</td>\n      <td>-0.282265</td>\n      <td>64.586351</td>\n      <td>10.642618</td>\n      <td>75.387230</td>\n      <td>-0.014945</td>\n      <td>57.152220</td>\n      <td>-4.486907e+07</td>\n      <td>93.60</td>\n      <td>190.701187</td>\n    </tr>\n    <tr>\n      <th>2023-04-04 22:00:00</th>\n      <td>28386.726415</td>\n      <td>28819.71</td>\n      <td>11.960401</td>\n      <td>135.959423</td>\n      <td>56.0</td>\n      <td>0.0</td>\n      <td>-0.473993</td>\n      <td>57.689269</td>\n      <td>11.085703</td>\n      <td>66.185466</td>\n      <td>-0.013484</td>\n      <td>55.565123</td>\n      <td>-6.579586e+07</td>\n      <td>76.71</td>\n      <td>182.558959</td>\n    </tr>\n    <tr>\n      <th>...</th>\n      <td>...</td>\n      <td>...</td>\n      <td>...</td>\n      <td>...</td>\n      <td>...</td>\n      <td>...</td>\n      <td>...</td>\n      <td>...</td>\n      <td>...</td>\n      <td>...</td>\n      <td>...</td>\n      <td>...</td>\n      <td>...</td>\n      <td>...</td>\n      <td>...</td>\n    </tr>\n    <tr>\n      <th>2023-06-10 11:00:00</th>\n      <td>26923.863031</td>\n      <td>31000.00</td>\n      <td>33.979583</td>\n      <td>-340.152372</td>\n      <td>12.0</td>\n      <td>76.0</td>\n      <td>0.412491</td>\n      <td>-76.942510</td>\n      <td>48.147735</td>\n      <td>76.834053</td>\n      <td>-0.021071</td>\n      <td>45.451903</td>\n      <td>2.795244e+08</td>\n      <td>80.22</td>\n      <td>154.057619</td>\n    </tr>\n    <tr>\n      <th>2023-06-10 12:00:00</th>\n      <td>26892.346934</td>\n      <td>31000.00</td>\n      <td>35.191585</td>\n      <td>-371.269103</td>\n      <td>8.0</td>\n      <td>72.0</td>\n      <td>-0.938044</td>\n      <td>-77.638228</td>\n      <td>50.947606</td>\n      <td>67.996205</td>\n      <td>-0.024418</td>\n      <td>47.872389</td>\n      <td>2.450531e+08</td>\n      <td>122.83</td>\n      <td>151.827075</td>\n    </tr>\n    <tr>\n      <th>2023-06-10 13:00:00</th>\n      <td>26846.568847</td>\n      <td>31000.00</td>\n      <td>36.455164</td>\n      <td>-396.246795</td>\n      <td>4.0</td>\n      <td>68.0</td>\n      <td>0.389276</td>\n      <td>-72.295459</td>\n      <td>52.881697</td>\n      <td>57.518287</td>\n      <td>-0.027703</td>\n      <td>51.234049</td>\n      <td>2.636014e+08</td>\n      <td>106.12</td>\n      <td>148.562284</td>\n    </tr>\n    <tr>\n      <th>2023-06-10 14:00:00</th>\n      <td>26799.184781</td>\n      <td>31000.00</td>\n      <td>37.281930</td>\n      <td>-412.458462</td>\n      <td>0.0</td>\n      <td>64.0</td>\n      <td>0.136358</td>\n      <td>-60.825183</td>\n      <td>48.029888</td>\n      <td>45.746342</td>\n      <td>-0.030880</td>\n      <td>50.578798</td>\n      <td>2.650183e+08</td>\n      <td>79.57</td>\n      <td>143.634263</td>\n    </tr>\n    <tr>\n      <th>2023-06-10 15:00:00</th>\n      <td>26752.368981</td>\n      <td>31000.00</td>\n      <td>38.170118</td>\n      <td>-431.627756</td>\n      <td>0.0</td>\n      <td>60.0</td>\n      <td>-0.494683</td>\n      <td>-60.954448</td>\n      <td>49.716561</td>\n      <td>47.251778</td>\n      <td>-0.033965</td>\n      <td>49.272574</td>\n      <td>2.569776e+08</td>\n      <td>79.93</td>\n      <td>139.083959</td>\n    </tr>\n  </tbody>\n</table>\n<p>1606 rows × 15 columns</p>\n</div>"
     },
     "execution_count": 16,
     "metadata": {},
     "output_type": "execute_result"
    }
   ],
   "source": [
    "red_df_list[0]"
   ],
   "metadata": {
    "collapsed": false,
    "ExecuteTime": {
     "end_time": "2023-06-11T15:04:06.394587Z",
     "start_time": "2023-06-11T15:04:06.356167Z"
    }
   }
  },
  {
   "cell_type": "markdown",
   "source": [
    "## Normalization with z-score"
   ],
   "metadata": {
    "collapsed": false
   }
  },
  {
   "cell_type": "code",
   "execution_count": 17,
   "outputs": [
    {
     "data": {
      "text/plain": "                      UpperBB   LowerBB      DEMA       EMA  HT_TRENDLINE  \\\ntime                                                                        \n2023-04-04 18:00:00  0.059091  0.093718  0.113341  0.103322      0.036689   \n2023-04-04 19:00:00  0.065134  0.120079  0.125568  0.110108      0.046952   \n2023-04-04 20:00:00  0.069275  0.156874  0.142758  0.119813      0.062055   \n2023-04-04 21:00:00  0.070134  0.190237  0.155617  0.127433      0.078793   \n2023-04-04 22:00:00  0.066808  0.221491  0.163540  0.132554      0.095347   \n...                       ...       ...       ...       ...           ...   \n2023-06-10 11:00:00 -1.099264 -1.897473 -1.662688 -1.545022     -1.489154   \n2023-06-10 12:00:00 -1.124386 -1.943855 -1.701737 -1.573933     -1.507242   \n2023-06-10 13:00:00 -1.160876 -1.975879 -1.732444 -1.598699     -1.532573   \n2023-06-10 14:00:00 -1.198647 -2.001767 -1.758661 -1.621267     -1.562319   \n2023-06-10 15:00:00 -1.235964 -2.027855 -1.785893 -1.644562     -1.594475   \n\n                         KAMA        MA  MIDPOINT  MIDPRICE       SAR  ...  \\\ntime                                                                   ...   \n2023-04-04 18:00:00  0.094135  0.051981  0.129042  0.168155 -0.926610  ...   \n2023-04-04 19:00:00  0.094709  0.050018  0.183726  0.187406 -0.926610  ...   \n2023-04-04 20:00:00  0.096805  0.057216  0.183726  0.216934 -0.926610  ...   \n2023-04-04 21:00:00  0.098066  0.062075  0.187366  0.216934 -0.926610  ...   \n2023-04-04 22:00:00  0.099409  0.069314  0.187366  0.223748 -0.926610  ...   \n...                       ...       ...       ...       ...       ...  ...   \n2023-06-10 11:00:00 -1.640871 -1.412118 -1.607307 -1.606091  0.563495  ...   \n2023-06-10 12:00:00 -1.672368 -1.436866 -1.613504 -1.606091  0.563495  ...   \n2023-06-10 13:00:00 -1.694138 -1.460463 -1.620927 -1.606091  0.563495  ...   \n2023-06-10 14:00:00 -1.721095 -1.487958 -1.647192 -1.606091  0.563495  ...   \n2023-06-10 15:00:00 -1.749646 -1.516474 -1.676352 -1.646328  0.563495  ...   \n\n                     STOCHRSI FASTD      TRIX    ULTOSC     WILLR        AD  \\\ntime                                                                          \n2023-04-04 18:00:00        0.129885 -0.352792 -0.942380 -0.082621 -2.015408   \n2023-04-04 19:00:00        0.615420 -0.320545 -0.420852  0.272536 -1.927296   \n2023-04-04 20:00:00        0.614208 -0.286798  0.365728  0.510410 -1.907928   \n2023-04-04 21:00:00        1.033855 -0.252697  0.953460  0.299278 -1.882194   \n2023-04-04 22:00:00        0.681105 -0.219413  0.730609 -0.059085 -1.935278   \n...                             ...       ...       ...       ...       ...   \n2023-06-10 11:00:00        1.575054 -0.392214 -0.689430 -0.990772 -1.059329   \n2023-06-10 12:00:00        1.006215 -0.468441 -0.349559 -1.429371 -1.146770   \n2023-06-10 13:00:00        0.955859 -0.543260  0.122465 -1.272119 -1.099720   \n2023-06-10 14:00:00        0.955859 -0.615629  0.030459 -1.230818 -1.096126   \n2023-06-10 15:00:00        1.198229 -0.685868 -0.152954 -1.316564 -1.116522   \n\n                        ADOSC       OBV    TRANGE       ATR      NATR  \ntime                                                                   \n2023-04-04 18:00:00 -0.617139  0.782545  0.103678  0.787675  0.792643  \n2023-04-04 19:00:00 -0.209577  0.821738 -0.251165  0.688839  0.669968  \n2023-04-04 20:00:00  0.047474  0.867951 -0.234586  0.599825  0.562194  \n2023-04-04 21:00:00  0.243686  0.840098 -0.505725  0.471984  0.436100  \n2023-04-04 22:00:00  0.098729  0.817046 -0.629631  0.332627  0.299845  \n...                       ...       ...       ...       ...       ...  \n2023-06-10 11:00:00 -1.292754 -1.796910 -0.603881 -0.155185  0.340968  \n2023-06-10 12:00:00 -1.204311 -1.834551 -0.291293 -0.193362  0.322554  \n2023-06-10 13:00:00 -0.882561 -1.804647 -0.413878 -0.249240  0.241849  \n2023-06-10 14:00:00 -0.659164 -1.769960 -0.608650 -0.333585  0.133321  \n2023-06-10 15:00:00 -0.587152 -1.797499 -0.606009 -0.411466  0.044826  \n\n[1606 rows x 61 columns]",
      "text/html": "<div>\n<style scoped>\n    .dataframe tbody tr th:only-of-type {\n        vertical-align: middle;\n    }\n\n    .dataframe tbody tr th {\n        vertical-align: top;\n    }\n\n    .dataframe thead th {\n        text-align: right;\n    }\n</style>\n<table border=\"1\" class=\"dataframe\">\n  <thead>\n    <tr style=\"text-align: right;\">\n      <th></th>\n      <th>UpperBB</th>\n      <th>LowerBB</th>\n      <th>DEMA</th>\n      <th>EMA</th>\n      <th>HT_TRENDLINE</th>\n      <th>KAMA</th>\n      <th>MA</th>\n      <th>MIDPOINT</th>\n      <th>MIDPRICE</th>\n      <th>SAR</th>\n      <th>...</th>\n      <th>STOCHRSI FASTD</th>\n      <th>TRIX</th>\n      <th>ULTOSC</th>\n      <th>WILLR</th>\n      <th>AD</th>\n      <th>ADOSC</th>\n      <th>OBV</th>\n      <th>TRANGE</th>\n      <th>ATR</th>\n      <th>NATR</th>\n    </tr>\n    <tr>\n      <th>time</th>\n      <th></th>\n      <th></th>\n      <th></th>\n      <th></th>\n      <th></th>\n      <th></th>\n      <th></th>\n      <th></th>\n      <th></th>\n      <th></th>\n      <th></th>\n      <th></th>\n      <th></th>\n      <th></th>\n      <th></th>\n      <th></th>\n      <th></th>\n      <th></th>\n      <th></th>\n      <th></th>\n      <th></th>\n    </tr>\n  </thead>\n  <tbody>\n    <tr>\n      <th>2023-04-04 18:00:00</th>\n      <td>0.059091</td>\n      <td>0.093718</td>\n      <td>0.113341</td>\n      <td>0.103322</td>\n      <td>0.036689</td>\n      <td>0.094135</td>\n      <td>0.051981</td>\n      <td>0.129042</td>\n      <td>0.168155</td>\n      <td>-0.926610</td>\n      <td>...</td>\n      <td>0.129885</td>\n      <td>-0.352792</td>\n      <td>-0.942380</td>\n      <td>-0.082621</td>\n      <td>-2.015408</td>\n      <td>-0.617139</td>\n      <td>0.782545</td>\n      <td>0.103678</td>\n      <td>0.787675</td>\n      <td>0.792643</td>\n    </tr>\n    <tr>\n      <th>2023-04-04 19:00:00</th>\n      <td>0.065134</td>\n      <td>0.120079</td>\n      <td>0.125568</td>\n      <td>0.110108</td>\n      <td>0.046952</td>\n      <td>0.094709</td>\n      <td>0.050018</td>\n      <td>0.183726</td>\n      <td>0.187406</td>\n      <td>-0.926610</td>\n      <td>...</td>\n      <td>0.615420</td>\n      <td>-0.320545</td>\n      <td>-0.420852</td>\n      <td>0.272536</td>\n      <td>-1.927296</td>\n      <td>-0.209577</td>\n      <td>0.821738</td>\n      <td>-0.251165</td>\n      <td>0.688839</td>\n      <td>0.669968</td>\n    </tr>\n    <tr>\n      <th>2023-04-04 20:00:00</th>\n      <td>0.069275</td>\n      <td>0.156874</td>\n      <td>0.142758</td>\n      <td>0.119813</td>\n      <td>0.062055</td>\n      <td>0.096805</td>\n      <td>0.057216</td>\n      <td>0.183726</td>\n      <td>0.216934</td>\n      <td>-0.926610</td>\n      <td>...</td>\n      <td>0.614208</td>\n      <td>-0.286798</td>\n      <td>0.365728</td>\n      <td>0.510410</td>\n      <td>-1.907928</td>\n      <td>0.047474</td>\n      <td>0.867951</td>\n      <td>-0.234586</td>\n      <td>0.599825</td>\n      <td>0.562194</td>\n    </tr>\n    <tr>\n      <th>2023-04-04 21:00:00</th>\n      <td>0.070134</td>\n      <td>0.190237</td>\n      <td>0.155617</td>\n      <td>0.127433</td>\n      <td>0.078793</td>\n      <td>0.098066</td>\n      <td>0.062075</td>\n      <td>0.187366</td>\n      <td>0.216934</td>\n      <td>-0.926610</td>\n      <td>...</td>\n      <td>1.033855</td>\n      <td>-0.252697</td>\n      <td>0.953460</td>\n      <td>0.299278</td>\n      <td>-1.882194</td>\n      <td>0.243686</td>\n      <td>0.840098</td>\n      <td>-0.505725</td>\n      <td>0.471984</td>\n      <td>0.436100</td>\n    </tr>\n    <tr>\n      <th>2023-04-04 22:00:00</th>\n      <td>0.066808</td>\n      <td>0.221491</td>\n      <td>0.163540</td>\n      <td>0.132554</td>\n      <td>0.095347</td>\n      <td>0.099409</td>\n      <td>0.069314</td>\n      <td>0.187366</td>\n      <td>0.223748</td>\n      <td>-0.926610</td>\n      <td>...</td>\n      <td>0.681105</td>\n      <td>-0.219413</td>\n      <td>0.730609</td>\n      <td>-0.059085</td>\n      <td>-1.935278</td>\n      <td>0.098729</td>\n      <td>0.817046</td>\n      <td>-0.629631</td>\n      <td>0.332627</td>\n      <td>0.299845</td>\n    </tr>\n    <tr>\n      <th>...</th>\n      <td>...</td>\n      <td>...</td>\n      <td>...</td>\n      <td>...</td>\n      <td>...</td>\n      <td>...</td>\n      <td>...</td>\n      <td>...</td>\n      <td>...</td>\n      <td>...</td>\n      <td>...</td>\n      <td>...</td>\n      <td>...</td>\n      <td>...</td>\n      <td>...</td>\n      <td>...</td>\n      <td>...</td>\n      <td>...</td>\n      <td>...</td>\n      <td>...</td>\n      <td>...</td>\n    </tr>\n    <tr>\n      <th>2023-06-10 11:00:00</th>\n      <td>-1.099264</td>\n      <td>-1.897473</td>\n      <td>-1.662688</td>\n      <td>-1.545022</td>\n      <td>-1.489154</td>\n      <td>-1.640871</td>\n      <td>-1.412118</td>\n      <td>-1.607307</td>\n      <td>-1.606091</td>\n      <td>0.563495</td>\n      <td>...</td>\n      <td>1.575054</td>\n      <td>-0.392214</td>\n      <td>-0.689430</td>\n      <td>-0.990772</td>\n      <td>-1.059329</td>\n      <td>-1.292754</td>\n      <td>-1.796910</td>\n      <td>-0.603881</td>\n      <td>-0.155185</td>\n      <td>0.340968</td>\n    </tr>\n    <tr>\n      <th>2023-06-10 12:00:00</th>\n      <td>-1.124386</td>\n      <td>-1.943855</td>\n      <td>-1.701737</td>\n      <td>-1.573933</td>\n      <td>-1.507242</td>\n      <td>-1.672368</td>\n      <td>-1.436866</td>\n      <td>-1.613504</td>\n      <td>-1.606091</td>\n      <td>0.563495</td>\n      <td>...</td>\n      <td>1.006215</td>\n      <td>-0.468441</td>\n      <td>-0.349559</td>\n      <td>-1.429371</td>\n      <td>-1.146770</td>\n      <td>-1.204311</td>\n      <td>-1.834551</td>\n      <td>-0.291293</td>\n      <td>-0.193362</td>\n      <td>0.322554</td>\n    </tr>\n    <tr>\n      <th>2023-06-10 13:00:00</th>\n      <td>-1.160876</td>\n      <td>-1.975879</td>\n      <td>-1.732444</td>\n      <td>-1.598699</td>\n      <td>-1.532573</td>\n      <td>-1.694138</td>\n      <td>-1.460463</td>\n      <td>-1.620927</td>\n      <td>-1.606091</td>\n      <td>0.563495</td>\n      <td>...</td>\n      <td>0.955859</td>\n      <td>-0.543260</td>\n      <td>0.122465</td>\n      <td>-1.272119</td>\n      <td>-1.099720</td>\n      <td>-0.882561</td>\n      <td>-1.804647</td>\n      <td>-0.413878</td>\n      <td>-0.249240</td>\n      <td>0.241849</td>\n    </tr>\n    <tr>\n      <th>2023-06-10 14:00:00</th>\n      <td>-1.198647</td>\n      <td>-2.001767</td>\n      <td>-1.758661</td>\n      <td>-1.621267</td>\n      <td>-1.562319</td>\n      <td>-1.721095</td>\n      <td>-1.487958</td>\n      <td>-1.647192</td>\n      <td>-1.606091</td>\n      <td>0.563495</td>\n      <td>...</td>\n      <td>0.955859</td>\n      <td>-0.615629</td>\n      <td>0.030459</td>\n      <td>-1.230818</td>\n      <td>-1.096126</td>\n      <td>-0.659164</td>\n      <td>-1.769960</td>\n      <td>-0.608650</td>\n      <td>-0.333585</td>\n      <td>0.133321</td>\n    </tr>\n    <tr>\n      <th>2023-06-10 15:00:00</th>\n      <td>-1.235964</td>\n      <td>-2.027855</td>\n      <td>-1.785893</td>\n      <td>-1.644562</td>\n      <td>-1.594475</td>\n      <td>-1.749646</td>\n      <td>-1.516474</td>\n      <td>-1.676352</td>\n      <td>-1.646328</td>\n      <td>0.563495</td>\n      <td>...</td>\n      <td>1.198229</td>\n      <td>-0.685868</td>\n      <td>-0.152954</td>\n      <td>-1.316564</td>\n      <td>-1.116522</td>\n      <td>-0.587152</td>\n      <td>-1.797499</td>\n      <td>-0.606009</td>\n      <td>-0.411466</td>\n      <td>0.044826</td>\n    </tr>\n  </tbody>\n</table>\n<p>1606 rows × 61 columns</p>\n</div>"
     },
     "execution_count": 17,
     "metadata": {},
     "output_type": "execute_result"
    }
   ],
   "source": [
    "normalization_df_list = [stats.zscore(new_df_crypto_list[i]) for i in range(len(new_df_crypto_list))]\n",
    "normalization_df_list[0]"
   ],
   "metadata": {
    "collapsed": false,
    "ExecuteTime": {
     "end_time": "2023-06-11T15:04:08.432843Z",
     "start_time": "2023-06-11T15:04:08.341886Z"
    }
   }
  },
  {
   "cell_type": "markdown",
   "source": [
    "## Save Data"
   ],
   "metadata": {
    "collapsed": false
   }
  },
  {
   "cell_type": "code",
   "execution_count": 18,
   "outputs": [],
   "source": [
    "PATH = \"/Users/admin/PycharmProjects/Market_Prediction_Using_News_and_Indicators/Crypto_Currencies_Data/\""
   ],
   "metadata": {
    "collapsed": false,
    "ExecuteTime": {
     "end_time": "2023-06-11T15:04:11.228154Z",
     "start_time": "2023-06-11T15:04:11.213794Z"
    }
   }
  },
  {
   "cell_type": "code",
   "execution_count": 19,
   "outputs": [],
   "source": [
    "for i in range(len(crypto_currency_list)):\n",
    "    new_df_crypto_list[i].to_csv(PATH + crypto_currency_list[i] + \"_indicators.csv\")\n",
    "    df_crypto_list[i].to_csv(PATH + crypto_currency_list[i] + \".csv\")\n",
    "    red_df_list[i].to_csv(PATH + crypto_currency_list[i] + \"_reduce.csv\")\n",
    "    normalization_df_list[i].to_csv(PATH + crypto_currency_list[i] + \"_normalization.csv\")\n",
    "    target_list[i].to_csv(PATH + crypto_currency_list[i] + \"_target.csv\")"
   ],
   "metadata": {
    "collapsed": false,
    "ExecuteTime": {
     "end_time": "2023-06-11T15:04:13.334741Z",
     "start_time": "2023-06-11T15:04:11.891311Z"
    }
   }
  },
  {
   "cell_type": "code",
   "execution_count": null,
   "outputs": [],
   "source": [],
   "metadata": {
    "collapsed": false
   }
  }
 ],
 "metadata": {
  "kernelspec": {
   "display_name": "Python 3",
   "language": "python",
   "name": "python3"
  },
  "language_info": {
   "codemirror_mode": {
    "name": "ipython",
    "version": 2
   },
   "file_extension": ".py",
   "mimetype": "text/x-python",
   "name": "python",
   "nbconvert_exporter": "python",
   "pygments_lexer": "ipython2",
   "version": "2.7.6"
  }
 },
 "nbformat": 4,
 "nbformat_minor": 0
}
