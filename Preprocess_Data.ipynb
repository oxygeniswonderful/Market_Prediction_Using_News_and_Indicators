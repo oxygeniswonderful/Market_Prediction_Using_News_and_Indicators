{
 "cells": [
  {
   "cell_type": "code",
   "execution_count": 1,
   "outputs": [],
   "source": [
    "import calendar\n",
    "from Core.Preprocess import *\n",
    "from Core.CryptoCompareAPI import *\n",
    "from Core.config_reader import config_reader\n",
    "from Core.reduce_dim_with_correlation import correlation\n",
    "from scipy import stats"
   ],
   "metadata": {
    "collapsed": false,
    "ExecuteTime": {
     "end_time": "2023-06-07T08:44:34.994548Z",
     "start_time": "2023-06-07T08:44:33.070046Z"
    }
   }
  },
  {
   "cell_type": "markdown",
   "source": [
    "## Download Data"
   ],
   "metadata": {
    "collapsed": false
   }
  },
  {
   "cell_type": "code",
   "execution_count": 2,
   "outputs": [],
   "source": [
    "reader = config_reader('/Users/admin/PycharmProjects/Market_Prediction_Using_News_and_Indicators/config.yml')\n",
    "\n",
    "crypto_currency_list = reader.read_config(\"CRYPTO_CURRENCIES_LIST\")\n",
    "exchange = reader.read_config(\"EXCHANGE\")\n",
    "currency = reader.read_config(\"CURRENCY\")"
   ],
   "metadata": {
    "collapsed": false,
    "ExecuteTime": {
     "end_time": "2023-06-07T08:44:35.010846Z",
     "start_time": "2023-06-07T08:44:34.999724Z"
    }
   }
  },
  {
   "cell_type": "code",
   "execution_count": 3,
   "outputs": [],
   "source": [
    "df_crypto_list = []"
   ],
   "metadata": {
    "collapsed": false,
    "ExecuteTime": {
     "end_time": "2023-06-07T08:44:35.112709Z",
     "start_time": "2023-06-07T08:44:35.100137Z"
    }
   }
  },
  {
   "cell_type": "code",
   "execution_count": 4,
   "outputs": [],
   "source": [
    " for crypto in crypto_currency_list:\n",
    "    raw_data = get_historical_price_hour_from(\n",
    "        coin=crypto,\n",
    "        currency=currency,\n",
    "        exchange=exchange,\n",
    "        toTs=int(calendar.timegm(datetime.datetime(2022, 5, 1, 0, 0, 0).timetuple())),\n",
    "        fromTs=int(calendar.timegm(datetime.datetime(2022, 2, 1, 0, 0, 0).timetuple()))\n",
    "    )\n",
    "    data = Preprocess.get_from_crypto_compare_hourly_price_data_to_pandas(raw_data)\n",
    "    df_crypto_list.append(data)"
   ],
   "metadata": {
    "collapsed": false,
    "ExecuteTime": {
     "end_time": "2023-06-07T08:44:56.753423Z",
     "start_time": "2023-06-07T08:44:45.405456Z"
    }
   }
  },
  {
   "cell_type": "markdown",
   "source": [
    "## Preprocessing"
   ],
   "metadata": {
    "collapsed": false
   }
  },
  {
   "cell_type": "code",
   "execution_count": 5,
   "outputs": [
    {
     "data": {
      "text/plain": "                        close      high       low      open  volumefrom  \\\ntime                                                                      \n2022-02-01 00:00:00  38342.36  38627.35  38276.43  38466.90     1058.43   \n2022-02-01 01:00:00  38238.19  38407.00  38175.86  38342.36      777.86   \n2022-02-01 02:00:00  38480.90  38506.18  38196.61  38238.19      766.84   \n2022-02-01 03:00:00  38596.82  38649.90  38384.99  38480.90      946.46   \n2022-02-01 04:00:00  38556.82  38644.57  38470.37  38596.82      758.93   \n...                       ...       ...       ...       ...         ...   \n2022-04-30 20:00:00  38326.45  38466.83  38282.08  38466.83      676.71   \n2022-04-30 21:00:00  38301.14  38370.84  38248.66  38326.45      591.08   \n2022-04-30 22:00:00  38250.44  38370.00  38160.00  38301.14     1376.35   \n2022-04-30 23:00:00  37630.80  38277.77  37578.20  38250.44     6729.82   \n2022-05-01 00:00:00  37680.67  37806.79  37500.00  37630.80     2313.84   \n\n                         volumeto conversionType conversionSymbol   datetimes  \ntime                                                                           \n2022-02-01 00:00:00  4.064914e+07   force_direct                   2022-02-01  \n2022-02-01 01:00:00  2.978374e+07   force_direct                   2022-02-01  \n2022-02-01 02:00:00  2.941555e+07   force_direct                   2022-02-01  \n2022-02-01 03:00:00  3.646598e+07   force_direct                   2022-02-01  \n2022-02-01 04:00:00  2.926184e+07   force_direct                   2022-02-01  \n...                           ...            ...              ...         ...  \n2022-04-30 20:00:00  2.596374e+07   force_direct                   2022-04-30  \n2022-04-30 21:00:00  2.264638e+07   force_direct                   2022-04-30  \n2022-04-30 22:00:00  5.267822e+07   force_direct                   2022-04-30  \n2022-04-30 23:00:00  2.544878e+08   force_direct                   2022-04-30  \n2022-05-01 00:00:00  8.712640e+07   force_direct                   2022-05-01  \n\n[2137 rows x 9 columns]",
      "text/html": "<div>\n<style scoped>\n    .dataframe tbody tr th:only-of-type {\n        vertical-align: middle;\n    }\n\n    .dataframe tbody tr th {\n        vertical-align: top;\n    }\n\n    .dataframe thead th {\n        text-align: right;\n    }\n</style>\n<table border=\"1\" class=\"dataframe\">\n  <thead>\n    <tr style=\"text-align: right;\">\n      <th></th>\n      <th>close</th>\n      <th>high</th>\n      <th>low</th>\n      <th>open</th>\n      <th>volumefrom</th>\n      <th>volumeto</th>\n      <th>conversionType</th>\n      <th>conversionSymbol</th>\n      <th>datetimes</th>\n    </tr>\n    <tr>\n      <th>time</th>\n      <th></th>\n      <th></th>\n      <th></th>\n      <th></th>\n      <th></th>\n      <th></th>\n      <th></th>\n      <th></th>\n      <th></th>\n    </tr>\n  </thead>\n  <tbody>\n    <tr>\n      <th>2022-02-01 00:00:00</th>\n      <td>38342.36</td>\n      <td>38627.35</td>\n      <td>38276.43</td>\n      <td>38466.90</td>\n      <td>1058.43</td>\n      <td>4.064914e+07</td>\n      <td>force_direct</td>\n      <td></td>\n      <td>2022-02-01</td>\n    </tr>\n    <tr>\n      <th>2022-02-01 01:00:00</th>\n      <td>38238.19</td>\n      <td>38407.00</td>\n      <td>38175.86</td>\n      <td>38342.36</td>\n      <td>777.86</td>\n      <td>2.978374e+07</td>\n      <td>force_direct</td>\n      <td></td>\n      <td>2022-02-01</td>\n    </tr>\n    <tr>\n      <th>2022-02-01 02:00:00</th>\n      <td>38480.90</td>\n      <td>38506.18</td>\n      <td>38196.61</td>\n      <td>38238.19</td>\n      <td>766.84</td>\n      <td>2.941555e+07</td>\n      <td>force_direct</td>\n      <td></td>\n      <td>2022-02-01</td>\n    </tr>\n    <tr>\n      <th>2022-02-01 03:00:00</th>\n      <td>38596.82</td>\n      <td>38649.90</td>\n      <td>38384.99</td>\n      <td>38480.90</td>\n      <td>946.46</td>\n      <td>3.646598e+07</td>\n      <td>force_direct</td>\n      <td></td>\n      <td>2022-02-01</td>\n    </tr>\n    <tr>\n      <th>2022-02-01 04:00:00</th>\n      <td>38556.82</td>\n      <td>38644.57</td>\n      <td>38470.37</td>\n      <td>38596.82</td>\n      <td>758.93</td>\n      <td>2.926184e+07</td>\n      <td>force_direct</td>\n      <td></td>\n      <td>2022-02-01</td>\n    </tr>\n    <tr>\n      <th>...</th>\n      <td>...</td>\n      <td>...</td>\n      <td>...</td>\n      <td>...</td>\n      <td>...</td>\n      <td>...</td>\n      <td>...</td>\n      <td>...</td>\n      <td>...</td>\n    </tr>\n    <tr>\n      <th>2022-04-30 20:00:00</th>\n      <td>38326.45</td>\n      <td>38466.83</td>\n      <td>38282.08</td>\n      <td>38466.83</td>\n      <td>676.71</td>\n      <td>2.596374e+07</td>\n      <td>force_direct</td>\n      <td></td>\n      <td>2022-04-30</td>\n    </tr>\n    <tr>\n      <th>2022-04-30 21:00:00</th>\n      <td>38301.14</td>\n      <td>38370.84</td>\n      <td>38248.66</td>\n      <td>38326.45</td>\n      <td>591.08</td>\n      <td>2.264638e+07</td>\n      <td>force_direct</td>\n      <td></td>\n      <td>2022-04-30</td>\n    </tr>\n    <tr>\n      <th>2022-04-30 22:00:00</th>\n      <td>38250.44</td>\n      <td>38370.00</td>\n      <td>38160.00</td>\n      <td>38301.14</td>\n      <td>1376.35</td>\n      <td>5.267822e+07</td>\n      <td>force_direct</td>\n      <td></td>\n      <td>2022-04-30</td>\n    </tr>\n    <tr>\n      <th>2022-04-30 23:00:00</th>\n      <td>37630.80</td>\n      <td>38277.77</td>\n      <td>37578.20</td>\n      <td>38250.44</td>\n      <td>6729.82</td>\n      <td>2.544878e+08</td>\n      <td>force_direct</td>\n      <td></td>\n      <td>2022-04-30</td>\n    </tr>\n    <tr>\n      <th>2022-05-01 00:00:00</th>\n      <td>37680.67</td>\n      <td>37806.79</td>\n      <td>37500.00</td>\n      <td>37630.80</td>\n      <td>2313.84</td>\n      <td>8.712640e+07</td>\n      <td>force_direct</td>\n      <td></td>\n      <td>2022-05-01</td>\n    </tr>\n  </tbody>\n</table>\n<p>2137 rows × 9 columns</p>\n</div>"
     },
     "execution_count": 5,
     "metadata": {},
     "output_type": "execute_result"
    }
   ],
   "source": [
    "df_crypto_list[0]"
   ],
   "metadata": {
    "collapsed": false,
    "ExecuteTime": {
     "end_time": "2023-06-07T08:45:02.918307Z",
     "start_time": "2023-06-07T08:45:02.903179Z"
    }
   }
  },
  {
   "cell_type": "code",
   "execution_count": 6,
   "outputs": [],
   "source": [
    "for i in range(len(df_crypto_list)):\n",
    "    Preprocess.rename_columns(df_crypto_list[i])"
   ],
   "metadata": {
    "collapsed": false,
    "ExecuteTime": {
     "end_time": "2023-06-07T08:45:09.899882Z",
     "start_time": "2023-06-07T08:45:09.889215Z"
    }
   }
  },
  {
   "cell_type": "code",
   "execution_count": 7,
   "outputs": [
    {
     "data": {
      "text/plain": "                        Close      High       Low      Open        Volume\ntime                                                                     \n2022-02-01 00:00:00  38342.36  38627.35  38276.43  38466.90  4.064914e+07\n2022-02-01 01:00:00  38238.19  38407.00  38175.86  38342.36  2.978374e+07\n2022-02-01 02:00:00  38480.90  38506.18  38196.61  38238.19  2.941555e+07\n2022-02-01 03:00:00  38596.82  38649.90  38384.99  38480.90  3.646598e+07\n2022-02-01 04:00:00  38556.82  38644.57  38470.37  38596.82  2.926184e+07\n...                       ...       ...       ...       ...           ...\n2022-04-30 20:00:00  38326.45  38466.83  38282.08  38466.83  2.596374e+07\n2022-04-30 21:00:00  38301.14  38370.84  38248.66  38326.45  2.264638e+07\n2022-04-30 22:00:00  38250.44  38370.00  38160.00  38301.14  5.267822e+07\n2022-04-30 23:00:00  37630.80  38277.77  37578.20  38250.44  2.544878e+08\n2022-05-01 00:00:00  37680.67  37806.79  37500.00  37630.80  8.712640e+07\n\n[2137 rows x 5 columns]",
      "text/html": "<div>\n<style scoped>\n    .dataframe tbody tr th:only-of-type {\n        vertical-align: middle;\n    }\n\n    .dataframe tbody tr th {\n        vertical-align: top;\n    }\n\n    .dataframe thead th {\n        text-align: right;\n    }\n</style>\n<table border=\"1\" class=\"dataframe\">\n  <thead>\n    <tr style=\"text-align: right;\">\n      <th></th>\n      <th>Close</th>\n      <th>High</th>\n      <th>Low</th>\n      <th>Open</th>\n      <th>Volume</th>\n    </tr>\n    <tr>\n      <th>time</th>\n      <th></th>\n      <th></th>\n      <th></th>\n      <th></th>\n      <th></th>\n    </tr>\n  </thead>\n  <tbody>\n    <tr>\n      <th>2022-02-01 00:00:00</th>\n      <td>38342.36</td>\n      <td>38627.35</td>\n      <td>38276.43</td>\n      <td>38466.90</td>\n      <td>4.064914e+07</td>\n    </tr>\n    <tr>\n      <th>2022-02-01 01:00:00</th>\n      <td>38238.19</td>\n      <td>38407.00</td>\n      <td>38175.86</td>\n      <td>38342.36</td>\n      <td>2.978374e+07</td>\n    </tr>\n    <tr>\n      <th>2022-02-01 02:00:00</th>\n      <td>38480.90</td>\n      <td>38506.18</td>\n      <td>38196.61</td>\n      <td>38238.19</td>\n      <td>2.941555e+07</td>\n    </tr>\n    <tr>\n      <th>2022-02-01 03:00:00</th>\n      <td>38596.82</td>\n      <td>38649.90</td>\n      <td>38384.99</td>\n      <td>38480.90</td>\n      <td>3.646598e+07</td>\n    </tr>\n    <tr>\n      <th>2022-02-01 04:00:00</th>\n      <td>38556.82</td>\n      <td>38644.57</td>\n      <td>38470.37</td>\n      <td>38596.82</td>\n      <td>2.926184e+07</td>\n    </tr>\n    <tr>\n      <th>...</th>\n      <td>...</td>\n      <td>...</td>\n      <td>...</td>\n      <td>...</td>\n      <td>...</td>\n    </tr>\n    <tr>\n      <th>2022-04-30 20:00:00</th>\n      <td>38326.45</td>\n      <td>38466.83</td>\n      <td>38282.08</td>\n      <td>38466.83</td>\n      <td>2.596374e+07</td>\n    </tr>\n    <tr>\n      <th>2022-04-30 21:00:00</th>\n      <td>38301.14</td>\n      <td>38370.84</td>\n      <td>38248.66</td>\n      <td>38326.45</td>\n      <td>2.264638e+07</td>\n    </tr>\n    <tr>\n      <th>2022-04-30 22:00:00</th>\n      <td>38250.44</td>\n      <td>38370.00</td>\n      <td>38160.00</td>\n      <td>38301.14</td>\n      <td>5.267822e+07</td>\n    </tr>\n    <tr>\n      <th>2022-04-30 23:00:00</th>\n      <td>37630.80</td>\n      <td>38277.77</td>\n      <td>37578.20</td>\n      <td>38250.44</td>\n      <td>2.544878e+08</td>\n    </tr>\n    <tr>\n      <th>2022-05-01 00:00:00</th>\n      <td>37680.67</td>\n      <td>37806.79</td>\n      <td>37500.00</td>\n      <td>37630.80</td>\n      <td>8.712640e+07</td>\n    </tr>\n  </tbody>\n</table>\n<p>2137 rows × 5 columns</p>\n</div>"
     },
     "execution_count": 7,
     "metadata": {},
     "output_type": "execute_result"
    }
   ],
   "source": [
    "df_crypto_list[0]"
   ],
   "metadata": {
    "collapsed": false,
    "ExecuteTime": {
     "end_time": "2023-06-07T08:45:17.676767Z",
     "start_time": "2023-06-07T08:45:17.665404Z"
    }
   }
  },
  {
   "cell_type": "code",
   "execution_count": 8,
   "outputs": [],
   "source": [
    "def sign(x):\n",
    "    return x/abs(x)\n",
    "\n",
    "target_list = []\n",
    "\n",
    "for df in df_crypto_list:\n",
    "    target_list.append(sign(df_crypto_list[0]['Close'].shift(-24) - df_crypto_list[0]['Close'])[90:-24])"
   ],
   "metadata": {
    "collapsed": false,
    "ExecuteTime": {
     "end_time": "2023-06-07T08:45:28.841736Z",
     "start_time": "2023-06-07T08:45:28.828560Z"
    }
   }
  },
  {
   "cell_type": "code",
   "execution_count": 9,
   "outputs": [
    {
     "data": {
      "text/plain": "time\n2022-02-04 18:00:00    1.0\n2022-02-04 19:00:00    1.0\n2022-02-04 20:00:00    1.0\n2022-02-04 21:00:00    1.0\n2022-02-04 22:00:00    1.0\n                      ... \n2022-04-29 20:00:00   -1.0\n2022-04-29 21:00:00   -1.0\n2022-04-29 22:00:00   -1.0\n2022-04-29 23:00:00   -1.0\n2022-04-30 00:00:00   -1.0\nName: Close, Length: 2023, dtype: float64"
     },
     "execution_count": 9,
     "metadata": {},
     "output_type": "execute_result"
    }
   ],
   "source": [
    "target_list[0]"
   ],
   "metadata": {
    "collapsed": false,
    "ExecuteTime": {
     "end_time": "2023-06-07T08:45:34.574448Z",
     "start_time": "2023-06-07T08:45:34.560078Z"
    }
   }
  },
  {
   "cell_type": "markdown",
   "source": [
    "## Compute indicators"
   ],
   "metadata": {
    "collapsed": false
   }
  },
  {
   "cell_type": "code",
   "execution_count": 10,
   "outputs": [],
   "source": [
    "new_df_crypto_list = list(map(Preprocess.compute_all_indicators, df_crypto_list))"
   ],
   "metadata": {
    "collapsed": false,
    "ExecuteTime": {
     "end_time": "2023-06-07T08:46:05.064074Z",
     "start_time": "2023-06-07T08:46:03.392186Z"
    }
   }
  },
  {
   "cell_type": "code",
   "execution_count": 11,
   "outputs": [],
   "source": [
    "for i in range(len(new_df_crypto_list)):\n",
    "    new_df_crypto_list[i].drop(columns=[\"Close\", \"High\", \"Low\", \"Open\", \"Volume\"], inplace=True)\n",
    "    new_df_crypto_list[i] = new_df_crypto_list[i].iloc[90:-24]"
   ],
   "metadata": {
    "collapsed": false,
    "ExecuteTime": {
     "end_time": "2023-06-07T08:46:13.397255Z",
     "start_time": "2023-06-07T08:46:13.385721Z"
    }
   }
  },
  {
   "cell_type": "code",
   "execution_count": 12,
   "outputs": [],
   "source": [
    "for i in range(len(df_crypto_list)):\n",
    "    df_crypto_list[i].drop(columns=[\"UpperBB\", \"LowerBB\"], inplace = True)\n",
    "    df_crypto_list[i] = df_crypto_list[i].iloc[90:-24]"
   ],
   "metadata": {
    "collapsed": false,
    "ExecuteTime": {
     "end_time": "2023-06-07T08:46:26.236784Z",
     "start_time": "2023-06-07T08:46:26.218820Z"
    }
   }
  },
  {
   "cell_type": "code",
   "execution_count": 13,
   "outputs": [
    {
     "data": {
      "text/plain": "                        Close      High       Low      Open        Volume\ntime                                                                     \n2022-02-04 18:00:00  40469.27  40662.01  40278.79  40520.46  8.461738e+07\n2022-02-04 19:00:00  40727.91  40877.00  40366.99  40469.27  9.520640e+07\n2022-02-04 20:00:00  40588.00  40884.96  40456.25  40727.91  1.041768e+08\n2022-02-04 21:00:00  40624.15  40631.89  40426.23  40588.00  6.104136e+07\n2022-02-04 22:00:00  40641.74  40666.98  40382.84  40624.15  4.642513e+07\n...                       ...       ...       ...       ...           ...\n2022-04-29 20:00:00  38564.44  38584.00  38310.90  38331.54  7.666395e+07\n2022-04-29 21:00:00  38560.15  38649.99  38450.47  38564.44  3.069227e+07\n2022-04-29 22:00:00  38608.63  38635.29  38430.03  38560.15  2.538127e+07\n2022-04-29 23:00:00  38596.11  38665.36  38555.98  38608.63  2.579999e+07\n2022-04-30 00:00:00  38639.95  38795.38  38551.12  38596.11  4.448110e+07\n\n[2023 rows x 5 columns]",
      "text/html": "<div>\n<style scoped>\n    .dataframe tbody tr th:only-of-type {\n        vertical-align: middle;\n    }\n\n    .dataframe tbody tr th {\n        vertical-align: top;\n    }\n\n    .dataframe thead th {\n        text-align: right;\n    }\n</style>\n<table border=\"1\" class=\"dataframe\">\n  <thead>\n    <tr style=\"text-align: right;\">\n      <th></th>\n      <th>Close</th>\n      <th>High</th>\n      <th>Low</th>\n      <th>Open</th>\n      <th>Volume</th>\n    </tr>\n    <tr>\n      <th>time</th>\n      <th></th>\n      <th></th>\n      <th></th>\n      <th></th>\n      <th></th>\n    </tr>\n  </thead>\n  <tbody>\n    <tr>\n      <th>2022-02-04 18:00:00</th>\n      <td>40469.27</td>\n      <td>40662.01</td>\n      <td>40278.79</td>\n      <td>40520.46</td>\n      <td>8.461738e+07</td>\n    </tr>\n    <tr>\n      <th>2022-02-04 19:00:00</th>\n      <td>40727.91</td>\n      <td>40877.00</td>\n      <td>40366.99</td>\n      <td>40469.27</td>\n      <td>9.520640e+07</td>\n    </tr>\n    <tr>\n      <th>2022-02-04 20:00:00</th>\n      <td>40588.00</td>\n      <td>40884.96</td>\n      <td>40456.25</td>\n      <td>40727.91</td>\n      <td>1.041768e+08</td>\n    </tr>\n    <tr>\n      <th>2022-02-04 21:00:00</th>\n      <td>40624.15</td>\n      <td>40631.89</td>\n      <td>40426.23</td>\n      <td>40588.00</td>\n      <td>6.104136e+07</td>\n    </tr>\n    <tr>\n      <th>2022-02-04 22:00:00</th>\n      <td>40641.74</td>\n      <td>40666.98</td>\n      <td>40382.84</td>\n      <td>40624.15</td>\n      <td>4.642513e+07</td>\n    </tr>\n    <tr>\n      <th>...</th>\n      <td>...</td>\n      <td>...</td>\n      <td>...</td>\n      <td>...</td>\n      <td>...</td>\n    </tr>\n    <tr>\n      <th>2022-04-29 20:00:00</th>\n      <td>38564.44</td>\n      <td>38584.00</td>\n      <td>38310.90</td>\n      <td>38331.54</td>\n      <td>7.666395e+07</td>\n    </tr>\n    <tr>\n      <th>2022-04-29 21:00:00</th>\n      <td>38560.15</td>\n      <td>38649.99</td>\n      <td>38450.47</td>\n      <td>38564.44</td>\n      <td>3.069227e+07</td>\n    </tr>\n    <tr>\n      <th>2022-04-29 22:00:00</th>\n      <td>38608.63</td>\n      <td>38635.29</td>\n      <td>38430.03</td>\n      <td>38560.15</td>\n      <td>2.538127e+07</td>\n    </tr>\n    <tr>\n      <th>2022-04-29 23:00:00</th>\n      <td>38596.11</td>\n      <td>38665.36</td>\n      <td>38555.98</td>\n      <td>38608.63</td>\n      <td>2.579999e+07</td>\n    </tr>\n    <tr>\n      <th>2022-04-30 00:00:00</th>\n      <td>38639.95</td>\n      <td>38795.38</td>\n      <td>38551.12</td>\n      <td>38596.11</td>\n      <td>4.448110e+07</td>\n    </tr>\n  </tbody>\n</table>\n<p>2023 rows × 5 columns</p>\n</div>"
     },
     "execution_count": 13,
     "metadata": {},
     "output_type": "execute_result"
    }
   ],
   "source": [
    "df_crypto_list[0]"
   ],
   "metadata": {
    "collapsed": false,
    "ExecuteTime": {
     "end_time": "2023-06-07T08:46:34.194573Z",
     "start_time": "2023-06-07T08:46:34.185995Z"
    }
   }
  },
  {
   "cell_type": "code",
   "execution_count": 14,
   "outputs": [
    {
     "data": {
      "text/plain": "                          UpperBB       LowerBB          DEMA           EMA  \\\ntime                                                                          \n2022-02-04 18:00:00  40353.302329  35918.871671  38724.151122  38100.630020   \n2022-02-04 19:00:00  40769.482460  35844.321540  39011.992214  38270.131955   \n2022-02-04 20:00:00  41079.282361  35875.268639  39253.562275  38419.671829   \n2022-02-04 21:00:00  41343.475235  35956.630765  39475.035920  38561.896227   \n2022-02-04 22:00:00  41573.542988  36058.112012  39675.833623  38696.079696   \n...                           ...           ...           ...           ...   \n2022-04-29 20:00:00  39983.202962  38203.066038  38862.692454  39110.594185   \n2022-04-29 21:00:00  39880.959476  38179.276524  38809.952189  39075.081657   \n2022-04-29 22:00:00  39822.051152  38146.835848  38768.811531  39044.988002   \n2022-04-29 23:00:00  39750.458930  38124.738070  38730.578005  39016.028130   \n2022-04-30 00:00:00  39662.945986  38121.952014  38702.033293  38991.765025   \n\n                     HT_TRENDLINE          KAMA            MA   MIDPOINT  \\\ntime                                                                       \n2022-02-04 18:00:00  37434.617702  38402.621527  37660.167667  38970.930   \n2022-02-04 19:00:00  37518.339136  38739.630392  37798.262000  39074.655   \n2022-02-04 20:00:00  37598.399669  38997.767312  37934.338333  39074.655   \n2022-02-04 21:00:00  37675.517391  39207.938299  38058.141667  39074.655   \n2022-02-04 22:00:00  37766.415297  39423.053828  38189.966333  39074.655   \n...                           ...           ...           ...        ...   \n2022-04-29 20:00:00  39333.395743  39231.793070  39355.197667  38970.840   \n2022-04-29 21:00:00  39313.450401  39212.194712  39325.935667  38870.880   \n2022-04-29 22:00:00  39297.106258  39178.867493  39282.908667  38804.295   \n2022-04-29 23:00:00  39288.148026  39123.882157  39226.655000  38804.295   \n2022-04-30 00:00:00  39267.953043  39085.911460  39178.542667  38804.295   \n\n                      MIDPRICE       SAR  ...  STOCHRSI FASTD      TRIX  \\\ntime                                      ...                             \n2022-02-04 18:00:00  38961.010  36250.00  ...       98.476603 -0.011691   \n2022-02-04 19:00:00  39083.600  36250.00  ...       98.476603 -0.002145   \n2022-02-04 20:00:00  39087.580  36250.00  ...       65.143270  0.007877   \n2022-02-04 21:00:00  39087.580  36250.00  ...       35.991913  0.018190   \n2022-02-04 22:00:00  39087.580  36250.00  ...        6.690602  0.028623   \n...                        ...       ...  ...             ...       ...   \n2022-04-29 20:00:00  38904.560  34322.28  ...       40.017682  0.000117   \n2022-04-29 21:00:00  38904.560  34322.28  ...       66.280453 -0.002887   \n2022-04-29 22:00:00  38792.615  34322.28  ...       99.613787 -0.005823   \n2022-04-29 23:00:00  38790.685  34322.28  ...       98.523521 -0.008675   \n2022-04-30 00:00:00  38790.685  34322.28  ...       98.909735 -0.011392   \n\n                        ULTOSC      WILLR            AD         ADOSC  \\\ntime                                                                    \n2022-02-04 18:00:00  64.119127  -5.665491  4.163835e+08  2.232880e+08   \n2022-02-04 19:00:00  64.504258  -4.156630  4.559270e+08  2.169142e+08   \n2022-02-04 20:00:00  67.242522  -8.260913  4.157808e+08  1.818135e+08   \n2022-02-04 21:00:00  67.727990  -7.255283  4.722276e+08  1.688860e+08   \n2022-02-04 22:00:00  65.822548  -6.765959  5.104049e+08  1.603915e+08   \n...                        ...        ...           ...           ...   \n2022-04-29 20:00:00  44.058563 -73.309940  1.911979e+09 -2.728047e+07   \n2022-04-29 21:00:00  45.451942 -73.603953  1.915031e+09 -1.402109e+07   \n2022-04-29 22:00:00  48.213134 -64.894797  1.933819e+09 -1.344152e+06   \n2022-04-29 23:00:00  55.486596 -65.801506  1.926950e+09  1.778577e+06   \n2022-04-30 00:00:00  53.973318 -62.241243  1.914822e+09 -9.646129e+05   \n\n                              OBV  TRANGE         ATR      NATR  \ntime                                                             \n2022-02-04 18:00:00  8.408365e+07  383.22  520.992874  0.003181  \n2022-02-04 19:00:00  1.792901e+08  510.01  520.208383  0.003136  \n2022-02-04 20:00:00  7.511321e+07  428.71  513.672784  0.003118  \n2022-02-04 21:00:00  1.361546e+08  205.66  491.671871  0.002979  \n2022-02-04 22:00:00  1.825797e+08  284.14  476.848166  0.002887  \n...                           ...     ...         ...       ...  \n2022-04-29 20:00:00 -9.507778e+08  273.10  370.641565  0.002492  \n2022-04-29 21:00:00 -9.814700e+08  199.52  358.418596  0.002411  \n2022-04-29 22:00:00 -9.560888e+08  205.26  347.478696  0.002331  \n2022-04-29 23:00:00 -9.818887e+08  109.38  330.471647  0.002218  \n2022-04-30 00:00:00 -9.374077e+08  244.26  324.313672  0.002172  \n\n[2023 rows x 61 columns]",
      "text/html": "<div>\n<style scoped>\n    .dataframe tbody tr th:only-of-type {\n        vertical-align: middle;\n    }\n\n    .dataframe tbody tr th {\n        vertical-align: top;\n    }\n\n    .dataframe thead th {\n        text-align: right;\n    }\n</style>\n<table border=\"1\" class=\"dataframe\">\n  <thead>\n    <tr style=\"text-align: right;\">\n      <th></th>\n      <th>UpperBB</th>\n      <th>LowerBB</th>\n      <th>DEMA</th>\n      <th>EMA</th>\n      <th>HT_TRENDLINE</th>\n      <th>KAMA</th>\n      <th>MA</th>\n      <th>MIDPOINT</th>\n      <th>MIDPRICE</th>\n      <th>SAR</th>\n      <th>...</th>\n      <th>STOCHRSI FASTD</th>\n      <th>TRIX</th>\n      <th>ULTOSC</th>\n      <th>WILLR</th>\n      <th>AD</th>\n      <th>ADOSC</th>\n      <th>OBV</th>\n      <th>TRANGE</th>\n      <th>ATR</th>\n      <th>NATR</th>\n    </tr>\n    <tr>\n      <th>time</th>\n      <th></th>\n      <th></th>\n      <th></th>\n      <th></th>\n      <th></th>\n      <th></th>\n      <th></th>\n      <th></th>\n      <th></th>\n      <th></th>\n      <th></th>\n      <th></th>\n      <th></th>\n      <th></th>\n      <th></th>\n      <th></th>\n      <th></th>\n      <th></th>\n      <th></th>\n      <th></th>\n      <th></th>\n    </tr>\n  </thead>\n  <tbody>\n    <tr>\n      <th>2022-02-04 18:00:00</th>\n      <td>40353.302329</td>\n      <td>35918.871671</td>\n      <td>38724.151122</td>\n      <td>38100.630020</td>\n      <td>37434.617702</td>\n      <td>38402.621527</td>\n      <td>37660.167667</td>\n      <td>38970.930</td>\n      <td>38961.010</td>\n      <td>36250.00</td>\n      <td>...</td>\n      <td>98.476603</td>\n      <td>-0.011691</td>\n      <td>64.119127</td>\n      <td>-5.665491</td>\n      <td>4.163835e+08</td>\n      <td>2.232880e+08</td>\n      <td>8.408365e+07</td>\n      <td>383.22</td>\n      <td>520.992874</td>\n      <td>0.003181</td>\n    </tr>\n    <tr>\n      <th>2022-02-04 19:00:00</th>\n      <td>40769.482460</td>\n      <td>35844.321540</td>\n      <td>39011.992214</td>\n      <td>38270.131955</td>\n      <td>37518.339136</td>\n      <td>38739.630392</td>\n      <td>37798.262000</td>\n      <td>39074.655</td>\n      <td>39083.600</td>\n      <td>36250.00</td>\n      <td>...</td>\n      <td>98.476603</td>\n      <td>-0.002145</td>\n      <td>64.504258</td>\n      <td>-4.156630</td>\n      <td>4.559270e+08</td>\n      <td>2.169142e+08</td>\n      <td>1.792901e+08</td>\n      <td>510.01</td>\n      <td>520.208383</td>\n      <td>0.003136</td>\n    </tr>\n    <tr>\n      <th>2022-02-04 20:00:00</th>\n      <td>41079.282361</td>\n      <td>35875.268639</td>\n      <td>39253.562275</td>\n      <td>38419.671829</td>\n      <td>37598.399669</td>\n      <td>38997.767312</td>\n      <td>37934.338333</td>\n      <td>39074.655</td>\n      <td>39087.580</td>\n      <td>36250.00</td>\n      <td>...</td>\n      <td>65.143270</td>\n      <td>0.007877</td>\n      <td>67.242522</td>\n      <td>-8.260913</td>\n      <td>4.157808e+08</td>\n      <td>1.818135e+08</td>\n      <td>7.511321e+07</td>\n      <td>428.71</td>\n      <td>513.672784</td>\n      <td>0.003118</td>\n    </tr>\n    <tr>\n      <th>2022-02-04 21:00:00</th>\n      <td>41343.475235</td>\n      <td>35956.630765</td>\n      <td>39475.035920</td>\n      <td>38561.896227</td>\n      <td>37675.517391</td>\n      <td>39207.938299</td>\n      <td>38058.141667</td>\n      <td>39074.655</td>\n      <td>39087.580</td>\n      <td>36250.00</td>\n      <td>...</td>\n      <td>35.991913</td>\n      <td>0.018190</td>\n      <td>67.727990</td>\n      <td>-7.255283</td>\n      <td>4.722276e+08</td>\n      <td>1.688860e+08</td>\n      <td>1.361546e+08</td>\n      <td>205.66</td>\n      <td>491.671871</td>\n      <td>0.002979</td>\n    </tr>\n    <tr>\n      <th>2022-02-04 22:00:00</th>\n      <td>41573.542988</td>\n      <td>36058.112012</td>\n      <td>39675.833623</td>\n      <td>38696.079696</td>\n      <td>37766.415297</td>\n      <td>39423.053828</td>\n      <td>38189.966333</td>\n      <td>39074.655</td>\n      <td>39087.580</td>\n      <td>36250.00</td>\n      <td>...</td>\n      <td>6.690602</td>\n      <td>0.028623</td>\n      <td>65.822548</td>\n      <td>-6.765959</td>\n      <td>5.104049e+08</td>\n      <td>1.603915e+08</td>\n      <td>1.825797e+08</td>\n      <td>284.14</td>\n      <td>476.848166</td>\n      <td>0.002887</td>\n    </tr>\n    <tr>\n      <th>...</th>\n      <td>...</td>\n      <td>...</td>\n      <td>...</td>\n      <td>...</td>\n      <td>...</td>\n      <td>...</td>\n      <td>...</td>\n      <td>...</td>\n      <td>...</td>\n      <td>...</td>\n      <td>...</td>\n      <td>...</td>\n      <td>...</td>\n      <td>...</td>\n      <td>...</td>\n      <td>...</td>\n      <td>...</td>\n      <td>...</td>\n      <td>...</td>\n      <td>...</td>\n      <td>...</td>\n    </tr>\n    <tr>\n      <th>2022-04-29 20:00:00</th>\n      <td>39983.202962</td>\n      <td>38203.066038</td>\n      <td>38862.692454</td>\n      <td>39110.594185</td>\n      <td>39333.395743</td>\n      <td>39231.793070</td>\n      <td>39355.197667</td>\n      <td>38970.840</td>\n      <td>38904.560</td>\n      <td>34322.28</td>\n      <td>...</td>\n      <td>40.017682</td>\n      <td>0.000117</td>\n      <td>44.058563</td>\n      <td>-73.309940</td>\n      <td>1.911979e+09</td>\n      <td>-2.728047e+07</td>\n      <td>-9.507778e+08</td>\n      <td>273.10</td>\n      <td>370.641565</td>\n      <td>0.002492</td>\n    </tr>\n    <tr>\n      <th>2022-04-29 21:00:00</th>\n      <td>39880.959476</td>\n      <td>38179.276524</td>\n      <td>38809.952189</td>\n      <td>39075.081657</td>\n      <td>39313.450401</td>\n      <td>39212.194712</td>\n      <td>39325.935667</td>\n      <td>38870.880</td>\n      <td>38904.560</td>\n      <td>34322.28</td>\n      <td>...</td>\n      <td>66.280453</td>\n      <td>-0.002887</td>\n      <td>45.451942</td>\n      <td>-73.603953</td>\n      <td>1.915031e+09</td>\n      <td>-1.402109e+07</td>\n      <td>-9.814700e+08</td>\n      <td>199.52</td>\n      <td>358.418596</td>\n      <td>0.002411</td>\n    </tr>\n    <tr>\n      <th>2022-04-29 22:00:00</th>\n      <td>39822.051152</td>\n      <td>38146.835848</td>\n      <td>38768.811531</td>\n      <td>39044.988002</td>\n      <td>39297.106258</td>\n      <td>39178.867493</td>\n      <td>39282.908667</td>\n      <td>38804.295</td>\n      <td>38792.615</td>\n      <td>34322.28</td>\n      <td>...</td>\n      <td>99.613787</td>\n      <td>-0.005823</td>\n      <td>48.213134</td>\n      <td>-64.894797</td>\n      <td>1.933819e+09</td>\n      <td>-1.344152e+06</td>\n      <td>-9.560888e+08</td>\n      <td>205.26</td>\n      <td>347.478696</td>\n      <td>0.002331</td>\n    </tr>\n    <tr>\n      <th>2022-04-29 23:00:00</th>\n      <td>39750.458930</td>\n      <td>38124.738070</td>\n      <td>38730.578005</td>\n      <td>39016.028130</td>\n      <td>39288.148026</td>\n      <td>39123.882157</td>\n      <td>39226.655000</td>\n      <td>38804.295</td>\n      <td>38790.685</td>\n      <td>34322.28</td>\n      <td>...</td>\n      <td>98.523521</td>\n      <td>-0.008675</td>\n      <td>55.486596</td>\n      <td>-65.801506</td>\n      <td>1.926950e+09</td>\n      <td>1.778577e+06</td>\n      <td>-9.818887e+08</td>\n      <td>109.38</td>\n      <td>330.471647</td>\n      <td>0.002218</td>\n    </tr>\n    <tr>\n      <th>2022-04-30 00:00:00</th>\n      <td>39662.945986</td>\n      <td>38121.952014</td>\n      <td>38702.033293</td>\n      <td>38991.765025</td>\n      <td>39267.953043</td>\n      <td>39085.911460</td>\n      <td>39178.542667</td>\n      <td>38804.295</td>\n      <td>38790.685</td>\n      <td>34322.28</td>\n      <td>...</td>\n      <td>98.909735</td>\n      <td>-0.011392</td>\n      <td>53.973318</td>\n      <td>-62.241243</td>\n      <td>1.914822e+09</td>\n      <td>-9.646129e+05</td>\n      <td>-9.374077e+08</td>\n      <td>244.26</td>\n      <td>324.313672</td>\n      <td>0.002172</td>\n    </tr>\n  </tbody>\n</table>\n<p>2023 rows × 61 columns</p>\n</div>"
     },
     "execution_count": 14,
     "metadata": {},
     "output_type": "execute_result"
    }
   ],
   "source": [
    "new_df_crypto_list[0]"
   ],
   "metadata": {
    "collapsed": false,
    "ExecuteTime": {
     "end_time": "2023-06-07T08:46:42.048173Z",
     "start_time": "2023-06-07T08:46:42.010181Z"
    }
   }
  },
  {
   "cell_type": "markdown",
   "source": [
    "## Reduce dim with Correlation"
   ],
   "metadata": {
    "collapsed": false
   }
  },
  {
   "cell_type": "code",
   "execution_count": 15,
   "outputs": [],
   "source": [
    "red_df_list = []\n",
    "\n",
    "for i in range(len(new_df_crypto_list)):\n",
    "    red_df_list.append(correlation.compute_correlation(new_df_crypto_list[i], \"spearman\", False))\n",
    "    red_df_list[i] = new_df_crypto_list[i].drop(columns=correlation.reducing_dimension(red_df_list[i], 0.75))"
   ],
   "metadata": {
    "collapsed": false,
    "ExecuteTime": {
     "end_time": "2023-06-07T08:47:08.344951Z",
     "start_time": "2023-06-07T08:47:08.205135Z"
    }
   }
  },
  {
   "cell_type": "markdown",
   "source": [
    "## Normalization with z-score"
   ],
   "metadata": {
    "collapsed": false
   }
  },
  {
   "cell_type": "code",
   "execution_count": 16,
   "outputs": [
    {
     "data": {
      "text/plain": "                      UpperBB   LowerBB      DEMA       EMA  HT_TRENDLINE  \\\ntime                                                                        \n2022-02-04 18:00:00 -0.815142 -1.751345 -1.075187 -1.376847     -1.604282   \n2022-02-04 19:00:00 -0.651817 -1.778378 -0.967442 -1.309835     -1.571843   \n2022-02-04 20:00:00 -0.530239 -1.767156 -0.877017 -1.250715     -1.540822   \n2022-02-04 21:00:00 -0.426560 -1.737653 -0.794114 -1.194487     -1.510941   \n2022-02-04 22:00:00 -0.336272 -1.700854 -0.718951 -1.141438     -1.475720   \n...                       ...       ...       ...       ...           ...   \n2022-04-29 20:00:00 -0.960384 -0.923056 -1.023328 -0.977561     -0.868559   \n2022-04-29 21:00:00 -1.000508 -0.931683 -1.043070 -0.991601     -0.876287   \n2022-04-29 22:00:00 -1.023626 -0.943446 -1.058470 -1.003498     -0.882620   \n2022-04-29 23:00:00 -1.051722 -0.951459 -1.072781 -1.014947     -0.886091   \n2022-04-30 00:00:00 -1.086066 -0.952470 -1.083466 -1.024540     -0.893916   \n\n                         KAMA        MA  MIDPOINT  MIDPRICE       SAR  ...  \\\ntime                                                                   ...   \n2022-02-04 18:00:00 -1.230574 -1.529907 -1.008184 -1.014896 -0.539019  ...   \n2022-02-04 19:00:00 -1.100654 -1.476073 -0.968251 -0.967624 -0.539019  ...   \n2022-02-04 20:00:00 -1.001139 -1.423026 -0.968251 -0.966090 -0.539019  ...   \n2022-02-04 21:00:00 -0.920116 -1.374763 -0.968251 -0.966090 -0.539019  ...   \n2022-02-04 22:00:00 -0.837187 -1.323373 -0.968251 -0.966090 -0.539019  ...   \n...                       ...       ...       ...       ...       ...  ...   \n2022-04-29 20:00:00 -0.910920 -0.869126 -1.008219 -1.036664 -0.904167  ...   \n2022-04-29 21:00:00 -0.918475 -0.880533 -1.046703 -1.036664 -0.904167  ...   \n2022-04-29 22:00:00 -0.931323 -0.897307 -1.072337 -1.079831 -0.904167  ...   \n2022-04-29 23:00:00 -0.952521 -0.919236 -1.072337 -1.080575 -0.904167  ...   \n2022-04-30 00:00:00 -0.967159 -0.937992 -1.072337 -1.080575 -0.904167  ...   \n\n                     STOCHRSI FASTD      TRIX    ULTOSC     WILLR        AD  \\\ntime                                                                          \n2022-02-04 18:00:00        1.478809 -0.190843  1.743441  1.668060 -1.824014   \n2022-02-04 19:00:00        1.478809 -0.061040  1.793356  1.725206 -1.782185   \n2022-02-04 20:00:00        0.437053  0.075241  2.148247  1.569760 -1.824652   \n2022-02-04 21:00:00       -0.474005  0.215483  2.211166  1.607848 -1.764943   \n2022-02-04 22:00:00       -1.389750  0.357350  1.964212  1.626380 -1.724559   \n...                             ...       ...       ...       ...       ...   \n2022-04-29 20:00:00       -0.348189 -0.030271 -0.856494 -0.893912 -0.241983   \n2022-04-29 21:00:00        0.472593 -0.071132 -0.675906 -0.905047 -0.238755   \n2022-04-29 22:00:00        1.514349 -0.111057 -0.318044 -0.575196 -0.218881   \n2022-04-29 23:00:00        1.480275 -0.149837  0.624628 -0.609537 -0.226146   \n2022-04-30 00:00:00        1.492346 -0.186784  0.428501 -0.474695 -0.238976   \n\n                        ADOSC       OBV    TRANGE       ATR      NATR  \ntime                                                                   \n2022-02-04 18:00:00  4.229217 -0.080778  0.010567  1.247773  1.196708  \n2022-02-04 19:00:00  4.106668  0.021975  0.509513  1.240737  1.139011  \n2022-02-04 20:00:00  3.431786 -0.090459  0.189580  1.182122  1.115916  \n2022-02-04 21:00:00  3.183228 -0.024580 -0.688169  0.984804  0.937890  \n2022-02-04 22:00:00  3.019904  0.025525 -0.379334  0.851855  0.819527  \n...                       ...       ...       ...       ...       ...  \n2022-04-29 20:00:00 -0.588470 -1.197661 -0.422779 -0.100674  0.313448  \n2022-04-29 21:00:00 -0.333531 -1.230786 -0.712332 -0.210297  0.208768  \n2022-04-29 22:00:00 -0.089792 -1.203393 -0.689744 -0.308413  0.106920  \n2022-04-29 23:00:00 -0.029751 -1.231238 -1.067052 -0.460943 -0.037509  \n2022-04-30 00:00:00 -0.082494 -1.183231 -0.536270 -0.516172 -0.096836  \n\n[2023 rows x 61 columns]",
      "text/html": "<div>\n<style scoped>\n    .dataframe tbody tr th:only-of-type {\n        vertical-align: middle;\n    }\n\n    .dataframe tbody tr th {\n        vertical-align: top;\n    }\n\n    .dataframe thead th {\n        text-align: right;\n    }\n</style>\n<table border=\"1\" class=\"dataframe\">\n  <thead>\n    <tr style=\"text-align: right;\">\n      <th></th>\n      <th>UpperBB</th>\n      <th>LowerBB</th>\n      <th>DEMA</th>\n      <th>EMA</th>\n      <th>HT_TRENDLINE</th>\n      <th>KAMA</th>\n      <th>MA</th>\n      <th>MIDPOINT</th>\n      <th>MIDPRICE</th>\n      <th>SAR</th>\n      <th>...</th>\n      <th>STOCHRSI FASTD</th>\n      <th>TRIX</th>\n      <th>ULTOSC</th>\n      <th>WILLR</th>\n      <th>AD</th>\n      <th>ADOSC</th>\n      <th>OBV</th>\n      <th>TRANGE</th>\n      <th>ATR</th>\n      <th>NATR</th>\n    </tr>\n    <tr>\n      <th>time</th>\n      <th></th>\n      <th></th>\n      <th></th>\n      <th></th>\n      <th></th>\n      <th></th>\n      <th></th>\n      <th></th>\n      <th></th>\n      <th></th>\n      <th></th>\n      <th></th>\n      <th></th>\n      <th></th>\n      <th></th>\n      <th></th>\n      <th></th>\n      <th></th>\n      <th></th>\n      <th></th>\n      <th></th>\n    </tr>\n  </thead>\n  <tbody>\n    <tr>\n      <th>2022-02-04 18:00:00</th>\n      <td>-0.815142</td>\n      <td>-1.751345</td>\n      <td>-1.075187</td>\n      <td>-1.376847</td>\n      <td>-1.604282</td>\n      <td>-1.230574</td>\n      <td>-1.529907</td>\n      <td>-1.008184</td>\n      <td>-1.014896</td>\n      <td>-0.539019</td>\n      <td>...</td>\n      <td>1.478809</td>\n      <td>-0.190843</td>\n      <td>1.743441</td>\n      <td>1.668060</td>\n      <td>-1.824014</td>\n      <td>4.229217</td>\n      <td>-0.080778</td>\n      <td>0.010567</td>\n      <td>1.247773</td>\n      <td>1.196708</td>\n    </tr>\n    <tr>\n      <th>2022-02-04 19:00:00</th>\n      <td>-0.651817</td>\n      <td>-1.778378</td>\n      <td>-0.967442</td>\n      <td>-1.309835</td>\n      <td>-1.571843</td>\n      <td>-1.100654</td>\n      <td>-1.476073</td>\n      <td>-0.968251</td>\n      <td>-0.967624</td>\n      <td>-0.539019</td>\n      <td>...</td>\n      <td>1.478809</td>\n      <td>-0.061040</td>\n      <td>1.793356</td>\n      <td>1.725206</td>\n      <td>-1.782185</td>\n      <td>4.106668</td>\n      <td>0.021975</td>\n      <td>0.509513</td>\n      <td>1.240737</td>\n      <td>1.139011</td>\n    </tr>\n    <tr>\n      <th>2022-02-04 20:00:00</th>\n      <td>-0.530239</td>\n      <td>-1.767156</td>\n      <td>-0.877017</td>\n      <td>-1.250715</td>\n      <td>-1.540822</td>\n      <td>-1.001139</td>\n      <td>-1.423026</td>\n      <td>-0.968251</td>\n      <td>-0.966090</td>\n      <td>-0.539019</td>\n      <td>...</td>\n      <td>0.437053</td>\n      <td>0.075241</td>\n      <td>2.148247</td>\n      <td>1.569760</td>\n      <td>-1.824652</td>\n      <td>3.431786</td>\n      <td>-0.090459</td>\n      <td>0.189580</td>\n      <td>1.182122</td>\n      <td>1.115916</td>\n    </tr>\n    <tr>\n      <th>2022-02-04 21:00:00</th>\n      <td>-0.426560</td>\n      <td>-1.737653</td>\n      <td>-0.794114</td>\n      <td>-1.194487</td>\n      <td>-1.510941</td>\n      <td>-0.920116</td>\n      <td>-1.374763</td>\n      <td>-0.968251</td>\n      <td>-0.966090</td>\n      <td>-0.539019</td>\n      <td>...</td>\n      <td>-0.474005</td>\n      <td>0.215483</td>\n      <td>2.211166</td>\n      <td>1.607848</td>\n      <td>-1.764943</td>\n      <td>3.183228</td>\n      <td>-0.024580</td>\n      <td>-0.688169</td>\n      <td>0.984804</td>\n      <td>0.937890</td>\n    </tr>\n    <tr>\n      <th>2022-02-04 22:00:00</th>\n      <td>-0.336272</td>\n      <td>-1.700854</td>\n      <td>-0.718951</td>\n      <td>-1.141438</td>\n      <td>-1.475720</td>\n      <td>-0.837187</td>\n      <td>-1.323373</td>\n      <td>-0.968251</td>\n      <td>-0.966090</td>\n      <td>-0.539019</td>\n      <td>...</td>\n      <td>-1.389750</td>\n      <td>0.357350</td>\n      <td>1.964212</td>\n      <td>1.626380</td>\n      <td>-1.724559</td>\n      <td>3.019904</td>\n      <td>0.025525</td>\n      <td>-0.379334</td>\n      <td>0.851855</td>\n      <td>0.819527</td>\n    </tr>\n    <tr>\n      <th>...</th>\n      <td>...</td>\n      <td>...</td>\n      <td>...</td>\n      <td>...</td>\n      <td>...</td>\n      <td>...</td>\n      <td>...</td>\n      <td>...</td>\n      <td>...</td>\n      <td>...</td>\n      <td>...</td>\n      <td>...</td>\n      <td>...</td>\n      <td>...</td>\n      <td>...</td>\n      <td>...</td>\n      <td>...</td>\n      <td>...</td>\n      <td>...</td>\n      <td>...</td>\n      <td>...</td>\n    </tr>\n    <tr>\n      <th>2022-04-29 20:00:00</th>\n      <td>-0.960384</td>\n      <td>-0.923056</td>\n      <td>-1.023328</td>\n      <td>-0.977561</td>\n      <td>-0.868559</td>\n      <td>-0.910920</td>\n      <td>-0.869126</td>\n      <td>-1.008219</td>\n      <td>-1.036664</td>\n      <td>-0.904167</td>\n      <td>...</td>\n      <td>-0.348189</td>\n      <td>-0.030271</td>\n      <td>-0.856494</td>\n      <td>-0.893912</td>\n      <td>-0.241983</td>\n      <td>-0.588470</td>\n      <td>-1.197661</td>\n      <td>-0.422779</td>\n      <td>-0.100674</td>\n      <td>0.313448</td>\n    </tr>\n    <tr>\n      <th>2022-04-29 21:00:00</th>\n      <td>-1.000508</td>\n      <td>-0.931683</td>\n      <td>-1.043070</td>\n      <td>-0.991601</td>\n      <td>-0.876287</td>\n      <td>-0.918475</td>\n      <td>-0.880533</td>\n      <td>-1.046703</td>\n      <td>-1.036664</td>\n      <td>-0.904167</td>\n      <td>...</td>\n      <td>0.472593</td>\n      <td>-0.071132</td>\n      <td>-0.675906</td>\n      <td>-0.905047</td>\n      <td>-0.238755</td>\n      <td>-0.333531</td>\n      <td>-1.230786</td>\n      <td>-0.712332</td>\n      <td>-0.210297</td>\n      <td>0.208768</td>\n    </tr>\n    <tr>\n      <th>2022-04-29 22:00:00</th>\n      <td>-1.023626</td>\n      <td>-0.943446</td>\n      <td>-1.058470</td>\n      <td>-1.003498</td>\n      <td>-0.882620</td>\n      <td>-0.931323</td>\n      <td>-0.897307</td>\n      <td>-1.072337</td>\n      <td>-1.079831</td>\n      <td>-0.904167</td>\n      <td>...</td>\n      <td>1.514349</td>\n      <td>-0.111057</td>\n      <td>-0.318044</td>\n      <td>-0.575196</td>\n      <td>-0.218881</td>\n      <td>-0.089792</td>\n      <td>-1.203393</td>\n      <td>-0.689744</td>\n      <td>-0.308413</td>\n      <td>0.106920</td>\n    </tr>\n    <tr>\n      <th>2022-04-29 23:00:00</th>\n      <td>-1.051722</td>\n      <td>-0.951459</td>\n      <td>-1.072781</td>\n      <td>-1.014947</td>\n      <td>-0.886091</td>\n      <td>-0.952521</td>\n      <td>-0.919236</td>\n      <td>-1.072337</td>\n      <td>-1.080575</td>\n      <td>-0.904167</td>\n      <td>...</td>\n      <td>1.480275</td>\n      <td>-0.149837</td>\n      <td>0.624628</td>\n      <td>-0.609537</td>\n      <td>-0.226146</td>\n      <td>-0.029751</td>\n      <td>-1.231238</td>\n      <td>-1.067052</td>\n      <td>-0.460943</td>\n      <td>-0.037509</td>\n    </tr>\n    <tr>\n      <th>2022-04-30 00:00:00</th>\n      <td>-1.086066</td>\n      <td>-0.952470</td>\n      <td>-1.083466</td>\n      <td>-1.024540</td>\n      <td>-0.893916</td>\n      <td>-0.967159</td>\n      <td>-0.937992</td>\n      <td>-1.072337</td>\n      <td>-1.080575</td>\n      <td>-0.904167</td>\n      <td>...</td>\n      <td>1.492346</td>\n      <td>-0.186784</td>\n      <td>0.428501</td>\n      <td>-0.474695</td>\n      <td>-0.238976</td>\n      <td>-0.082494</td>\n      <td>-1.183231</td>\n      <td>-0.536270</td>\n      <td>-0.516172</td>\n      <td>-0.096836</td>\n    </tr>\n  </tbody>\n</table>\n<p>2023 rows × 61 columns</p>\n</div>"
     },
     "execution_count": 16,
     "metadata": {},
     "output_type": "execute_result"
    }
   ],
   "source": [
    "normalization_df_list = [stats.zscore(new_df_crypto_list[i]) for i in range(len(new_df_crypto_list))]\n",
    "normalization_df_list[0]"
   ],
   "metadata": {
    "collapsed": false,
    "ExecuteTime": {
     "end_time": "2023-06-07T08:47:29.234270Z",
     "start_time": "2023-06-07T08:47:29.147905Z"
    }
   }
  },
  {
   "cell_type": "markdown",
   "source": [
    "## Save Data"
   ],
   "metadata": {
    "collapsed": false
   }
  },
  {
   "cell_type": "code",
   "execution_count": 17,
   "outputs": [],
   "source": [
    "PATH = \"/Users/admin/PycharmProjects/Market_Prediction_Using_News_and_Indicators/Crypto_Currencies_Data/\""
   ],
   "metadata": {
    "collapsed": false,
    "ExecuteTime": {
     "end_time": "2023-06-07T08:47:53.106129Z",
     "start_time": "2023-06-07T08:47:53.094317Z"
    }
   }
  },
  {
   "cell_type": "code",
   "execution_count": 18,
   "outputs": [],
   "source": [
    "for i in range(len(crypto_currency_list)):\n",
    "    new_df_crypto_list[i].to_csv(PATH + crypto_currency_list[i] + \"_indicators.csv\")\n",
    "    df_crypto_list[i].to_csv(PATH + crypto_currency_list[i] + \".csv\")\n",
    "    red_df_list[i].to_csv(PATH + crypto_currency_list[i] + \"_reduce.csv\")\n",
    "    normalization_df_list[i].to_csv(PATH + crypto_currency_list[i] + \"_normalization.csv\")\n",
    "    target_list[i].to_csv(PATH + crypto_currency_list[i] + \"_target.csv\")"
   ],
   "metadata": {
    "collapsed": false,
    "ExecuteTime": {
     "end_time": "2023-06-07T08:48:03.189636Z",
     "start_time": "2023-06-07T08:48:01.291600Z"
    }
   }
  }
 ],
 "metadata": {
  "kernelspec": {
   "display_name": "Python 3",
   "language": "python",
   "name": "python3"
  },
  "language_info": {
   "codemirror_mode": {
    "name": "ipython",
    "version": 2
   },
   "file_extension": ".py",
   "mimetype": "text/x-python",
   "name": "python",
   "nbconvert_exporter": "python",
   "pygments_lexer": "ipython2",
   "version": "2.7.6"
  }
 },
 "nbformat": 4,
 "nbformat_minor": 0
}
