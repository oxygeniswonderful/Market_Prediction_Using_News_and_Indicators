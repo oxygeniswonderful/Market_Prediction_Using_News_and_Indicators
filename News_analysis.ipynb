{
 "cells": [
  {
   "cell_type": "code",
   "execution_count": 1,
   "metadata": {
    "collapsed": true,
    "ExecuteTime": {
     "end_time": "2023-06-11T15:02:07.465169Z",
     "start_time": "2023-06-11T15:02:06.918375Z"
    }
   },
   "outputs": [],
   "source": [
    "import OpenBlender\n",
    "import pandas as pd\n",
    "import json"
   ]
  },
  {
   "cell_type": "code",
   "execution_count": 28,
   "outputs": [],
   "source": [
    "action = 'API_createTextVectorizer'\n",
    "parameters = {\n",
    "    'token' : '6485cc829516291aaf73339aPRm52s77DmLbwT6BR8MLriHsJQ6rTF',\n",
    "    'id_dataset':'5ea2039095162936337156c9'\n",
    "}"
   ],
   "metadata": {
    "collapsed": false,
    "ExecuteTime": {
     "end_time": "2023-06-11T15:31:23.695360Z",
     "start_time": "2023-06-11T15:31:23.687915Z"
    }
   }
  },
  {
   "cell_type": "code",
   "execution_count": 58,
   "outputs": [
    {
     "name": "stdout",
     "output_type": "stream",
     "text": [
      "Task ID: '6485eb4e0895fafb4a9d8d4b'.\n",
      "Total estimated consumption: 504.17 processing units.\n",
      "2.78 %\n",
      "Warning: Some observations could not be processed.\n",
      "Warning: Some observations could not be processed.\n",
      "Warning: Some observations could not be processed.\n",
      "Warning: Some observations could not be processed.\n",
      "Warning: Some observations could not be processed.\n",
      "Warning: Some observations could not be processed.\n",
      "Warning: Some observations could not be processed.\n",
      "Warning: Some observations could not be processed.\n",
      "Warning: Some observations could not be processed.\n",
      "Warning: Some observations could not be processed.\n",
      "Warning: Some observations could not be processed.\n",
      "Warning: Some observations could not be processed.\n",
      "Warning: Some observations could not be processed.\n",
      "Warning: Some observations could not be processed.\n",
      "Warning: Some observations could not be processed.\n",
      "Warning: Some observations could not be processed.\n",
      "Warning: Some observations could not be processed.\n",
      "Warning: Some observations could not be processed.\n",
      "Warning: Some observations could not be processed.\n",
      "Warning: Some observations could not be processed.\n",
      "Warning: Some observations could not be processed.\n",
      "Warning: Some observations could not be processed.\n",
      "Warning: Some observations could not be processed.\n",
      "Warning: Some observations could not be processed.\n",
      "Warning: Some observations could not be processed.\n",
      "Warning: Some observations could not be processed.\n",
      "Warning: Some observations could not be processed.\n",
      "Warning: Some observations could not be processed.\n",
      "Warning: Some observations could not be processed.\n",
      "Warning: Some observations could not be processed.\n",
      "Warning: Some observations could not be processed.\n",
      "Warning: Some observations could not be processed.\n",
      "Warning: Some observations could not be processed.\n",
      "Warning: Some observations could not be processed.\n",
      "Warning: Some observations could not be processed.\n"
     ]
    }
   ],
   "source": [
    "def pullObservationsToDF(parameters):\n",
    "    action = 'API_getObservationsFromDataset'\n",
    "    df = pd.read_json(json.dumps(OpenBlender.call(action,parameters)['sample']), convert_dates=False,convert_axes=False) .sort_values('timestamp', ascending=False)\n",
    "    df.reset_index(drop=True, inplace=True)\n",
    "    return df\n",
    "df = pullObservationsToDF(parameters)"
   ],
   "metadata": {
    "collapsed": false,
    "ExecuteTime": {
     "end_time": "2023-06-11T15:44:23.599884Z",
     "start_time": "2023-06-11T15:42:06.356038Z"
    }
   }
  },
  {
   "cell_type": "code",
   "execution_count": 74,
   "outputs": [
    {
     "data": {
      "text/plain": "                      timestamp comp_score    neg    neu    pos  pol\ntime                                                                \n2023-06-11 04:00:00  1686456317        pos  0.000  0.899  0.101  0.0\n2023-06-11 02:00:00  1686449046        neg  0.318  0.682  0.000  0.0\n2023-06-11 00:00:00  1686441762        neg  0.317  0.683  0.000  0.0\n2023-06-10 22:00:00  1686434530        pos  0.000  1.000  0.000  0.0\n2023-06-10 20:00:00  1686427551        pos  0.000  0.859  0.141  0.0\n...                         ...        ...    ...    ...    ...  ...\n2023-05-14 15:00:00  1684078646        pos  0.000  1.000  0.000  0.0\n2023-05-14 13:00:00  1684071609        pos  0.000  0.786  0.214  0.0\n2023-05-14 13:00:00  1684069694        neg  0.235  0.765  0.000  0.0\n2023-05-14 12:00:00  1684065896        neg  0.167  0.833  0.000  0.0\n2023-05-14 11:00:00  1684062530        pos  0.000  0.744  0.256  0.0\n\n[600 rows x 6 columns]",
      "text/html": "<div>\n<style scoped>\n    .dataframe tbody tr th:only-of-type {\n        vertical-align: middle;\n    }\n\n    .dataframe tbody tr th {\n        vertical-align: top;\n    }\n\n    .dataframe thead th {\n        text-align: right;\n    }\n</style>\n<table border=\"1\" class=\"dataframe\">\n  <thead>\n    <tr style=\"text-align: right;\">\n      <th></th>\n      <th>timestamp</th>\n      <th>comp_score</th>\n      <th>neg</th>\n      <th>neu</th>\n      <th>pos</th>\n      <th>pol</th>\n    </tr>\n    <tr>\n      <th>time</th>\n      <th></th>\n      <th></th>\n      <th></th>\n      <th></th>\n      <th></th>\n      <th></th>\n    </tr>\n  </thead>\n  <tbody>\n    <tr>\n      <th>2023-06-11 04:00:00</th>\n      <td>1686456317</td>\n      <td>pos</td>\n      <td>0.000</td>\n      <td>0.899</td>\n      <td>0.101</td>\n      <td>0.0</td>\n    </tr>\n    <tr>\n      <th>2023-06-11 02:00:00</th>\n      <td>1686449046</td>\n      <td>neg</td>\n      <td>0.318</td>\n      <td>0.682</td>\n      <td>0.000</td>\n      <td>0.0</td>\n    </tr>\n    <tr>\n      <th>2023-06-11 00:00:00</th>\n      <td>1686441762</td>\n      <td>neg</td>\n      <td>0.317</td>\n      <td>0.683</td>\n      <td>0.000</td>\n      <td>0.0</td>\n    </tr>\n    <tr>\n      <th>2023-06-10 22:00:00</th>\n      <td>1686434530</td>\n      <td>pos</td>\n      <td>0.000</td>\n      <td>1.000</td>\n      <td>0.000</td>\n      <td>0.0</td>\n    </tr>\n    <tr>\n      <th>2023-06-10 20:00:00</th>\n      <td>1686427551</td>\n      <td>pos</td>\n      <td>0.000</td>\n      <td>0.859</td>\n      <td>0.141</td>\n      <td>0.0</td>\n    </tr>\n    <tr>\n      <th>...</th>\n      <td>...</td>\n      <td>...</td>\n      <td>...</td>\n      <td>...</td>\n      <td>...</td>\n      <td>...</td>\n    </tr>\n    <tr>\n      <th>2023-05-14 15:00:00</th>\n      <td>1684078646</td>\n      <td>pos</td>\n      <td>0.000</td>\n      <td>1.000</td>\n      <td>0.000</td>\n      <td>0.0</td>\n    </tr>\n    <tr>\n      <th>2023-05-14 13:00:00</th>\n      <td>1684071609</td>\n      <td>pos</td>\n      <td>0.000</td>\n      <td>0.786</td>\n      <td>0.214</td>\n      <td>0.0</td>\n    </tr>\n    <tr>\n      <th>2023-05-14 13:00:00</th>\n      <td>1684069694</td>\n      <td>neg</td>\n      <td>0.235</td>\n      <td>0.765</td>\n      <td>0.000</td>\n      <td>0.0</td>\n    </tr>\n    <tr>\n      <th>2023-05-14 12:00:00</th>\n      <td>1684065896</td>\n      <td>neg</td>\n      <td>0.167</td>\n      <td>0.833</td>\n      <td>0.000</td>\n      <td>0.0</td>\n    </tr>\n    <tr>\n      <th>2023-05-14 11:00:00</th>\n      <td>1684062530</td>\n      <td>pos</td>\n      <td>0.000</td>\n      <td>0.744</td>\n      <td>0.256</td>\n      <td>0.0</td>\n    </tr>\n  </tbody>\n</table>\n<p>600 rows × 6 columns</p>\n</div>"
     },
     "execution_count": 74,
     "metadata": {},
     "output_type": "execute_result"
    }
   ],
   "source": [
    "df"
   ],
   "metadata": {
    "collapsed": false,
    "ExecuteTime": {
     "end_time": "2023-06-11T15:53:43.107119Z",
     "start_time": "2023-06-11T15:53:43.102197Z"
    }
   }
  },
  {
   "cell_type": "code",
   "execution_count": 60,
   "outputs": [],
   "source": [
    "from datetime import datetime"
   ],
   "metadata": {
    "collapsed": false,
    "ExecuteTime": {
     "end_time": "2023-06-11T15:47:39.004882Z",
     "start_time": "2023-06-11T15:47:38.995276Z"
    }
   }
  },
  {
   "cell_type": "code",
   "execution_count": 61,
   "outputs": [
    {
     "name": "stderr",
     "output_type": "stream",
     "text": [
      "[nltk_data] Downloading package vader_lexicon to\n",
      "[nltk_data]     /Users/admin/nltk_data...\n",
      "[nltk_data]   Package vader_lexicon is already up-to-date!\n"
     ]
    }
   ],
   "source": [
    "import nltk\n",
    "nltk.download('vader_lexicon')\n",
    "from nltk.sentiment.vader import SentimentIntensityAnalyzer"
   ],
   "metadata": {
    "collapsed": false,
    "ExecuteTime": {
     "end_time": "2023-06-11T15:47:40.772926Z",
     "start_time": "2023-06-11T15:47:40.761779Z"
    }
   }
  },
  {
   "cell_type": "code",
   "execution_count": 62,
   "outputs": [],
   "source": [
    "sid = SentimentIntensityAnalyzer()"
   ],
   "metadata": {
    "collapsed": false,
    "ExecuteTime": {
     "end_time": "2023-06-11T15:47:41.306849Z",
     "start_time": "2023-06-11T15:47:41.302673Z"
    }
   }
  },
  {
   "cell_type": "code",
   "execution_count": 63,
   "outputs": [
    {
     "data": {
      "text/plain": "    re_tweeter                         links        author  \\\n0        FALSE  [https:\\/\\/t.co\\/WoNUckCbnX]  Bitcoin News   \n1        FALSE  [https:\\/\\/t.co\\/8Kz1gnbtjW]  Bitcoin News   \n2        FALSE  [https:\\/\\/t.co\\/yrIK8nWlI9]  Bitcoin News   \n3        FALSE  [https:\\/\\/t.co\\/QPtUVL7efY]  Bitcoin News   \n4        FALSE  [https:\\/\\/t.co\\/RAV5OkqQ5U]  Bitcoin News   \n..         ...                           ...           ...   \n595      FALSE  [https:\\/\\/t.co\\/2BA7mcy5tT]  Bitcoin News   \n596      FALSE  [https:\\/\\/t.co\\/Aos4VEs9xY]  Bitcoin News   \n597      FALSE  [https:\\/\\/t.co\\/ibgntEQHvz]  Bitcoin News   \n598      FALSE  [https:\\/\\/t.co\\/92fm1JcVQ9]  Bitcoin News   \n599      FALSE  [https:\\/\\/t.co\\/7jzqj660tu]  Bitcoin News   \n\n                                                  text  \\\n0    Russia’s second-largest bank’s chairman has pr...   \n1    #PeterSchiff says the #FederalReserve destroye...   \n2    #RobertKiyosaki has warned that the #realestat...   \n3    #Bitcoin is still the market leader with a mar...   \n4    In our experiment, we asked six popular AI cha...   \n..                                                 ...   \n595  The long queue of #bitcoin transactions is fin...   \n596  Twitter CEO Elon Musk has shared what he calls...   \n597  The banking giant also warned that its already...   \n598  \"The future of digital payments lies in #Web3 ...   \n599  \"We commit to encourage the use of local curre...   \n\n                                         hashtags reply_count  \\\n0                                          [yuan]               \n1    [PeterSchiff, FederalReserve, bankingsystem]               \n2                    [RobertKiyosaki, realestate]               \n3                               [Bitcoin, crypto]               \n4                                       [bitcoin]               \n..                                            ...         ...   \n595                                     [bitcoin]               \n596                                        [bank]               \n597                                     [current]               \n598            [Web3, cryptopayments, blockchain]               \n599                                       [ASEAN]               \n\n    associated_tweet   timestamp mentions   author_id  retweet_count   type  \\\n0                     1686456317           3367334171             46  Tweet   \n1                     1686449046           3367334171             64  Tweet   \n2                     1686441762           3367334171            103  Tweet   \n3                     1686434530           3367334171            147  Tweet   \n4                     1686427551           3367334171             42  Tweet   \n..               ...         ...      ...         ...            ...    ...   \n595                   1684078646           3367334171             39  Tweet   \n596                   1684071609           3367334171             62  Tweet   \n597                   1684069694           3367334171             17  Tweet   \n598                   1684065896           3367334171             55  Tweet   \n599                   1684062530           3367334171             37  Tweet   \n\n                      id  favorite_count  \\\n0    1667744788202790912             141   \n1    1667714292605435905             195   \n2    1667683741764911107             335   \n3    1667653407039954945             442   \n4    1667624133633486848             160   \n..                   ...             ...   \n595  1657772112612925440             122   \n596  1657742598457393160             174   \n597  1657734564792475648              79   \n598  1657718634695860224             200   \n599  1657704519889833990             149   \n\n                                                scores  \n0    {'neg': 0.0, 'neu': 0.899, 'pos': 0.101, 'comp...  \n1    {'neg': 0.318, 'neu': 0.682, 'pos': 0.0, 'comp...  \n2    {'neg': 0.317, 'neu': 0.683, 'pos': 0.0, 'comp...  \n3    {'neg': 0.0, 'neu': 1.0, 'pos': 0.0, 'compound...  \n4    {'neg': 0.0, 'neu': 0.859, 'pos': 0.141, 'comp...  \n..                                                 ...  \n595  {'neg': 0.0, 'neu': 1.0, 'pos': 0.0, 'compound...  \n596  {'neg': 0.0, 'neu': 0.786, 'pos': 0.214, 'comp...  \n597  {'neg': 0.235, 'neu': 0.765, 'pos': 0.0, 'comp...  \n598  {'neg': 0.167, 'neu': 0.833, 'pos': 0.0, 'comp...  \n599  {'neg': 0.0, 'neu': 0.744, 'pos': 0.256, 'comp...  \n\n[600 rows x 15 columns]",
      "text/html": "<div>\n<style scoped>\n    .dataframe tbody tr th:only-of-type {\n        vertical-align: middle;\n    }\n\n    .dataframe tbody tr th {\n        vertical-align: top;\n    }\n\n    .dataframe thead th {\n        text-align: right;\n    }\n</style>\n<table border=\"1\" class=\"dataframe\">\n  <thead>\n    <tr style=\"text-align: right;\">\n      <th></th>\n      <th>re_tweeter</th>\n      <th>links</th>\n      <th>author</th>\n      <th>text</th>\n      <th>hashtags</th>\n      <th>reply_count</th>\n      <th>associated_tweet</th>\n      <th>timestamp</th>\n      <th>mentions</th>\n      <th>author_id</th>\n      <th>retweet_count</th>\n      <th>type</th>\n      <th>id</th>\n      <th>favorite_count</th>\n      <th>scores</th>\n    </tr>\n  </thead>\n  <tbody>\n    <tr>\n      <th>0</th>\n      <td>FALSE</td>\n      <td>[https:\\/\\/t.co\\/WoNUckCbnX]</td>\n      <td>Bitcoin News</td>\n      <td>Russia’s second-largest bank’s chairman has pr...</td>\n      <td>[yuan]</td>\n      <td></td>\n      <td></td>\n      <td>1686456317</td>\n      <td></td>\n      <td>3367334171</td>\n      <td>46</td>\n      <td>Tweet</td>\n      <td>1667744788202790912</td>\n      <td>141</td>\n      <td>{'neg': 0.0, 'neu': 0.899, 'pos': 0.101, 'comp...</td>\n    </tr>\n    <tr>\n      <th>1</th>\n      <td>FALSE</td>\n      <td>[https:\\/\\/t.co\\/8Kz1gnbtjW]</td>\n      <td>Bitcoin News</td>\n      <td>#PeterSchiff says the #FederalReserve destroye...</td>\n      <td>[PeterSchiff, FederalReserve, bankingsystem]</td>\n      <td></td>\n      <td></td>\n      <td>1686449046</td>\n      <td></td>\n      <td>3367334171</td>\n      <td>64</td>\n      <td>Tweet</td>\n      <td>1667714292605435905</td>\n      <td>195</td>\n      <td>{'neg': 0.318, 'neu': 0.682, 'pos': 0.0, 'comp...</td>\n    </tr>\n    <tr>\n      <th>2</th>\n      <td>FALSE</td>\n      <td>[https:\\/\\/t.co\\/yrIK8nWlI9]</td>\n      <td>Bitcoin News</td>\n      <td>#RobertKiyosaki has warned that the #realestat...</td>\n      <td>[RobertKiyosaki, realestate]</td>\n      <td></td>\n      <td></td>\n      <td>1686441762</td>\n      <td></td>\n      <td>3367334171</td>\n      <td>103</td>\n      <td>Tweet</td>\n      <td>1667683741764911107</td>\n      <td>335</td>\n      <td>{'neg': 0.317, 'neu': 0.683, 'pos': 0.0, 'comp...</td>\n    </tr>\n    <tr>\n      <th>3</th>\n      <td>FALSE</td>\n      <td>[https:\\/\\/t.co\\/QPtUVL7efY]</td>\n      <td>Bitcoin News</td>\n      <td>#Bitcoin is still the market leader with a mar...</td>\n      <td>[Bitcoin, crypto]</td>\n      <td></td>\n      <td></td>\n      <td>1686434530</td>\n      <td></td>\n      <td>3367334171</td>\n      <td>147</td>\n      <td>Tweet</td>\n      <td>1667653407039954945</td>\n      <td>442</td>\n      <td>{'neg': 0.0, 'neu': 1.0, 'pos': 0.0, 'compound...</td>\n    </tr>\n    <tr>\n      <th>4</th>\n      <td>FALSE</td>\n      <td>[https:\\/\\/t.co\\/RAV5OkqQ5U]</td>\n      <td>Bitcoin News</td>\n      <td>In our experiment, we asked six popular AI cha...</td>\n      <td>[bitcoin]</td>\n      <td></td>\n      <td></td>\n      <td>1686427551</td>\n      <td></td>\n      <td>3367334171</td>\n      <td>42</td>\n      <td>Tweet</td>\n      <td>1667624133633486848</td>\n      <td>160</td>\n      <td>{'neg': 0.0, 'neu': 0.859, 'pos': 0.141, 'comp...</td>\n    </tr>\n    <tr>\n      <th>...</th>\n      <td>...</td>\n      <td>...</td>\n      <td>...</td>\n      <td>...</td>\n      <td>...</td>\n      <td>...</td>\n      <td>...</td>\n      <td>...</td>\n      <td>...</td>\n      <td>...</td>\n      <td>...</td>\n      <td>...</td>\n      <td>...</td>\n      <td>...</td>\n      <td>...</td>\n    </tr>\n    <tr>\n      <th>595</th>\n      <td>FALSE</td>\n      <td>[https:\\/\\/t.co\\/2BA7mcy5tT]</td>\n      <td>Bitcoin News</td>\n      <td>The long queue of #bitcoin transactions is fin...</td>\n      <td>[bitcoin]</td>\n      <td></td>\n      <td></td>\n      <td>1684078646</td>\n      <td></td>\n      <td>3367334171</td>\n      <td>39</td>\n      <td>Tweet</td>\n      <td>1657772112612925440</td>\n      <td>122</td>\n      <td>{'neg': 0.0, 'neu': 1.0, 'pos': 0.0, 'compound...</td>\n    </tr>\n    <tr>\n      <th>596</th>\n      <td>FALSE</td>\n      <td>[https:\\/\\/t.co\\/Aos4VEs9xY]</td>\n      <td>Bitcoin News</td>\n      <td>Twitter CEO Elon Musk has shared what he calls...</td>\n      <td>[bank]</td>\n      <td></td>\n      <td></td>\n      <td>1684071609</td>\n      <td></td>\n      <td>3367334171</td>\n      <td>62</td>\n      <td>Tweet</td>\n      <td>1657742598457393160</td>\n      <td>174</td>\n      <td>{'neg': 0.0, 'neu': 0.786, 'pos': 0.214, 'comp...</td>\n    </tr>\n    <tr>\n      <th>597</th>\n      <td>FALSE</td>\n      <td>[https:\\/\\/t.co\\/ibgntEQHvz]</td>\n      <td>Bitcoin News</td>\n      <td>The banking giant also warned that its already...</td>\n      <td>[current]</td>\n      <td></td>\n      <td></td>\n      <td>1684069694</td>\n      <td></td>\n      <td>3367334171</td>\n      <td>17</td>\n      <td>Tweet</td>\n      <td>1657734564792475648</td>\n      <td>79</td>\n      <td>{'neg': 0.235, 'neu': 0.765, 'pos': 0.0, 'comp...</td>\n    </tr>\n    <tr>\n      <th>598</th>\n      <td>FALSE</td>\n      <td>[https:\\/\\/t.co\\/92fm1JcVQ9]</td>\n      <td>Bitcoin News</td>\n      <td>\"The future of digital payments lies in #Web3 ...</td>\n      <td>[Web3, cryptopayments, blockchain]</td>\n      <td></td>\n      <td></td>\n      <td>1684065896</td>\n      <td></td>\n      <td>3367334171</td>\n      <td>55</td>\n      <td>Tweet</td>\n      <td>1657718634695860224</td>\n      <td>200</td>\n      <td>{'neg': 0.167, 'neu': 0.833, 'pos': 0.0, 'comp...</td>\n    </tr>\n    <tr>\n      <th>599</th>\n      <td>FALSE</td>\n      <td>[https:\\/\\/t.co\\/7jzqj660tu]</td>\n      <td>Bitcoin News</td>\n      <td>\"We commit to encourage the use of local curre...</td>\n      <td>[ASEAN]</td>\n      <td></td>\n      <td></td>\n      <td>1684062530</td>\n      <td></td>\n      <td>3367334171</td>\n      <td>37</td>\n      <td>Tweet</td>\n      <td>1657704519889833990</td>\n      <td>149</td>\n      <td>{'neg': 0.0, 'neu': 0.744, 'pos': 0.256, 'comp...</td>\n    </tr>\n  </tbody>\n</table>\n<p>600 rows × 15 columns</p>\n</div>"
     },
     "execution_count": 63,
     "metadata": {},
     "output_type": "execute_result"
    }
   ],
   "source": [
    "df['scores'] = df['text'].apply(lambda text: sid.polarity_scores(text))\n",
    "df"
   ],
   "metadata": {
    "collapsed": false,
    "ExecuteTime": {
     "end_time": "2023-06-11T15:47:41.896458Z",
     "start_time": "2023-06-11T15:47:41.785305Z"
    }
   }
  },
  {
   "cell_type": "code",
   "execution_count": 64,
   "outputs": [
    {
     "data": {
      "text/plain": "  re_tweeter                         links        author  \\\n0      FALSE  [https:\\/\\/t.co\\/WoNUckCbnX]  Bitcoin News   \n1      FALSE  [https:\\/\\/t.co\\/8Kz1gnbtjW]  Bitcoin News   \n2      FALSE  [https:\\/\\/t.co\\/yrIK8nWlI9]  Bitcoin News   \n3      FALSE  [https:\\/\\/t.co\\/QPtUVL7efY]  Bitcoin News   \n4      FALSE  [https:\\/\\/t.co\\/RAV5OkqQ5U]  Bitcoin News   \n\n                                                text  \\\n0  Russia’s second-largest bank’s chairman has pr...   \n1  #PeterSchiff says the #FederalReserve destroye...   \n2  #RobertKiyosaki has warned that the #realestat...   \n3  #Bitcoin is still the market leader with a mar...   \n4  In our experiment, we asked six popular AI cha...   \n\n                                       hashtags reply_count associated_tweet  \\\n0                                        [yuan]                                \n1  [PeterSchiff, FederalReserve, bankingsystem]                                \n2                  [RobertKiyosaki, realestate]                                \n3                             [Bitcoin, crypto]                                \n4                                     [bitcoin]                                \n\n    timestamp mentions   author_id  retweet_count   type                   id  \\\n0  1686456317           3367334171             46  Tweet  1667744788202790912   \n1  1686449046           3367334171             64  Tweet  1667714292605435905   \n2  1686441762           3367334171            103  Tweet  1667683741764911107   \n3  1686434530           3367334171            147  Tweet  1667653407039954945   \n4  1686427551           3367334171             42  Tweet  1667624133633486848   \n\n   favorite_count                                             scores  compound  \n0             141  {'neg': 0.0, 'neu': 0.899, 'pos': 0.101, 'comp...    0.2023  \n1             195  {'neg': 0.318, 'neu': 0.682, 'pos': 0.0, 'comp...   -0.6808  \n2             335  {'neg': 0.317, 'neu': 0.683, 'pos': 0.0, 'comp...   -0.7845  \n3             442  {'neg': 0.0, 'neu': 1.0, 'pos': 0.0, 'compound...    0.0000  \n4             160  {'neg': 0.0, 'neu': 0.859, 'pos': 0.141, 'comp...    0.4215  ",
      "text/html": "<div>\n<style scoped>\n    .dataframe tbody tr th:only-of-type {\n        vertical-align: middle;\n    }\n\n    .dataframe tbody tr th {\n        vertical-align: top;\n    }\n\n    .dataframe thead th {\n        text-align: right;\n    }\n</style>\n<table border=\"1\" class=\"dataframe\">\n  <thead>\n    <tr style=\"text-align: right;\">\n      <th></th>\n      <th>re_tweeter</th>\n      <th>links</th>\n      <th>author</th>\n      <th>text</th>\n      <th>hashtags</th>\n      <th>reply_count</th>\n      <th>associated_tweet</th>\n      <th>timestamp</th>\n      <th>mentions</th>\n      <th>author_id</th>\n      <th>retweet_count</th>\n      <th>type</th>\n      <th>id</th>\n      <th>favorite_count</th>\n      <th>scores</th>\n      <th>compound</th>\n    </tr>\n  </thead>\n  <tbody>\n    <tr>\n      <th>0</th>\n      <td>FALSE</td>\n      <td>[https:\\/\\/t.co\\/WoNUckCbnX]</td>\n      <td>Bitcoin News</td>\n      <td>Russia’s second-largest bank’s chairman has pr...</td>\n      <td>[yuan]</td>\n      <td></td>\n      <td></td>\n      <td>1686456317</td>\n      <td></td>\n      <td>3367334171</td>\n      <td>46</td>\n      <td>Tweet</td>\n      <td>1667744788202790912</td>\n      <td>141</td>\n      <td>{'neg': 0.0, 'neu': 0.899, 'pos': 0.101, 'comp...</td>\n      <td>0.2023</td>\n    </tr>\n    <tr>\n      <th>1</th>\n      <td>FALSE</td>\n      <td>[https:\\/\\/t.co\\/8Kz1gnbtjW]</td>\n      <td>Bitcoin News</td>\n      <td>#PeterSchiff says the #FederalReserve destroye...</td>\n      <td>[PeterSchiff, FederalReserve, bankingsystem]</td>\n      <td></td>\n      <td></td>\n      <td>1686449046</td>\n      <td></td>\n      <td>3367334171</td>\n      <td>64</td>\n      <td>Tweet</td>\n      <td>1667714292605435905</td>\n      <td>195</td>\n      <td>{'neg': 0.318, 'neu': 0.682, 'pos': 0.0, 'comp...</td>\n      <td>-0.6808</td>\n    </tr>\n    <tr>\n      <th>2</th>\n      <td>FALSE</td>\n      <td>[https:\\/\\/t.co\\/yrIK8nWlI9]</td>\n      <td>Bitcoin News</td>\n      <td>#RobertKiyosaki has warned that the #realestat...</td>\n      <td>[RobertKiyosaki, realestate]</td>\n      <td></td>\n      <td></td>\n      <td>1686441762</td>\n      <td></td>\n      <td>3367334171</td>\n      <td>103</td>\n      <td>Tweet</td>\n      <td>1667683741764911107</td>\n      <td>335</td>\n      <td>{'neg': 0.317, 'neu': 0.683, 'pos': 0.0, 'comp...</td>\n      <td>-0.7845</td>\n    </tr>\n    <tr>\n      <th>3</th>\n      <td>FALSE</td>\n      <td>[https:\\/\\/t.co\\/QPtUVL7efY]</td>\n      <td>Bitcoin News</td>\n      <td>#Bitcoin is still the market leader with a mar...</td>\n      <td>[Bitcoin, crypto]</td>\n      <td></td>\n      <td></td>\n      <td>1686434530</td>\n      <td></td>\n      <td>3367334171</td>\n      <td>147</td>\n      <td>Tweet</td>\n      <td>1667653407039954945</td>\n      <td>442</td>\n      <td>{'neg': 0.0, 'neu': 1.0, 'pos': 0.0, 'compound...</td>\n      <td>0.0000</td>\n    </tr>\n    <tr>\n      <th>4</th>\n      <td>FALSE</td>\n      <td>[https:\\/\\/t.co\\/RAV5OkqQ5U]</td>\n      <td>Bitcoin News</td>\n      <td>In our experiment, we asked six popular AI cha...</td>\n      <td>[bitcoin]</td>\n      <td></td>\n      <td></td>\n      <td>1686427551</td>\n      <td></td>\n      <td>3367334171</td>\n      <td>42</td>\n      <td>Tweet</td>\n      <td>1667624133633486848</td>\n      <td>160</td>\n      <td>{'neg': 0.0, 'neu': 0.859, 'pos': 0.141, 'comp...</td>\n      <td>0.4215</td>\n    </tr>\n  </tbody>\n</table>\n</div>"
     },
     "execution_count": 64,
     "metadata": {},
     "output_type": "execute_result"
    }
   ],
   "source": [
    "df['compound']  = df['scores'].apply(lambda score_dict: score_dict['compound'])\n",
    "\n",
    "df.head()"
   ],
   "metadata": {
    "collapsed": false,
    "ExecuteTime": {
     "end_time": "2023-06-11T15:47:46.597190Z",
     "start_time": "2023-06-11T15:47:46.587553Z"
    }
   }
  },
  {
   "cell_type": "code",
   "execution_count": 65,
   "outputs": [
    {
     "data": {
      "text/plain": "  re_tweeter                         links        author  \\\n0      FALSE  [https:\\/\\/t.co\\/WoNUckCbnX]  Bitcoin News   \n1      FALSE  [https:\\/\\/t.co\\/8Kz1gnbtjW]  Bitcoin News   \n2      FALSE  [https:\\/\\/t.co\\/yrIK8nWlI9]  Bitcoin News   \n3      FALSE  [https:\\/\\/t.co\\/QPtUVL7efY]  Bitcoin News   \n4      FALSE  [https:\\/\\/t.co\\/RAV5OkqQ5U]  Bitcoin News   \n\n                                                text  \\\n0  Russia’s second-largest bank’s chairman has pr...   \n1  #PeterSchiff says the #FederalReserve destroye...   \n2  #RobertKiyosaki has warned that the #realestat...   \n3  #Bitcoin is still the market leader with a mar...   \n4  In our experiment, we asked six popular AI cha...   \n\n                                       hashtags reply_count associated_tweet  \\\n0                                        [yuan]                                \n1  [PeterSchiff, FederalReserve, bankingsystem]                                \n2                  [RobertKiyosaki, realestate]                                \n3                             [Bitcoin, crypto]                                \n4                                     [bitcoin]                                \n\n    timestamp mentions   author_id  retweet_count   type                   id  \\\n0  1686456317           3367334171             46  Tweet  1667744788202790912   \n1  1686449046           3367334171             64  Tweet  1667714292605435905   \n2  1686441762           3367334171            103  Tweet  1667683741764911107   \n3  1686434530           3367334171            147  Tweet  1667653407039954945   \n4  1686427551           3367334171             42  Tweet  1667624133633486848   \n\n   favorite_count                                             scores  \\\n0             141  {'neg': 0.0, 'neu': 0.899, 'pos': 0.101, 'comp...   \n1             195  {'neg': 0.318, 'neu': 0.682, 'pos': 0.0, 'comp...   \n2             335  {'neg': 0.317, 'neu': 0.683, 'pos': 0.0, 'comp...   \n3             442  {'neg': 0.0, 'neu': 1.0, 'pos': 0.0, 'compound...   \n4             160  {'neg': 0.0, 'neu': 0.859, 'pos': 0.141, 'comp...   \n\n   compound comp_score  \n0    0.2023        pos  \n1   -0.6808        neg  \n2   -0.7845        neg  \n3    0.0000        pos  \n4    0.4215        pos  ",
      "text/html": "<div>\n<style scoped>\n    .dataframe tbody tr th:only-of-type {\n        vertical-align: middle;\n    }\n\n    .dataframe tbody tr th {\n        vertical-align: top;\n    }\n\n    .dataframe thead th {\n        text-align: right;\n    }\n</style>\n<table border=\"1\" class=\"dataframe\">\n  <thead>\n    <tr style=\"text-align: right;\">\n      <th></th>\n      <th>re_tweeter</th>\n      <th>links</th>\n      <th>author</th>\n      <th>text</th>\n      <th>hashtags</th>\n      <th>reply_count</th>\n      <th>associated_tweet</th>\n      <th>timestamp</th>\n      <th>mentions</th>\n      <th>author_id</th>\n      <th>retweet_count</th>\n      <th>type</th>\n      <th>id</th>\n      <th>favorite_count</th>\n      <th>scores</th>\n      <th>compound</th>\n      <th>comp_score</th>\n    </tr>\n  </thead>\n  <tbody>\n    <tr>\n      <th>0</th>\n      <td>FALSE</td>\n      <td>[https:\\/\\/t.co\\/WoNUckCbnX]</td>\n      <td>Bitcoin News</td>\n      <td>Russia’s second-largest bank’s chairman has pr...</td>\n      <td>[yuan]</td>\n      <td></td>\n      <td></td>\n      <td>1686456317</td>\n      <td></td>\n      <td>3367334171</td>\n      <td>46</td>\n      <td>Tweet</td>\n      <td>1667744788202790912</td>\n      <td>141</td>\n      <td>{'neg': 0.0, 'neu': 0.899, 'pos': 0.101, 'comp...</td>\n      <td>0.2023</td>\n      <td>pos</td>\n    </tr>\n    <tr>\n      <th>1</th>\n      <td>FALSE</td>\n      <td>[https:\\/\\/t.co\\/8Kz1gnbtjW]</td>\n      <td>Bitcoin News</td>\n      <td>#PeterSchiff says the #FederalReserve destroye...</td>\n      <td>[PeterSchiff, FederalReserve, bankingsystem]</td>\n      <td></td>\n      <td></td>\n      <td>1686449046</td>\n      <td></td>\n      <td>3367334171</td>\n      <td>64</td>\n      <td>Tweet</td>\n      <td>1667714292605435905</td>\n      <td>195</td>\n      <td>{'neg': 0.318, 'neu': 0.682, 'pos': 0.0, 'comp...</td>\n      <td>-0.6808</td>\n      <td>neg</td>\n    </tr>\n    <tr>\n      <th>2</th>\n      <td>FALSE</td>\n      <td>[https:\\/\\/t.co\\/yrIK8nWlI9]</td>\n      <td>Bitcoin News</td>\n      <td>#RobertKiyosaki has warned that the #realestat...</td>\n      <td>[RobertKiyosaki, realestate]</td>\n      <td></td>\n      <td></td>\n      <td>1686441762</td>\n      <td></td>\n      <td>3367334171</td>\n      <td>103</td>\n      <td>Tweet</td>\n      <td>1667683741764911107</td>\n      <td>335</td>\n      <td>{'neg': 0.317, 'neu': 0.683, 'pos': 0.0, 'comp...</td>\n      <td>-0.7845</td>\n      <td>neg</td>\n    </tr>\n    <tr>\n      <th>3</th>\n      <td>FALSE</td>\n      <td>[https:\\/\\/t.co\\/QPtUVL7efY]</td>\n      <td>Bitcoin News</td>\n      <td>#Bitcoin is still the market leader with a mar...</td>\n      <td>[Bitcoin, crypto]</td>\n      <td></td>\n      <td></td>\n      <td>1686434530</td>\n      <td></td>\n      <td>3367334171</td>\n      <td>147</td>\n      <td>Tweet</td>\n      <td>1667653407039954945</td>\n      <td>442</td>\n      <td>{'neg': 0.0, 'neu': 1.0, 'pos': 0.0, 'compound...</td>\n      <td>0.0000</td>\n      <td>pos</td>\n    </tr>\n    <tr>\n      <th>4</th>\n      <td>FALSE</td>\n      <td>[https:\\/\\/t.co\\/RAV5OkqQ5U]</td>\n      <td>Bitcoin News</td>\n      <td>In our experiment, we asked six popular AI cha...</td>\n      <td>[bitcoin]</td>\n      <td></td>\n      <td></td>\n      <td>1686427551</td>\n      <td></td>\n      <td>3367334171</td>\n      <td>42</td>\n      <td>Tweet</td>\n      <td>1667624133633486848</td>\n      <td>160</td>\n      <td>{'neg': 0.0, 'neu': 0.859, 'pos': 0.141, 'comp...</td>\n      <td>0.4215</td>\n      <td>pos</td>\n    </tr>\n  </tbody>\n</table>\n</div>"
     },
     "execution_count": 65,
     "metadata": {},
     "output_type": "execute_result"
    }
   ],
   "source": [
    "df['comp_score'] = df['compound'].apply(lambda c: 'pos' if c >=0 else 'neg')\n",
    "\n",
    "df.head()"
   ],
   "metadata": {
    "collapsed": false,
    "ExecuteTime": {
     "end_time": "2023-06-11T15:47:47.686983Z",
     "start_time": "2023-06-11T15:47:47.680064Z"
    }
   }
  },
  {
   "cell_type": "code",
   "execution_count": 66,
   "outputs": [
    {
     "data": {
      "text/plain": "Index(['re_tweeter', 'links', 'author', 'text', 'hashtags', 'reply_count',\n       'associated_tweet', 'timestamp', 'mentions', 'author_id',\n       'retweet_count', 'type', 'id', 'favorite_count', 'scores', 'compound',\n       'comp_score'],\n      dtype='object')"
     },
     "execution_count": 66,
     "metadata": {},
     "output_type": "execute_result"
    }
   ],
   "source": [
    "df.columns"
   ],
   "metadata": {
    "collapsed": false,
    "ExecuteTime": {
     "end_time": "2023-06-11T15:47:50.205810Z",
     "start_time": "2023-06-11T15:47:50.195170Z"
    }
   }
  },
  {
   "cell_type": "code",
   "execution_count": 67,
   "outputs": [
    {
     "data": {
      "text/plain": "                                                  text   timestamp  \\\n0    Russia’s second-largest bank’s chairman has pr...  1686456317   \n1    #PeterSchiff says the #FederalReserve destroye...  1686449046   \n2    #RobertKiyosaki has warned that the #realestat...  1686441762   \n3    #Bitcoin is still the market leader with a mar...  1686434530   \n4    In our experiment, we asked six popular AI cha...  1686427551   \n..                                                 ...         ...   \n595  The long queue of #bitcoin transactions is fin...  1684078646   \n596  Twitter CEO Elon Musk has shared what he calls...  1684071609   \n597  The banking giant also warned that its already...  1684069694   \n598  \"The future of digital payments lies in #Web3 ...  1684065896   \n599  \"We commit to encourage the use of local curre...  1684062530   \n\n                                                scores  compound comp_score  \n0    {'neg': 0.0, 'neu': 0.899, 'pos': 0.101, 'comp...    0.2023        pos  \n1    {'neg': 0.318, 'neu': 0.682, 'pos': 0.0, 'comp...   -0.6808        neg  \n2    {'neg': 0.317, 'neu': 0.683, 'pos': 0.0, 'comp...   -0.7845        neg  \n3    {'neg': 0.0, 'neu': 1.0, 'pos': 0.0, 'compound...    0.0000        pos  \n4    {'neg': 0.0, 'neu': 0.859, 'pos': 0.141, 'comp...    0.4215        pos  \n..                                                 ...       ...        ...  \n595  {'neg': 0.0, 'neu': 1.0, 'pos': 0.0, 'compound...    0.0000        pos  \n596  {'neg': 0.0, 'neu': 0.786, 'pos': 0.214, 'comp...    0.5994        pos  \n597  {'neg': 0.235, 'neu': 0.765, 'pos': 0.0, 'comp...   -0.5574        neg  \n598  {'neg': 0.167, 'neu': 0.833, 'pos': 0.0, 'comp...   -0.4215        neg  \n599  {'neg': 0.0, 'neu': 0.744, 'pos': 0.256, 'comp...    0.6705        pos  \n\n[600 rows x 5 columns]",
      "text/html": "<div>\n<style scoped>\n    .dataframe tbody tr th:only-of-type {\n        vertical-align: middle;\n    }\n\n    .dataframe tbody tr th {\n        vertical-align: top;\n    }\n\n    .dataframe thead th {\n        text-align: right;\n    }\n</style>\n<table border=\"1\" class=\"dataframe\">\n  <thead>\n    <tr style=\"text-align: right;\">\n      <th></th>\n      <th>text</th>\n      <th>timestamp</th>\n      <th>scores</th>\n      <th>compound</th>\n      <th>comp_score</th>\n    </tr>\n  </thead>\n  <tbody>\n    <tr>\n      <th>0</th>\n      <td>Russia’s second-largest bank’s chairman has pr...</td>\n      <td>1686456317</td>\n      <td>{'neg': 0.0, 'neu': 0.899, 'pos': 0.101, 'comp...</td>\n      <td>0.2023</td>\n      <td>pos</td>\n    </tr>\n    <tr>\n      <th>1</th>\n      <td>#PeterSchiff says the #FederalReserve destroye...</td>\n      <td>1686449046</td>\n      <td>{'neg': 0.318, 'neu': 0.682, 'pos': 0.0, 'comp...</td>\n      <td>-0.6808</td>\n      <td>neg</td>\n    </tr>\n    <tr>\n      <th>2</th>\n      <td>#RobertKiyosaki has warned that the #realestat...</td>\n      <td>1686441762</td>\n      <td>{'neg': 0.317, 'neu': 0.683, 'pos': 0.0, 'comp...</td>\n      <td>-0.7845</td>\n      <td>neg</td>\n    </tr>\n    <tr>\n      <th>3</th>\n      <td>#Bitcoin is still the market leader with a mar...</td>\n      <td>1686434530</td>\n      <td>{'neg': 0.0, 'neu': 1.0, 'pos': 0.0, 'compound...</td>\n      <td>0.0000</td>\n      <td>pos</td>\n    </tr>\n    <tr>\n      <th>4</th>\n      <td>In our experiment, we asked six popular AI cha...</td>\n      <td>1686427551</td>\n      <td>{'neg': 0.0, 'neu': 0.859, 'pos': 0.141, 'comp...</td>\n      <td>0.4215</td>\n      <td>pos</td>\n    </tr>\n    <tr>\n      <th>...</th>\n      <td>...</td>\n      <td>...</td>\n      <td>...</td>\n      <td>...</td>\n      <td>...</td>\n    </tr>\n    <tr>\n      <th>595</th>\n      <td>The long queue of #bitcoin transactions is fin...</td>\n      <td>1684078646</td>\n      <td>{'neg': 0.0, 'neu': 1.0, 'pos': 0.0, 'compound...</td>\n      <td>0.0000</td>\n      <td>pos</td>\n    </tr>\n    <tr>\n      <th>596</th>\n      <td>Twitter CEO Elon Musk has shared what he calls...</td>\n      <td>1684071609</td>\n      <td>{'neg': 0.0, 'neu': 0.786, 'pos': 0.214, 'comp...</td>\n      <td>0.5994</td>\n      <td>pos</td>\n    </tr>\n    <tr>\n      <th>597</th>\n      <td>The banking giant also warned that its already...</td>\n      <td>1684069694</td>\n      <td>{'neg': 0.235, 'neu': 0.765, 'pos': 0.0, 'comp...</td>\n      <td>-0.5574</td>\n      <td>neg</td>\n    </tr>\n    <tr>\n      <th>598</th>\n      <td>\"The future of digital payments lies in #Web3 ...</td>\n      <td>1684065896</td>\n      <td>{'neg': 0.167, 'neu': 0.833, 'pos': 0.0, 'comp...</td>\n      <td>-0.4215</td>\n      <td>neg</td>\n    </tr>\n    <tr>\n      <th>599</th>\n      <td>\"We commit to encourage the use of local curre...</td>\n      <td>1684062530</td>\n      <td>{'neg': 0.0, 'neu': 0.744, 'pos': 0.256, 'comp...</td>\n      <td>0.6705</td>\n      <td>pos</td>\n    </tr>\n  </tbody>\n</table>\n<p>600 rows × 5 columns</p>\n</div>"
     },
     "execution_count": 67,
     "metadata": {},
     "output_type": "execute_result"
    }
   ],
   "source": [
    "df.drop(columns=['re_tweeter', 'links', 'author', 'associated_tweet', 'hashtags', 'reply_count', 'mentions', 'author_id', 'retweet_count', 'type', 'id', 'favorite_count'], inplace=True)\n",
    "df"
   ],
   "metadata": {
    "collapsed": false,
    "ExecuteTime": {
     "end_time": "2023-06-11T15:47:53.042520Z",
     "start_time": "2023-06-11T15:47:52.926776Z"
    }
   }
  },
  {
   "cell_type": "code",
   "execution_count": 68,
   "outputs": [
    {
     "data": {
      "text/plain": "                                                  text   timestamp  \\\n0    Russia’s second-largest bank’s chairman has pr...  1686456317   \n1    #PeterSchiff says the #FederalReserve destroye...  1686449046   \n2    #RobertKiyosaki has warned that the #realestat...  1686441762   \n3    #Bitcoin is still the market leader with a mar...  1686434530   \n4    In our experiment, we asked six popular AI cha...  1686427551   \n..                                                 ...         ...   \n595  The long queue of #bitcoin transactions is fin...  1684078646   \n596  Twitter CEO Elon Musk has shared what he calls...  1684071609   \n597  The banking giant also warned that its already...  1684069694   \n598  \"The future of digital payments lies in #Web3 ...  1684065896   \n599  \"We commit to encourage the use of local curre...  1684062530   \n\n                                                scores  compound comp_score  \\\n0    {'neg': 0.0, 'neu': 0.899, 'pos': 0.101, 'comp...    0.2023        pos   \n1    {'neg': 0.318, 'neu': 0.682, 'pos': 0.0, 'comp...   -0.6808        neg   \n2    {'neg': 0.317, 'neu': 0.683, 'pos': 0.0, 'comp...   -0.7845        neg   \n3    {'neg': 0.0, 'neu': 1.0, 'pos': 0.0, 'compound...    0.0000        pos   \n4    {'neg': 0.0, 'neu': 0.859, 'pos': 0.141, 'comp...    0.4215        pos   \n..                                                 ...       ...        ...   \n595  {'neg': 0.0, 'neu': 1.0, 'pos': 0.0, 'compound...    0.0000        pos   \n596  {'neg': 0.0, 'neu': 0.786, 'pos': 0.214, 'comp...    0.5994        pos   \n597  {'neg': 0.235, 'neu': 0.765, 'pos': 0.0, 'comp...   -0.5574        neg   \n598  {'neg': 0.167, 'neu': 0.833, 'pos': 0.0, 'comp...   -0.4215        neg   \n599  {'neg': 0.0, 'neu': 0.744, 'pos': 0.256, 'comp...    0.6705        pos   \n\n                    time  \n0    2023-06-11 04:00:00  \n1    2023-06-11 02:00:00  \n2    2023-06-11 00:00:00  \n3    2023-06-10 22:00:00  \n4    2023-06-10 20:00:00  \n..                   ...  \n595  2023-05-14 15:00:00  \n596  2023-05-14 13:00:00  \n597  2023-05-14 13:00:00  \n598  2023-05-14 12:00:00  \n599  2023-05-14 11:00:00  \n\n[600 rows x 6 columns]",
      "text/html": "<div>\n<style scoped>\n    .dataframe tbody tr th:only-of-type {\n        vertical-align: middle;\n    }\n\n    .dataframe tbody tr th {\n        vertical-align: top;\n    }\n\n    .dataframe thead th {\n        text-align: right;\n    }\n</style>\n<table border=\"1\" class=\"dataframe\">\n  <thead>\n    <tr style=\"text-align: right;\">\n      <th></th>\n      <th>text</th>\n      <th>timestamp</th>\n      <th>scores</th>\n      <th>compound</th>\n      <th>comp_score</th>\n      <th>time</th>\n    </tr>\n  </thead>\n  <tbody>\n    <tr>\n      <th>0</th>\n      <td>Russia’s second-largest bank’s chairman has pr...</td>\n      <td>1686456317</td>\n      <td>{'neg': 0.0, 'neu': 0.899, 'pos': 0.101, 'comp...</td>\n      <td>0.2023</td>\n      <td>pos</td>\n      <td>2023-06-11 04:00:00</td>\n    </tr>\n    <tr>\n      <th>1</th>\n      <td>#PeterSchiff says the #FederalReserve destroye...</td>\n      <td>1686449046</td>\n      <td>{'neg': 0.318, 'neu': 0.682, 'pos': 0.0, 'comp...</td>\n      <td>-0.6808</td>\n      <td>neg</td>\n      <td>2023-06-11 02:00:00</td>\n    </tr>\n    <tr>\n      <th>2</th>\n      <td>#RobertKiyosaki has warned that the #realestat...</td>\n      <td>1686441762</td>\n      <td>{'neg': 0.317, 'neu': 0.683, 'pos': 0.0, 'comp...</td>\n      <td>-0.7845</td>\n      <td>neg</td>\n      <td>2023-06-11 00:00:00</td>\n    </tr>\n    <tr>\n      <th>3</th>\n      <td>#Bitcoin is still the market leader with a mar...</td>\n      <td>1686434530</td>\n      <td>{'neg': 0.0, 'neu': 1.0, 'pos': 0.0, 'compound...</td>\n      <td>0.0000</td>\n      <td>pos</td>\n      <td>2023-06-10 22:00:00</td>\n    </tr>\n    <tr>\n      <th>4</th>\n      <td>In our experiment, we asked six popular AI cha...</td>\n      <td>1686427551</td>\n      <td>{'neg': 0.0, 'neu': 0.859, 'pos': 0.141, 'comp...</td>\n      <td>0.4215</td>\n      <td>pos</td>\n      <td>2023-06-10 20:00:00</td>\n    </tr>\n    <tr>\n      <th>...</th>\n      <td>...</td>\n      <td>...</td>\n      <td>...</td>\n      <td>...</td>\n      <td>...</td>\n      <td>...</td>\n    </tr>\n    <tr>\n      <th>595</th>\n      <td>The long queue of #bitcoin transactions is fin...</td>\n      <td>1684078646</td>\n      <td>{'neg': 0.0, 'neu': 1.0, 'pos': 0.0, 'compound...</td>\n      <td>0.0000</td>\n      <td>pos</td>\n      <td>2023-05-14 15:00:00</td>\n    </tr>\n    <tr>\n      <th>596</th>\n      <td>Twitter CEO Elon Musk has shared what he calls...</td>\n      <td>1684071609</td>\n      <td>{'neg': 0.0, 'neu': 0.786, 'pos': 0.214, 'comp...</td>\n      <td>0.5994</td>\n      <td>pos</td>\n      <td>2023-05-14 13:00:00</td>\n    </tr>\n    <tr>\n      <th>597</th>\n      <td>The banking giant also warned that its already...</td>\n      <td>1684069694</td>\n      <td>{'neg': 0.235, 'neu': 0.765, 'pos': 0.0, 'comp...</td>\n      <td>-0.5574</td>\n      <td>neg</td>\n      <td>2023-05-14 13:00:00</td>\n    </tr>\n    <tr>\n      <th>598</th>\n      <td>\"The future of digital payments lies in #Web3 ...</td>\n      <td>1684065896</td>\n      <td>{'neg': 0.167, 'neu': 0.833, 'pos': 0.0, 'comp...</td>\n      <td>-0.4215</td>\n      <td>neg</td>\n      <td>2023-05-14 12:00:00</td>\n    </tr>\n    <tr>\n      <th>599</th>\n      <td>\"We commit to encourage the use of local curre...</td>\n      <td>1684062530</td>\n      <td>{'neg': 0.0, 'neu': 0.744, 'pos': 0.256, 'comp...</td>\n      <td>0.6705</td>\n      <td>pos</td>\n      <td>2023-05-14 11:00:00</td>\n    </tr>\n  </tbody>\n</table>\n<p>600 rows × 6 columns</p>\n</div>"
     },
     "execution_count": 68,
     "metadata": {},
     "output_type": "execute_result"
    }
   ],
   "source": [
    "df['time'] = df['timestamp'].apply(lambda t: str(datetime.utcfromtimestamp(t).strftime('%Y-%m-%d %H'))) + \":00:00\"\n",
    "df"
   ],
   "metadata": {
    "collapsed": false,
    "ExecuteTime": {
     "end_time": "2023-06-11T15:47:59.669030Z",
     "start_time": "2023-06-11T15:47:59.643722Z"
    }
   }
  },
  {
   "cell_type": "code",
   "execution_count": 69,
   "outputs": [
    {
     "data": {
      "text/plain": "                                                                  text  \\\ntime                                                                     \n2023-06-11 04:00:00  Russia’s second-largest bank’s chairman has pr...   \n2023-06-11 02:00:00  #PeterSchiff says the #FederalReserve destroye...   \n2023-06-11 00:00:00  #RobertKiyosaki has warned that the #realestat...   \n2023-06-10 22:00:00  #Bitcoin is still the market leader with a mar...   \n2023-06-10 20:00:00  In our experiment, we asked six popular AI cha...   \n...                                                                ...   \n2023-05-14 15:00:00  The long queue of #bitcoin transactions is fin...   \n2023-05-14 13:00:00  Twitter CEO Elon Musk has shared what he calls...   \n2023-05-14 13:00:00  The banking giant also warned that its already...   \n2023-05-14 12:00:00  \"The future of digital payments lies in #Web3 ...   \n2023-05-14 11:00:00  \"We commit to encourage the use of local curre...   \n\n                      timestamp  \\\ntime                              \n2023-06-11 04:00:00  1686456317   \n2023-06-11 02:00:00  1686449046   \n2023-06-11 00:00:00  1686441762   \n2023-06-10 22:00:00  1686434530   \n2023-06-10 20:00:00  1686427551   \n...                         ...   \n2023-05-14 15:00:00  1684078646   \n2023-05-14 13:00:00  1684071609   \n2023-05-14 13:00:00  1684069694   \n2023-05-14 12:00:00  1684065896   \n2023-05-14 11:00:00  1684062530   \n\n                                                                scores  \\\ntime                                                                     \n2023-06-11 04:00:00  {'neg': 0.0, 'neu': 0.899, 'pos': 0.101, 'comp...   \n2023-06-11 02:00:00  {'neg': 0.318, 'neu': 0.682, 'pos': 0.0, 'comp...   \n2023-06-11 00:00:00  {'neg': 0.317, 'neu': 0.683, 'pos': 0.0, 'comp...   \n2023-06-10 22:00:00  {'neg': 0.0, 'neu': 1.0, 'pos': 0.0, 'compound...   \n2023-06-10 20:00:00  {'neg': 0.0, 'neu': 0.859, 'pos': 0.141, 'comp...   \n...                                                                ...   \n2023-05-14 15:00:00  {'neg': 0.0, 'neu': 1.0, 'pos': 0.0, 'compound...   \n2023-05-14 13:00:00  {'neg': 0.0, 'neu': 0.786, 'pos': 0.214, 'comp...   \n2023-05-14 13:00:00  {'neg': 0.235, 'neu': 0.765, 'pos': 0.0, 'comp...   \n2023-05-14 12:00:00  {'neg': 0.167, 'neu': 0.833, 'pos': 0.0, 'comp...   \n2023-05-14 11:00:00  {'neg': 0.0, 'neu': 0.744, 'pos': 0.256, 'comp...   \n\n                     compound comp_score  \ntime                                      \n2023-06-11 04:00:00    0.2023        pos  \n2023-06-11 02:00:00   -0.6808        neg  \n2023-06-11 00:00:00   -0.7845        neg  \n2023-06-10 22:00:00    0.0000        pos  \n2023-06-10 20:00:00    0.4215        pos  \n...                       ...        ...  \n2023-05-14 15:00:00    0.0000        pos  \n2023-05-14 13:00:00    0.5994        pos  \n2023-05-14 13:00:00   -0.5574        neg  \n2023-05-14 12:00:00   -0.4215        neg  \n2023-05-14 11:00:00    0.6705        pos  \n\n[600 rows x 5 columns]",
      "text/html": "<div>\n<style scoped>\n    .dataframe tbody tr th:only-of-type {\n        vertical-align: middle;\n    }\n\n    .dataframe tbody tr th {\n        vertical-align: top;\n    }\n\n    .dataframe thead th {\n        text-align: right;\n    }\n</style>\n<table border=\"1\" class=\"dataframe\">\n  <thead>\n    <tr style=\"text-align: right;\">\n      <th></th>\n      <th>text</th>\n      <th>timestamp</th>\n      <th>scores</th>\n      <th>compound</th>\n      <th>comp_score</th>\n    </tr>\n    <tr>\n      <th>time</th>\n      <th></th>\n      <th></th>\n      <th></th>\n      <th></th>\n      <th></th>\n    </tr>\n  </thead>\n  <tbody>\n    <tr>\n      <th>2023-06-11 04:00:00</th>\n      <td>Russia’s second-largest bank’s chairman has pr...</td>\n      <td>1686456317</td>\n      <td>{'neg': 0.0, 'neu': 0.899, 'pos': 0.101, 'comp...</td>\n      <td>0.2023</td>\n      <td>pos</td>\n    </tr>\n    <tr>\n      <th>2023-06-11 02:00:00</th>\n      <td>#PeterSchiff says the #FederalReserve destroye...</td>\n      <td>1686449046</td>\n      <td>{'neg': 0.318, 'neu': 0.682, 'pos': 0.0, 'comp...</td>\n      <td>-0.6808</td>\n      <td>neg</td>\n    </tr>\n    <tr>\n      <th>2023-06-11 00:00:00</th>\n      <td>#RobertKiyosaki has warned that the #realestat...</td>\n      <td>1686441762</td>\n      <td>{'neg': 0.317, 'neu': 0.683, 'pos': 0.0, 'comp...</td>\n      <td>-0.7845</td>\n      <td>neg</td>\n    </tr>\n    <tr>\n      <th>2023-06-10 22:00:00</th>\n      <td>#Bitcoin is still the market leader with a mar...</td>\n      <td>1686434530</td>\n      <td>{'neg': 0.0, 'neu': 1.0, 'pos': 0.0, 'compound...</td>\n      <td>0.0000</td>\n      <td>pos</td>\n    </tr>\n    <tr>\n      <th>2023-06-10 20:00:00</th>\n      <td>In our experiment, we asked six popular AI cha...</td>\n      <td>1686427551</td>\n      <td>{'neg': 0.0, 'neu': 0.859, 'pos': 0.141, 'comp...</td>\n      <td>0.4215</td>\n      <td>pos</td>\n    </tr>\n    <tr>\n      <th>...</th>\n      <td>...</td>\n      <td>...</td>\n      <td>...</td>\n      <td>...</td>\n      <td>...</td>\n    </tr>\n    <tr>\n      <th>2023-05-14 15:00:00</th>\n      <td>The long queue of #bitcoin transactions is fin...</td>\n      <td>1684078646</td>\n      <td>{'neg': 0.0, 'neu': 1.0, 'pos': 0.0, 'compound...</td>\n      <td>0.0000</td>\n      <td>pos</td>\n    </tr>\n    <tr>\n      <th>2023-05-14 13:00:00</th>\n      <td>Twitter CEO Elon Musk has shared what he calls...</td>\n      <td>1684071609</td>\n      <td>{'neg': 0.0, 'neu': 0.786, 'pos': 0.214, 'comp...</td>\n      <td>0.5994</td>\n      <td>pos</td>\n    </tr>\n    <tr>\n      <th>2023-05-14 13:00:00</th>\n      <td>The banking giant also warned that its already...</td>\n      <td>1684069694</td>\n      <td>{'neg': 0.235, 'neu': 0.765, 'pos': 0.0, 'comp...</td>\n      <td>-0.5574</td>\n      <td>neg</td>\n    </tr>\n    <tr>\n      <th>2023-05-14 12:00:00</th>\n      <td>\"The future of digital payments lies in #Web3 ...</td>\n      <td>1684065896</td>\n      <td>{'neg': 0.167, 'neu': 0.833, 'pos': 0.0, 'comp...</td>\n      <td>-0.4215</td>\n      <td>neg</td>\n    </tr>\n    <tr>\n      <th>2023-05-14 11:00:00</th>\n      <td>\"We commit to encourage the use of local curre...</td>\n      <td>1684062530</td>\n      <td>{'neg': 0.0, 'neu': 0.744, 'pos': 0.256, 'comp...</td>\n      <td>0.6705</td>\n      <td>pos</td>\n    </tr>\n  </tbody>\n</table>\n<p>600 rows × 5 columns</p>\n</div>"
     },
     "execution_count": 69,
     "metadata": {},
     "output_type": "execute_result"
    }
   ],
   "source": [
    "df.set_index(\"time\", inplace=True)\n",
    "df"
   ],
   "metadata": {
    "collapsed": false,
    "ExecuteTime": {
     "end_time": "2023-06-11T15:48:06.234679Z",
     "start_time": "2023-06-11T15:48:06.219316Z"
    }
   }
  },
  {
   "cell_type": "code",
   "execution_count": 70,
   "outputs": [
    {
     "data": {
      "text/plain": "                      timestamp  compound comp_score    neg    neu    pos\ntime                                                                     \n2023-06-11 04:00:00  1686456317    0.2023        pos  0.000  0.899  0.101\n2023-06-11 02:00:00  1686449046   -0.6808        neg  0.318  0.682  0.000\n2023-06-11 00:00:00  1686441762   -0.7845        neg  0.317  0.683  0.000\n2023-06-10 22:00:00  1686434530    0.0000        pos  0.000  1.000  0.000\n2023-06-10 20:00:00  1686427551    0.4215        pos  0.000  0.859  0.141\n...                         ...       ...        ...    ...    ...    ...\n2023-05-14 15:00:00  1684078646    0.0000        pos  0.000  1.000  0.000\n2023-05-14 13:00:00  1684071609    0.5994        pos  0.000  0.786  0.214\n2023-05-14 13:00:00  1684069694   -0.5574        neg  0.235  0.765  0.000\n2023-05-14 12:00:00  1684065896   -0.4215        neg  0.167  0.833  0.000\n2023-05-14 11:00:00  1684062530    0.6705        pos  0.000  0.744  0.256\n\n[600 rows x 6 columns]",
      "text/html": "<div>\n<style scoped>\n    .dataframe tbody tr th:only-of-type {\n        vertical-align: middle;\n    }\n\n    .dataframe tbody tr th {\n        vertical-align: top;\n    }\n\n    .dataframe thead th {\n        text-align: right;\n    }\n</style>\n<table border=\"1\" class=\"dataframe\">\n  <thead>\n    <tr style=\"text-align: right;\">\n      <th></th>\n      <th>timestamp</th>\n      <th>compound</th>\n      <th>comp_score</th>\n      <th>neg</th>\n      <th>neu</th>\n      <th>pos</th>\n    </tr>\n    <tr>\n      <th>time</th>\n      <th></th>\n      <th></th>\n      <th></th>\n      <th></th>\n      <th></th>\n      <th></th>\n    </tr>\n  </thead>\n  <tbody>\n    <tr>\n      <th>2023-06-11 04:00:00</th>\n      <td>1686456317</td>\n      <td>0.2023</td>\n      <td>pos</td>\n      <td>0.000</td>\n      <td>0.899</td>\n      <td>0.101</td>\n    </tr>\n    <tr>\n      <th>2023-06-11 02:00:00</th>\n      <td>1686449046</td>\n      <td>-0.6808</td>\n      <td>neg</td>\n      <td>0.318</td>\n      <td>0.682</td>\n      <td>0.000</td>\n    </tr>\n    <tr>\n      <th>2023-06-11 00:00:00</th>\n      <td>1686441762</td>\n      <td>-0.7845</td>\n      <td>neg</td>\n      <td>0.317</td>\n      <td>0.683</td>\n      <td>0.000</td>\n    </tr>\n    <tr>\n      <th>2023-06-10 22:00:00</th>\n      <td>1686434530</td>\n      <td>0.0000</td>\n      <td>pos</td>\n      <td>0.000</td>\n      <td>1.000</td>\n      <td>0.000</td>\n    </tr>\n    <tr>\n      <th>2023-06-10 20:00:00</th>\n      <td>1686427551</td>\n      <td>0.4215</td>\n      <td>pos</td>\n      <td>0.000</td>\n      <td>0.859</td>\n      <td>0.141</td>\n    </tr>\n    <tr>\n      <th>...</th>\n      <td>...</td>\n      <td>...</td>\n      <td>...</td>\n      <td>...</td>\n      <td>...</td>\n      <td>...</td>\n    </tr>\n    <tr>\n      <th>2023-05-14 15:00:00</th>\n      <td>1684078646</td>\n      <td>0.0000</td>\n      <td>pos</td>\n      <td>0.000</td>\n      <td>1.000</td>\n      <td>0.000</td>\n    </tr>\n    <tr>\n      <th>2023-05-14 13:00:00</th>\n      <td>1684071609</td>\n      <td>0.5994</td>\n      <td>pos</td>\n      <td>0.000</td>\n      <td>0.786</td>\n      <td>0.214</td>\n    </tr>\n    <tr>\n      <th>2023-05-14 13:00:00</th>\n      <td>1684069694</td>\n      <td>-0.5574</td>\n      <td>neg</td>\n      <td>0.235</td>\n      <td>0.765</td>\n      <td>0.000</td>\n    </tr>\n    <tr>\n      <th>2023-05-14 12:00:00</th>\n      <td>1684065896</td>\n      <td>-0.4215</td>\n      <td>neg</td>\n      <td>0.167</td>\n      <td>0.833</td>\n      <td>0.000</td>\n    </tr>\n    <tr>\n      <th>2023-05-14 11:00:00</th>\n      <td>1684062530</td>\n      <td>0.6705</td>\n      <td>pos</td>\n      <td>0.000</td>\n      <td>0.744</td>\n      <td>0.256</td>\n    </tr>\n  </tbody>\n</table>\n<p>600 rows × 6 columns</p>\n</div>"
     },
     "execution_count": 70,
     "metadata": {},
     "output_type": "execute_result"
    }
   ],
   "source": [
    "df['neg'] = df['scores'].apply(lambda d: d['neg'])\n",
    "df['neu'] = df['scores'].apply(lambda d: d['neu'])\n",
    "df['pos'] = df['scores'].apply(lambda d: d['pos'])\n",
    "df.drop(columns=['scores', 'text'], inplace=True)\n",
    "df"
   ],
   "metadata": {
    "collapsed": false,
    "ExecuteTime": {
     "end_time": "2023-06-11T15:48:08.552039Z",
     "start_time": "2023-06-11T15:48:08.507929Z"
    }
   }
  },
  {
   "cell_type": "code",
   "execution_count": 71,
   "outputs": [
    {
     "data": {
      "text/plain": "                      timestamp comp_score    neg    neu    pos  pol\ntime                                                                \n2023-06-11 04:00:00  1686456317        pos  0.000  0.899  0.101  0.0\n2023-06-11 02:00:00  1686449046        neg  0.318  0.682  0.000  0.0\n2023-06-11 00:00:00  1686441762        neg  0.317  0.683  0.000  0.0\n2023-06-10 22:00:00  1686434530        pos  0.000  1.000  0.000  0.0\n2023-06-10 20:00:00  1686427551        pos  0.000  0.859  0.141  0.0\n...                         ...        ...    ...    ...    ...  ...\n2023-05-14 15:00:00  1684078646        pos  0.000  1.000  0.000  0.0\n2023-05-14 13:00:00  1684071609        pos  0.000  0.786  0.214  0.0\n2023-05-14 13:00:00  1684069694        neg  0.235  0.765  0.000  0.0\n2023-05-14 12:00:00  1684065896        neg  0.167  0.833  0.000  0.0\n2023-05-14 11:00:00  1684062530        pos  0.000  0.744  0.256  0.0\n\n[600 rows x 6 columns]",
      "text/html": "<div>\n<style scoped>\n    .dataframe tbody tr th:only-of-type {\n        vertical-align: middle;\n    }\n\n    .dataframe tbody tr th {\n        vertical-align: top;\n    }\n\n    .dataframe thead th {\n        text-align: right;\n    }\n</style>\n<table border=\"1\" class=\"dataframe\">\n  <thead>\n    <tr style=\"text-align: right;\">\n      <th></th>\n      <th>timestamp</th>\n      <th>comp_score</th>\n      <th>neg</th>\n      <th>neu</th>\n      <th>pos</th>\n      <th>pol</th>\n    </tr>\n    <tr>\n      <th>time</th>\n      <th></th>\n      <th></th>\n      <th></th>\n      <th></th>\n      <th></th>\n      <th></th>\n    </tr>\n  </thead>\n  <tbody>\n    <tr>\n      <th>2023-06-11 04:00:00</th>\n      <td>1686456317</td>\n      <td>pos</td>\n      <td>0.000</td>\n      <td>0.899</td>\n      <td>0.101</td>\n      <td>0.0</td>\n    </tr>\n    <tr>\n      <th>2023-06-11 02:00:00</th>\n      <td>1686449046</td>\n      <td>neg</td>\n      <td>0.318</td>\n      <td>0.682</td>\n      <td>0.000</td>\n      <td>0.0</td>\n    </tr>\n    <tr>\n      <th>2023-06-11 00:00:00</th>\n      <td>1686441762</td>\n      <td>neg</td>\n      <td>0.317</td>\n      <td>0.683</td>\n      <td>0.000</td>\n      <td>0.0</td>\n    </tr>\n    <tr>\n      <th>2023-06-10 22:00:00</th>\n      <td>1686434530</td>\n      <td>pos</td>\n      <td>0.000</td>\n      <td>1.000</td>\n      <td>0.000</td>\n      <td>0.0</td>\n    </tr>\n    <tr>\n      <th>2023-06-10 20:00:00</th>\n      <td>1686427551</td>\n      <td>pos</td>\n      <td>0.000</td>\n      <td>0.859</td>\n      <td>0.141</td>\n      <td>0.0</td>\n    </tr>\n    <tr>\n      <th>...</th>\n      <td>...</td>\n      <td>...</td>\n      <td>...</td>\n      <td>...</td>\n      <td>...</td>\n      <td>...</td>\n    </tr>\n    <tr>\n      <th>2023-05-14 15:00:00</th>\n      <td>1684078646</td>\n      <td>pos</td>\n      <td>0.000</td>\n      <td>1.000</td>\n      <td>0.000</td>\n      <td>0.0</td>\n    </tr>\n    <tr>\n      <th>2023-05-14 13:00:00</th>\n      <td>1684071609</td>\n      <td>pos</td>\n      <td>0.000</td>\n      <td>0.786</td>\n      <td>0.214</td>\n      <td>0.0</td>\n    </tr>\n    <tr>\n      <th>2023-05-14 13:00:00</th>\n      <td>1684069694</td>\n      <td>neg</td>\n      <td>0.235</td>\n      <td>0.765</td>\n      <td>0.000</td>\n      <td>0.0</td>\n    </tr>\n    <tr>\n      <th>2023-05-14 12:00:00</th>\n      <td>1684065896</td>\n      <td>neg</td>\n      <td>0.167</td>\n      <td>0.833</td>\n      <td>0.000</td>\n      <td>0.0</td>\n    </tr>\n    <tr>\n      <th>2023-05-14 11:00:00</th>\n      <td>1684062530</td>\n      <td>pos</td>\n      <td>0.000</td>\n      <td>0.744</td>\n      <td>0.256</td>\n      <td>0.0</td>\n    </tr>\n  </tbody>\n</table>\n<p>600 rows × 6 columns</p>\n</div>"
     },
     "execution_count": 71,
     "metadata": {},
     "output_type": "execute_result"
    }
   ],
   "source": [
    "df['pol'] = (df['pos']*df['neg'])**0.5\n",
    "df.drop(columns='compound', inplace=True)\n",
    "df"
   ],
   "metadata": {
    "collapsed": false,
    "ExecuteTime": {
     "end_time": "2023-06-11T15:48:09.400957Z",
     "start_time": "2023-06-11T15:48:09.397348Z"
    }
   }
  },
  {
   "cell_type": "code",
   "execution_count": 75,
   "outputs": [],
   "source": [
    "df.drop(columns=['timestamp', 'comp_score'], inplace=True)"
   ],
   "metadata": {
    "collapsed": false,
    "ExecuteTime": {
     "end_time": "2023-06-11T15:54:46.779603Z",
     "start_time": "2023-06-11T15:54:46.765778Z"
    }
   }
  },
  {
   "cell_type": "code",
   "execution_count": 78,
   "outputs": [
    {
     "data": {
      "text/plain": "                       neg    neu    pos  pol\ntime                                         \n2023-06-11 04:00:00  0.000  0.899  0.101  0.0\n2023-06-11 02:00:00  0.318  0.682  0.000  0.0\n2023-06-11 00:00:00  0.317  0.683  0.000  0.0\n2023-06-10 22:00:00  0.000  1.000  0.000  0.0\n2023-06-10 20:00:00  0.000  0.859  0.141  0.0\n...                    ...    ...    ...  ...\n2023-05-14 15:00:00  0.000  1.000  0.000  0.0\n2023-05-14 13:00:00  0.000  0.786  0.214  0.0\n2023-05-14 13:00:00  0.235  0.765  0.000  0.0\n2023-05-14 12:00:00  0.167  0.833  0.000  0.0\n2023-05-14 11:00:00  0.000  0.744  0.256  0.0\n\n[600 rows x 4 columns]",
      "text/html": "<div>\n<style scoped>\n    .dataframe tbody tr th:only-of-type {\n        vertical-align: middle;\n    }\n\n    .dataframe tbody tr th {\n        vertical-align: top;\n    }\n\n    .dataframe thead th {\n        text-align: right;\n    }\n</style>\n<table border=\"1\" class=\"dataframe\">\n  <thead>\n    <tr style=\"text-align: right;\">\n      <th></th>\n      <th>neg</th>\n      <th>neu</th>\n      <th>pos</th>\n      <th>pol</th>\n    </tr>\n    <tr>\n      <th>time</th>\n      <th></th>\n      <th></th>\n      <th></th>\n      <th></th>\n    </tr>\n  </thead>\n  <tbody>\n    <tr>\n      <th>2023-06-11 04:00:00</th>\n      <td>0.000</td>\n      <td>0.899</td>\n      <td>0.101</td>\n      <td>0.0</td>\n    </tr>\n    <tr>\n      <th>2023-06-11 02:00:00</th>\n      <td>0.318</td>\n      <td>0.682</td>\n      <td>0.000</td>\n      <td>0.0</td>\n    </tr>\n    <tr>\n      <th>2023-06-11 00:00:00</th>\n      <td>0.317</td>\n      <td>0.683</td>\n      <td>0.000</td>\n      <td>0.0</td>\n    </tr>\n    <tr>\n      <th>2023-06-10 22:00:00</th>\n      <td>0.000</td>\n      <td>1.000</td>\n      <td>0.000</td>\n      <td>0.0</td>\n    </tr>\n    <tr>\n      <th>2023-06-10 20:00:00</th>\n      <td>0.000</td>\n      <td>0.859</td>\n      <td>0.141</td>\n      <td>0.0</td>\n    </tr>\n    <tr>\n      <th>...</th>\n      <td>...</td>\n      <td>...</td>\n      <td>...</td>\n      <td>...</td>\n    </tr>\n    <tr>\n      <th>2023-05-14 15:00:00</th>\n      <td>0.000</td>\n      <td>1.000</td>\n      <td>0.000</td>\n      <td>0.0</td>\n    </tr>\n    <tr>\n      <th>2023-05-14 13:00:00</th>\n      <td>0.000</td>\n      <td>0.786</td>\n      <td>0.214</td>\n      <td>0.0</td>\n    </tr>\n    <tr>\n      <th>2023-05-14 13:00:00</th>\n      <td>0.235</td>\n      <td>0.765</td>\n      <td>0.000</td>\n      <td>0.0</td>\n    </tr>\n    <tr>\n      <th>2023-05-14 12:00:00</th>\n      <td>0.167</td>\n      <td>0.833</td>\n      <td>0.000</td>\n      <td>0.0</td>\n    </tr>\n    <tr>\n      <th>2023-05-14 11:00:00</th>\n      <td>0.000</td>\n      <td>0.744</td>\n      <td>0.256</td>\n      <td>0.0</td>\n    </tr>\n  </tbody>\n</table>\n<p>600 rows × 4 columns</p>\n</div>"
     },
     "execution_count": 78,
     "metadata": {},
     "output_type": "execute_result"
    }
   ],
   "source": [
    "df"
   ],
   "metadata": {
    "collapsed": false,
    "ExecuteTime": {
     "end_time": "2023-06-11T16:25:56.824882Z",
     "start_time": "2023-06-11T16:25:56.795518Z"
    }
   }
  },
  {
   "cell_type": "markdown",
   "source": [
    "## Save Data"
   ],
   "metadata": {
    "collapsed": false
   }
  },
  {
   "cell_type": "code",
   "execution_count": 76,
   "outputs": [],
   "source": [
    "PATH = \"/Users/admin/PycharmProjects/Market_Prediction_Using_News_and_Indicators/Crypto_Currencies_Data/\""
   ],
   "metadata": {
    "collapsed": false,
    "ExecuteTime": {
     "end_time": "2023-06-11T15:54:48.136701Z",
     "start_time": "2023-06-11T15:54:48.108233Z"
    }
   }
  },
  {
   "cell_type": "code",
   "execution_count": 77,
   "outputs": [],
   "source": [
    "df.to_csv(PATH + \"twitter_btc.csv\")"
   ],
   "metadata": {
    "collapsed": false,
    "ExecuteTime": {
     "end_time": "2023-06-11T15:54:49.452778Z",
     "start_time": "2023-06-11T15:54:49.445578Z"
    }
   }
  }
 ],
 "metadata": {
  "kernelspec": {
   "display_name": "Python 3",
   "language": "python",
   "name": "python3"
  },
  "language_info": {
   "codemirror_mode": {
    "name": "ipython",
    "version": 2
   },
   "file_extension": ".py",
   "mimetype": "text/x-python",
   "name": "python",
   "nbconvert_exporter": "python",
   "pygments_lexer": "ipython2",
   "version": "2.7.6"
  }
 },
 "nbformat": 4,
 "nbformat_minor": 0
}
