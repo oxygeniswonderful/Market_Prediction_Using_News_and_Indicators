{
 "cells": [
  {
   "cell_type": "code",
   "execution_count": 1,
   "metadata": {
    "collapsed": true,
    "ExecuteTime": {
     "end_time": "2023-06-07T02:18:29.574631Z",
     "start_time": "2023-06-07T02:18:29.228349Z"
    }
   },
   "outputs": [],
   "source": [
    "from Core.Preprocess import *\n",
    "from Core.CryptoCompareAPI import *\n",
    "from Core.config_reader import config_reader"
   ]
  },
  {
   "cell_type": "code",
   "execution_count": 84,
   "outputs": [],
   "source": [
    "import pandas as pd\n",
    "import calendar"
   ],
   "metadata": {
    "collapsed": false,
    "ExecuteTime": {
     "end_time": "2023-06-07T02:48:44.498793Z",
     "start_time": "2023-06-07T02:48:44.473106Z"
    }
   }
  },
  {
   "cell_type": "markdown",
   "source": [
    "## Download Data"
   ],
   "metadata": {
    "collapsed": false
   }
  },
  {
   "cell_type": "code",
   "execution_count": 3,
   "outputs": [],
   "source": [
    "reader = config_reader('/Users/admin/PycharmProjects/Market_Prediction_Using_News_and_Indicators/config.yml')\n",
    "\n",
    "crypto_currency_list = reader.read_config(\"CRYPTO_CURRENCIES_LIST\")\n",
    "exchange = reader.read_config(\"EXCHANGE\")\n",
    "currency = reader.read_config(\"CURRENCY\")"
   ],
   "metadata": {
    "collapsed": false,
    "ExecuteTime": {
     "end_time": "2023-06-07T02:18:37.255368Z",
     "start_time": "2023-06-07T02:18:37.247917Z"
    }
   }
  },
  {
   "cell_type": "code",
   "execution_count": 218,
   "outputs": [],
   "source": [
    "df_crypto_list = []"
   ],
   "metadata": {
    "collapsed": false,
    "ExecuteTime": {
     "end_time": "2023-06-07T05:12:57.419256Z",
     "start_time": "2023-06-07T05:12:57.405040Z"
    }
   }
  },
  {
   "cell_type": "code",
   "execution_count": 219,
   "outputs": [],
   "source": [
    " for crypto in crypto_currency_list:\n",
    "    raw_data = get_historical_price_hour_from(\n",
    "        coin=crypto,\n",
    "        currency=currency,\n",
    "        exchange=exchange,\n",
    "        toTs=int(calendar.timegm(datetime.datetime(2022, 5, 1, 0, 0, 0).timetuple())),\n",
    "        fromTs=int(calendar.timegm(datetime.datetime(2022, 2, 1, 0, 0, 0).timetuple()))\n",
    "    )\n",
    "    data = Preprocess.get_from_crypto_compare_hourly_price_data_to_pandas(raw_data)\n",
    "    df_crypto_list.append(data)"
   ],
   "metadata": {
    "collapsed": false,
    "ExecuteTime": {
     "end_time": "2023-06-07T05:13:05.825565Z",
     "start_time": "2023-06-07T05:12:57.858186Z"
    }
   }
  },
  {
   "cell_type": "markdown",
   "source": [
    "## Preprocessing"
   ],
   "metadata": {
    "collapsed": false
   }
  },
  {
   "cell_type": "code",
   "execution_count": 220,
   "outputs": [
    {
     "data": {
      "text/plain": "                        close      high       low      open  volumefrom  \\\ntime                                                                      \n2022-02-01 00:00:00  38342.36  38627.35  38276.43  38466.90     1058.43   \n2022-02-01 01:00:00  38238.19  38407.00  38175.86  38342.36      777.86   \n2022-02-01 02:00:00  38480.90  38506.18  38196.61  38238.19      766.84   \n2022-02-01 03:00:00  38596.82  38649.90  38384.99  38480.90      946.46   \n2022-02-01 04:00:00  38556.82  38644.57  38470.37  38596.82      758.93   \n...                       ...       ...       ...       ...         ...   \n2022-04-30 20:00:00  38326.45  38466.83  38282.08  38466.83      676.71   \n2022-04-30 21:00:00  38301.14  38370.84  38248.66  38326.45      591.08   \n2022-04-30 22:00:00  38250.44  38370.00  38160.00  38301.14     1376.35   \n2022-04-30 23:00:00  37630.80  38277.77  37578.20  38250.44     6729.82   \n2022-05-01 00:00:00  37680.67  37806.79  37500.00  37630.80     2313.84   \n\n                         volumeto conversionType conversionSymbol   datetimes  \ntime                                                                           \n2022-02-01 00:00:00  4.064914e+07   force_direct                   2022-02-01  \n2022-02-01 01:00:00  2.978374e+07   force_direct                   2022-02-01  \n2022-02-01 02:00:00  2.941555e+07   force_direct                   2022-02-01  \n2022-02-01 03:00:00  3.646598e+07   force_direct                   2022-02-01  \n2022-02-01 04:00:00  2.926184e+07   force_direct                   2022-02-01  \n...                           ...            ...              ...         ...  \n2022-04-30 20:00:00  2.596374e+07   force_direct                   2022-04-30  \n2022-04-30 21:00:00  2.264638e+07   force_direct                   2022-04-30  \n2022-04-30 22:00:00  5.267822e+07   force_direct                   2022-04-30  \n2022-04-30 23:00:00  2.544878e+08   force_direct                   2022-04-30  \n2022-05-01 00:00:00  8.712640e+07   force_direct                   2022-05-01  \n\n[2137 rows x 9 columns]",
      "text/html": "<div>\n<style scoped>\n    .dataframe tbody tr th:only-of-type {\n        vertical-align: middle;\n    }\n\n    .dataframe tbody tr th {\n        vertical-align: top;\n    }\n\n    .dataframe thead th {\n        text-align: right;\n    }\n</style>\n<table border=\"1\" class=\"dataframe\">\n  <thead>\n    <tr style=\"text-align: right;\">\n      <th></th>\n      <th>close</th>\n      <th>high</th>\n      <th>low</th>\n      <th>open</th>\n      <th>volumefrom</th>\n      <th>volumeto</th>\n      <th>conversionType</th>\n      <th>conversionSymbol</th>\n      <th>datetimes</th>\n    </tr>\n    <tr>\n      <th>time</th>\n      <th></th>\n      <th></th>\n      <th></th>\n      <th></th>\n      <th></th>\n      <th></th>\n      <th></th>\n      <th></th>\n      <th></th>\n    </tr>\n  </thead>\n  <tbody>\n    <tr>\n      <th>2022-02-01 00:00:00</th>\n      <td>38342.36</td>\n      <td>38627.35</td>\n      <td>38276.43</td>\n      <td>38466.90</td>\n      <td>1058.43</td>\n      <td>4.064914e+07</td>\n      <td>force_direct</td>\n      <td></td>\n      <td>2022-02-01</td>\n    </tr>\n    <tr>\n      <th>2022-02-01 01:00:00</th>\n      <td>38238.19</td>\n      <td>38407.00</td>\n      <td>38175.86</td>\n      <td>38342.36</td>\n      <td>777.86</td>\n      <td>2.978374e+07</td>\n      <td>force_direct</td>\n      <td></td>\n      <td>2022-02-01</td>\n    </tr>\n    <tr>\n      <th>2022-02-01 02:00:00</th>\n      <td>38480.90</td>\n      <td>38506.18</td>\n      <td>38196.61</td>\n      <td>38238.19</td>\n      <td>766.84</td>\n      <td>2.941555e+07</td>\n      <td>force_direct</td>\n      <td></td>\n      <td>2022-02-01</td>\n    </tr>\n    <tr>\n      <th>2022-02-01 03:00:00</th>\n      <td>38596.82</td>\n      <td>38649.90</td>\n      <td>38384.99</td>\n      <td>38480.90</td>\n      <td>946.46</td>\n      <td>3.646598e+07</td>\n      <td>force_direct</td>\n      <td></td>\n      <td>2022-02-01</td>\n    </tr>\n    <tr>\n      <th>2022-02-01 04:00:00</th>\n      <td>38556.82</td>\n      <td>38644.57</td>\n      <td>38470.37</td>\n      <td>38596.82</td>\n      <td>758.93</td>\n      <td>2.926184e+07</td>\n      <td>force_direct</td>\n      <td></td>\n      <td>2022-02-01</td>\n    </tr>\n    <tr>\n      <th>...</th>\n      <td>...</td>\n      <td>...</td>\n      <td>...</td>\n      <td>...</td>\n      <td>...</td>\n      <td>...</td>\n      <td>...</td>\n      <td>...</td>\n      <td>...</td>\n    </tr>\n    <tr>\n      <th>2022-04-30 20:00:00</th>\n      <td>38326.45</td>\n      <td>38466.83</td>\n      <td>38282.08</td>\n      <td>38466.83</td>\n      <td>676.71</td>\n      <td>2.596374e+07</td>\n      <td>force_direct</td>\n      <td></td>\n      <td>2022-04-30</td>\n    </tr>\n    <tr>\n      <th>2022-04-30 21:00:00</th>\n      <td>38301.14</td>\n      <td>38370.84</td>\n      <td>38248.66</td>\n      <td>38326.45</td>\n      <td>591.08</td>\n      <td>2.264638e+07</td>\n      <td>force_direct</td>\n      <td></td>\n      <td>2022-04-30</td>\n    </tr>\n    <tr>\n      <th>2022-04-30 22:00:00</th>\n      <td>38250.44</td>\n      <td>38370.00</td>\n      <td>38160.00</td>\n      <td>38301.14</td>\n      <td>1376.35</td>\n      <td>5.267822e+07</td>\n      <td>force_direct</td>\n      <td></td>\n      <td>2022-04-30</td>\n    </tr>\n    <tr>\n      <th>2022-04-30 23:00:00</th>\n      <td>37630.80</td>\n      <td>38277.77</td>\n      <td>37578.20</td>\n      <td>38250.44</td>\n      <td>6729.82</td>\n      <td>2.544878e+08</td>\n      <td>force_direct</td>\n      <td></td>\n      <td>2022-04-30</td>\n    </tr>\n    <tr>\n      <th>2022-05-01 00:00:00</th>\n      <td>37680.67</td>\n      <td>37806.79</td>\n      <td>37500.00</td>\n      <td>37630.80</td>\n      <td>2313.84</td>\n      <td>8.712640e+07</td>\n      <td>force_direct</td>\n      <td></td>\n      <td>2022-05-01</td>\n    </tr>\n  </tbody>\n</table>\n<p>2137 rows × 9 columns</p>\n</div>"
     },
     "execution_count": 220,
     "metadata": {},
     "output_type": "execute_result"
    }
   ],
   "source": [
    "df_crypto_list[0]"
   ],
   "metadata": {
    "collapsed": false,
    "ExecuteTime": {
     "end_time": "2023-06-07T05:13:16.081860Z",
     "start_time": "2023-06-07T05:13:16.074383Z"
    }
   }
  },
  {
   "cell_type": "code",
   "execution_count": 221,
   "outputs": [],
   "source": [
    "for i in range(len(df_crypto_list)):\n",
    "    Preprocess.rename_columns(df_crypto_list[i])"
   ],
   "metadata": {
    "collapsed": false,
    "ExecuteTime": {
     "end_time": "2023-06-07T05:13:20.595453Z",
     "start_time": "2023-06-07T05:13:20.585271Z"
    }
   }
  },
  {
   "cell_type": "code",
   "execution_count": 222,
   "outputs": [
    {
     "data": {
      "text/plain": "                        Close      High       Low      Open        Volume\ntime                                                                     \n2022-02-01 00:00:00  38342.36  38627.35  38276.43  38466.90  4.064914e+07\n2022-02-01 01:00:00  38238.19  38407.00  38175.86  38342.36  2.978374e+07\n2022-02-01 02:00:00  38480.90  38506.18  38196.61  38238.19  2.941555e+07\n2022-02-01 03:00:00  38596.82  38649.90  38384.99  38480.90  3.646598e+07\n2022-02-01 04:00:00  38556.82  38644.57  38470.37  38596.82  2.926184e+07\n...                       ...       ...       ...       ...           ...\n2022-04-30 20:00:00  38326.45  38466.83  38282.08  38466.83  2.596374e+07\n2022-04-30 21:00:00  38301.14  38370.84  38248.66  38326.45  2.264638e+07\n2022-04-30 22:00:00  38250.44  38370.00  38160.00  38301.14  5.267822e+07\n2022-04-30 23:00:00  37630.80  38277.77  37578.20  38250.44  2.544878e+08\n2022-05-01 00:00:00  37680.67  37806.79  37500.00  37630.80  8.712640e+07\n\n[2137 rows x 5 columns]",
      "text/html": "<div>\n<style scoped>\n    .dataframe tbody tr th:only-of-type {\n        vertical-align: middle;\n    }\n\n    .dataframe tbody tr th {\n        vertical-align: top;\n    }\n\n    .dataframe thead th {\n        text-align: right;\n    }\n</style>\n<table border=\"1\" class=\"dataframe\">\n  <thead>\n    <tr style=\"text-align: right;\">\n      <th></th>\n      <th>Close</th>\n      <th>High</th>\n      <th>Low</th>\n      <th>Open</th>\n      <th>Volume</th>\n    </tr>\n    <tr>\n      <th>time</th>\n      <th></th>\n      <th></th>\n      <th></th>\n      <th></th>\n      <th></th>\n    </tr>\n  </thead>\n  <tbody>\n    <tr>\n      <th>2022-02-01 00:00:00</th>\n      <td>38342.36</td>\n      <td>38627.35</td>\n      <td>38276.43</td>\n      <td>38466.90</td>\n      <td>4.064914e+07</td>\n    </tr>\n    <tr>\n      <th>2022-02-01 01:00:00</th>\n      <td>38238.19</td>\n      <td>38407.00</td>\n      <td>38175.86</td>\n      <td>38342.36</td>\n      <td>2.978374e+07</td>\n    </tr>\n    <tr>\n      <th>2022-02-01 02:00:00</th>\n      <td>38480.90</td>\n      <td>38506.18</td>\n      <td>38196.61</td>\n      <td>38238.19</td>\n      <td>2.941555e+07</td>\n    </tr>\n    <tr>\n      <th>2022-02-01 03:00:00</th>\n      <td>38596.82</td>\n      <td>38649.90</td>\n      <td>38384.99</td>\n      <td>38480.90</td>\n      <td>3.646598e+07</td>\n    </tr>\n    <tr>\n      <th>2022-02-01 04:00:00</th>\n      <td>38556.82</td>\n      <td>38644.57</td>\n      <td>38470.37</td>\n      <td>38596.82</td>\n      <td>2.926184e+07</td>\n    </tr>\n    <tr>\n      <th>...</th>\n      <td>...</td>\n      <td>...</td>\n      <td>...</td>\n      <td>...</td>\n      <td>...</td>\n    </tr>\n    <tr>\n      <th>2022-04-30 20:00:00</th>\n      <td>38326.45</td>\n      <td>38466.83</td>\n      <td>38282.08</td>\n      <td>38466.83</td>\n      <td>2.596374e+07</td>\n    </tr>\n    <tr>\n      <th>2022-04-30 21:00:00</th>\n      <td>38301.14</td>\n      <td>38370.84</td>\n      <td>38248.66</td>\n      <td>38326.45</td>\n      <td>2.264638e+07</td>\n    </tr>\n    <tr>\n      <th>2022-04-30 22:00:00</th>\n      <td>38250.44</td>\n      <td>38370.00</td>\n      <td>38160.00</td>\n      <td>38301.14</td>\n      <td>5.267822e+07</td>\n    </tr>\n    <tr>\n      <th>2022-04-30 23:00:00</th>\n      <td>37630.80</td>\n      <td>38277.77</td>\n      <td>37578.20</td>\n      <td>38250.44</td>\n      <td>2.544878e+08</td>\n    </tr>\n    <tr>\n      <th>2022-05-01 00:00:00</th>\n      <td>37680.67</td>\n      <td>37806.79</td>\n      <td>37500.00</td>\n      <td>37630.80</td>\n      <td>8.712640e+07</td>\n    </tr>\n  </tbody>\n</table>\n<p>2137 rows × 5 columns</p>\n</div>"
     },
     "execution_count": 222,
     "metadata": {},
     "output_type": "execute_result"
    }
   ],
   "source": [
    "df_crypto_list[0]"
   ],
   "metadata": {
    "collapsed": false,
    "ExecuteTime": {
     "end_time": "2023-06-07T05:13:22.073609Z",
     "start_time": "2023-06-07T05:13:22.065780Z"
    }
   }
  },
  {
   "cell_type": "code",
   "execution_count": 223,
   "outputs": [],
   "source": [
    "def sign(x):\n",
    "    return x/abs(x)\n",
    "\n",
    "target_list = []\n",
    "\n",
    "for df in df_crypto_list:\n",
    "    target_list.append(sign(df_crypto_list[0]['Close'].shift(-24) - df_crypto_list[0]['Close'])[90:-24])"
   ],
   "metadata": {
    "collapsed": false,
    "ExecuteTime": {
     "end_time": "2023-06-07T05:13:24.007591Z",
     "start_time": "2023-06-07T05:13:24.000221Z"
    }
   }
  },
  {
   "cell_type": "code",
   "execution_count": 224,
   "outputs": [
    {
     "data": {
      "text/plain": "time\n2022-02-04 18:00:00    1.0\n2022-02-04 19:00:00    1.0\n2022-02-04 20:00:00    1.0\n2022-02-04 21:00:00    1.0\n2022-02-04 22:00:00    1.0\n                      ... \n2022-04-29 20:00:00   -1.0\n2022-04-29 21:00:00   -1.0\n2022-04-29 22:00:00   -1.0\n2022-04-29 23:00:00   -1.0\n2022-04-30 00:00:00   -1.0\nName: Close, Length: 2023, dtype: float64"
     },
     "execution_count": 224,
     "metadata": {},
     "output_type": "execute_result"
    }
   ],
   "source": [
    "target_list[0]"
   ],
   "metadata": {
    "collapsed": false,
    "ExecuteTime": {
     "end_time": "2023-06-07T05:13:24.581218Z",
     "start_time": "2023-06-07T05:13:24.569271Z"
    }
   }
  },
  {
   "cell_type": "code",
   "execution_count": 225,
   "outputs": [],
   "source": [
    "new_df_crypto_list = list(map(Preprocess.compute_all_indicators, df_crypto_list))"
   ],
   "metadata": {
    "collapsed": false,
    "ExecuteTime": {
     "end_time": "2023-06-07T05:13:28.557215Z",
     "start_time": "2023-06-07T05:13:26.925496Z"
    }
   }
  },
  {
   "cell_type": "code",
   "execution_count": 226,
   "outputs": [],
   "source": [
    "for i in range(len(new_df_crypto_list)):\n",
    "    new_df_crypto_list[i].drop(columns=[\"Close\", \"High\", \"Low\", \"Open\", \"Volume\"], inplace=True)\n",
    "    new_df_crypto_list[i] = new_df_crypto_list[i].iloc[90:-24]"
   ],
   "metadata": {
    "collapsed": false,
    "ExecuteTime": {
     "end_time": "2023-06-07T05:13:50.907038Z",
     "start_time": "2023-06-07T05:13:50.901580Z"
    }
   }
  },
  {
   "cell_type": "code",
   "execution_count": 228,
   "outputs": [],
   "source": [
    "for i in range(len(df_crypto_list)):\n",
    "    df_crypto_list[i].drop(columns=[\"UpperBB\", \"LowerBB\"], inplace = True)\n",
    "    df_crypto_list[i] = df_crypto_list[i].iloc[90:-24]"
   ],
   "metadata": {
    "collapsed": false,
    "ExecuteTime": {
     "end_time": "2023-06-07T05:15:57.607519Z",
     "start_time": "2023-06-07T05:15:57.592978Z"
    }
   }
  },
  {
   "cell_type": "code",
   "execution_count": 229,
   "outputs": [
    {
     "data": {
      "text/plain": "                        Close      High       Low      Open        Volume\ntime                                                                     \n2022-02-04 18:00:00  40469.27  40662.01  40278.79  40520.46  8.461738e+07\n2022-02-04 19:00:00  40727.91  40877.00  40366.99  40469.27  9.520640e+07\n2022-02-04 20:00:00  40588.00  40884.96  40456.25  40727.91  1.041768e+08\n2022-02-04 21:00:00  40624.15  40631.89  40426.23  40588.00  6.104136e+07\n2022-02-04 22:00:00  40641.74  40666.98  40382.84  40624.15  4.642513e+07\n...                       ...       ...       ...       ...           ...\n2022-04-29 20:00:00  38564.44  38584.00  38310.90  38331.54  7.666395e+07\n2022-04-29 21:00:00  38560.15  38649.99  38450.47  38564.44  3.069227e+07\n2022-04-29 22:00:00  38608.63  38635.29  38430.03  38560.15  2.538127e+07\n2022-04-29 23:00:00  38596.11  38665.36  38555.98  38608.63  2.579999e+07\n2022-04-30 00:00:00  38639.95  38795.38  38551.12  38596.11  4.448110e+07\n\n[2023 rows x 5 columns]",
      "text/html": "<div>\n<style scoped>\n    .dataframe tbody tr th:only-of-type {\n        vertical-align: middle;\n    }\n\n    .dataframe tbody tr th {\n        vertical-align: top;\n    }\n\n    .dataframe thead th {\n        text-align: right;\n    }\n</style>\n<table border=\"1\" class=\"dataframe\">\n  <thead>\n    <tr style=\"text-align: right;\">\n      <th></th>\n      <th>Close</th>\n      <th>High</th>\n      <th>Low</th>\n      <th>Open</th>\n      <th>Volume</th>\n    </tr>\n    <tr>\n      <th>time</th>\n      <th></th>\n      <th></th>\n      <th></th>\n      <th></th>\n      <th></th>\n    </tr>\n  </thead>\n  <tbody>\n    <tr>\n      <th>2022-02-04 18:00:00</th>\n      <td>40469.27</td>\n      <td>40662.01</td>\n      <td>40278.79</td>\n      <td>40520.46</td>\n      <td>8.461738e+07</td>\n    </tr>\n    <tr>\n      <th>2022-02-04 19:00:00</th>\n      <td>40727.91</td>\n      <td>40877.00</td>\n      <td>40366.99</td>\n      <td>40469.27</td>\n      <td>9.520640e+07</td>\n    </tr>\n    <tr>\n      <th>2022-02-04 20:00:00</th>\n      <td>40588.00</td>\n      <td>40884.96</td>\n      <td>40456.25</td>\n      <td>40727.91</td>\n      <td>1.041768e+08</td>\n    </tr>\n    <tr>\n      <th>2022-02-04 21:00:00</th>\n      <td>40624.15</td>\n      <td>40631.89</td>\n      <td>40426.23</td>\n      <td>40588.00</td>\n      <td>6.104136e+07</td>\n    </tr>\n    <tr>\n      <th>2022-02-04 22:00:00</th>\n      <td>40641.74</td>\n      <td>40666.98</td>\n      <td>40382.84</td>\n      <td>40624.15</td>\n      <td>4.642513e+07</td>\n    </tr>\n    <tr>\n      <th>...</th>\n      <td>...</td>\n      <td>...</td>\n      <td>...</td>\n      <td>...</td>\n      <td>...</td>\n    </tr>\n    <tr>\n      <th>2022-04-29 20:00:00</th>\n      <td>38564.44</td>\n      <td>38584.00</td>\n      <td>38310.90</td>\n      <td>38331.54</td>\n      <td>7.666395e+07</td>\n    </tr>\n    <tr>\n      <th>2022-04-29 21:00:00</th>\n      <td>38560.15</td>\n      <td>38649.99</td>\n      <td>38450.47</td>\n      <td>38564.44</td>\n      <td>3.069227e+07</td>\n    </tr>\n    <tr>\n      <th>2022-04-29 22:00:00</th>\n      <td>38608.63</td>\n      <td>38635.29</td>\n      <td>38430.03</td>\n      <td>38560.15</td>\n      <td>2.538127e+07</td>\n    </tr>\n    <tr>\n      <th>2022-04-29 23:00:00</th>\n      <td>38596.11</td>\n      <td>38665.36</td>\n      <td>38555.98</td>\n      <td>38608.63</td>\n      <td>2.579999e+07</td>\n    </tr>\n    <tr>\n      <th>2022-04-30 00:00:00</th>\n      <td>38639.95</td>\n      <td>38795.38</td>\n      <td>38551.12</td>\n      <td>38596.11</td>\n      <td>4.448110e+07</td>\n    </tr>\n  </tbody>\n</table>\n<p>2023 rows × 5 columns</p>\n</div>"
     },
     "execution_count": 229,
     "metadata": {},
     "output_type": "execute_result"
    }
   ],
   "source": [
    "df_crypto_list[0]"
   ],
   "metadata": {
    "collapsed": false,
    "ExecuteTime": {
     "end_time": "2023-06-07T05:16:06.526116Z",
     "start_time": "2023-06-07T05:16:06.520702Z"
    }
   }
  },
  {
   "cell_type": "code",
   "execution_count": 230,
   "outputs": [
    {
     "data": {
      "text/plain": "                          UpperBB       LowerBB          DEMA           EMA  \\\ntime                                                                          \n2022-02-04 18:00:00  40353.302329  35918.871671  38724.151122  38100.630020   \n2022-02-04 19:00:00  40769.482460  35844.321540  39011.992214  38270.131955   \n2022-02-04 20:00:00  41079.282361  35875.268639  39253.562275  38419.671829   \n2022-02-04 21:00:00  41343.475235  35956.630765  39475.035920  38561.896227   \n2022-02-04 22:00:00  41573.542988  36058.112012  39675.833623  38696.079696   \n...                           ...           ...           ...           ...   \n2022-04-29 20:00:00  39983.202962  38203.066038  38862.692454  39110.594185   \n2022-04-29 21:00:00  39880.959476  38179.276524  38809.952189  39075.081657   \n2022-04-29 22:00:00  39822.051152  38146.835848  38768.811531  39044.988002   \n2022-04-29 23:00:00  39750.458930  38124.738070  38730.578005  39016.028130   \n2022-04-30 00:00:00  39662.945986  38121.952014  38702.033293  38991.765025   \n\n                     HT_TRENDLINE          KAMA            MA   MIDPOINT  \\\ntime                                                                       \n2022-02-04 18:00:00  37434.617702  38402.621527  37660.167667  38970.930   \n2022-02-04 19:00:00  37518.339136  38739.630392  37798.262000  39074.655   \n2022-02-04 20:00:00  37598.399669  38997.767312  37934.338333  39074.655   \n2022-02-04 21:00:00  37675.517391  39207.938299  38058.141667  39074.655   \n2022-02-04 22:00:00  37766.415297  39423.053828  38189.966333  39074.655   \n...                           ...           ...           ...        ...   \n2022-04-29 20:00:00  39333.395743  39231.793070  39355.197667  38970.840   \n2022-04-29 21:00:00  39313.450401  39212.194712  39325.935667  38870.880   \n2022-04-29 22:00:00  39297.106258  39178.867493  39282.908667  38804.295   \n2022-04-29 23:00:00  39288.148026  39123.882157  39226.655000  38804.295   \n2022-04-30 00:00:00  39267.953043  39085.911460  39178.542667  38804.295   \n\n                      MIDPRICE       SAR  ...  STOCHRSI FASTD      TRIX  \\\ntime                                      ...                             \n2022-02-04 18:00:00  38961.010  36250.00  ...       98.476603 -0.011691   \n2022-02-04 19:00:00  39083.600  36250.00  ...       98.476603 -0.002145   \n2022-02-04 20:00:00  39087.580  36250.00  ...       65.143270  0.007877   \n2022-02-04 21:00:00  39087.580  36250.00  ...       35.991913  0.018190   \n2022-02-04 22:00:00  39087.580  36250.00  ...        6.690602  0.028623   \n...                        ...       ...  ...             ...       ...   \n2022-04-29 20:00:00  38904.560  34322.28  ...       40.017682  0.000117   \n2022-04-29 21:00:00  38904.560  34322.28  ...       66.280453 -0.002887   \n2022-04-29 22:00:00  38792.615  34322.28  ...       99.613787 -0.005823   \n2022-04-29 23:00:00  38790.685  34322.28  ...       98.523521 -0.008675   \n2022-04-30 00:00:00  38790.685  34322.28  ...       98.909735 -0.011392   \n\n                        ULTOSC      WILLR            AD         ADOSC  \\\ntime                                                                    \n2022-02-04 18:00:00  64.119127  -5.665491  4.163835e+08  2.232880e+08   \n2022-02-04 19:00:00  64.504258  -4.156630  4.559270e+08  2.169142e+08   \n2022-02-04 20:00:00  67.242522  -8.260913  4.157808e+08  1.818135e+08   \n2022-02-04 21:00:00  67.727990  -7.255283  4.722276e+08  1.688860e+08   \n2022-02-04 22:00:00  65.822548  -6.765959  5.104049e+08  1.603915e+08   \n...                        ...        ...           ...           ...   \n2022-04-29 20:00:00  44.058563 -73.309940  1.911979e+09 -2.728047e+07   \n2022-04-29 21:00:00  45.451942 -73.603953  1.915031e+09 -1.402109e+07   \n2022-04-29 22:00:00  48.213134 -64.894797  1.933819e+09 -1.344152e+06   \n2022-04-29 23:00:00  55.486596 -65.801506  1.926950e+09  1.778577e+06   \n2022-04-30 00:00:00  53.973318 -62.241243  1.914822e+09 -9.646129e+05   \n\n                              OBV  TRANGE         ATR      NATR  \ntime                                                             \n2022-02-04 18:00:00  8.408365e+07  383.22  520.992874  0.003181  \n2022-02-04 19:00:00  1.792901e+08  510.01  520.208383  0.003136  \n2022-02-04 20:00:00  7.511321e+07  428.71  513.672784  0.003118  \n2022-02-04 21:00:00  1.361546e+08  205.66  491.671871  0.002979  \n2022-02-04 22:00:00  1.825797e+08  284.14  476.848166  0.002887  \n...                           ...     ...         ...       ...  \n2022-04-29 20:00:00 -9.507778e+08  273.10  370.641565  0.002492  \n2022-04-29 21:00:00 -9.814700e+08  199.52  358.418596  0.002411  \n2022-04-29 22:00:00 -9.560888e+08  205.26  347.478696  0.002331  \n2022-04-29 23:00:00 -9.818887e+08  109.38  330.471647  0.002218  \n2022-04-30 00:00:00 -9.374077e+08  244.26  324.313672  0.002172  \n\n[2023 rows x 61 columns]",
      "text/html": "<div>\n<style scoped>\n    .dataframe tbody tr th:only-of-type {\n        vertical-align: middle;\n    }\n\n    .dataframe tbody tr th {\n        vertical-align: top;\n    }\n\n    .dataframe thead th {\n        text-align: right;\n    }\n</style>\n<table border=\"1\" class=\"dataframe\">\n  <thead>\n    <tr style=\"text-align: right;\">\n      <th></th>\n      <th>UpperBB</th>\n      <th>LowerBB</th>\n      <th>DEMA</th>\n      <th>EMA</th>\n      <th>HT_TRENDLINE</th>\n      <th>KAMA</th>\n      <th>MA</th>\n      <th>MIDPOINT</th>\n      <th>MIDPRICE</th>\n      <th>SAR</th>\n      <th>...</th>\n      <th>STOCHRSI FASTD</th>\n      <th>TRIX</th>\n      <th>ULTOSC</th>\n      <th>WILLR</th>\n      <th>AD</th>\n      <th>ADOSC</th>\n      <th>OBV</th>\n      <th>TRANGE</th>\n      <th>ATR</th>\n      <th>NATR</th>\n    </tr>\n    <tr>\n      <th>time</th>\n      <th></th>\n      <th></th>\n      <th></th>\n      <th></th>\n      <th></th>\n      <th></th>\n      <th></th>\n      <th></th>\n      <th></th>\n      <th></th>\n      <th></th>\n      <th></th>\n      <th></th>\n      <th></th>\n      <th></th>\n      <th></th>\n      <th></th>\n      <th></th>\n      <th></th>\n      <th></th>\n      <th></th>\n    </tr>\n  </thead>\n  <tbody>\n    <tr>\n      <th>2022-02-04 18:00:00</th>\n      <td>40353.302329</td>\n      <td>35918.871671</td>\n      <td>38724.151122</td>\n      <td>38100.630020</td>\n      <td>37434.617702</td>\n      <td>38402.621527</td>\n      <td>37660.167667</td>\n      <td>38970.930</td>\n      <td>38961.010</td>\n      <td>36250.00</td>\n      <td>...</td>\n      <td>98.476603</td>\n      <td>-0.011691</td>\n      <td>64.119127</td>\n      <td>-5.665491</td>\n      <td>4.163835e+08</td>\n      <td>2.232880e+08</td>\n      <td>8.408365e+07</td>\n      <td>383.22</td>\n      <td>520.992874</td>\n      <td>0.003181</td>\n    </tr>\n    <tr>\n      <th>2022-02-04 19:00:00</th>\n      <td>40769.482460</td>\n      <td>35844.321540</td>\n      <td>39011.992214</td>\n      <td>38270.131955</td>\n      <td>37518.339136</td>\n      <td>38739.630392</td>\n      <td>37798.262000</td>\n      <td>39074.655</td>\n      <td>39083.600</td>\n      <td>36250.00</td>\n      <td>...</td>\n      <td>98.476603</td>\n      <td>-0.002145</td>\n      <td>64.504258</td>\n      <td>-4.156630</td>\n      <td>4.559270e+08</td>\n      <td>2.169142e+08</td>\n      <td>1.792901e+08</td>\n      <td>510.01</td>\n      <td>520.208383</td>\n      <td>0.003136</td>\n    </tr>\n    <tr>\n      <th>2022-02-04 20:00:00</th>\n      <td>41079.282361</td>\n      <td>35875.268639</td>\n      <td>39253.562275</td>\n      <td>38419.671829</td>\n      <td>37598.399669</td>\n      <td>38997.767312</td>\n      <td>37934.338333</td>\n      <td>39074.655</td>\n      <td>39087.580</td>\n      <td>36250.00</td>\n      <td>...</td>\n      <td>65.143270</td>\n      <td>0.007877</td>\n      <td>67.242522</td>\n      <td>-8.260913</td>\n      <td>4.157808e+08</td>\n      <td>1.818135e+08</td>\n      <td>7.511321e+07</td>\n      <td>428.71</td>\n      <td>513.672784</td>\n      <td>0.003118</td>\n    </tr>\n    <tr>\n      <th>2022-02-04 21:00:00</th>\n      <td>41343.475235</td>\n      <td>35956.630765</td>\n      <td>39475.035920</td>\n      <td>38561.896227</td>\n      <td>37675.517391</td>\n      <td>39207.938299</td>\n      <td>38058.141667</td>\n      <td>39074.655</td>\n      <td>39087.580</td>\n      <td>36250.00</td>\n      <td>...</td>\n      <td>35.991913</td>\n      <td>0.018190</td>\n      <td>67.727990</td>\n      <td>-7.255283</td>\n      <td>4.722276e+08</td>\n      <td>1.688860e+08</td>\n      <td>1.361546e+08</td>\n      <td>205.66</td>\n      <td>491.671871</td>\n      <td>0.002979</td>\n    </tr>\n    <tr>\n      <th>2022-02-04 22:00:00</th>\n      <td>41573.542988</td>\n      <td>36058.112012</td>\n      <td>39675.833623</td>\n      <td>38696.079696</td>\n      <td>37766.415297</td>\n      <td>39423.053828</td>\n      <td>38189.966333</td>\n      <td>39074.655</td>\n      <td>39087.580</td>\n      <td>36250.00</td>\n      <td>...</td>\n      <td>6.690602</td>\n      <td>0.028623</td>\n      <td>65.822548</td>\n      <td>-6.765959</td>\n      <td>5.104049e+08</td>\n      <td>1.603915e+08</td>\n      <td>1.825797e+08</td>\n      <td>284.14</td>\n      <td>476.848166</td>\n      <td>0.002887</td>\n    </tr>\n    <tr>\n      <th>...</th>\n      <td>...</td>\n      <td>...</td>\n      <td>...</td>\n      <td>...</td>\n      <td>...</td>\n      <td>...</td>\n      <td>...</td>\n      <td>...</td>\n      <td>...</td>\n      <td>...</td>\n      <td>...</td>\n      <td>...</td>\n      <td>...</td>\n      <td>...</td>\n      <td>...</td>\n      <td>...</td>\n      <td>...</td>\n      <td>...</td>\n      <td>...</td>\n      <td>...</td>\n      <td>...</td>\n    </tr>\n    <tr>\n      <th>2022-04-29 20:00:00</th>\n      <td>39983.202962</td>\n      <td>38203.066038</td>\n      <td>38862.692454</td>\n      <td>39110.594185</td>\n      <td>39333.395743</td>\n      <td>39231.793070</td>\n      <td>39355.197667</td>\n      <td>38970.840</td>\n      <td>38904.560</td>\n      <td>34322.28</td>\n      <td>...</td>\n      <td>40.017682</td>\n      <td>0.000117</td>\n      <td>44.058563</td>\n      <td>-73.309940</td>\n      <td>1.911979e+09</td>\n      <td>-2.728047e+07</td>\n      <td>-9.507778e+08</td>\n      <td>273.10</td>\n      <td>370.641565</td>\n      <td>0.002492</td>\n    </tr>\n    <tr>\n      <th>2022-04-29 21:00:00</th>\n      <td>39880.959476</td>\n      <td>38179.276524</td>\n      <td>38809.952189</td>\n      <td>39075.081657</td>\n      <td>39313.450401</td>\n      <td>39212.194712</td>\n      <td>39325.935667</td>\n      <td>38870.880</td>\n      <td>38904.560</td>\n      <td>34322.28</td>\n      <td>...</td>\n      <td>66.280453</td>\n      <td>-0.002887</td>\n      <td>45.451942</td>\n      <td>-73.603953</td>\n      <td>1.915031e+09</td>\n      <td>-1.402109e+07</td>\n      <td>-9.814700e+08</td>\n      <td>199.52</td>\n      <td>358.418596</td>\n      <td>0.002411</td>\n    </tr>\n    <tr>\n      <th>2022-04-29 22:00:00</th>\n      <td>39822.051152</td>\n      <td>38146.835848</td>\n      <td>38768.811531</td>\n      <td>39044.988002</td>\n      <td>39297.106258</td>\n      <td>39178.867493</td>\n      <td>39282.908667</td>\n      <td>38804.295</td>\n      <td>38792.615</td>\n      <td>34322.28</td>\n      <td>...</td>\n      <td>99.613787</td>\n      <td>-0.005823</td>\n      <td>48.213134</td>\n      <td>-64.894797</td>\n      <td>1.933819e+09</td>\n      <td>-1.344152e+06</td>\n      <td>-9.560888e+08</td>\n      <td>205.26</td>\n      <td>347.478696</td>\n      <td>0.002331</td>\n    </tr>\n    <tr>\n      <th>2022-04-29 23:00:00</th>\n      <td>39750.458930</td>\n      <td>38124.738070</td>\n      <td>38730.578005</td>\n      <td>39016.028130</td>\n      <td>39288.148026</td>\n      <td>39123.882157</td>\n      <td>39226.655000</td>\n      <td>38804.295</td>\n      <td>38790.685</td>\n      <td>34322.28</td>\n      <td>...</td>\n      <td>98.523521</td>\n      <td>-0.008675</td>\n      <td>55.486596</td>\n      <td>-65.801506</td>\n      <td>1.926950e+09</td>\n      <td>1.778577e+06</td>\n      <td>-9.818887e+08</td>\n      <td>109.38</td>\n      <td>330.471647</td>\n      <td>0.002218</td>\n    </tr>\n    <tr>\n      <th>2022-04-30 00:00:00</th>\n      <td>39662.945986</td>\n      <td>38121.952014</td>\n      <td>38702.033293</td>\n      <td>38991.765025</td>\n      <td>39267.953043</td>\n      <td>39085.911460</td>\n      <td>39178.542667</td>\n      <td>38804.295</td>\n      <td>38790.685</td>\n      <td>34322.28</td>\n      <td>...</td>\n      <td>98.909735</td>\n      <td>-0.011392</td>\n      <td>53.973318</td>\n      <td>-62.241243</td>\n      <td>1.914822e+09</td>\n      <td>-9.646129e+05</td>\n      <td>-9.374077e+08</td>\n      <td>244.26</td>\n      <td>324.313672</td>\n      <td>0.002172</td>\n    </tr>\n  </tbody>\n</table>\n<p>2023 rows × 61 columns</p>\n</div>"
     },
     "execution_count": 230,
     "metadata": {},
     "output_type": "execute_result"
    }
   ],
   "source": [
    "new_df_crypto_list[0]"
   ],
   "metadata": {
    "collapsed": false,
    "ExecuteTime": {
     "end_time": "2023-06-07T05:16:30.524496Z",
     "start_time": "2023-06-07T05:16:30.481350Z"
    }
   }
  },
  {
   "cell_type": "markdown",
   "source": [
    "## Build Models"
   ],
   "metadata": {
    "collapsed": false
   }
  },
  {
   "cell_type": "code",
   "execution_count": 281,
   "outputs": [],
   "source": [
    "from sklearn.model_selection import train_test_split\n",
    "from sklearn.model_selection import KFold\n",
    "from sklearn.metrics import f1_score, accuracy_score, precision_score, recall_score"
   ],
   "metadata": {
    "collapsed": false,
    "ExecuteTime": {
     "end_time": "2023-06-07T05:24:39.985751Z",
     "start_time": "2023-06-07T05:24:39.965951Z"
    }
   }
  },
  {
   "cell_type": "markdown",
   "source": [
    "### MLP"
   ],
   "metadata": {
    "collapsed": false
   }
  },
  {
   "cell_type": "code",
   "execution_count": 280,
   "outputs": [],
   "source": [
    "from sklearn.neural_network import MLPClassifier"
   ],
   "metadata": {
    "collapsed": false,
    "ExecuteTime": {
     "end_time": "2023-06-07T05:24:37.510568Z",
     "start_time": "2023-06-07T05:24:37.499513Z"
    }
   }
  },
  {
   "cell_type": "markdown",
   "source": [
    "#### BTC"
   ],
   "metadata": {
    "collapsed": false
   }
  },
  {
   "cell_type": "markdown",
   "source": [
    "#### No indicators"
   ],
   "metadata": {
    "collapsed": false
   }
  },
  {
   "cell_type": "code",
   "execution_count": 282,
   "outputs": [],
   "source": [
    "X_btc = df_crypto_list[0]\n",
    "y_btc = target_list[0]\n",
    "\n",
    "X_btc_train, X_btc_test, y_btc_train, y_btc_test = train_test_split(X_btc, y_btc, test_size=0.33, random_state=42)"
   ],
   "metadata": {
    "collapsed": false,
    "ExecuteTime": {
     "end_time": "2023-06-07T05:25:31.940895Z",
     "start_time": "2023-06-07T05:25:31.924553Z"
    }
   }
  },
  {
   "cell_type": "code",
   "execution_count": 240,
   "outputs": [
    {
     "data": {
      "text/plain": "MLPClassifier(alpha=0.0002, hidden_layer_sizes=(71,))",
      "text/html": "<style>#sk-container-id-6 {color: black;background-color: white;}#sk-container-id-6 pre{padding: 0;}#sk-container-id-6 div.sk-toggleable {background-color: white;}#sk-container-id-6 label.sk-toggleable__label {cursor: pointer;display: block;width: 100%;margin-bottom: 0;padding: 0.3em;box-sizing: border-box;text-align: center;}#sk-container-id-6 label.sk-toggleable__label-arrow:before {content: \"▸\";float: left;margin-right: 0.25em;color: #696969;}#sk-container-id-6 label.sk-toggleable__label-arrow:hover:before {color: black;}#sk-container-id-6 div.sk-estimator:hover label.sk-toggleable__label-arrow:before {color: black;}#sk-container-id-6 div.sk-toggleable__content {max-height: 0;max-width: 0;overflow: hidden;text-align: left;background-color: #f0f8ff;}#sk-container-id-6 div.sk-toggleable__content pre {margin: 0.2em;color: black;border-radius: 0.25em;background-color: #f0f8ff;}#sk-container-id-6 input.sk-toggleable__control:checked~div.sk-toggleable__content {max-height: 200px;max-width: 100%;overflow: auto;}#sk-container-id-6 input.sk-toggleable__control:checked~label.sk-toggleable__label-arrow:before {content: \"▾\";}#sk-container-id-6 div.sk-estimator input.sk-toggleable__control:checked~label.sk-toggleable__label {background-color: #d4ebff;}#sk-container-id-6 div.sk-label input.sk-toggleable__control:checked~label.sk-toggleable__label {background-color: #d4ebff;}#sk-container-id-6 input.sk-hidden--visually {border: 0;clip: rect(1px 1px 1px 1px);clip: rect(1px, 1px, 1px, 1px);height: 1px;margin: -1px;overflow: hidden;padding: 0;position: absolute;width: 1px;}#sk-container-id-6 div.sk-estimator {font-family: monospace;background-color: #f0f8ff;border: 1px dotted black;border-radius: 0.25em;box-sizing: border-box;margin-bottom: 0.5em;}#sk-container-id-6 div.sk-estimator:hover {background-color: #d4ebff;}#sk-container-id-6 div.sk-parallel-item::after {content: \"\";width: 100%;border-bottom: 1px solid gray;flex-grow: 1;}#sk-container-id-6 div.sk-label:hover label.sk-toggleable__label {background-color: #d4ebff;}#sk-container-id-6 div.sk-serial::before {content: \"\";position: absolute;border-left: 1px solid gray;box-sizing: border-box;top: 0;bottom: 0;left: 50%;z-index: 0;}#sk-container-id-6 div.sk-serial {display: flex;flex-direction: column;align-items: center;background-color: white;padding-right: 0.2em;padding-left: 0.2em;position: relative;}#sk-container-id-6 div.sk-item {position: relative;z-index: 1;}#sk-container-id-6 div.sk-parallel {display: flex;align-items: stretch;justify-content: center;background-color: white;position: relative;}#sk-container-id-6 div.sk-item::before, #sk-container-id-6 div.sk-parallel-item::before {content: \"\";position: absolute;border-left: 1px solid gray;box-sizing: border-box;top: 0;bottom: 0;left: 50%;z-index: -1;}#sk-container-id-6 div.sk-parallel-item {display: flex;flex-direction: column;z-index: 1;position: relative;background-color: white;}#sk-container-id-6 div.sk-parallel-item:first-child::after {align-self: flex-end;width: 50%;}#sk-container-id-6 div.sk-parallel-item:last-child::after {align-self: flex-start;width: 50%;}#sk-container-id-6 div.sk-parallel-item:only-child::after {width: 0;}#sk-container-id-6 div.sk-dashed-wrapped {border: 1px dashed gray;margin: 0 0.4em 0.5em 0.4em;box-sizing: border-box;padding-bottom: 0.4em;background-color: white;}#sk-container-id-6 div.sk-label label {font-family: monospace;font-weight: bold;display: inline-block;line-height: 1.2em;}#sk-container-id-6 div.sk-label-container {text-align: center;}#sk-container-id-6 div.sk-container {/* jupyter's `normalize.less` sets `[hidden] { display: none; }` but bootstrap.min.css set `[hidden] { display: none !important; }` so we also need the `!important` here to be able to override the default hidden behavior on the sphinx rendered scikit-learn.org. See: https://github.com/scikit-learn/scikit-learn/issues/21755 */display: inline-block !important;position: relative;}#sk-container-id-6 div.sk-text-repr-fallback {display: none;}</style><div id=\"sk-container-id-6\" class=\"sk-top-container\"><div class=\"sk-text-repr-fallback\"><pre>MLPClassifier(alpha=0.0002, hidden_layer_sizes=(71,))</pre><b>In a Jupyter environment, please rerun this cell to show the HTML representation or trust the notebook. <br />On GitHub, the HTML representation is unable to render, please try loading this page with nbviewer.org.</b></div><div class=\"sk-container\" hidden><div class=\"sk-item\"><div class=\"sk-estimator sk-toggleable\"><input class=\"sk-toggleable__control sk-hidden--visually\" id=\"sk-estimator-id-6\" type=\"checkbox\" checked><label for=\"sk-estimator-id-6\" class=\"sk-toggleable__label sk-toggleable__label-arrow\">MLPClassifier</label><div class=\"sk-toggleable__content\"><pre>MLPClassifier(alpha=0.0002, hidden_layer_sizes=(71,))</pre></div></div></div></div></div>"
     },
     "execution_count": 240,
     "metadata": {},
     "output_type": "execute_result"
    }
   ],
   "source": [
    "mlp_model_btc = MLPClassifier(solver='adam', alpha=0.0002, hidden_layer_sizes=(71,))\n",
    "\n",
    "mlp_model_btc.fit(X_btc_train, y_btc_train)"
   ],
   "metadata": {
    "collapsed": false,
    "ExecuteTime": {
     "end_time": "2023-06-07T05:17:29.509417Z",
     "start_time": "2023-06-07T05:17:29.398180Z"
    }
   }
  },
  {
   "cell_type": "code",
   "execution_count": 241,
   "outputs": [],
   "source": [
    "y_predict_btc = mlp_model_btc.predict(X_btc_test)"
   ],
   "metadata": {
    "collapsed": false,
    "ExecuteTime": {
     "end_time": "2023-06-07T05:17:30.207292Z",
     "start_time": "2023-06-07T05:17:30.197203Z"
    }
   }
  },
  {
   "cell_type": "code",
   "execution_count": 242,
   "outputs": [
    {
     "name": "stdout",
     "output_type": "stream",
     "text": [
      "precision = 0.48952095808383234\n",
      "recall = 1.0\n",
      "accuracy = 0.48952095808383234\n",
      "f1-score = 0.657286432160804\n"
     ]
    }
   ],
   "source": [
    "precision = precision_score(y_btc_test, y_predict_btc)\n",
    "recall = recall_score(y_btc_test, y_predict_btc)\n",
    "accuracy = accuracy_score(y_btc_test, y_predict_btc)\n",
    "f1 = f1_score(y_btc_test, y_predict_btc)\n",
    "\n",
    "print(f\"precision = {precision}\")\n",
    "print(f\"recall = {recall}\")\n",
    "print(f\"accuracy = {accuracy}\")\n",
    "print(f\"f1-score = {f1}\")"
   ],
   "metadata": {
    "collapsed": false,
    "ExecuteTime": {
     "end_time": "2023-06-07T05:17:30.975382Z",
     "start_time": "2023-06-07T05:17:30.963485Z"
    }
   }
  },
  {
   "cell_type": "code",
   "execution_count": 310,
   "outputs": [
    {
     "name": "stdout",
     "output_type": "stream",
     "text": [
      "precision = 0.4839390225308171\n",
      "recall = 1.0\n",
      "accuracy = 0.4839390225308171\n",
      "f1-score = 0.652190007976255\n"
     ]
    }
   ],
   "source": [
    "folds = KFold(n_splits=2, shuffle=True, random_state=42)\n",
    "\n",
    "precision_list = []\n",
    "recall_list = []\n",
    "accuracy_list = []\n",
    "f1_list = []\n",
    "\n",
    "for i, (train_index, test_index) in enumerate(folds.split(X_btc)):\n",
    "    mlp_model_btc = MLPClassifier(solver='adam', alpha=0.0002, hidden_layer_sizes=(71,))\n",
    "    mlp_model_btc.fit(X_btc.iloc[train_index], y_btc.iloc[train_index])\n",
    "    y_predict_btc = mlp_model_btc.predict(X_btc.iloc[test_index])\n",
    "\n",
    "    precision_list.append(precision_score(y_btc.iloc[test_index], y_predict_btc))\n",
    "    recall_list.append(recall_score(y_btc.iloc[test_index], y_predict_btc))\n",
    "    accuracy_list.append(accuracy_score(y_btc.iloc[test_index], y_predict_btc))\n",
    "    f1_list.append(f1_score(y_btc.iloc[test_index], y_predict_btc))\n",
    "\n",
    "precision = sum(precision_list) / len(precision_list)\n",
    "recall = sum(recall_list) / len(recall_list)\n",
    "accuracy = sum(accuracy_list) / len(accuracy_list)\n",
    "f1 = sum(f1_list) / len(f1_list)\n",
    "\n",
    "print(f\"precision = {precision}\")\n",
    "print(f\"recall = {recall}\")\n",
    "print(f\"accuracy = {accuracy}\")\n",
    "print(f\"f1-score = {f1}\")"
   ],
   "metadata": {
    "collapsed": false,
    "ExecuteTime": {
     "end_time": "2023-06-07T05:43:34.822201Z",
     "start_time": "2023-06-07T05:43:34.717120Z"
    }
   }
  },
  {
   "cell_type": "markdown",
   "source": [
    "#### With Indicators"
   ],
   "metadata": {
    "collapsed": false
   }
  },
  {
   "cell_type": "code",
   "execution_count": 311,
   "outputs": [],
   "source": [
    "X_btc = new_df_crypto_list[0]\n",
    "y_btc = target_list[0]\n",
    "\n",
    "X_btc_train, X_btc_test, y_btc_train, y_btc_test = train_test_split(X_btc, y_btc, test_size=0.33, random_state=42)"
   ],
   "metadata": {
    "collapsed": false,
    "ExecuteTime": {
     "end_time": "2023-06-07T05:43:57.396015Z",
     "start_time": "2023-06-07T05:43:57.389979Z"
    }
   }
  },
  {
   "cell_type": "code",
   "execution_count": 278,
   "outputs": [
    {
     "data": {
      "text/plain": "MLPClassifier(alpha=0.0002, hidden_layer_sizes=(71,))",
      "text/html": "<style>#sk-container-id-24 {color: black;background-color: white;}#sk-container-id-24 pre{padding: 0;}#sk-container-id-24 div.sk-toggleable {background-color: white;}#sk-container-id-24 label.sk-toggleable__label {cursor: pointer;display: block;width: 100%;margin-bottom: 0;padding: 0.3em;box-sizing: border-box;text-align: center;}#sk-container-id-24 label.sk-toggleable__label-arrow:before {content: \"▸\";float: left;margin-right: 0.25em;color: #696969;}#sk-container-id-24 label.sk-toggleable__label-arrow:hover:before {color: black;}#sk-container-id-24 div.sk-estimator:hover label.sk-toggleable__label-arrow:before {color: black;}#sk-container-id-24 div.sk-toggleable__content {max-height: 0;max-width: 0;overflow: hidden;text-align: left;background-color: #f0f8ff;}#sk-container-id-24 div.sk-toggleable__content pre {margin: 0.2em;color: black;border-radius: 0.25em;background-color: #f0f8ff;}#sk-container-id-24 input.sk-toggleable__control:checked~div.sk-toggleable__content {max-height: 200px;max-width: 100%;overflow: auto;}#sk-container-id-24 input.sk-toggleable__control:checked~label.sk-toggleable__label-arrow:before {content: \"▾\";}#sk-container-id-24 div.sk-estimator input.sk-toggleable__control:checked~label.sk-toggleable__label {background-color: #d4ebff;}#sk-container-id-24 div.sk-label input.sk-toggleable__control:checked~label.sk-toggleable__label {background-color: #d4ebff;}#sk-container-id-24 input.sk-hidden--visually {border: 0;clip: rect(1px 1px 1px 1px);clip: rect(1px, 1px, 1px, 1px);height: 1px;margin: -1px;overflow: hidden;padding: 0;position: absolute;width: 1px;}#sk-container-id-24 div.sk-estimator {font-family: monospace;background-color: #f0f8ff;border: 1px dotted black;border-radius: 0.25em;box-sizing: border-box;margin-bottom: 0.5em;}#sk-container-id-24 div.sk-estimator:hover {background-color: #d4ebff;}#sk-container-id-24 div.sk-parallel-item::after {content: \"\";width: 100%;border-bottom: 1px solid gray;flex-grow: 1;}#sk-container-id-24 div.sk-label:hover label.sk-toggleable__label {background-color: #d4ebff;}#sk-container-id-24 div.sk-serial::before {content: \"\";position: absolute;border-left: 1px solid gray;box-sizing: border-box;top: 0;bottom: 0;left: 50%;z-index: 0;}#sk-container-id-24 div.sk-serial {display: flex;flex-direction: column;align-items: center;background-color: white;padding-right: 0.2em;padding-left: 0.2em;position: relative;}#sk-container-id-24 div.sk-item {position: relative;z-index: 1;}#sk-container-id-24 div.sk-parallel {display: flex;align-items: stretch;justify-content: center;background-color: white;position: relative;}#sk-container-id-24 div.sk-item::before, #sk-container-id-24 div.sk-parallel-item::before {content: \"\";position: absolute;border-left: 1px solid gray;box-sizing: border-box;top: 0;bottom: 0;left: 50%;z-index: -1;}#sk-container-id-24 div.sk-parallel-item {display: flex;flex-direction: column;z-index: 1;position: relative;background-color: white;}#sk-container-id-24 div.sk-parallel-item:first-child::after {align-self: flex-end;width: 50%;}#sk-container-id-24 div.sk-parallel-item:last-child::after {align-self: flex-start;width: 50%;}#sk-container-id-24 div.sk-parallel-item:only-child::after {width: 0;}#sk-container-id-24 div.sk-dashed-wrapped {border: 1px dashed gray;margin: 0 0.4em 0.5em 0.4em;box-sizing: border-box;padding-bottom: 0.4em;background-color: white;}#sk-container-id-24 div.sk-label label {font-family: monospace;font-weight: bold;display: inline-block;line-height: 1.2em;}#sk-container-id-24 div.sk-label-container {text-align: center;}#sk-container-id-24 div.sk-container {/* jupyter's `normalize.less` sets `[hidden] { display: none; }` but bootstrap.min.css set `[hidden] { display: none !important; }` so we also need the `!important` here to be able to override the default hidden behavior on the sphinx rendered scikit-learn.org. See: https://github.com/scikit-learn/scikit-learn/issues/21755 */display: inline-block !important;position: relative;}#sk-container-id-24 div.sk-text-repr-fallback {display: none;}</style><div id=\"sk-container-id-24\" class=\"sk-top-container\"><div class=\"sk-text-repr-fallback\"><pre>MLPClassifier(alpha=0.0002, hidden_layer_sizes=(71,))</pre><b>In a Jupyter environment, please rerun this cell to show the HTML representation or trust the notebook. <br />On GitHub, the HTML representation is unable to render, please try loading this page with nbviewer.org.</b></div><div class=\"sk-container\" hidden><div class=\"sk-item\"><div class=\"sk-estimator sk-toggleable\"><input class=\"sk-toggleable__control sk-hidden--visually\" id=\"sk-estimator-id-24\" type=\"checkbox\" checked><label for=\"sk-estimator-id-24\" class=\"sk-toggleable__label sk-toggleable__label-arrow\">MLPClassifier</label><div class=\"sk-toggleable__content\"><pre>MLPClassifier(alpha=0.0002, hidden_layer_sizes=(71,))</pre></div></div></div></div></div>"
     },
     "execution_count": 278,
     "metadata": {},
     "output_type": "execute_result"
    }
   ],
   "source": [
    "mlp_model_btc = MLPClassifier(solver='adam', alpha=0.0002, hidden_layer_sizes=(71,))\n",
    "\n",
    "mlp_model_btc.fit(X_btc_train, y_btc_train)"
   ],
   "metadata": {
    "collapsed": false,
    "ExecuteTime": {
     "end_time": "2023-06-07T05:22:27.659098Z",
     "start_time": "2023-06-07T05:22:27.481990Z"
    }
   }
  },
  {
   "cell_type": "code",
   "execution_count": 279,
   "outputs": [
    {
     "name": "stdout",
     "output_type": "stream",
     "text": [
      "precision = 0.5098684210526315\n",
      "recall = 0.9480122324159022\n",
      "accuracy = 0.5284431137724551\n",
      "f1-score = 0.6631016042780749\n"
     ]
    }
   ],
   "source": [
    "y_predict_btc = mlp_model_btc.predict(X_btc_test)\n",
    "\n",
    "precision = precision_score(y_btc_test, y_predict_btc)\n",
    "recall = recall_score(y_btc_test, y_predict_btc)\n",
    "accuracy = accuracy_score(y_btc_test, y_predict_btc)\n",
    "f1 = f1_score(y_btc_test, y_predict_btc)\n",
    "\n",
    "print(f\"precision = {precision}\")\n",
    "print(f\"recall = {recall}\")\n",
    "print(f\"accuracy = {accuracy}\")\n",
    "print(f\"f1-score = {f1}\")"
   ],
   "metadata": {
    "collapsed": false,
    "ExecuteTime": {
     "end_time": "2023-06-07T05:22:28.702950Z",
     "start_time": "2023-06-07T05:22:28.681200Z"
    }
   }
  },
  {
   "cell_type": "markdown",
   "source": [],
   "metadata": {
    "collapsed": false
   }
  },
  {
   "cell_type": "code",
   "execution_count": 312,
   "outputs": [
    {
     "name": "stdout",
     "output_type": "stream",
     "text": [
      "precision = 0.48108065467616024\n",
      "recall = 0.8375226477636116\n",
      "accuracy = 0.48197935359269384\n",
      "f1-score = 0.6106345400743352\n"
     ]
    }
   ],
   "source": [
    "folds = KFold(n_splits=2, shuffle=True, random_state=42)\n",
    "\n",
    "precision_list = []\n",
    "recall_list = []\n",
    "accuracy_list = []\n",
    "f1_list = []\n",
    "\n",
    "for i, (train_index, test_index) in enumerate(folds.split(X_btc)):\n",
    "    mlp_model_btc = MLPClassifier(solver='adam', alpha=0.0002, hidden_layer_sizes=(71,))\n",
    "    mlp_model_btc.fit(X_btc.iloc[train_index], y_btc.iloc[train_index])\n",
    "    y_predict_btc = mlp_model_btc.predict(X_btc.iloc[test_index])\n",
    "\n",
    "    precision_list.append(precision_score(y_btc.iloc[test_index], y_predict_btc))\n",
    "    recall_list.append(recall_score(y_btc.iloc[test_index], y_predict_btc))\n",
    "    accuracy_list.append(accuracy_score(y_btc.iloc[test_index], y_predict_btc))\n",
    "    f1_list.append(f1_score(y_btc.iloc[test_index], y_predict_btc))\n",
    "\n",
    "precision = sum(precision_list) / len(precision_list)\n",
    "recall = sum(recall_list) / len(recall_list)\n",
    "accuracy = sum(accuracy_list) / len(accuracy_list)\n",
    "f1 = sum(f1_list) / len(f1_list)\n",
    "\n",
    "print(f\"precision = {precision}\")\n",
    "print(f\"recall = {recall}\")\n",
    "print(f\"accuracy = {accuracy}\")\n",
    "print(f\"f1-score = {f1}\")"
   ],
   "metadata": {
    "collapsed": false,
    "ExecuteTime": {
     "end_time": "2023-06-07T05:44:08.100221Z",
     "start_time": "2023-06-07T05:44:07.965678Z"
    }
   }
  },
  {
   "cell_type": "code",
   "execution_count": null,
   "outputs": [],
   "source": [],
   "metadata": {
    "collapsed": false
   }
  }
 ],
 "metadata": {
  "kernelspec": {
   "display_name": "Python 3",
   "language": "python",
   "name": "python3"
  },
  "language_info": {
   "codemirror_mode": {
    "name": "ipython",
    "version": 2
   },
   "file_extension": ".py",
   "mimetype": "text/x-python",
   "name": "python",
   "nbconvert_exporter": "python",
   "pygments_lexer": "ipython2",
   "version": "2.7.6"
  }
 },
 "nbformat": 4,
 "nbformat_minor": 0
}
