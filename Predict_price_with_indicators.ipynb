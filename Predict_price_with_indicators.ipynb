{
 "cells": [
  {
   "cell_type": "code",
   "execution_count": 1,
   "metadata": {
    "collapsed": true,
    "ExecuteTime": {
     "end_time": "2023-06-07T02:18:29.574631Z",
     "start_time": "2023-06-07T02:18:29.228349Z"
    }
   },
   "outputs": [],
   "source": [
    "from Core.Preprocess import *\n",
    "from Core.CryptoCompareAPI import *\n",
    "from Core.config_reader import config_reader"
   ]
  },
  {
   "cell_type": "code",
   "execution_count": 84,
   "outputs": [],
   "source": [
    "import pandas as pd\n",
    "import calendar"
   ],
   "metadata": {
    "collapsed": false,
    "ExecuteTime": {
     "end_time": "2023-06-07T02:48:44.498793Z",
     "start_time": "2023-06-07T02:48:44.473106Z"
    }
   }
  },
  {
   "cell_type": "markdown",
   "source": [
    "## Download Data"
   ],
   "metadata": {
    "collapsed": false
   }
  },
  {
   "cell_type": "code",
   "execution_count": 3,
   "outputs": [],
   "source": [
    "reader = config_reader('/Users/admin/PycharmProjects/Market_Prediction_Using_News_and_Indicators/config.yml')\n",
    "\n",
    "crypto_currency_list = reader.read_config(\"CRYPTO_CURRENCIES_LIST\")\n",
    "exchange = reader.read_config(\"EXCHANGE\")\n",
    "currency = reader.read_config(\"CURRENCY\")"
   ],
   "metadata": {
    "collapsed": false,
    "ExecuteTime": {
     "end_time": "2023-06-07T02:18:37.255368Z",
     "start_time": "2023-06-07T02:18:37.247917Z"
    }
   }
  },
  {
   "cell_type": "code",
   "execution_count": 74,
   "outputs": [],
   "source": [
    "df_crypto_list = []"
   ],
   "metadata": {
    "collapsed": false,
    "ExecuteTime": {
     "end_time": "2023-06-07T02:44:28.103785Z",
     "start_time": "2023-06-07T02:44:28.091836Z"
    }
   }
  },
  {
   "cell_type": "code",
   "execution_count": 75,
   "outputs": [],
   "source": [
    " for crypto in crypto_currency_list:\n",
    "    raw_data = get_historical_price_hour_from(\n",
    "        coin=crypto,\n",
    "        currency=currency,\n",
    "        exchange=exchange,\n",
    "        toTs=int(calendar.timegm(datetime.datetime(2022, 5, 1, 0, 0, 0).timetuple())),\n",
    "        fromTs=int(calendar.timegm(datetime.datetime(2022, 2, 1, 0, 0, 0).timetuple()))\n",
    "    )\n",
    "    data = Preprocess.get_from_crypto_compare_hourly_price_data_to_pandas(raw_data)\n",
    "    df_crypto_list.append(data)"
   ],
   "metadata": {
    "collapsed": false,
    "ExecuteTime": {
     "end_time": "2023-06-07T02:44:37.561938Z",
     "start_time": "2023-06-07T02:44:28.673303Z"
    }
   }
  },
  {
   "cell_type": "markdown",
   "source": [
    "## Preprocessing"
   ],
   "metadata": {
    "collapsed": false
   }
  },
  {
   "cell_type": "code",
   "execution_count": 76,
   "outputs": [
    {
     "data": {
      "text/plain": "                        close      high       low      open  volumefrom  \\\ntime                                                                      \n2022-02-01 00:00:00  38342.36  38627.35  38276.43  38466.90     1058.43   \n2022-02-01 01:00:00  38238.19  38407.00  38175.86  38342.36      777.86   \n2022-02-01 02:00:00  38480.90  38506.18  38196.61  38238.19      766.84   \n2022-02-01 03:00:00  38596.82  38649.90  38384.99  38480.90      946.46   \n2022-02-01 04:00:00  38556.82  38644.57  38470.37  38596.82      758.93   \n...                       ...       ...       ...       ...         ...   \n2022-04-30 20:00:00  38326.45  38466.83  38282.08  38466.83      676.71   \n2022-04-30 21:00:00  38301.14  38370.84  38248.66  38326.45      591.08   \n2022-04-30 22:00:00  38250.44  38370.00  38160.00  38301.14     1376.35   \n2022-04-30 23:00:00  37630.80  38277.77  37578.20  38250.44     6729.82   \n2022-05-01 00:00:00  37680.67  37806.79  37500.00  37630.80     2313.84   \n\n                         volumeto conversionType conversionSymbol   datetimes  \ntime                                                                           \n2022-02-01 00:00:00  4.064914e+07   force_direct                   2022-02-01  \n2022-02-01 01:00:00  2.978374e+07   force_direct                   2022-02-01  \n2022-02-01 02:00:00  2.941555e+07   force_direct                   2022-02-01  \n2022-02-01 03:00:00  3.646598e+07   force_direct                   2022-02-01  \n2022-02-01 04:00:00  2.926184e+07   force_direct                   2022-02-01  \n...                           ...            ...              ...         ...  \n2022-04-30 20:00:00  2.596374e+07   force_direct                   2022-04-30  \n2022-04-30 21:00:00  2.264638e+07   force_direct                   2022-04-30  \n2022-04-30 22:00:00  5.267822e+07   force_direct                   2022-04-30  \n2022-04-30 23:00:00  2.544878e+08   force_direct                   2022-04-30  \n2022-05-01 00:00:00  8.712640e+07   force_direct                   2022-05-01  \n\n[2137 rows x 9 columns]",
      "text/html": "<div>\n<style scoped>\n    .dataframe tbody tr th:only-of-type {\n        vertical-align: middle;\n    }\n\n    .dataframe tbody tr th {\n        vertical-align: top;\n    }\n\n    .dataframe thead th {\n        text-align: right;\n    }\n</style>\n<table border=\"1\" class=\"dataframe\">\n  <thead>\n    <tr style=\"text-align: right;\">\n      <th></th>\n      <th>close</th>\n      <th>high</th>\n      <th>low</th>\n      <th>open</th>\n      <th>volumefrom</th>\n      <th>volumeto</th>\n      <th>conversionType</th>\n      <th>conversionSymbol</th>\n      <th>datetimes</th>\n    </tr>\n    <tr>\n      <th>time</th>\n      <th></th>\n      <th></th>\n      <th></th>\n      <th></th>\n      <th></th>\n      <th></th>\n      <th></th>\n      <th></th>\n      <th></th>\n    </tr>\n  </thead>\n  <tbody>\n    <tr>\n      <th>2022-02-01 00:00:00</th>\n      <td>38342.36</td>\n      <td>38627.35</td>\n      <td>38276.43</td>\n      <td>38466.90</td>\n      <td>1058.43</td>\n      <td>4.064914e+07</td>\n      <td>force_direct</td>\n      <td></td>\n      <td>2022-02-01</td>\n    </tr>\n    <tr>\n      <th>2022-02-01 01:00:00</th>\n      <td>38238.19</td>\n      <td>38407.00</td>\n      <td>38175.86</td>\n      <td>38342.36</td>\n      <td>777.86</td>\n      <td>2.978374e+07</td>\n      <td>force_direct</td>\n      <td></td>\n      <td>2022-02-01</td>\n    </tr>\n    <tr>\n      <th>2022-02-01 02:00:00</th>\n      <td>38480.90</td>\n      <td>38506.18</td>\n      <td>38196.61</td>\n      <td>38238.19</td>\n      <td>766.84</td>\n      <td>2.941555e+07</td>\n      <td>force_direct</td>\n      <td></td>\n      <td>2022-02-01</td>\n    </tr>\n    <tr>\n      <th>2022-02-01 03:00:00</th>\n      <td>38596.82</td>\n      <td>38649.90</td>\n      <td>38384.99</td>\n      <td>38480.90</td>\n      <td>946.46</td>\n      <td>3.646598e+07</td>\n      <td>force_direct</td>\n      <td></td>\n      <td>2022-02-01</td>\n    </tr>\n    <tr>\n      <th>2022-02-01 04:00:00</th>\n      <td>38556.82</td>\n      <td>38644.57</td>\n      <td>38470.37</td>\n      <td>38596.82</td>\n      <td>758.93</td>\n      <td>2.926184e+07</td>\n      <td>force_direct</td>\n      <td></td>\n      <td>2022-02-01</td>\n    </tr>\n    <tr>\n      <th>...</th>\n      <td>...</td>\n      <td>...</td>\n      <td>...</td>\n      <td>...</td>\n      <td>...</td>\n      <td>...</td>\n      <td>...</td>\n      <td>...</td>\n      <td>...</td>\n    </tr>\n    <tr>\n      <th>2022-04-30 20:00:00</th>\n      <td>38326.45</td>\n      <td>38466.83</td>\n      <td>38282.08</td>\n      <td>38466.83</td>\n      <td>676.71</td>\n      <td>2.596374e+07</td>\n      <td>force_direct</td>\n      <td></td>\n      <td>2022-04-30</td>\n    </tr>\n    <tr>\n      <th>2022-04-30 21:00:00</th>\n      <td>38301.14</td>\n      <td>38370.84</td>\n      <td>38248.66</td>\n      <td>38326.45</td>\n      <td>591.08</td>\n      <td>2.264638e+07</td>\n      <td>force_direct</td>\n      <td></td>\n      <td>2022-04-30</td>\n    </tr>\n    <tr>\n      <th>2022-04-30 22:00:00</th>\n      <td>38250.44</td>\n      <td>38370.00</td>\n      <td>38160.00</td>\n      <td>38301.14</td>\n      <td>1376.35</td>\n      <td>5.267822e+07</td>\n      <td>force_direct</td>\n      <td></td>\n      <td>2022-04-30</td>\n    </tr>\n    <tr>\n      <th>2022-04-30 23:00:00</th>\n      <td>37630.80</td>\n      <td>38277.77</td>\n      <td>37578.20</td>\n      <td>38250.44</td>\n      <td>6729.82</td>\n      <td>2.544878e+08</td>\n      <td>force_direct</td>\n      <td></td>\n      <td>2022-04-30</td>\n    </tr>\n    <tr>\n      <th>2022-05-01 00:00:00</th>\n      <td>37680.67</td>\n      <td>37806.79</td>\n      <td>37500.00</td>\n      <td>37630.80</td>\n      <td>2313.84</td>\n      <td>8.712640e+07</td>\n      <td>force_direct</td>\n      <td></td>\n      <td>2022-05-01</td>\n    </tr>\n  </tbody>\n</table>\n<p>2137 rows × 9 columns</p>\n</div>"
     },
     "execution_count": 76,
     "metadata": {},
     "output_type": "execute_result"
    }
   ],
   "source": [
    "df_crypto_list[0]"
   ],
   "metadata": {
    "collapsed": false,
    "ExecuteTime": {
     "end_time": "2023-06-07T02:44:38.454707Z",
     "start_time": "2023-06-07T02:44:38.432633Z"
    }
   }
  },
  {
   "cell_type": "code",
   "execution_count": 77,
   "outputs": [],
   "source": [
    "for i in range(len(df_crypto_list)):\n",
    "    Preprocess.rename_columns(df_crypto_list[i])"
   ],
   "metadata": {
    "collapsed": false,
    "ExecuteTime": {
     "end_time": "2023-06-07T02:44:40.743240Z",
     "start_time": "2023-06-07T02:44:40.710558Z"
    }
   }
  },
  {
   "cell_type": "code",
   "execution_count": 78,
   "outputs": [
    {
     "data": {
      "text/plain": "                        Close      High       Low      Open        Volume\ntime                                                                     \n2022-02-01 00:00:00  38342.36  38627.35  38276.43  38466.90  4.064914e+07\n2022-02-01 01:00:00  38238.19  38407.00  38175.86  38342.36  2.978374e+07\n2022-02-01 02:00:00  38480.90  38506.18  38196.61  38238.19  2.941555e+07\n2022-02-01 03:00:00  38596.82  38649.90  38384.99  38480.90  3.646598e+07\n2022-02-01 04:00:00  38556.82  38644.57  38470.37  38596.82  2.926184e+07\n...                       ...       ...       ...       ...           ...\n2022-04-30 20:00:00  38326.45  38466.83  38282.08  38466.83  2.596374e+07\n2022-04-30 21:00:00  38301.14  38370.84  38248.66  38326.45  2.264638e+07\n2022-04-30 22:00:00  38250.44  38370.00  38160.00  38301.14  5.267822e+07\n2022-04-30 23:00:00  37630.80  38277.77  37578.20  38250.44  2.544878e+08\n2022-05-01 00:00:00  37680.67  37806.79  37500.00  37630.80  8.712640e+07\n\n[2137 rows x 5 columns]",
      "text/html": "<div>\n<style scoped>\n    .dataframe tbody tr th:only-of-type {\n        vertical-align: middle;\n    }\n\n    .dataframe tbody tr th {\n        vertical-align: top;\n    }\n\n    .dataframe thead th {\n        text-align: right;\n    }\n</style>\n<table border=\"1\" class=\"dataframe\">\n  <thead>\n    <tr style=\"text-align: right;\">\n      <th></th>\n      <th>Close</th>\n      <th>High</th>\n      <th>Low</th>\n      <th>Open</th>\n      <th>Volume</th>\n    </tr>\n    <tr>\n      <th>time</th>\n      <th></th>\n      <th></th>\n      <th></th>\n      <th></th>\n      <th></th>\n    </tr>\n  </thead>\n  <tbody>\n    <tr>\n      <th>2022-02-01 00:00:00</th>\n      <td>38342.36</td>\n      <td>38627.35</td>\n      <td>38276.43</td>\n      <td>38466.90</td>\n      <td>4.064914e+07</td>\n    </tr>\n    <tr>\n      <th>2022-02-01 01:00:00</th>\n      <td>38238.19</td>\n      <td>38407.00</td>\n      <td>38175.86</td>\n      <td>38342.36</td>\n      <td>2.978374e+07</td>\n    </tr>\n    <tr>\n      <th>2022-02-01 02:00:00</th>\n      <td>38480.90</td>\n      <td>38506.18</td>\n      <td>38196.61</td>\n      <td>38238.19</td>\n      <td>2.941555e+07</td>\n    </tr>\n    <tr>\n      <th>2022-02-01 03:00:00</th>\n      <td>38596.82</td>\n      <td>38649.90</td>\n      <td>38384.99</td>\n      <td>38480.90</td>\n      <td>3.646598e+07</td>\n    </tr>\n    <tr>\n      <th>2022-02-01 04:00:00</th>\n      <td>38556.82</td>\n      <td>38644.57</td>\n      <td>38470.37</td>\n      <td>38596.82</td>\n      <td>2.926184e+07</td>\n    </tr>\n    <tr>\n      <th>...</th>\n      <td>...</td>\n      <td>...</td>\n      <td>...</td>\n      <td>...</td>\n      <td>...</td>\n    </tr>\n    <tr>\n      <th>2022-04-30 20:00:00</th>\n      <td>38326.45</td>\n      <td>38466.83</td>\n      <td>38282.08</td>\n      <td>38466.83</td>\n      <td>2.596374e+07</td>\n    </tr>\n    <tr>\n      <th>2022-04-30 21:00:00</th>\n      <td>38301.14</td>\n      <td>38370.84</td>\n      <td>38248.66</td>\n      <td>38326.45</td>\n      <td>2.264638e+07</td>\n    </tr>\n    <tr>\n      <th>2022-04-30 22:00:00</th>\n      <td>38250.44</td>\n      <td>38370.00</td>\n      <td>38160.00</td>\n      <td>38301.14</td>\n      <td>5.267822e+07</td>\n    </tr>\n    <tr>\n      <th>2022-04-30 23:00:00</th>\n      <td>37630.80</td>\n      <td>38277.77</td>\n      <td>37578.20</td>\n      <td>38250.44</td>\n      <td>2.544878e+08</td>\n    </tr>\n    <tr>\n      <th>2022-05-01 00:00:00</th>\n      <td>37680.67</td>\n      <td>37806.79</td>\n      <td>37500.00</td>\n      <td>37630.80</td>\n      <td>8.712640e+07</td>\n    </tr>\n  </tbody>\n</table>\n<p>2137 rows × 5 columns</p>\n</div>"
     },
     "execution_count": 78,
     "metadata": {},
     "output_type": "execute_result"
    }
   ],
   "source": [
    "df_crypto_list[0]"
   ],
   "metadata": {
    "collapsed": false,
    "ExecuteTime": {
     "end_time": "2023-06-07T02:44:43.317642Z",
     "start_time": "2023-06-07T02:44:43.308054Z"
    }
   }
  },
  {
   "cell_type": "code",
   "execution_count": 79,
   "outputs": [],
   "source": [
    "df_crypto_list = list(map(Preprocess.compute_all_indicators, df_crypto_list))"
   ],
   "metadata": {
    "collapsed": false,
    "ExecuteTime": {
     "end_time": "2023-06-07T02:44:46.872318Z",
     "start_time": "2023-06-07T02:44:45.080877Z"
    }
   }
  },
  {
   "cell_type": "code",
   "execution_count": 80,
   "outputs": [],
   "source": [
    "for i in range(len(df_crypto_list)):\n",
    "    df_crypto_list[i].drop(columns=[\"Close\", \"High\", \"Low\", \"Open\", \"Volume\"], inplace=True)\n",
    "    df_crypto_list[i] = df_crypto_list[i].iloc[90:]"
   ],
   "metadata": {
    "collapsed": false,
    "ExecuteTime": {
     "end_time": "2023-06-07T02:44:48.454955Z",
     "start_time": "2023-06-07T02:44:48.427651Z"
    }
   }
  },
  {
   "cell_type": "code",
   "execution_count": 83,
   "outputs": [
    {
     "data": {
      "text/plain": "                          UpperBB       LowerBB          DEMA           EMA  \\\ntime                                                                          \n2022-02-04 18:00:00  40353.302329  35918.871671  38724.151122  38100.630020   \n2022-02-04 19:00:00  40769.482460  35844.321540  39011.992214  38270.131955   \n2022-02-04 20:00:00  41079.282361  35875.268639  39253.562275  38419.671829   \n2022-02-04 21:00:00  41343.475235  35956.630765  39475.035920  38561.896227   \n2022-02-04 22:00:00  41573.542988  36058.112012  39675.833623  38696.079696   \n...                           ...           ...           ...           ...   \n2022-04-30 20:00:00  38817.330196  38245.105804  38340.412243  38619.268306   \n2022-04-30 21:00:00  38803.026319  38219.327681  38318.678299  38598.743899   \n2022-04-30 22:00:00  38789.827932  38188.271068  38293.254365  38576.272680   \n2022-04-30 23:00:00  38915.865413  37959.676587  38193.452506  38515.274442   \n2022-05-01 00:00:00  38975.874276  37812.398724  38109.998216  38461.428994   \n\n                     HT_TRENDLINE          KAMA            MA   MIDPOINT  \\\ntime                                                                       \n2022-02-04 18:00:00  37434.617702  38402.621527  37660.167667  38970.930   \n2022-02-04 19:00:00  37518.339136  38739.630392  37798.262000  39074.655   \n2022-02-04 20:00:00  37598.399669  38997.767312  37934.338333  39074.655   \n2022-02-04 21:00:00  37675.517391  39207.938299  38058.141667  39074.655   \n2022-02-04 22:00:00  37766.415297  39423.053828  38189.966333  39074.655   \n...                           ...           ...           ...        ...   \n2022-04-30 20:00:00  38543.876250  38734.695653  38554.590667  38454.305   \n2022-04-30 21:00:00  38528.550500  38715.576556  38531.133333  38440.385   \n2022-04-30 22:00:00  38509.905800  38707.654251  38522.070333  38436.470   \n2022-04-30 23:00:00  38477.180450  38629.820155  38488.355667  38105.405   \n2022-05-01 00:00:00  38437.913500  38574.383524  38459.607667  38105.405   \n\n                      MIDPRICE       SAR  ...  STOCHRSI FASTD      TRIX  \\\ntime                                      ...                             \n2022-02-04 18:00:00  38961.010  36250.00  ...       98.476603 -0.011691   \n2022-02-04 19:00:00  39083.600  36250.00  ...       98.476603 -0.002145   \n2022-02-04 20:00:00  39087.580  36250.00  ...       65.143270  0.007877   \n2022-02-04 21:00:00  39087.580  36250.00  ...       35.991913  0.018190   \n2022-02-04 22:00:00  39087.580  36250.00  ...        6.690602  0.028623   \n...                        ...       ...  ...             ...       ...   \n2022-04-30 20:00:00  38451.095  34322.28  ...       73.273558 -0.039017   \n2022-04-30 21:00:00  38422.380  34322.28  ...       60.449300 -0.039700   \n2022-04-30 22:00:00  38407.380  34322.28  ...       27.115967 -0.040374   \n2022-04-30 23:00:00  38118.460  34322.28  ...       11.989618 -0.041447   \n2022-05-01 00:00:00  38069.190  34322.28  ...        4.682162 -0.042791   \n\n                        ULTOSC      WILLR            AD         ADOSC  \\\ntime                                                                    \n2022-02-04 18:00:00  64.119127  -5.665491  4.163835e+08  2.232880e+08   \n2022-02-04 19:00:00  64.504258  -4.156630  4.559270e+08  2.169142e+08   \n2022-02-04 20:00:00  67.242522  -8.260913  4.157808e+08  1.818135e+08   \n2022-02-04 21:00:00  67.727990  -7.255283  4.722276e+08  1.688860e+08   \n2022-02-04 22:00:00  65.822548  -6.765959  5.104049e+08  1.603915e+08   \n...                        ...        ...           ...           ...   \n2022-04-30 20:00:00  44.091768 -71.122333  1.662901e+09 -4.149096e+07   \n2022-04-30 21:00:00  49.901629 -72.760381  1.659709e+09 -3.484338e+07   \n2022-04-30 22:00:00  44.428035 -81.220657  1.652405e+09 -3.128056e+07   \n2022-04-30 23:00:00  35.248645 -95.131973  1.436186e+09 -9.577612e+07   \n2022-05-01 00:00:00  38.233624 -84.129201  1.451678e+09 -1.085245e+08   \n\n                              OBV  TRANGE         ATR      NATR  \ntime                                                             \n2022-02-04 18:00:00  8.408365e+07  383.22  520.992874  0.003181  \n2022-02-04 19:00:00  1.792901e+08  510.01  520.208383  0.003136  \n2022-02-04 20:00:00  7.511321e+07  428.71  513.672784  0.003118  \n2022-02-04 21:00:00  1.361546e+08  205.66  491.671871  0.002979  \n2022-02-04 22:00:00  1.825797e+08  284.14  476.848166  0.002887  \n...                           ...     ...         ...       ...  \n2022-04-30 20:00:00 -1.322932e+09  184.75  217.651086  0.001482  \n2022-04-30 21:00:00 -1.345579e+09  122.18  210.831723  0.001437  \n2022-04-30 22:00:00 -1.398257e+09  210.00  210.772314  0.001441  \n2022-04-30 23:00:00 -1.652745e+09  699.57  245.686434  0.001735  \n2022-05-01 00:00:00 -1.565618e+09  306.79  250.050975  0.001761  \n\n[2047 rows x 61 columns]",
      "text/html": "<div>\n<style scoped>\n    .dataframe tbody tr th:only-of-type {\n        vertical-align: middle;\n    }\n\n    .dataframe tbody tr th {\n        vertical-align: top;\n    }\n\n    .dataframe thead th {\n        text-align: right;\n    }\n</style>\n<table border=\"1\" class=\"dataframe\">\n  <thead>\n    <tr style=\"text-align: right;\">\n      <th></th>\n      <th>UpperBB</th>\n      <th>LowerBB</th>\n      <th>DEMA</th>\n      <th>EMA</th>\n      <th>HT_TRENDLINE</th>\n      <th>KAMA</th>\n      <th>MA</th>\n      <th>MIDPOINT</th>\n      <th>MIDPRICE</th>\n      <th>SAR</th>\n      <th>...</th>\n      <th>STOCHRSI FASTD</th>\n      <th>TRIX</th>\n      <th>ULTOSC</th>\n      <th>WILLR</th>\n      <th>AD</th>\n      <th>ADOSC</th>\n      <th>OBV</th>\n      <th>TRANGE</th>\n      <th>ATR</th>\n      <th>NATR</th>\n    </tr>\n    <tr>\n      <th>time</th>\n      <th></th>\n      <th></th>\n      <th></th>\n      <th></th>\n      <th></th>\n      <th></th>\n      <th></th>\n      <th></th>\n      <th></th>\n      <th></th>\n      <th></th>\n      <th></th>\n      <th></th>\n      <th></th>\n      <th></th>\n      <th></th>\n      <th></th>\n      <th></th>\n      <th></th>\n      <th></th>\n      <th></th>\n    </tr>\n  </thead>\n  <tbody>\n    <tr>\n      <th>2022-02-04 18:00:00</th>\n      <td>40353.302329</td>\n      <td>35918.871671</td>\n      <td>38724.151122</td>\n      <td>38100.630020</td>\n      <td>37434.617702</td>\n      <td>38402.621527</td>\n      <td>37660.167667</td>\n      <td>38970.930</td>\n      <td>38961.010</td>\n      <td>36250.00</td>\n      <td>...</td>\n      <td>98.476603</td>\n      <td>-0.011691</td>\n      <td>64.119127</td>\n      <td>-5.665491</td>\n      <td>4.163835e+08</td>\n      <td>2.232880e+08</td>\n      <td>8.408365e+07</td>\n      <td>383.22</td>\n      <td>520.992874</td>\n      <td>0.003181</td>\n    </tr>\n    <tr>\n      <th>2022-02-04 19:00:00</th>\n      <td>40769.482460</td>\n      <td>35844.321540</td>\n      <td>39011.992214</td>\n      <td>38270.131955</td>\n      <td>37518.339136</td>\n      <td>38739.630392</td>\n      <td>37798.262000</td>\n      <td>39074.655</td>\n      <td>39083.600</td>\n      <td>36250.00</td>\n      <td>...</td>\n      <td>98.476603</td>\n      <td>-0.002145</td>\n      <td>64.504258</td>\n      <td>-4.156630</td>\n      <td>4.559270e+08</td>\n      <td>2.169142e+08</td>\n      <td>1.792901e+08</td>\n      <td>510.01</td>\n      <td>520.208383</td>\n      <td>0.003136</td>\n    </tr>\n    <tr>\n      <th>2022-02-04 20:00:00</th>\n      <td>41079.282361</td>\n      <td>35875.268639</td>\n      <td>39253.562275</td>\n      <td>38419.671829</td>\n      <td>37598.399669</td>\n      <td>38997.767312</td>\n      <td>37934.338333</td>\n      <td>39074.655</td>\n      <td>39087.580</td>\n      <td>36250.00</td>\n      <td>...</td>\n      <td>65.143270</td>\n      <td>0.007877</td>\n      <td>67.242522</td>\n      <td>-8.260913</td>\n      <td>4.157808e+08</td>\n      <td>1.818135e+08</td>\n      <td>7.511321e+07</td>\n      <td>428.71</td>\n      <td>513.672784</td>\n      <td>0.003118</td>\n    </tr>\n    <tr>\n      <th>2022-02-04 21:00:00</th>\n      <td>41343.475235</td>\n      <td>35956.630765</td>\n      <td>39475.035920</td>\n      <td>38561.896227</td>\n      <td>37675.517391</td>\n      <td>39207.938299</td>\n      <td>38058.141667</td>\n      <td>39074.655</td>\n      <td>39087.580</td>\n      <td>36250.00</td>\n      <td>...</td>\n      <td>35.991913</td>\n      <td>0.018190</td>\n      <td>67.727990</td>\n      <td>-7.255283</td>\n      <td>4.722276e+08</td>\n      <td>1.688860e+08</td>\n      <td>1.361546e+08</td>\n      <td>205.66</td>\n      <td>491.671871</td>\n      <td>0.002979</td>\n    </tr>\n    <tr>\n      <th>2022-02-04 22:00:00</th>\n      <td>41573.542988</td>\n      <td>36058.112012</td>\n      <td>39675.833623</td>\n      <td>38696.079696</td>\n      <td>37766.415297</td>\n      <td>39423.053828</td>\n      <td>38189.966333</td>\n      <td>39074.655</td>\n      <td>39087.580</td>\n      <td>36250.00</td>\n      <td>...</td>\n      <td>6.690602</td>\n      <td>0.028623</td>\n      <td>65.822548</td>\n      <td>-6.765959</td>\n      <td>5.104049e+08</td>\n      <td>1.603915e+08</td>\n      <td>1.825797e+08</td>\n      <td>284.14</td>\n      <td>476.848166</td>\n      <td>0.002887</td>\n    </tr>\n    <tr>\n      <th>...</th>\n      <td>...</td>\n      <td>...</td>\n      <td>...</td>\n      <td>...</td>\n      <td>...</td>\n      <td>...</td>\n      <td>...</td>\n      <td>...</td>\n      <td>...</td>\n      <td>...</td>\n      <td>...</td>\n      <td>...</td>\n      <td>...</td>\n      <td>...</td>\n      <td>...</td>\n      <td>...</td>\n      <td>...</td>\n      <td>...</td>\n      <td>...</td>\n      <td>...</td>\n      <td>...</td>\n    </tr>\n    <tr>\n      <th>2022-04-30 20:00:00</th>\n      <td>38817.330196</td>\n      <td>38245.105804</td>\n      <td>38340.412243</td>\n      <td>38619.268306</td>\n      <td>38543.876250</td>\n      <td>38734.695653</td>\n      <td>38554.590667</td>\n      <td>38454.305</td>\n      <td>38451.095</td>\n      <td>34322.28</td>\n      <td>...</td>\n      <td>73.273558</td>\n      <td>-0.039017</td>\n      <td>44.091768</td>\n      <td>-71.122333</td>\n      <td>1.662901e+09</td>\n      <td>-4.149096e+07</td>\n      <td>-1.322932e+09</td>\n      <td>184.75</td>\n      <td>217.651086</td>\n      <td>0.001482</td>\n    </tr>\n    <tr>\n      <th>2022-04-30 21:00:00</th>\n      <td>38803.026319</td>\n      <td>38219.327681</td>\n      <td>38318.678299</td>\n      <td>38598.743899</td>\n      <td>38528.550500</td>\n      <td>38715.576556</td>\n      <td>38531.133333</td>\n      <td>38440.385</td>\n      <td>38422.380</td>\n      <td>34322.28</td>\n      <td>...</td>\n      <td>60.449300</td>\n      <td>-0.039700</td>\n      <td>49.901629</td>\n      <td>-72.760381</td>\n      <td>1.659709e+09</td>\n      <td>-3.484338e+07</td>\n      <td>-1.345579e+09</td>\n      <td>122.18</td>\n      <td>210.831723</td>\n      <td>0.001437</td>\n    </tr>\n    <tr>\n      <th>2022-04-30 22:00:00</th>\n      <td>38789.827932</td>\n      <td>38188.271068</td>\n      <td>38293.254365</td>\n      <td>38576.272680</td>\n      <td>38509.905800</td>\n      <td>38707.654251</td>\n      <td>38522.070333</td>\n      <td>38436.470</td>\n      <td>38407.380</td>\n      <td>34322.28</td>\n      <td>...</td>\n      <td>27.115967</td>\n      <td>-0.040374</td>\n      <td>44.428035</td>\n      <td>-81.220657</td>\n      <td>1.652405e+09</td>\n      <td>-3.128056e+07</td>\n      <td>-1.398257e+09</td>\n      <td>210.00</td>\n      <td>210.772314</td>\n      <td>0.001441</td>\n    </tr>\n    <tr>\n      <th>2022-04-30 23:00:00</th>\n      <td>38915.865413</td>\n      <td>37959.676587</td>\n      <td>38193.452506</td>\n      <td>38515.274442</td>\n      <td>38477.180450</td>\n      <td>38629.820155</td>\n      <td>38488.355667</td>\n      <td>38105.405</td>\n      <td>38118.460</td>\n      <td>34322.28</td>\n      <td>...</td>\n      <td>11.989618</td>\n      <td>-0.041447</td>\n      <td>35.248645</td>\n      <td>-95.131973</td>\n      <td>1.436186e+09</td>\n      <td>-9.577612e+07</td>\n      <td>-1.652745e+09</td>\n      <td>699.57</td>\n      <td>245.686434</td>\n      <td>0.001735</td>\n    </tr>\n    <tr>\n      <th>2022-05-01 00:00:00</th>\n      <td>38975.874276</td>\n      <td>37812.398724</td>\n      <td>38109.998216</td>\n      <td>38461.428994</td>\n      <td>38437.913500</td>\n      <td>38574.383524</td>\n      <td>38459.607667</td>\n      <td>38105.405</td>\n      <td>38069.190</td>\n      <td>34322.28</td>\n      <td>...</td>\n      <td>4.682162</td>\n      <td>-0.042791</td>\n      <td>38.233624</td>\n      <td>-84.129201</td>\n      <td>1.451678e+09</td>\n      <td>-1.085245e+08</td>\n      <td>-1.565618e+09</td>\n      <td>306.79</td>\n      <td>250.050975</td>\n      <td>0.001761</td>\n    </tr>\n  </tbody>\n</table>\n<p>2047 rows × 61 columns</p>\n</div>"
     },
     "execution_count": 83,
     "metadata": {},
     "output_type": "execute_result"
    }
   ],
   "source": [
    "df_crypto_list[0]"
   ],
   "metadata": {
    "collapsed": false,
    "ExecuteTime": {
     "end_time": "2023-06-07T02:45:01.624121Z",
     "start_time": "2023-06-07T02:45:01.585120Z"
    }
   }
  },
  {
   "cell_type": "markdown",
   "source": [
    "## Build Models"
   ],
   "metadata": {
    "collapsed": false
   }
  },
  {
   "cell_type": "code",
   "execution_count": 86,
   "outputs": [],
   "source": [
    "from sklearn.model_selection import train_test_split"
   ],
   "metadata": {
    "collapsed": false,
    "ExecuteTime": {
     "end_time": "2023-06-07T03:06:18.214600Z",
     "start_time": "2023-06-07T03:06:18.202388Z"
    }
   }
  },
  {
   "cell_type": "markdown",
   "source": [
    "### MLP"
   ],
   "metadata": {
    "collapsed": false
   }
  },
  {
   "cell_type": "code",
   "execution_count": 85,
   "outputs": [],
   "source": [
    "from sklearn.neural_network import MLPClassifier"
   ],
   "metadata": {
    "collapsed": false,
    "ExecuteTime": {
     "end_time": "2023-06-07T03:04:37.346272Z",
     "start_time": "2023-06-07T03:04:35.968923Z"
    }
   }
  },
  {
   "cell_type": "code",
   "execution_count": null,
   "outputs": [],
   "source": [],
   "metadata": {
    "collapsed": false
   }
  }
 ],
 "metadata": {
  "kernelspec": {
   "display_name": "Python 3",
   "language": "python",
   "name": "python3"
  },
  "language_info": {
   "codemirror_mode": {
    "name": "ipython",
    "version": 2
   },
   "file_extension": ".py",
   "mimetype": "text/x-python",
   "name": "python",
   "nbconvert_exporter": "python",
   "pygments_lexer": "ipython2",
   "version": "2.7.6"
  }
 },
 "nbformat": 4,
 "nbformat_minor": 0
}
