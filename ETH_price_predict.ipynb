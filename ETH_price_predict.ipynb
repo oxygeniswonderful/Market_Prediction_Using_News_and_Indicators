{
 "cells": [
  {
   "cell_type": "code",
   "execution_count": 1,
   "metadata": {
    "collapsed": true,
    "ExecuteTime": {
     "end_time": "2023-06-10T09:47:06.471326Z",
     "start_time": "2023-06-10T09:47:04.181432Z"
    }
   },
   "outputs": [],
   "source": [
    "import pandas as pd\n",
    "from tqdm.notebook import tqdm\n",
    "from sklearn.model_selection import train_test_split\n",
    "from sklearn.model_selection import KFold\n",
    "from sklearn.metrics import f1_score, accuracy_score, precision_score, recall_score"
   ]
  },
  {
   "cell_type": "code",
   "execution_count": 2,
   "outputs": [],
   "source": [
    "PATH = \"/Users/admin/PycharmProjects/Market_Prediction_Using_News_and_Indicators/Crypto_Currencies_Data/\""
   ],
   "metadata": {
    "collapsed": false,
    "ExecuteTime": {
     "end_time": "2023-06-10T09:47:06.476437Z",
     "start_time": "2023-06-10T09:47:06.472443Z"
    }
   }
  },
  {
   "cell_type": "markdown",
   "source": [
    "### MLP"
   ],
   "metadata": {
    "collapsed": false
   }
  },
  {
   "cell_type": "code",
   "execution_count": 3,
   "outputs": [],
   "source": [
    "from sklearn.neural_network import MLPClassifier"
   ],
   "metadata": {
    "collapsed": false,
    "ExecuteTime": {
     "end_time": "2023-06-10T09:47:17.858086Z",
     "start_time": "2023-06-10T09:47:17.838420Z"
    }
   }
  },
  {
   "cell_type": "markdown",
   "source": [
    "#### No indicators"
   ],
   "metadata": {
    "collapsed": false
   }
  },
  {
   "cell_type": "code",
   "execution_count": 157,
   "outputs": [],
   "source": [
    "X_eth = pd.read_csv(PATH + \"/ETH.csv\", index_col='time')\n",
    "y_eth = pd.read_csv(PATH + \"/ETH_target.csv\", index_col='time')\n",
    "y_eth = y_eth.values.ravel()\n",
    "\n",
    "X_eth_train, X_eth_test, y_eth_train, y_eth_test = train_test_split(X_eth, y_eth, test_size=0.33, random_state=42)"
   ],
   "metadata": {
    "collapsed": false,
    "ExecuteTime": {
     "end_time": "2023-06-10T11:54:43.296142Z",
     "start_time": "2023-06-10T11:54:43.191139Z"
    }
   }
  },
  {
   "cell_type": "code",
   "execution_count": 170,
   "outputs": [
    {
     "data": {
      "text/plain": "MLPClassifier(alpha=0.0002, hidden_layer_sizes=(71,))",
      "text/html": "<style>#sk-container-id-42 {color: black;background-color: white;}#sk-container-id-42 pre{padding: 0;}#sk-container-id-42 div.sk-toggleable {background-color: white;}#sk-container-id-42 label.sk-toggleable__label {cursor: pointer;display: block;width: 100%;margin-bottom: 0;padding: 0.3em;box-sizing: border-box;text-align: center;}#sk-container-id-42 label.sk-toggleable__label-arrow:before {content: \"▸\";float: left;margin-right: 0.25em;color: #696969;}#sk-container-id-42 label.sk-toggleable__label-arrow:hover:before {color: black;}#sk-container-id-42 div.sk-estimator:hover label.sk-toggleable__label-arrow:before {color: black;}#sk-container-id-42 div.sk-toggleable__content {max-height: 0;max-width: 0;overflow: hidden;text-align: left;background-color: #f0f8ff;}#sk-container-id-42 div.sk-toggleable__content pre {margin: 0.2em;color: black;border-radius: 0.25em;background-color: #f0f8ff;}#sk-container-id-42 input.sk-toggleable__control:checked~div.sk-toggleable__content {max-height: 200px;max-width: 100%;overflow: auto;}#sk-container-id-42 input.sk-toggleable__control:checked~label.sk-toggleable__label-arrow:before {content: \"▾\";}#sk-container-id-42 div.sk-estimator input.sk-toggleable__control:checked~label.sk-toggleable__label {background-color: #d4ebff;}#sk-container-id-42 div.sk-label input.sk-toggleable__control:checked~label.sk-toggleable__label {background-color: #d4ebff;}#sk-container-id-42 input.sk-hidden--visually {border: 0;clip: rect(1px 1px 1px 1px);clip: rect(1px, 1px, 1px, 1px);height: 1px;margin: -1px;overflow: hidden;padding: 0;position: absolute;width: 1px;}#sk-container-id-42 div.sk-estimator {font-family: monospace;background-color: #f0f8ff;border: 1px dotted black;border-radius: 0.25em;box-sizing: border-box;margin-bottom: 0.5em;}#sk-container-id-42 div.sk-estimator:hover {background-color: #d4ebff;}#sk-container-id-42 div.sk-parallel-item::after {content: \"\";width: 100%;border-bottom: 1px solid gray;flex-grow: 1;}#sk-container-id-42 div.sk-label:hover label.sk-toggleable__label {background-color: #d4ebff;}#sk-container-id-42 div.sk-serial::before {content: \"\";position: absolute;border-left: 1px solid gray;box-sizing: border-box;top: 0;bottom: 0;left: 50%;z-index: 0;}#sk-container-id-42 div.sk-serial {display: flex;flex-direction: column;align-items: center;background-color: white;padding-right: 0.2em;padding-left: 0.2em;position: relative;}#sk-container-id-42 div.sk-item {position: relative;z-index: 1;}#sk-container-id-42 div.sk-parallel {display: flex;align-items: stretch;justify-content: center;background-color: white;position: relative;}#sk-container-id-42 div.sk-item::before, #sk-container-id-42 div.sk-parallel-item::before {content: \"\";position: absolute;border-left: 1px solid gray;box-sizing: border-box;top: 0;bottom: 0;left: 50%;z-index: -1;}#sk-container-id-42 div.sk-parallel-item {display: flex;flex-direction: column;z-index: 1;position: relative;background-color: white;}#sk-container-id-42 div.sk-parallel-item:first-child::after {align-self: flex-end;width: 50%;}#sk-container-id-42 div.sk-parallel-item:last-child::after {align-self: flex-start;width: 50%;}#sk-container-id-42 div.sk-parallel-item:only-child::after {width: 0;}#sk-container-id-42 div.sk-dashed-wrapped {border: 1px dashed gray;margin: 0 0.4em 0.5em 0.4em;box-sizing: border-box;padding-bottom: 0.4em;background-color: white;}#sk-container-id-42 div.sk-label label {font-family: monospace;font-weight: bold;display: inline-block;line-height: 1.2em;}#sk-container-id-42 div.sk-label-container {text-align: center;}#sk-container-id-42 div.sk-container {/* jupyter's `normalize.less` sets `[hidden] { display: none; }` but bootstrap.min.css set `[hidden] { display: none !important; }` so we also need the `!important` here to be able to override the default hidden behavior on the sphinx rendered scikit-learn.org. See: https://github.com/scikit-learn/scikit-learn/issues/21755 */display: inline-block !important;position: relative;}#sk-container-id-42 div.sk-text-repr-fallback {display: none;}</style><div id=\"sk-container-id-42\" class=\"sk-top-container\"><div class=\"sk-text-repr-fallback\"><pre>MLPClassifier(alpha=0.0002, hidden_layer_sizes=(71,))</pre><b>In a Jupyter environment, please rerun this cell to show the HTML representation or trust the notebook. <br />On GitHub, the HTML representation is unable to render, please try loading this page with nbviewer.org.</b></div><div class=\"sk-container\" hidden><div class=\"sk-item\"><div class=\"sk-estimator sk-toggleable\"><input class=\"sk-toggleable__control sk-hidden--visually\" id=\"sk-estimator-id-42\" type=\"checkbox\" checked><label for=\"sk-estimator-id-42\" class=\"sk-toggleable__label sk-toggleable__label-arrow\">MLPClassifier</label><div class=\"sk-toggleable__content\"><pre>MLPClassifier(alpha=0.0002, hidden_layer_sizes=(71,))</pre></div></div></div></div></div>"
     },
     "execution_count": 170,
     "metadata": {},
     "output_type": "execute_result"
    }
   ],
   "source": [
    "mlp_model_eth = MLPClassifier(solver='adam', alpha=0.0002, hidden_layer_sizes=(71,))\n",
    "\n",
    "mlp_model_eth.fit(X_eth_train, y_eth_train)"
   ],
   "metadata": {
    "collapsed": false,
    "ExecuteTime": {
     "end_time": "2023-06-10T11:56:49.464775Z",
     "start_time": "2023-06-10T11:56:49.412631Z"
    }
   }
  },
  {
   "cell_type": "code",
   "execution_count": 171,
   "outputs": [
    {
     "name": "stdout",
     "output_type": "stream",
     "text": [
      "precision = 0.5119760479041916\n",
      "recall = 1.0\n",
      "accuracy = 0.5119760479041916\n",
      "f1-score = 0.6772277227722773\n"
     ]
    }
   ],
   "source": [
    "y_predict_eth = mlp_model_eth.predict(X_eth_test)\n",
    "\n",
    "precision = precision_score(y_eth_test, y_predict_eth)\n",
    "recall = recall_score(y_eth_test, y_predict_eth)\n",
    "accuracy = accuracy_score(y_eth_test, y_predict_eth)\n",
    "f1 = f1_score(y_eth_test, y_predict_eth)\n",
    "\n",
    "print(f\"precision = {precision}\")\n",
    "print(f\"recall = {recall}\")\n",
    "print(f\"accuracy = {accuracy}\")\n",
    "print(f\"f1-score = {f1}\")"
   ],
   "metadata": {
    "collapsed": false,
    "ExecuteTime": {
     "end_time": "2023-06-10T11:56:50.159441Z",
     "start_time": "2023-06-10T11:56:50.123632Z"
    }
   }
  },
  {
   "cell_type": "code",
   "execution_count": 172,
   "outputs": [
    {
     "name": "stdout",
     "output_type": "stream",
     "text": [
      "precision = 0.5022294288518001\n",
      "recall = 1.0\n",
      "accuracy = 0.5022294288518001\n",
      "f1-score = 0.668584843142945\n"
     ]
    }
   ],
   "source": [
    "folds = KFold(n_splits=2, shuffle=True, random_state=42)\n",
    "\n",
    "precision_list = []\n",
    "recall_list = []\n",
    "accuracy_list = []\n",
    "f1_list = []\n",
    "\n",
    "for i, (train_index, test_index) in enumerate(folds.split(X_eth)):\n",
    "    mlp_model_eth = MLPClassifier(solver='adam', alpha=0.0002, hidden_layer_sizes=(71,))\n",
    "    mlp_model_eth.fit(X_eth.iloc[train_index], y_eth[train_index])\n",
    "    y_predict_btc = mlp_model_eth.predict(X_eth.iloc[test_index])\n",
    "\n",
    "    precision_list.append(precision_score(y_eth[test_index], y_predict_btc))\n",
    "    recall_list.append(recall_score(y_eth[test_index], y_predict_btc))\n",
    "    accuracy_list.append(accuracy_score(y_eth[test_index], y_predict_btc))\n",
    "    f1_list.append(f1_score(y_eth[test_index], y_predict_btc))\n",
    "\n",
    "precision = sum(precision_list) / len(precision_list)\n",
    "recall = sum(recall_list) / len(recall_list)\n",
    "accuracy = sum(accuracy_list) / len(accuracy_list)\n",
    "f1 = sum(f1_list) / len(f1_list)\n",
    "\n",
    "print(f\"precision = {precision}\")\n",
    "print(f\"recall = {recall}\")\n",
    "print(f\"accuracy = {accuracy}\")\n",
    "print(f\"f1-score = {f1}\")"
   ],
   "metadata": {
    "collapsed": false,
    "ExecuteTime": {
     "end_time": "2023-06-10T11:58:02.196184Z",
     "start_time": "2023-06-10T11:58:02.048848Z"
    }
   }
  },
  {
   "cell_type": "markdown",
   "source": [
    "#### With Indicators"
   ],
   "metadata": {
    "collapsed": false
   }
  },
  {
   "cell_type": "code",
   "execution_count": 173,
   "outputs": [],
   "source": [
    "X_eth = pd.read_csv(PATH + \"/ETH_indicators.csv\", index_col='time')\n",
    "y_eth = pd.read_csv(PATH + \"/ETH_target.csv\", index_col='time')\n",
    "y_eth = y_eth.values.ravel()\n",
    "\n",
    "X_eth_train, X_eth_test, y_eth_train, y_eth_test = train_test_split(X_eth, y_eth, test_size=0.33, random_state=42)"
   ],
   "metadata": {
    "collapsed": false,
    "ExecuteTime": {
     "end_time": "2023-06-10T11:58:14.729776Z",
     "start_time": "2023-06-10T11:58:14.635774Z"
    }
   }
  },
  {
   "cell_type": "code",
   "execution_count": 184,
   "outputs": [
    {
     "data": {
      "text/plain": "MLPClassifier(alpha=0.0002, hidden_layer_sizes=(71,))",
      "text/html": "<style>#sk-container-id-48 {color: black;background-color: white;}#sk-container-id-48 pre{padding: 0;}#sk-container-id-48 div.sk-toggleable {background-color: white;}#sk-container-id-48 label.sk-toggleable__label {cursor: pointer;display: block;width: 100%;margin-bottom: 0;padding: 0.3em;box-sizing: border-box;text-align: center;}#sk-container-id-48 label.sk-toggleable__label-arrow:before {content: \"▸\";float: left;margin-right: 0.25em;color: #696969;}#sk-container-id-48 label.sk-toggleable__label-arrow:hover:before {color: black;}#sk-container-id-48 div.sk-estimator:hover label.sk-toggleable__label-arrow:before {color: black;}#sk-container-id-48 div.sk-toggleable__content {max-height: 0;max-width: 0;overflow: hidden;text-align: left;background-color: #f0f8ff;}#sk-container-id-48 div.sk-toggleable__content pre {margin: 0.2em;color: black;border-radius: 0.25em;background-color: #f0f8ff;}#sk-container-id-48 input.sk-toggleable__control:checked~div.sk-toggleable__content {max-height: 200px;max-width: 100%;overflow: auto;}#sk-container-id-48 input.sk-toggleable__control:checked~label.sk-toggleable__label-arrow:before {content: \"▾\";}#sk-container-id-48 div.sk-estimator input.sk-toggleable__control:checked~label.sk-toggleable__label {background-color: #d4ebff;}#sk-container-id-48 div.sk-label input.sk-toggleable__control:checked~label.sk-toggleable__label {background-color: #d4ebff;}#sk-container-id-48 input.sk-hidden--visually {border: 0;clip: rect(1px 1px 1px 1px);clip: rect(1px, 1px, 1px, 1px);height: 1px;margin: -1px;overflow: hidden;padding: 0;position: absolute;width: 1px;}#sk-container-id-48 div.sk-estimator {font-family: monospace;background-color: #f0f8ff;border: 1px dotted black;border-radius: 0.25em;box-sizing: border-box;margin-bottom: 0.5em;}#sk-container-id-48 div.sk-estimator:hover {background-color: #d4ebff;}#sk-container-id-48 div.sk-parallel-item::after {content: \"\";width: 100%;border-bottom: 1px solid gray;flex-grow: 1;}#sk-container-id-48 div.sk-label:hover label.sk-toggleable__label {background-color: #d4ebff;}#sk-container-id-48 div.sk-serial::before {content: \"\";position: absolute;border-left: 1px solid gray;box-sizing: border-box;top: 0;bottom: 0;left: 50%;z-index: 0;}#sk-container-id-48 div.sk-serial {display: flex;flex-direction: column;align-items: center;background-color: white;padding-right: 0.2em;padding-left: 0.2em;position: relative;}#sk-container-id-48 div.sk-item {position: relative;z-index: 1;}#sk-container-id-48 div.sk-parallel {display: flex;align-items: stretch;justify-content: center;background-color: white;position: relative;}#sk-container-id-48 div.sk-item::before, #sk-container-id-48 div.sk-parallel-item::before {content: \"\";position: absolute;border-left: 1px solid gray;box-sizing: border-box;top: 0;bottom: 0;left: 50%;z-index: -1;}#sk-container-id-48 div.sk-parallel-item {display: flex;flex-direction: column;z-index: 1;position: relative;background-color: white;}#sk-container-id-48 div.sk-parallel-item:first-child::after {align-self: flex-end;width: 50%;}#sk-container-id-48 div.sk-parallel-item:last-child::after {align-self: flex-start;width: 50%;}#sk-container-id-48 div.sk-parallel-item:only-child::after {width: 0;}#sk-container-id-48 div.sk-dashed-wrapped {border: 1px dashed gray;margin: 0 0.4em 0.5em 0.4em;box-sizing: border-box;padding-bottom: 0.4em;background-color: white;}#sk-container-id-48 div.sk-label label {font-family: monospace;font-weight: bold;display: inline-block;line-height: 1.2em;}#sk-container-id-48 div.sk-label-container {text-align: center;}#sk-container-id-48 div.sk-container {/* jupyter's `normalize.less` sets `[hidden] { display: none; }` but bootstrap.min.css set `[hidden] { display: none !important; }` so we also need the `!important` here to be able to override the default hidden behavior on the sphinx rendered scikit-learn.org. See: https://github.com/scikit-learn/scikit-learn/issues/21755 */display: inline-block !important;position: relative;}#sk-container-id-48 div.sk-text-repr-fallback {display: none;}</style><div id=\"sk-container-id-48\" class=\"sk-top-container\"><div class=\"sk-text-repr-fallback\"><pre>MLPClassifier(alpha=0.0002, hidden_layer_sizes=(71,))</pre><b>In a Jupyter environment, please rerun this cell to show the HTML representation or trust the notebook. <br />On GitHub, the HTML representation is unable to render, please try loading this page with nbviewer.org.</b></div><div class=\"sk-container\" hidden><div class=\"sk-item\"><div class=\"sk-estimator sk-toggleable\"><input class=\"sk-toggleable__control sk-hidden--visually\" id=\"sk-estimator-id-48\" type=\"checkbox\" checked><label for=\"sk-estimator-id-48\" class=\"sk-toggleable__label sk-toggleable__label-arrow\">MLPClassifier</label><div class=\"sk-toggleable__content\"><pre>MLPClassifier(alpha=0.0002, hidden_layer_sizes=(71,))</pre></div></div></div></div></div>"
     },
     "execution_count": 184,
     "metadata": {},
     "output_type": "execute_result"
    }
   ],
   "source": [
    "mlp_model_eth = MLPClassifier(solver='adam', alpha=0.0002, hidden_layer_sizes=(71,))\n",
    "\n",
    "mlp_model_eth.fit(X_eth_train, y_eth_train)"
   ],
   "metadata": {
    "collapsed": false,
    "ExecuteTime": {
     "end_time": "2023-06-10T11:58:39.524092Z",
     "start_time": "2023-06-10T11:58:39.329747Z"
    }
   }
  },
  {
   "cell_type": "code",
   "execution_count": 185,
   "outputs": [
    {
     "name": "stdout",
     "output_type": "stream",
     "text": [
      "precision = 0.5122324159021406\n",
      "recall = 0.97953216374269\n",
      "accuracy = 0.5119760479041916\n",
      "f1-score = 0.6726907630522089\n"
     ]
    }
   ],
   "source": [
    "y_predict_eth = mlp_model_eth.predict(X_eth_test)\n",
    "\n",
    "precision = precision_score(y_eth_test, y_predict_eth)\n",
    "recall = recall_score(y_eth_test, y_predict_eth)\n",
    "accuracy = accuracy_score(y_eth_test, y_predict_eth)\n",
    "f1 = f1_score(y_eth_test, y_predict_eth)\n",
    "\n",
    "print(f\"precision = {precision}\")\n",
    "print(f\"recall = {recall}\")\n",
    "print(f\"accuracy = {accuracy}\")\n",
    "print(f\"f1-score = {f1}\")"
   ],
   "metadata": {
    "collapsed": false,
    "ExecuteTime": {
     "end_time": "2023-06-10T11:58:40.415234Z",
     "start_time": "2023-06-10T11:58:40.350995Z"
    }
   }
  },
  {
   "cell_type": "code",
   "execution_count": 186,
   "outputs": [
    {
     "name": "stdout",
     "output_type": "stream",
     "text": [
      "precision = 0.5023052638940229\n",
      "recall = 0.9892659440852212\n",
      "accuracy = 0.5022294288518001\n",
      "f1-score = 0.6662009921109252\n"
     ]
    }
   ],
   "source": [
    "folds = KFold(n_splits=2, shuffle=True, random_state=42)\n",
    "\n",
    "precision_list = []\n",
    "recall_list = []\n",
    "accuracy_list = []\n",
    "f1_list = []\n",
    "\n",
    "for i, (train_index, test_index) in enumerate(folds.split(X_eth)):\n",
    "    mlp_model_eth = MLPClassifier(solver='adam', alpha=0.0002, hidden_layer_sizes=(71,))\n",
    "    mlp_model_eth.fit(X_eth.iloc[train_index], y_eth[train_index])\n",
    "    y_predict_btc = mlp_model_eth.predict(X_eth.iloc[test_index])\n",
    "\n",
    "    precision_list.append(precision_score(y_eth[test_index], y_predict_btc))\n",
    "    recall_list.append(recall_score(y_eth[test_index], y_predict_btc))\n",
    "    accuracy_list.append(accuracy_score(y_eth[test_index], y_predict_btc))\n",
    "    f1_list.append(f1_score(y_eth[test_index], y_predict_btc))\n",
    "\n",
    "precision = sum(precision_list) / len(precision_list)\n",
    "recall = sum(recall_list) / len(recall_list)\n",
    "accuracy = sum(accuracy_list) / len(accuracy_list)\n",
    "f1 = sum(f1_list) / len(f1_list)\n",
    "\n",
    "print(f\"precision = {precision}\")\n",
    "print(f\"recall = {recall}\")\n",
    "print(f\"accuracy = {accuracy}\")\n",
    "print(f\"f1-score = {f1}\")"
   ],
   "metadata": {
    "collapsed": false,
    "ExecuteTime": {
     "end_time": "2023-06-10T11:58:50.370469Z",
     "start_time": "2023-06-10T11:58:50.099262Z"
    }
   }
  },
  {
   "cell_type": "markdown",
   "source": [
    "### Reduce dim"
   ],
   "metadata": {
    "collapsed": false
   }
  },
  {
   "cell_type": "code",
   "execution_count": 192,
   "outputs": [],
   "source": [
    "X_eth = pd.read_csv(PATH + \"/ETH_reduce.csv\", index_col='time')\n",
    "y_eth = pd.read_csv(PATH + \"/ETH_target.csv\", index_col='time')\n",
    "y_eth = y_eth.values.ravel()\n",
    "\n",
    "X_eth_train, X_eth_test, y_eth_train, y_eth_test = train_test_split(X_eth, y_eth, test_size=0.33, random_state=42)"
   ],
   "metadata": {
    "collapsed": false,
    "ExecuteTime": {
     "end_time": "2023-06-10T11:59:25.286775Z",
     "start_time": "2023-06-10T11:59:25.238804Z"
    }
   }
  },
  {
   "cell_type": "code",
   "execution_count": 195,
   "outputs": [
    {
     "data": {
      "text/plain": "MLPClassifier(alpha=0.0002, hidden_layer_sizes=(71,))",
      "text/html": "<style>#sk-container-id-52 {color: black;background-color: white;}#sk-container-id-52 pre{padding: 0;}#sk-container-id-52 div.sk-toggleable {background-color: white;}#sk-container-id-52 label.sk-toggleable__label {cursor: pointer;display: block;width: 100%;margin-bottom: 0;padding: 0.3em;box-sizing: border-box;text-align: center;}#sk-container-id-52 label.sk-toggleable__label-arrow:before {content: \"▸\";float: left;margin-right: 0.25em;color: #696969;}#sk-container-id-52 label.sk-toggleable__label-arrow:hover:before {color: black;}#sk-container-id-52 div.sk-estimator:hover label.sk-toggleable__label-arrow:before {color: black;}#sk-container-id-52 div.sk-toggleable__content {max-height: 0;max-width: 0;overflow: hidden;text-align: left;background-color: #f0f8ff;}#sk-container-id-52 div.sk-toggleable__content pre {margin: 0.2em;color: black;border-radius: 0.25em;background-color: #f0f8ff;}#sk-container-id-52 input.sk-toggleable__control:checked~div.sk-toggleable__content {max-height: 200px;max-width: 100%;overflow: auto;}#sk-container-id-52 input.sk-toggleable__control:checked~label.sk-toggleable__label-arrow:before {content: \"▾\";}#sk-container-id-52 div.sk-estimator input.sk-toggleable__control:checked~label.sk-toggleable__label {background-color: #d4ebff;}#sk-container-id-52 div.sk-label input.sk-toggleable__control:checked~label.sk-toggleable__label {background-color: #d4ebff;}#sk-container-id-52 input.sk-hidden--visually {border: 0;clip: rect(1px 1px 1px 1px);clip: rect(1px, 1px, 1px, 1px);height: 1px;margin: -1px;overflow: hidden;padding: 0;position: absolute;width: 1px;}#sk-container-id-52 div.sk-estimator {font-family: monospace;background-color: #f0f8ff;border: 1px dotted black;border-radius: 0.25em;box-sizing: border-box;margin-bottom: 0.5em;}#sk-container-id-52 div.sk-estimator:hover {background-color: #d4ebff;}#sk-container-id-52 div.sk-parallel-item::after {content: \"\";width: 100%;border-bottom: 1px solid gray;flex-grow: 1;}#sk-container-id-52 div.sk-label:hover label.sk-toggleable__label {background-color: #d4ebff;}#sk-container-id-52 div.sk-serial::before {content: \"\";position: absolute;border-left: 1px solid gray;box-sizing: border-box;top: 0;bottom: 0;left: 50%;z-index: 0;}#sk-container-id-52 div.sk-serial {display: flex;flex-direction: column;align-items: center;background-color: white;padding-right: 0.2em;padding-left: 0.2em;position: relative;}#sk-container-id-52 div.sk-item {position: relative;z-index: 1;}#sk-container-id-52 div.sk-parallel {display: flex;align-items: stretch;justify-content: center;background-color: white;position: relative;}#sk-container-id-52 div.sk-item::before, #sk-container-id-52 div.sk-parallel-item::before {content: \"\";position: absolute;border-left: 1px solid gray;box-sizing: border-box;top: 0;bottom: 0;left: 50%;z-index: -1;}#sk-container-id-52 div.sk-parallel-item {display: flex;flex-direction: column;z-index: 1;position: relative;background-color: white;}#sk-container-id-52 div.sk-parallel-item:first-child::after {align-self: flex-end;width: 50%;}#sk-container-id-52 div.sk-parallel-item:last-child::after {align-self: flex-start;width: 50%;}#sk-container-id-52 div.sk-parallel-item:only-child::after {width: 0;}#sk-container-id-52 div.sk-dashed-wrapped {border: 1px dashed gray;margin: 0 0.4em 0.5em 0.4em;box-sizing: border-box;padding-bottom: 0.4em;background-color: white;}#sk-container-id-52 div.sk-label label {font-family: monospace;font-weight: bold;display: inline-block;line-height: 1.2em;}#sk-container-id-52 div.sk-label-container {text-align: center;}#sk-container-id-52 div.sk-container {/* jupyter's `normalize.less` sets `[hidden] { display: none; }` but bootstrap.min.css set `[hidden] { display: none !important; }` so we also need the `!important` here to be able to override the default hidden behavior on the sphinx rendered scikit-learn.org. See: https://github.com/scikit-learn/scikit-learn/issues/21755 */display: inline-block !important;position: relative;}#sk-container-id-52 div.sk-text-repr-fallback {display: none;}</style><div id=\"sk-container-id-52\" class=\"sk-top-container\"><div class=\"sk-text-repr-fallback\"><pre>MLPClassifier(alpha=0.0002, hidden_layer_sizes=(71,))</pre><b>In a Jupyter environment, please rerun this cell to show the HTML representation or trust the notebook. <br />On GitHub, the HTML representation is unable to render, please try loading this page with nbviewer.org.</b></div><div class=\"sk-container\" hidden><div class=\"sk-item\"><div class=\"sk-estimator sk-toggleable\"><input class=\"sk-toggleable__control sk-hidden--visually\" id=\"sk-estimator-id-52\" type=\"checkbox\" checked><label for=\"sk-estimator-id-52\" class=\"sk-toggleable__label sk-toggleable__label-arrow\">MLPClassifier</label><div class=\"sk-toggleable__content\"><pre>MLPClassifier(alpha=0.0002, hidden_layer_sizes=(71,))</pre></div></div></div></div></div>"
     },
     "execution_count": 195,
     "metadata": {},
     "output_type": "execute_result"
    }
   ],
   "source": [
    "mlp_model_eth = MLPClassifier(solver='adam', alpha=0.0002, hidden_layer_sizes=(71,))\n",
    "\n",
    "mlp_model_eth.fit(X_eth_train, y_eth_train)"
   ],
   "metadata": {
    "collapsed": false,
    "ExecuteTime": {
     "end_time": "2023-06-10T11:59:32.951919Z",
     "start_time": "2023-06-10T11:59:32.876084Z"
    }
   }
  },
  {
   "cell_type": "code",
   "execution_count": 196,
   "outputs": [
    {
     "name": "stdout",
     "output_type": "stream",
     "text": [
      "precision = 0.5119760479041916\n",
      "recall = 1.0\n",
      "accuracy = 0.5119760479041916\n",
      "f1-score = 0.6772277227722773\n"
     ]
    }
   ],
   "source": [
    "y_predict_eth = mlp_model_eth.predict(X_eth_test)\n",
    "\n",
    "precision = precision_score(y_eth_test, y_predict_eth)\n",
    "recall = recall_score(y_eth_test, y_predict_eth)\n",
    "accuracy = accuracy_score(y_eth_test, y_predict_eth)\n",
    "f1 = f1_score(y_eth_test, y_predict_eth)\n",
    "\n",
    "print(f\"precision = {precision}\")\n",
    "print(f\"recall = {recall}\")\n",
    "print(f\"accuracy = {accuracy}\")\n",
    "print(f\"f1-score = {f1}\")"
   ],
   "metadata": {
    "collapsed": false,
    "ExecuteTime": {
     "end_time": "2023-06-10T11:59:34.093437Z",
     "start_time": "2023-06-10T11:59:34.059055Z"
    }
   }
  },
  {
   "cell_type": "code",
   "execution_count": 203,
   "outputs": [
    {
     "name": "stdout",
     "output_type": "stream",
     "text": [
      "precision = 0.5022294288518001\n",
      "recall = 1.0\n",
      "accuracy = 0.5022294288518001\n",
      "f1-score = 0.668584843142945\n"
     ]
    }
   ],
   "source": [
    "folds = KFold(n_splits=2, shuffle=True, random_state=42)\n",
    "\n",
    "precision_list = []\n",
    "recall_list = []\n",
    "accuracy_list = []\n",
    "f1_list = []\n",
    "\n",
    "for i, (train_index, test_index) in enumerate(folds.split(X_eth)):\n",
    "    mlp_model_eth = MLPClassifier(solver='adam', alpha=0.0002, hidden_layer_sizes=(71,))\n",
    "    mlp_model_eth.fit(X_eth.iloc[train_index], y_eth[train_index])\n",
    "    y_predict_btc = mlp_model_eth.predict(X_eth.iloc[test_index])\n",
    "\n",
    "    precision_list.append(precision_score(y_eth[test_index], y_predict_btc))\n",
    "    recall_list.append(recall_score(y_eth[test_index], y_predict_btc))\n",
    "    accuracy_list.append(accuracy_score(y_eth[test_index], y_predict_btc))\n",
    "    f1_list.append(f1_score(y_eth[test_index], y_predict_btc))\n",
    "\n",
    "precision = sum(precision_list) / len(precision_list)\n",
    "recall = sum(recall_list) / len(recall_list)\n",
    "accuracy = sum(accuracy_list) / len(accuracy_list)\n",
    "f1 = sum(f1_list) / len(f1_list)\n",
    "\n",
    "print(f\"precision = {precision}\")\n",
    "print(f\"recall = {recall}\")\n",
    "print(f\"accuracy = {accuracy}\")\n",
    "print(f\"f1-score = {f1}\")"
   ],
   "metadata": {
    "collapsed": false,
    "ExecuteTime": {
     "end_time": "2023-06-10T11:59:58.502064Z",
     "start_time": "2023-06-10T11:59:58.333907Z"
    }
   }
  },
  {
   "cell_type": "markdown",
   "source": [
    "### With Normalization"
   ],
   "metadata": {
    "collapsed": false
   }
  },
  {
   "cell_type": "code",
   "execution_count": 204,
   "outputs": [],
   "source": [
    "X_eth = pd.read_csv(PATH + \"/ETH_normalization.csv\", index_col='time')\n",
    "y_eth = pd.read_csv(PATH + \"/ETH_target.csv\", index_col='time')\n",
    "y_eth = y_eth.values.ravel()\n",
    "\n",
    "X_eth_train, X_eth_test, y_eth_train, y_eth_test = train_test_split(X_eth, y_eth, test_size=0.33, random_state=42)"
   ],
   "metadata": {
    "collapsed": false,
    "ExecuteTime": {
     "end_time": "2023-06-10T12:00:02.416492Z",
     "start_time": "2023-06-10T12:00:02.356300Z"
    }
   }
  },
  {
   "cell_type": "code",
   "execution_count": 205,
   "outputs": [
    {
     "name": "stderr",
     "output_type": "stream",
     "text": [
      "/Users/admin/PycharmProjects/Market_Prediction_Using_News_and_Indicators/venv/lib/python3.10/site-packages/sklearn/neural_network/_multilayer_perceptron.py:686: ConvergenceWarning: Stochastic Optimizer: Maximum iterations (200) reached and the optimization hasn't converged yet.\n",
      "  warnings.warn(\n"
     ]
    },
    {
     "data": {
      "text/plain": "MLPClassifier(alpha=0.0002, hidden_layer_sizes=(71,))",
      "text/html": "<style>#sk-container-id-53 {color: black;background-color: white;}#sk-container-id-53 pre{padding: 0;}#sk-container-id-53 div.sk-toggleable {background-color: white;}#sk-container-id-53 label.sk-toggleable__label {cursor: pointer;display: block;width: 100%;margin-bottom: 0;padding: 0.3em;box-sizing: border-box;text-align: center;}#sk-container-id-53 label.sk-toggleable__label-arrow:before {content: \"▸\";float: left;margin-right: 0.25em;color: #696969;}#sk-container-id-53 label.sk-toggleable__label-arrow:hover:before {color: black;}#sk-container-id-53 div.sk-estimator:hover label.sk-toggleable__label-arrow:before {color: black;}#sk-container-id-53 div.sk-toggleable__content {max-height: 0;max-width: 0;overflow: hidden;text-align: left;background-color: #f0f8ff;}#sk-container-id-53 div.sk-toggleable__content pre {margin: 0.2em;color: black;border-radius: 0.25em;background-color: #f0f8ff;}#sk-container-id-53 input.sk-toggleable__control:checked~div.sk-toggleable__content {max-height: 200px;max-width: 100%;overflow: auto;}#sk-container-id-53 input.sk-toggleable__control:checked~label.sk-toggleable__label-arrow:before {content: \"▾\";}#sk-container-id-53 div.sk-estimator input.sk-toggleable__control:checked~label.sk-toggleable__label {background-color: #d4ebff;}#sk-container-id-53 div.sk-label input.sk-toggleable__control:checked~label.sk-toggleable__label {background-color: #d4ebff;}#sk-container-id-53 input.sk-hidden--visually {border: 0;clip: rect(1px 1px 1px 1px);clip: rect(1px, 1px, 1px, 1px);height: 1px;margin: -1px;overflow: hidden;padding: 0;position: absolute;width: 1px;}#sk-container-id-53 div.sk-estimator {font-family: monospace;background-color: #f0f8ff;border: 1px dotted black;border-radius: 0.25em;box-sizing: border-box;margin-bottom: 0.5em;}#sk-container-id-53 div.sk-estimator:hover {background-color: #d4ebff;}#sk-container-id-53 div.sk-parallel-item::after {content: \"\";width: 100%;border-bottom: 1px solid gray;flex-grow: 1;}#sk-container-id-53 div.sk-label:hover label.sk-toggleable__label {background-color: #d4ebff;}#sk-container-id-53 div.sk-serial::before {content: \"\";position: absolute;border-left: 1px solid gray;box-sizing: border-box;top: 0;bottom: 0;left: 50%;z-index: 0;}#sk-container-id-53 div.sk-serial {display: flex;flex-direction: column;align-items: center;background-color: white;padding-right: 0.2em;padding-left: 0.2em;position: relative;}#sk-container-id-53 div.sk-item {position: relative;z-index: 1;}#sk-container-id-53 div.sk-parallel {display: flex;align-items: stretch;justify-content: center;background-color: white;position: relative;}#sk-container-id-53 div.sk-item::before, #sk-container-id-53 div.sk-parallel-item::before {content: \"\";position: absolute;border-left: 1px solid gray;box-sizing: border-box;top: 0;bottom: 0;left: 50%;z-index: -1;}#sk-container-id-53 div.sk-parallel-item {display: flex;flex-direction: column;z-index: 1;position: relative;background-color: white;}#sk-container-id-53 div.sk-parallel-item:first-child::after {align-self: flex-end;width: 50%;}#sk-container-id-53 div.sk-parallel-item:last-child::after {align-self: flex-start;width: 50%;}#sk-container-id-53 div.sk-parallel-item:only-child::after {width: 0;}#sk-container-id-53 div.sk-dashed-wrapped {border: 1px dashed gray;margin: 0 0.4em 0.5em 0.4em;box-sizing: border-box;padding-bottom: 0.4em;background-color: white;}#sk-container-id-53 div.sk-label label {font-family: monospace;font-weight: bold;display: inline-block;line-height: 1.2em;}#sk-container-id-53 div.sk-label-container {text-align: center;}#sk-container-id-53 div.sk-container {/* jupyter's `normalize.less` sets `[hidden] { display: none; }` but bootstrap.min.css set `[hidden] { display: none !important; }` so we also need the `!important` here to be able to override the default hidden behavior on the sphinx rendered scikit-learn.org. See: https://github.com/scikit-learn/scikit-learn/issues/21755 */display: inline-block !important;position: relative;}#sk-container-id-53 div.sk-text-repr-fallback {display: none;}</style><div id=\"sk-container-id-53\" class=\"sk-top-container\"><div class=\"sk-text-repr-fallback\"><pre>MLPClassifier(alpha=0.0002, hidden_layer_sizes=(71,))</pre><b>In a Jupyter environment, please rerun this cell to show the HTML representation or trust the notebook. <br />On GitHub, the HTML representation is unable to render, please try loading this page with nbviewer.org.</b></div><div class=\"sk-container\" hidden><div class=\"sk-item\"><div class=\"sk-estimator sk-toggleable\"><input class=\"sk-toggleable__control sk-hidden--visually\" id=\"sk-estimator-id-53\" type=\"checkbox\" checked><label for=\"sk-estimator-id-53\" class=\"sk-toggleable__label sk-toggleable__label-arrow\">MLPClassifier</label><div class=\"sk-toggleable__content\"><pre>MLPClassifier(alpha=0.0002, hidden_layer_sizes=(71,))</pre></div></div></div></div></div>"
     },
     "execution_count": 205,
     "metadata": {},
     "output_type": "execute_result"
    }
   ],
   "source": [
    "mlp_model_eth = MLPClassifier(solver='adam', alpha=0.0002, hidden_layer_sizes=(71,))\n",
    "\n",
    "mlp_model_eth.fit(X_eth_train, y_eth_train)"
   ],
   "metadata": {
    "collapsed": false,
    "ExecuteTime": {
     "end_time": "2023-06-10T12:00:05.467842Z",
     "start_time": "2023-06-10T12:00:03.489799Z"
    }
   }
  },
  {
   "cell_type": "code",
   "execution_count": 206,
   "outputs": [
    {
     "name": "stdout",
     "output_type": "stream",
     "text": [
      "precision = 0.839541547277937\n",
      "recall = 0.8567251461988304\n",
      "accuracy = 0.842814371257485\n",
      "f1-score = 0.8480463096960926\n"
     ]
    }
   ],
   "source": [
    "y_predict_eth = mlp_model_eth.predict(X_eth_test)\n",
    "\n",
    "precision = precision_score(y_eth_test, y_predict_eth)\n",
    "recall = recall_score(y_eth_test, y_predict_eth)\n",
    "accuracy = accuracy_score(y_eth_test, y_predict_eth)\n",
    "f1 = f1_score(y_eth_test, y_predict_eth)\n",
    "\n",
    "print(f\"precision = {precision}\")\n",
    "print(f\"recall = {recall}\")\n",
    "print(f\"accuracy = {accuracy}\")\n",
    "print(f\"f1-score = {f1}\")"
   ],
   "metadata": {
    "collapsed": false,
    "ExecuteTime": {
     "end_time": "2023-06-10T12:00:11.294127Z",
     "start_time": "2023-06-10T12:00:11.264620Z"
    }
   }
  },
  {
   "cell_type": "code",
   "execution_count": 207,
   "outputs": [
    {
     "name": "stderr",
     "output_type": "stream",
     "text": [
      "/Users/admin/PycharmProjects/Market_Prediction_Using_News_and_Indicators/venv/lib/python3.10/site-packages/sklearn/neural_network/_multilayer_perceptron.py:686: ConvergenceWarning: Stochastic Optimizer: Maximum iterations (200) reached and the optimization hasn't converged yet.\n",
      "  warnings.warn(\n"
     ]
    },
    {
     "name": "stdout",
     "output_type": "stream",
     "text": [
      "precision = 0.7616531165311653\n",
      "recall = 0.7746197143787505\n",
      "accuracy = 0.764695073558446\n",
      "f1-score = 0.7672408859383049\n"
     ]
    },
    {
     "name": "stderr",
     "output_type": "stream",
     "text": [
      "/Users/admin/PycharmProjects/Market_Prediction_Using_News_and_Indicators/venv/lib/python3.10/site-packages/sklearn/neural_network/_multilayer_perceptron.py:686: ConvergenceWarning: Stochastic Optimizer: Maximum iterations (200) reached and the optimization hasn't converged yet.\n",
      "  warnings.warn(\n"
     ]
    }
   ],
   "source": [
    "folds = KFold(n_splits=2, shuffle=True, random_state=42)\n",
    "\n",
    "precision_list = []\n",
    "recall_list = []\n",
    "accuracy_list = []\n",
    "f1_list = []\n",
    "\n",
    "for i, (train_index, test_index) in enumerate(folds.split(X_eth)):\n",
    "    mlp_model_eth = MLPClassifier(solver='adam', alpha=0.0002, hidden_layer_sizes=(71,))\n",
    "    mlp_model_eth.fit(X_eth.iloc[train_index], y_eth[train_index])\n",
    "    y_predict_btc = mlp_model_eth.predict(X_eth.iloc[test_index])\n",
    "\n",
    "    precision_list.append(precision_score(y_eth[test_index], y_predict_btc))\n",
    "    recall_list.append(recall_score(y_eth[test_index], y_predict_btc))\n",
    "    accuracy_list.append(accuracy_score(y_eth[test_index], y_predict_btc))\n",
    "    f1_list.append(f1_score(y_eth[test_index], y_predict_btc))\n",
    "\n",
    "precision = sum(precision_list) / len(precision_list)\n",
    "recall = sum(recall_list) / len(recall_list)\n",
    "accuracy = sum(accuracy_list) / len(accuracy_list)\n",
    "f1 = sum(f1_list) / len(f1_list)\n",
    "\n",
    "print(f\"precision = {precision}\")\n",
    "print(f\"recall = {recall}\")\n",
    "print(f\"accuracy = {accuracy}\")\n",
    "print(f\"f1-score = {f1}\")"
   ],
   "metadata": {
    "collapsed": false,
    "ExecuteTime": {
     "end_time": "2023-06-10T12:00:28.745282Z",
     "start_time": "2023-06-10T12:00:26.036199Z"
    }
   }
  },
  {
   "cell_type": "markdown",
   "source": [
    "### Random Forest"
   ],
   "metadata": {
    "collapsed": false
   }
  },
  {
   "cell_type": "code",
   "execution_count": 62,
   "outputs": [],
   "source": [
    "from sklearn.ensemble import RandomForestClassifier"
   ],
   "metadata": {
    "collapsed": false,
    "ExecuteTime": {
     "end_time": "2023-06-10T10:01:58.657626Z",
     "start_time": "2023-06-10T10:01:58.378934Z"
    }
   }
  },
  {
   "cell_type": "markdown",
   "source": [
    "### No indicators"
   ],
   "metadata": {
    "collapsed": false
   }
  },
  {
   "cell_type": "code",
   "execution_count": 208,
   "outputs": [],
   "source": [
    "X_eth = pd.read_csv(PATH + \"/ETH.csv\", index_col='time')\n",
    "y_eth = pd.read_csv(PATH + \"/ETH_target.csv\", index_col='time')\n",
    "y_eth = y_eth.values.ravel()\n",
    "\n",
    "X_eth_train, X_eth_test, y_eth_train, y_eth_test = train_test_split(X_eth, y_eth, test_size=0.33, random_state=42)"
   ],
   "metadata": {
    "collapsed": false,
    "ExecuteTime": {
     "end_time": "2023-06-10T12:00:44.946493Z",
     "start_time": "2023-06-10T12:00:44.866939Z"
    }
   }
  },
  {
   "cell_type": "code",
   "execution_count": 209,
   "outputs": [
    {
     "data": {
      "text/plain": "RandomForestClassifier(n_estimators=1000)",
      "text/html": "<style>#sk-container-id-54 {color: black;background-color: white;}#sk-container-id-54 pre{padding: 0;}#sk-container-id-54 div.sk-toggleable {background-color: white;}#sk-container-id-54 label.sk-toggleable__label {cursor: pointer;display: block;width: 100%;margin-bottom: 0;padding: 0.3em;box-sizing: border-box;text-align: center;}#sk-container-id-54 label.sk-toggleable__label-arrow:before {content: \"▸\";float: left;margin-right: 0.25em;color: #696969;}#sk-container-id-54 label.sk-toggleable__label-arrow:hover:before {color: black;}#sk-container-id-54 div.sk-estimator:hover label.sk-toggleable__label-arrow:before {color: black;}#sk-container-id-54 div.sk-toggleable__content {max-height: 0;max-width: 0;overflow: hidden;text-align: left;background-color: #f0f8ff;}#sk-container-id-54 div.sk-toggleable__content pre {margin: 0.2em;color: black;border-radius: 0.25em;background-color: #f0f8ff;}#sk-container-id-54 input.sk-toggleable__control:checked~div.sk-toggleable__content {max-height: 200px;max-width: 100%;overflow: auto;}#sk-container-id-54 input.sk-toggleable__control:checked~label.sk-toggleable__label-arrow:before {content: \"▾\";}#sk-container-id-54 div.sk-estimator input.sk-toggleable__control:checked~label.sk-toggleable__label {background-color: #d4ebff;}#sk-container-id-54 div.sk-label input.sk-toggleable__control:checked~label.sk-toggleable__label {background-color: #d4ebff;}#sk-container-id-54 input.sk-hidden--visually {border: 0;clip: rect(1px 1px 1px 1px);clip: rect(1px, 1px, 1px, 1px);height: 1px;margin: -1px;overflow: hidden;padding: 0;position: absolute;width: 1px;}#sk-container-id-54 div.sk-estimator {font-family: monospace;background-color: #f0f8ff;border: 1px dotted black;border-radius: 0.25em;box-sizing: border-box;margin-bottom: 0.5em;}#sk-container-id-54 div.sk-estimator:hover {background-color: #d4ebff;}#sk-container-id-54 div.sk-parallel-item::after {content: \"\";width: 100%;border-bottom: 1px solid gray;flex-grow: 1;}#sk-container-id-54 div.sk-label:hover label.sk-toggleable__label {background-color: #d4ebff;}#sk-container-id-54 div.sk-serial::before {content: \"\";position: absolute;border-left: 1px solid gray;box-sizing: border-box;top: 0;bottom: 0;left: 50%;z-index: 0;}#sk-container-id-54 div.sk-serial {display: flex;flex-direction: column;align-items: center;background-color: white;padding-right: 0.2em;padding-left: 0.2em;position: relative;}#sk-container-id-54 div.sk-item {position: relative;z-index: 1;}#sk-container-id-54 div.sk-parallel {display: flex;align-items: stretch;justify-content: center;background-color: white;position: relative;}#sk-container-id-54 div.sk-item::before, #sk-container-id-54 div.sk-parallel-item::before {content: \"\";position: absolute;border-left: 1px solid gray;box-sizing: border-box;top: 0;bottom: 0;left: 50%;z-index: -1;}#sk-container-id-54 div.sk-parallel-item {display: flex;flex-direction: column;z-index: 1;position: relative;background-color: white;}#sk-container-id-54 div.sk-parallel-item:first-child::after {align-self: flex-end;width: 50%;}#sk-container-id-54 div.sk-parallel-item:last-child::after {align-self: flex-start;width: 50%;}#sk-container-id-54 div.sk-parallel-item:only-child::after {width: 0;}#sk-container-id-54 div.sk-dashed-wrapped {border: 1px dashed gray;margin: 0 0.4em 0.5em 0.4em;box-sizing: border-box;padding-bottom: 0.4em;background-color: white;}#sk-container-id-54 div.sk-label label {font-family: monospace;font-weight: bold;display: inline-block;line-height: 1.2em;}#sk-container-id-54 div.sk-label-container {text-align: center;}#sk-container-id-54 div.sk-container {/* jupyter's `normalize.less` sets `[hidden] { display: none; }` but bootstrap.min.css set `[hidden] { display: none !important; }` so we also need the `!important` here to be able to override the default hidden behavior on the sphinx rendered scikit-learn.org. See: https://github.com/scikit-learn/scikit-learn/issues/21755 */display: inline-block !important;position: relative;}#sk-container-id-54 div.sk-text-repr-fallback {display: none;}</style><div id=\"sk-container-id-54\" class=\"sk-top-container\"><div class=\"sk-text-repr-fallback\"><pre>RandomForestClassifier(n_estimators=1000)</pre><b>In a Jupyter environment, please rerun this cell to show the HTML representation or trust the notebook. <br />On GitHub, the HTML representation is unable to render, please try loading this page with nbviewer.org.</b></div><div class=\"sk-container\" hidden><div class=\"sk-item\"><div class=\"sk-estimator sk-toggleable\"><input class=\"sk-toggleable__control sk-hidden--visually\" id=\"sk-estimator-id-54\" type=\"checkbox\" checked><label for=\"sk-estimator-id-54\" class=\"sk-toggleable__label sk-toggleable__label-arrow\">RandomForestClassifier</label><div class=\"sk-toggleable__content\"><pre>RandomForestClassifier(n_estimators=1000)</pre></div></div></div></div></div>"
     },
     "execution_count": 209,
     "metadata": {},
     "output_type": "execute_result"
    }
   ],
   "source": [
    "rf_model_eth = RandomForestClassifier(n_estimators=1000)\n",
    "rf_model_eth.fit(X_eth_train, y_eth_train)"
   ],
   "metadata": {
    "collapsed": false,
    "ExecuteTime": {
     "end_time": "2023-06-10T12:00:49.663748Z",
     "start_time": "2023-06-10T12:00:45.657922Z"
    }
   }
  },
  {
   "cell_type": "code",
   "execution_count": 210,
   "outputs": [
    {
     "name": "stdout",
     "output_type": "stream",
     "text": [
      "precision = 0.6468926553672316\n",
      "recall = 0.6695906432748538\n",
      "accuracy = 0.6437125748502994\n",
      "f1-score = 0.6580459770114941\n"
     ]
    }
   ],
   "source": [
    "y_predict_eth = rf_model_eth.predict(X_eth_test)\n",
    "\n",
    "precision = precision_score(y_eth_test, y_predict_eth)\n",
    "recall = recall_score(y_eth_test, y_predict_eth)\n",
    "accuracy = accuracy_score(y_eth_test, y_predict_eth)\n",
    "f1 = f1_score(y_eth_test, y_predict_eth)\n",
    "\n",
    "print(f\"precision = {precision}\")\n",
    "print(f\"recall = {recall}\")\n",
    "print(f\"accuracy = {accuracy}\")\n",
    "print(f\"f1-score = {f1}\")"
   ],
   "metadata": {
    "collapsed": false,
    "ExecuteTime": {
     "end_time": "2023-06-10T12:00:51.431372Z",
     "start_time": "2023-06-10T12:00:51.239878Z"
    }
   }
  },
  {
   "cell_type": "code",
   "execution_count": 211,
   "outputs": [
    {
     "name": "stdout",
     "output_type": "stream",
     "text": [
      "precision = 0.648989009981278\n",
      "recall = 0.6253515880776421\n",
      "accuracy = 0.6426219288595527\n",
      "f1-score = 0.6367693976165198\n"
     ]
    }
   ],
   "source": [
    "folds = KFold(n_splits=5, shuffle=True, random_state=42)\n",
    "\n",
    "precision_list = []\n",
    "recall_list = []\n",
    "accuracy_list = []\n",
    "f1_list = []\n",
    "\n",
    "for i, (train_index, test_index) in enumerate(folds.split(X_eth)):\n",
    "    rf_model_eth = RandomForestClassifier(n_estimators=1000)\n",
    "    rf_model_eth.fit(X_eth.iloc[train_index], y_eth[train_index])\n",
    "    y_predict_btc = rf_model_eth.predict(X_eth.iloc[test_index])\n",
    "\n",
    "    precision_list.append(precision_score(y_eth[test_index], y_predict_btc))\n",
    "    recall_list.append(recall_score(y_eth[test_index], y_predict_btc))\n",
    "    accuracy_list.append(accuracy_score(y_eth[test_index], y_predict_btc))\n",
    "    f1_list.append(f1_score(y_eth[test_index], y_predict_btc))\n",
    "\n",
    "precision = sum(precision_list) / len(precision_list)\n",
    "recall = sum(recall_list) / len(recall_list)\n",
    "accuracy = sum(accuracy_list) / len(accuracy_list)\n",
    "f1 = sum(f1_list) / len(f1_list)\n",
    "\n",
    "print(f\"precision = {precision}\")\n",
    "print(f\"recall = {recall}\")\n",
    "print(f\"accuracy = {accuracy}\")\n",
    "print(f\"f1-score = {f1}\")"
   ],
   "metadata": {
    "collapsed": false,
    "ExecuteTime": {
     "end_time": "2023-06-10T12:01:17.393235Z",
     "start_time": "2023-06-10T12:00:55.185539Z"
    }
   }
  },
  {
   "cell_type": "markdown",
   "source": [
    "#### With Indicators"
   ],
   "metadata": {
    "collapsed": false
   }
  },
  {
   "cell_type": "code",
   "execution_count": 212,
   "outputs": [],
   "source": [
    "X_eth = pd.read_csv(PATH + \"/ETH_indicators.csv\", index_col='time')\n",
    "y_eth = pd.read_csv(PATH + \"/ETH_target.csv\", index_col='time')\n",
    "y_eth = y_eth.values.ravel()\n",
    "\n",
    "X_eth_train, X_eth_test, y_eth_train, y_eth_test = train_test_split(X_eth, y_eth, test_size=0.33, random_state=42)"
   ],
   "metadata": {
    "collapsed": false,
    "ExecuteTime": {
     "end_time": "2023-06-10T12:01:22.980982Z",
     "start_time": "2023-06-10T12:01:22.930819Z"
    }
   }
  },
  {
   "cell_type": "code",
   "execution_count": 213,
   "outputs": [
    {
     "data": {
      "text/plain": "RandomForestClassifier(n_estimators=1000)",
      "text/html": "<style>#sk-container-id-55 {color: black;background-color: white;}#sk-container-id-55 pre{padding: 0;}#sk-container-id-55 div.sk-toggleable {background-color: white;}#sk-container-id-55 label.sk-toggleable__label {cursor: pointer;display: block;width: 100%;margin-bottom: 0;padding: 0.3em;box-sizing: border-box;text-align: center;}#sk-container-id-55 label.sk-toggleable__label-arrow:before {content: \"▸\";float: left;margin-right: 0.25em;color: #696969;}#sk-container-id-55 label.sk-toggleable__label-arrow:hover:before {color: black;}#sk-container-id-55 div.sk-estimator:hover label.sk-toggleable__label-arrow:before {color: black;}#sk-container-id-55 div.sk-toggleable__content {max-height: 0;max-width: 0;overflow: hidden;text-align: left;background-color: #f0f8ff;}#sk-container-id-55 div.sk-toggleable__content pre {margin: 0.2em;color: black;border-radius: 0.25em;background-color: #f0f8ff;}#sk-container-id-55 input.sk-toggleable__control:checked~div.sk-toggleable__content {max-height: 200px;max-width: 100%;overflow: auto;}#sk-container-id-55 input.sk-toggleable__control:checked~label.sk-toggleable__label-arrow:before {content: \"▾\";}#sk-container-id-55 div.sk-estimator input.sk-toggleable__control:checked~label.sk-toggleable__label {background-color: #d4ebff;}#sk-container-id-55 div.sk-label input.sk-toggleable__control:checked~label.sk-toggleable__label {background-color: #d4ebff;}#sk-container-id-55 input.sk-hidden--visually {border: 0;clip: rect(1px 1px 1px 1px);clip: rect(1px, 1px, 1px, 1px);height: 1px;margin: -1px;overflow: hidden;padding: 0;position: absolute;width: 1px;}#sk-container-id-55 div.sk-estimator {font-family: monospace;background-color: #f0f8ff;border: 1px dotted black;border-radius: 0.25em;box-sizing: border-box;margin-bottom: 0.5em;}#sk-container-id-55 div.sk-estimator:hover {background-color: #d4ebff;}#sk-container-id-55 div.sk-parallel-item::after {content: \"\";width: 100%;border-bottom: 1px solid gray;flex-grow: 1;}#sk-container-id-55 div.sk-label:hover label.sk-toggleable__label {background-color: #d4ebff;}#sk-container-id-55 div.sk-serial::before {content: \"\";position: absolute;border-left: 1px solid gray;box-sizing: border-box;top: 0;bottom: 0;left: 50%;z-index: 0;}#sk-container-id-55 div.sk-serial {display: flex;flex-direction: column;align-items: center;background-color: white;padding-right: 0.2em;padding-left: 0.2em;position: relative;}#sk-container-id-55 div.sk-item {position: relative;z-index: 1;}#sk-container-id-55 div.sk-parallel {display: flex;align-items: stretch;justify-content: center;background-color: white;position: relative;}#sk-container-id-55 div.sk-item::before, #sk-container-id-55 div.sk-parallel-item::before {content: \"\";position: absolute;border-left: 1px solid gray;box-sizing: border-box;top: 0;bottom: 0;left: 50%;z-index: -1;}#sk-container-id-55 div.sk-parallel-item {display: flex;flex-direction: column;z-index: 1;position: relative;background-color: white;}#sk-container-id-55 div.sk-parallel-item:first-child::after {align-self: flex-end;width: 50%;}#sk-container-id-55 div.sk-parallel-item:last-child::after {align-self: flex-start;width: 50%;}#sk-container-id-55 div.sk-parallel-item:only-child::after {width: 0;}#sk-container-id-55 div.sk-dashed-wrapped {border: 1px dashed gray;margin: 0 0.4em 0.5em 0.4em;box-sizing: border-box;padding-bottom: 0.4em;background-color: white;}#sk-container-id-55 div.sk-label label {font-family: monospace;font-weight: bold;display: inline-block;line-height: 1.2em;}#sk-container-id-55 div.sk-label-container {text-align: center;}#sk-container-id-55 div.sk-container {/* jupyter's `normalize.less` sets `[hidden] { display: none; }` but bootstrap.min.css set `[hidden] { display: none !important; }` so we also need the `!important` here to be able to override the default hidden behavior on the sphinx rendered scikit-learn.org. See: https://github.com/scikit-learn/scikit-learn/issues/21755 */display: inline-block !important;position: relative;}#sk-container-id-55 div.sk-text-repr-fallback {display: none;}</style><div id=\"sk-container-id-55\" class=\"sk-top-container\"><div class=\"sk-text-repr-fallback\"><pre>RandomForestClassifier(n_estimators=1000)</pre><b>In a Jupyter environment, please rerun this cell to show the HTML representation or trust the notebook. <br />On GitHub, the HTML representation is unable to render, please try loading this page with nbviewer.org.</b></div><div class=\"sk-container\" hidden><div class=\"sk-item\"><div class=\"sk-estimator sk-toggleable\"><input class=\"sk-toggleable__control sk-hidden--visually\" id=\"sk-estimator-id-55\" type=\"checkbox\" checked><label for=\"sk-estimator-id-55\" class=\"sk-toggleable__label sk-toggleable__label-arrow\">RandomForestClassifier</label><div class=\"sk-toggleable__content\"><pre>RandomForestClassifier(n_estimators=1000)</pre></div></div></div></div></div>"
     },
     "execution_count": 213,
     "metadata": {},
     "output_type": "execute_result"
    }
   ],
   "source": [
    "rf_model_eth = RandomForestClassifier(n_estimators=1000)\n",
    "rf_model_eth.fit(X_eth_train, y_eth_train)"
   ],
   "metadata": {
    "collapsed": false,
    "ExecuteTime": {
     "end_time": "2023-06-10T12:01:30.728209Z",
     "start_time": "2023-06-10T12:01:23.535422Z"
    }
   }
  },
  {
   "cell_type": "code",
   "execution_count": 214,
   "outputs": [
    {
     "name": "stdout",
     "output_type": "stream",
     "text": [
      "precision = 0.9142011834319527\n",
      "recall = 0.9035087719298246\n",
      "accuracy = 0.907185628742515\n",
      "f1-score = 0.9088235294117647\n"
     ]
    }
   ],
   "source": [
    "y_predict_eth = rf_model_eth.predict(X_eth_test)\n",
    "\n",
    "precision = precision_score(y_eth_test, y_predict_eth)\n",
    "recall = recall_score(y_eth_test, y_predict_eth)\n",
    "accuracy = accuracy_score(y_eth_test, y_predict_eth)\n",
    "f1 = f1_score(y_eth_test, y_predict_eth)\n",
    "\n",
    "print(f\"precision = {precision}\")\n",
    "print(f\"recall = {recall}\")\n",
    "print(f\"accuracy = {accuracy}\")\n",
    "print(f\"f1-score = {f1}\")"
   ],
   "metadata": {
    "collapsed": false,
    "ExecuteTime": {
     "end_time": "2023-06-10T12:01:34.242639Z",
     "start_time": "2023-06-10T12:01:34.027522Z"
    }
   }
  },
  {
   "cell_type": "code",
   "execution_count": 215,
   "outputs": [
    {
     "name": "stdout",
     "output_type": "stream",
     "text": [
      "precision = 0.8764093329157532\n",
      "recall = 0.8726566497650835\n",
      "accuracy = 0.8739424629471075\n",
      "f1-score = 0.8742053501716346\n"
     ]
    }
   ],
   "source": [
    "folds = KFold(n_splits=2, shuffle=True, random_state=42)\n",
    "\n",
    "precision_list = []\n",
    "recall_list = []\n",
    "accuracy_list = []\n",
    "f1_list = []\n",
    "\n",
    "for i, (train_index, test_index) in enumerate(folds.split(X_eth)):\n",
    "    rf_model_eth = RandomForestClassifier(n_estimators=1000)\n",
    "    rf_model_eth.fit(X_eth.iloc[train_index], y_eth[train_index])\n",
    "    y_predict_btc = rf_model_eth.predict(X_eth.iloc[test_index])\n",
    "\n",
    "    precision_list.append(precision_score(y_eth[test_index], y_predict_btc))\n",
    "    recall_list.append(recall_score(y_eth[test_index], y_predict_btc))\n",
    "    accuracy_list.append(accuracy_score(y_eth[test_index], y_predict_btc))\n",
    "    f1_list.append(f1_score(y_eth[test_index], y_predict_btc))\n",
    "\n",
    "precision = sum(precision_list) / len(precision_list)\n",
    "recall = sum(recall_list) / len(recall_list)\n",
    "accuracy = sum(accuracy_list) / len(accuracy_list)\n",
    "f1 = sum(f1_list) / len(f1_list)\n",
    "\n",
    "print(f\"precision = {precision}\")\n",
    "print(f\"recall = {recall}\")\n",
    "print(f\"accuracy = {accuracy}\")\n",
    "print(f\"f1-score = {f1}\")"
   ],
   "metadata": {
    "collapsed": false,
    "ExecuteTime": {
     "end_time": "2023-06-10T12:01:49.462339Z",
     "start_time": "2023-06-10T12:01:39.220301Z"
    }
   }
  },
  {
   "cell_type": "markdown",
   "source": [
    "### Reduce dim"
   ],
   "metadata": {
    "collapsed": false
   }
  },
  {
   "cell_type": "code",
   "execution_count": 216,
   "outputs": [],
   "source": [
    "X_eth = pd.read_csv(PATH + \"/ETH_reduce.csv\", index_col='time')\n",
    "y_eth = pd.read_csv(PATH + \"/ETH_target.csv\", index_col='time')\n",
    "y_eth = y_eth.values.ravel()\n",
    "\n",
    "X_eth_train, X_eth_test, y_eth_train, y_eth_test = train_test_split(X_eth, y_eth, test_size=0.33, random_state=42)"
   ],
   "metadata": {
    "collapsed": false,
    "ExecuteTime": {
     "end_time": "2023-06-10T12:01:52.279373Z",
     "start_time": "2023-06-10T12:01:51.980205Z"
    }
   }
  },
  {
   "cell_type": "code",
   "execution_count": 217,
   "outputs": [
    {
     "data": {
      "text/plain": "RandomForestClassifier(n_estimators=1000)",
      "text/html": "<style>#sk-container-id-56 {color: black;background-color: white;}#sk-container-id-56 pre{padding: 0;}#sk-container-id-56 div.sk-toggleable {background-color: white;}#sk-container-id-56 label.sk-toggleable__label {cursor: pointer;display: block;width: 100%;margin-bottom: 0;padding: 0.3em;box-sizing: border-box;text-align: center;}#sk-container-id-56 label.sk-toggleable__label-arrow:before {content: \"▸\";float: left;margin-right: 0.25em;color: #696969;}#sk-container-id-56 label.sk-toggleable__label-arrow:hover:before {color: black;}#sk-container-id-56 div.sk-estimator:hover label.sk-toggleable__label-arrow:before {color: black;}#sk-container-id-56 div.sk-toggleable__content {max-height: 0;max-width: 0;overflow: hidden;text-align: left;background-color: #f0f8ff;}#sk-container-id-56 div.sk-toggleable__content pre {margin: 0.2em;color: black;border-radius: 0.25em;background-color: #f0f8ff;}#sk-container-id-56 input.sk-toggleable__control:checked~div.sk-toggleable__content {max-height: 200px;max-width: 100%;overflow: auto;}#sk-container-id-56 input.sk-toggleable__control:checked~label.sk-toggleable__label-arrow:before {content: \"▾\";}#sk-container-id-56 div.sk-estimator input.sk-toggleable__control:checked~label.sk-toggleable__label {background-color: #d4ebff;}#sk-container-id-56 div.sk-label input.sk-toggleable__control:checked~label.sk-toggleable__label {background-color: #d4ebff;}#sk-container-id-56 input.sk-hidden--visually {border: 0;clip: rect(1px 1px 1px 1px);clip: rect(1px, 1px, 1px, 1px);height: 1px;margin: -1px;overflow: hidden;padding: 0;position: absolute;width: 1px;}#sk-container-id-56 div.sk-estimator {font-family: monospace;background-color: #f0f8ff;border: 1px dotted black;border-radius: 0.25em;box-sizing: border-box;margin-bottom: 0.5em;}#sk-container-id-56 div.sk-estimator:hover {background-color: #d4ebff;}#sk-container-id-56 div.sk-parallel-item::after {content: \"\";width: 100%;border-bottom: 1px solid gray;flex-grow: 1;}#sk-container-id-56 div.sk-label:hover label.sk-toggleable__label {background-color: #d4ebff;}#sk-container-id-56 div.sk-serial::before {content: \"\";position: absolute;border-left: 1px solid gray;box-sizing: border-box;top: 0;bottom: 0;left: 50%;z-index: 0;}#sk-container-id-56 div.sk-serial {display: flex;flex-direction: column;align-items: center;background-color: white;padding-right: 0.2em;padding-left: 0.2em;position: relative;}#sk-container-id-56 div.sk-item {position: relative;z-index: 1;}#sk-container-id-56 div.sk-parallel {display: flex;align-items: stretch;justify-content: center;background-color: white;position: relative;}#sk-container-id-56 div.sk-item::before, #sk-container-id-56 div.sk-parallel-item::before {content: \"\";position: absolute;border-left: 1px solid gray;box-sizing: border-box;top: 0;bottom: 0;left: 50%;z-index: -1;}#sk-container-id-56 div.sk-parallel-item {display: flex;flex-direction: column;z-index: 1;position: relative;background-color: white;}#sk-container-id-56 div.sk-parallel-item:first-child::after {align-self: flex-end;width: 50%;}#sk-container-id-56 div.sk-parallel-item:last-child::after {align-self: flex-start;width: 50%;}#sk-container-id-56 div.sk-parallel-item:only-child::after {width: 0;}#sk-container-id-56 div.sk-dashed-wrapped {border: 1px dashed gray;margin: 0 0.4em 0.5em 0.4em;box-sizing: border-box;padding-bottom: 0.4em;background-color: white;}#sk-container-id-56 div.sk-label label {font-family: monospace;font-weight: bold;display: inline-block;line-height: 1.2em;}#sk-container-id-56 div.sk-label-container {text-align: center;}#sk-container-id-56 div.sk-container {/* jupyter's `normalize.less` sets `[hidden] { display: none; }` but bootstrap.min.css set `[hidden] { display: none !important; }` so we also need the `!important` here to be able to override the default hidden behavior on the sphinx rendered scikit-learn.org. See: https://github.com/scikit-learn/scikit-learn/issues/21755 */display: inline-block !important;position: relative;}#sk-container-id-56 div.sk-text-repr-fallback {display: none;}</style><div id=\"sk-container-id-56\" class=\"sk-top-container\"><div class=\"sk-text-repr-fallback\"><pre>RandomForestClassifier(n_estimators=1000)</pre><b>In a Jupyter environment, please rerun this cell to show the HTML representation or trust the notebook. <br />On GitHub, the HTML representation is unable to render, please try loading this page with nbviewer.org.</b></div><div class=\"sk-container\" hidden><div class=\"sk-item\"><div class=\"sk-estimator sk-toggleable\"><input class=\"sk-toggleable__control sk-hidden--visually\" id=\"sk-estimator-id-56\" type=\"checkbox\" checked><label for=\"sk-estimator-id-56\" class=\"sk-toggleable__label sk-toggleable__label-arrow\">RandomForestClassifier</label><div class=\"sk-toggleable__content\"><pre>RandomForestClassifier(n_estimators=1000)</pre></div></div></div></div></div>"
     },
     "execution_count": 217,
     "metadata": {},
     "output_type": "execute_result"
    }
   ],
   "source": [
    "rf_model_eth = RandomForestClassifier(n_estimators=1000)\n",
    "rf_model_eth.fit(X_eth_train, y_eth_train)"
   ],
   "metadata": {
    "collapsed": false,
    "ExecuteTime": {
     "end_time": "2023-06-10T12:01:59.377473Z",
     "start_time": "2023-06-10T12:01:53.796417Z"
    }
   }
  },
  {
   "cell_type": "code",
   "execution_count": 218,
   "outputs": [
    {
     "name": "stdout",
     "output_type": "stream",
     "text": [
      "precision = 0.9009009009009009\n",
      "recall = 0.8771929824561403\n",
      "accuracy = 0.8877245508982036\n",
      "f1-score = 0.8888888888888888\n"
     ]
    }
   ],
   "source": [
    "y_predict_eth = rf_model_eth.predict(X_eth_test)\n",
    "\n",
    "precision = precision_score(y_eth_test, y_predict_eth)\n",
    "recall = recall_score(y_eth_test, y_predict_eth)\n",
    "accuracy = accuracy_score(y_eth_test, y_predict_eth)\n",
    "f1 = f1_score(y_eth_test, y_predict_eth)\n",
    "\n",
    "print(f\"precision = {precision}\")\n",
    "print(f\"recall = {recall}\")\n",
    "print(f\"accuracy = {accuracy}\")\n",
    "print(f\"f1-score = {f1}\")"
   ],
   "metadata": {
    "collapsed": false,
    "ExecuteTime": {
     "end_time": "2023-06-10T12:02:12.232300Z",
     "start_time": "2023-06-10T12:02:12.023818Z"
    }
   }
  },
  {
   "cell_type": "code",
   "execution_count": 219,
   "outputs": [
    {
     "name": "stdout",
     "output_type": "stream",
     "text": [
      "precision = 0.8456360078277887\n",
      "recall = 0.8626552542215193\n",
      "accuracy = 0.8517009535426514\n",
      "f1-score = 0.8538255687696109\n"
     ]
    }
   ],
   "source": [
    "folds = KFold(n_splits=2, shuffle=True, random_state=42)\n",
    "\n",
    "precision_list = []\n",
    "recall_list = []\n",
    "accuracy_list = []\n",
    "f1_list = []\n",
    "\n",
    "for i, (train_index, test_index) in enumerate(folds.split(X_eth)):\n",
    "    rf_model_eth = RandomForestClassifier(n_estimators=1000)\n",
    "    rf_model_eth.fit(X_eth.iloc[train_index], y_eth[train_index])\n",
    "    y_predict_btc = rf_model_eth.predict(X_eth.iloc[test_index])\n",
    "\n",
    "    precision_list.append(precision_score(y_eth[test_index], y_predict_btc))\n",
    "    recall_list.append(recall_score(y_eth[test_index], y_predict_btc))\n",
    "    accuracy_list.append(accuracy_score(y_eth[test_index], y_predict_btc))\n",
    "    f1_list.append(f1_score(y_eth[test_index], y_predict_btc))\n",
    "\n",
    "precision = sum(precision_list) / len(precision_list)\n",
    "recall = sum(recall_list) / len(recall_list)\n",
    "accuracy = sum(accuracy_list) / len(accuracy_list)\n",
    "f1 = sum(f1_list) / len(f1_list)\n",
    "\n",
    "print(f\"precision = {precision}\")\n",
    "print(f\"recall = {recall}\")\n",
    "print(f\"accuracy = {accuracy}\")\n",
    "print(f\"f1-score = {f1}\")"
   ],
   "metadata": {
    "collapsed": false,
    "ExecuteTime": {
     "end_time": "2023-06-10T12:02:23.147939Z",
     "start_time": "2023-06-10T12:02:15.969049Z"
    }
   }
  },
  {
   "cell_type": "markdown",
   "source": [
    "### With normalization"
   ],
   "metadata": {
    "collapsed": false
   }
  },
  {
   "cell_type": "code",
   "execution_count": 220,
   "outputs": [],
   "source": [
    "X_eth = pd.read_csv(PATH + \"/ETH_normalization.csv\", index_col='time')\n",
    "y_eth = pd.read_csv(PATH + \"/ETH_target.csv\", index_col='time')\n",
    "y_eth = y_eth.values.ravel()\n",
    "\n",
    "X_eth_train, X_eth_test, y_eth_train, y_eth_test = train_test_split(X_eth, y_eth, test_size=0.33, random_state=42)"
   ],
   "metadata": {
    "collapsed": false,
    "ExecuteTime": {
     "end_time": "2023-06-10T12:02:27.870735Z",
     "start_time": "2023-06-10T12:02:27.802631Z"
    }
   }
  },
  {
   "cell_type": "code",
   "execution_count": 221,
   "outputs": [
    {
     "data": {
      "text/plain": "RandomForestClassifier(n_estimators=1000)",
      "text/html": "<style>#sk-container-id-57 {color: black;background-color: white;}#sk-container-id-57 pre{padding: 0;}#sk-container-id-57 div.sk-toggleable {background-color: white;}#sk-container-id-57 label.sk-toggleable__label {cursor: pointer;display: block;width: 100%;margin-bottom: 0;padding: 0.3em;box-sizing: border-box;text-align: center;}#sk-container-id-57 label.sk-toggleable__label-arrow:before {content: \"▸\";float: left;margin-right: 0.25em;color: #696969;}#sk-container-id-57 label.sk-toggleable__label-arrow:hover:before {color: black;}#sk-container-id-57 div.sk-estimator:hover label.sk-toggleable__label-arrow:before {color: black;}#sk-container-id-57 div.sk-toggleable__content {max-height: 0;max-width: 0;overflow: hidden;text-align: left;background-color: #f0f8ff;}#sk-container-id-57 div.sk-toggleable__content pre {margin: 0.2em;color: black;border-radius: 0.25em;background-color: #f0f8ff;}#sk-container-id-57 input.sk-toggleable__control:checked~div.sk-toggleable__content {max-height: 200px;max-width: 100%;overflow: auto;}#sk-container-id-57 input.sk-toggleable__control:checked~label.sk-toggleable__label-arrow:before {content: \"▾\";}#sk-container-id-57 div.sk-estimator input.sk-toggleable__control:checked~label.sk-toggleable__label {background-color: #d4ebff;}#sk-container-id-57 div.sk-label input.sk-toggleable__control:checked~label.sk-toggleable__label {background-color: #d4ebff;}#sk-container-id-57 input.sk-hidden--visually {border: 0;clip: rect(1px 1px 1px 1px);clip: rect(1px, 1px, 1px, 1px);height: 1px;margin: -1px;overflow: hidden;padding: 0;position: absolute;width: 1px;}#sk-container-id-57 div.sk-estimator {font-family: monospace;background-color: #f0f8ff;border: 1px dotted black;border-radius: 0.25em;box-sizing: border-box;margin-bottom: 0.5em;}#sk-container-id-57 div.sk-estimator:hover {background-color: #d4ebff;}#sk-container-id-57 div.sk-parallel-item::after {content: \"\";width: 100%;border-bottom: 1px solid gray;flex-grow: 1;}#sk-container-id-57 div.sk-label:hover label.sk-toggleable__label {background-color: #d4ebff;}#sk-container-id-57 div.sk-serial::before {content: \"\";position: absolute;border-left: 1px solid gray;box-sizing: border-box;top: 0;bottom: 0;left: 50%;z-index: 0;}#sk-container-id-57 div.sk-serial {display: flex;flex-direction: column;align-items: center;background-color: white;padding-right: 0.2em;padding-left: 0.2em;position: relative;}#sk-container-id-57 div.sk-item {position: relative;z-index: 1;}#sk-container-id-57 div.sk-parallel {display: flex;align-items: stretch;justify-content: center;background-color: white;position: relative;}#sk-container-id-57 div.sk-item::before, #sk-container-id-57 div.sk-parallel-item::before {content: \"\";position: absolute;border-left: 1px solid gray;box-sizing: border-box;top: 0;bottom: 0;left: 50%;z-index: -1;}#sk-container-id-57 div.sk-parallel-item {display: flex;flex-direction: column;z-index: 1;position: relative;background-color: white;}#sk-container-id-57 div.sk-parallel-item:first-child::after {align-self: flex-end;width: 50%;}#sk-container-id-57 div.sk-parallel-item:last-child::after {align-self: flex-start;width: 50%;}#sk-container-id-57 div.sk-parallel-item:only-child::after {width: 0;}#sk-container-id-57 div.sk-dashed-wrapped {border: 1px dashed gray;margin: 0 0.4em 0.5em 0.4em;box-sizing: border-box;padding-bottom: 0.4em;background-color: white;}#sk-container-id-57 div.sk-label label {font-family: monospace;font-weight: bold;display: inline-block;line-height: 1.2em;}#sk-container-id-57 div.sk-label-container {text-align: center;}#sk-container-id-57 div.sk-container {/* jupyter's `normalize.less` sets `[hidden] { display: none; }` but bootstrap.min.css set `[hidden] { display: none !important; }` so we also need the `!important` here to be able to override the default hidden behavior on the sphinx rendered scikit-learn.org. See: https://github.com/scikit-learn/scikit-learn/issues/21755 */display: inline-block !important;position: relative;}#sk-container-id-57 div.sk-text-repr-fallback {display: none;}</style><div id=\"sk-container-id-57\" class=\"sk-top-container\"><div class=\"sk-text-repr-fallback\"><pre>RandomForestClassifier(n_estimators=1000)</pre><b>In a Jupyter environment, please rerun this cell to show the HTML representation or trust the notebook. <br />On GitHub, the HTML representation is unable to render, please try loading this page with nbviewer.org.</b></div><div class=\"sk-container\" hidden><div class=\"sk-item\"><div class=\"sk-estimator sk-toggleable\"><input class=\"sk-toggleable__control sk-hidden--visually\" id=\"sk-estimator-id-57\" type=\"checkbox\" checked><label for=\"sk-estimator-id-57\" class=\"sk-toggleable__label sk-toggleable__label-arrow\">RandomForestClassifier</label><div class=\"sk-toggleable__content\"><pre>RandomForestClassifier(n_estimators=1000)</pre></div></div></div></div></div>"
     },
     "execution_count": 221,
     "metadata": {},
     "output_type": "execute_result"
    }
   ],
   "source": [
    "rf_model_eth = RandomForestClassifier(n_estimators=1000)\n",
    "rf_model_eth.fit(X_eth_train, y_eth_train)"
   ],
   "metadata": {
    "collapsed": false,
    "ExecuteTime": {
     "end_time": "2023-06-10T12:02:35.643612Z",
     "start_time": "2023-06-10T12:02:28.519481Z"
    }
   }
  },
  {
   "cell_type": "code",
   "execution_count": 222,
   "outputs": [
    {
     "name": "stdout",
     "output_type": "stream",
     "text": [
      "precision = 0.9196428571428571\n",
      "recall = 0.9035087719298246\n",
      "accuracy = 0.9101796407185628\n",
      "f1-score = 0.911504424778761\n"
     ]
    }
   ],
   "source": [
    "y_predict_eth = rf_model_eth.predict(X_eth_test)\n",
    "\n",
    "precision = precision_score(y_eth_test, y_predict_eth)\n",
    "recall = recall_score(y_eth_test, y_predict_eth)\n",
    "accuracy = accuracy_score(y_eth_test, y_predict_eth)\n",
    "f1 = f1_score(y_eth_test, y_predict_eth)\n",
    "\n",
    "print(f\"precision = {precision}\")\n",
    "print(f\"recall = {recall}\")\n",
    "print(f\"accuracy = {accuracy}\")\n",
    "print(f\"f1-score = {f1}\")"
   ],
   "metadata": {
    "collapsed": false,
    "ExecuteTime": {
     "end_time": "2023-06-10T12:02:40.114461Z",
     "start_time": "2023-06-10T12:02:39.930233Z"
    }
   }
  },
  {
   "cell_type": "code",
   "execution_count": 223,
   "outputs": [
    {
     "name": "stdout",
     "output_type": "stream",
     "text": [
      "precision = 0.8704383719268981\n",
      "recall = 0.8726178846660775\n",
      "accuracy = 0.8704834762278963\n",
      "f1-score = 0.871189773844641\n"
     ]
    }
   ],
   "source": [
    "folds = KFold(n_splits=2, shuffle=True, random_state=42)\n",
    "\n",
    "precision_list = []\n",
    "recall_list = []\n",
    "accuracy_list = []\n",
    "f1_list = []\n",
    "\n",
    "for i, (train_index, test_index) in enumerate(folds.split(X_eth)):\n",
    "    rf_model_eth = RandomForestClassifier(n_estimators=1000)\n",
    "    rf_model_eth.fit(X_eth.iloc[train_index], y_eth[train_index])\n",
    "    y_predict_btc = rf_model_eth.predict(X_eth.iloc[test_index])\n",
    "\n",
    "    precision_list.append(precision_score(y_eth[test_index], y_predict_btc))\n",
    "    recall_list.append(recall_score(y_eth[test_index], y_predict_btc))\n",
    "    accuracy_list.append(accuracy_score(y_eth[test_index], y_predict_btc))\n",
    "    f1_list.append(f1_score(y_eth[test_index], y_predict_btc))\n",
    "\n",
    "precision = sum(precision_list) / len(precision_list)\n",
    "recall = sum(recall_list) / len(recall_list)\n",
    "accuracy = sum(accuracy_list) / len(accuracy_list)\n",
    "f1 = sum(f1_list) / len(f1_list)\n",
    "\n",
    "print(f\"precision = {precision}\")\n",
    "print(f\"recall = {recall}\")\n",
    "print(f\"accuracy = {accuracy}\")\n",
    "print(f\"f1-score = {f1}\")"
   ],
   "metadata": {
    "collapsed": false,
    "ExecuteTime": {
     "end_time": "2023-06-10T12:02:54.652001Z",
     "start_time": "2023-06-10T12:02:43.310391Z"
    }
   }
  },
  {
   "cell_type": "markdown",
   "source": [
    "### SVM"
   ],
   "metadata": {
    "collapsed": false
   }
  },
  {
   "cell_type": "code",
   "execution_count": 81,
   "outputs": [],
   "source": [
    "from sklearn import svm"
   ],
   "metadata": {
    "collapsed": false,
    "ExecuteTime": {
     "end_time": "2023-06-10T10:08:20.955839Z",
     "start_time": "2023-06-10T10:08:20.940516Z"
    }
   }
  },
  {
   "cell_type": "markdown",
   "source": [
    "### No indicators"
   ],
   "metadata": {
    "collapsed": false
   }
  },
  {
   "cell_type": "code",
   "execution_count": 224,
   "outputs": [],
   "source": [
    "X_eth = pd.read_csv(PATH + \"/ETH.csv\", index_col='time')\n",
    "y_eth = pd.read_csv(PATH + \"/ETH_target.csv\", index_col='time')\n",
    "y_eth = y_eth.values.ravel()\n",
    "\n",
    "X_eth_train, X_eth_test, y_eth_train, y_eth_test = train_test_split(X_eth, y_eth, test_size=0.33, random_state=42)"
   ],
   "metadata": {
    "collapsed": false,
    "ExecuteTime": {
     "end_time": "2023-06-10T12:02:57.692091Z",
     "start_time": "2023-06-10T12:02:57.661647Z"
    }
   }
  },
  {
   "cell_type": "code",
   "execution_count": 227,
   "outputs": [
    {
     "data": {
      "text/plain": "SVC()",
      "text/html": "<style>#sk-container-id-59 {color: black;background-color: white;}#sk-container-id-59 pre{padding: 0;}#sk-container-id-59 div.sk-toggleable {background-color: white;}#sk-container-id-59 label.sk-toggleable__label {cursor: pointer;display: block;width: 100%;margin-bottom: 0;padding: 0.3em;box-sizing: border-box;text-align: center;}#sk-container-id-59 label.sk-toggleable__label-arrow:before {content: \"▸\";float: left;margin-right: 0.25em;color: #696969;}#sk-container-id-59 label.sk-toggleable__label-arrow:hover:before {color: black;}#sk-container-id-59 div.sk-estimator:hover label.sk-toggleable__label-arrow:before {color: black;}#sk-container-id-59 div.sk-toggleable__content {max-height: 0;max-width: 0;overflow: hidden;text-align: left;background-color: #f0f8ff;}#sk-container-id-59 div.sk-toggleable__content pre {margin: 0.2em;color: black;border-radius: 0.25em;background-color: #f0f8ff;}#sk-container-id-59 input.sk-toggleable__control:checked~div.sk-toggleable__content {max-height: 200px;max-width: 100%;overflow: auto;}#sk-container-id-59 input.sk-toggleable__control:checked~label.sk-toggleable__label-arrow:before {content: \"▾\";}#sk-container-id-59 div.sk-estimator input.sk-toggleable__control:checked~label.sk-toggleable__label {background-color: #d4ebff;}#sk-container-id-59 div.sk-label input.sk-toggleable__control:checked~label.sk-toggleable__label {background-color: #d4ebff;}#sk-container-id-59 input.sk-hidden--visually {border: 0;clip: rect(1px 1px 1px 1px);clip: rect(1px, 1px, 1px, 1px);height: 1px;margin: -1px;overflow: hidden;padding: 0;position: absolute;width: 1px;}#sk-container-id-59 div.sk-estimator {font-family: monospace;background-color: #f0f8ff;border: 1px dotted black;border-radius: 0.25em;box-sizing: border-box;margin-bottom: 0.5em;}#sk-container-id-59 div.sk-estimator:hover {background-color: #d4ebff;}#sk-container-id-59 div.sk-parallel-item::after {content: \"\";width: 100%;border-bottom: 1px solid gray;flex-grow: 1;}#sk-container-id-59 div.sk-label:hover label.sk-toggleable__label {background-color: #d4ebff;}#sk-container-id-59 div.sk-serial::before {content: \"\";position: absolute;border-left: 1px solid gray;box-sizing: border-box;top: 0;bottom: 0;left: 50%;z-index: 0;}#sk-container-id-59 div.sk-serial {display: flex;flex-direction: column;align-items: center;background-color: white;padding-right: 0.2em;padding-left: 0.2em;position: relative;}#sk-container-id-59 div.sk-item {position: relative;z-index: 1;}#sk-container-id-59 div.sk-parallel {display: flex;align-items: stretch;justify-content: center;background-color: white;position: relative;}#sk-container-id-59 div.sk-item::before, #sk-container-id-59 div.sk-parallel-item::before {content: \"\";position: absolute;border-left: 1px solid gray;box-sizing: border-box;top: 0;bottom: 0;left: 50%;z-index: -1;}#sk-container-id-59 div.sk-parallel-item {display: flex;flex-direction: column;z-index: 1;position: relative;background-color: white;}#sk-container-id-59 div.sk-parallel-item:first-child::after {align-self: flex-end;width: 50%;}#sk-container-id-59 div.sk-parallel-item:last-child::after {align-self: flex-start;width: 50%;}#sk-container-id-59 div.sk-parallel-item:only-child::after {width: 0;}#sk-container-id-59 div.sk-dashed-wrapped {border: 1px dashed gray;margin: 0 0.4em 0.5em 0.4em;box-sizing: border-box;padding-bottom: 0.4em;background-color: white;}#sk-container-id-59 div.sk-label label {font-family: monospace;font-weight: bold;display: inline-block;line-height: 1.2em;}#sk-container-id-59 div.sk-label-container {text-align: center;}#sk-container-id-59 div.sk-container {/* jupyter's `normalize.less` sets `[hidden] { display: none; }` but bootstrap.min.css set `[hidden] { display: none !important; }` so we also need the `!important` here to be able to override the default hidden behavior on the sphinx rendered scikit-learn.org. See: https://github.com/scikit-learn/scikit-learn/issues/21755 */display: inline-block !important;position: relative;}#sk-container-id-59 div.sk-text-repr-fallback {display: none;}</style><div id=\"sk-container-id-59\" class=\"sk-top-container\"><div class=\"sk-text-repr-fallback\"><pre>SVC()</pre><b>In a Jupyter environment, please rerun this cell to show the HTML representation or trust the notebook. <br />On GitHub, the HTML representation is unable to render, please try loading this page with nbviewer.org.</b></div><div class=\"sk-container\" hidden><div class=\"sk-item\"><div class=\"sk-estimator sk-toggleable\"><input class=\"sk-toggleable__control sk-hidden--visually\" id=\"sk-estimator-id-59\" type=\"checkbox\" checked><label for=\"sk-estimator-id-59\" class=\"sk-toggleable__label sk-toggleable__label-arrow\">SVC</label><div class=\"sk-toggleable__content\"><pre>SVC()</pre></div></div></div></div></div>"
     },
     "execution_count": 227,
     "metadata": {},
     "output_type": "execute_result"
    }
   ],
   "source": [
    "svm_model_eth = svm.SVC(kernel='rbf')\n",
    "\n",
    "svm_model_eth.fit(X_eth_train, y_eth_train)"
   ],
   "metadata": {
    "collapsed": false,
    "ExecuteTime": {
     "end_time": "2023-06-10T12:03:06.512492Z",
     "start_time": "2023-06-10T12:03:06.413212Z"
    }
   }
  },
  {
   "cell_type": "code",
   "execution_count": 228,
   "outputs": [
    {
     "name": "stdout",
     "output_type": "stream",
     "text": [
      "precision = 0.5537974683544303\n",
      "recall = 0.5116959064327485\n",
      "accuracy = 0.5389221556886228\n",
      "f1-score = 0.5319148936170213\n"
     ]
    }
   ],
   "source": [
    "y_predict_eth = svm_model_eth.predict(X_eth_test)\n",
    "\n",
    "precision = precision_score(y_eth_test, y_predict_eth)\n",
    "recall = recall_score(y_eth_test, y_predict_eth)\n",
    "accuracy = accuracy_score(y_eth_test, y_predict_eth)\n",
    "f1 = f1_score(y_eth_test, y_predict_eth)\n",
    "\n",
    "print(f\"precision = {precision}\")\n",
    "print(f\"recall = {recall}\")\n",
    "print(f\"accuracy = {accuracy}\")\n",
    "print(f\"f1-score = {f1}\")"
   ],
   "metadata": {
    "collapsed": false,
    "ExecuteTime": {
     "end_time": "2023-06-10T12:03:07.721722Z",
     "start_time": "2023-06-10T12:03:07.606255Z"
    }
   }
  },
  {
   "cell_type": "code",
   "execution_count": 229,
   "outputs": [
    {
     "name": "stdout",
     "output_type": "stream",
     "text": [
      "precision = 0.5275728414862337\n",
      "recall = 0.5696996480129011\n",
      "accuracy = 0.5274304781787688\n",
      "f1-score = 0.5469940393952553\n"
     ]
    }
   ],
   "source": [
    "folds = KFold(n_splits=2, shuffle=True, random_state=42)\n",
    "\n",
    "precision_list = []\n",
    "recall_list = []\n",
    "accuracy_list = []\n",
    "f1_list = []\n",
    "\n",
    "for i, (train_index, test_index) in enumerate(folds.split(X_eth)):\n",
    "    svm_model_eth = svm.SVC(kernel='rbf')\n",
    "    svm_model_eth.fit(X_eth.iloc[train_index], y_eth[train_index])\n",
    "    y_predict_btc = svm_model_eth.predict(X_eth.iloc[test_index])\n",
    "\n",
    "    precision_list.append(precision_score(y_eth[test_index], y_predict_btc))\n",
    "    recall_list.append(recall_score(y_eth[test_index], y_predict_btc))\n",
    "    accuracy_list.append(accuracy_score(y_eth[test_index], y_predict_btc))\n",
    "    f1_list.append(f1_score(y_eth[test_index], y_predict_btc))\n",
    "\n",
    "precision = sum(precision_list) / len(precision_list)\n",
    "recall = sum(recall_list) / len(recall_list)\n",
    "accuracy = sum(accuracy_list) / len(accuracy_list)\n",
    "f1 = sum(f1_list) / len(f1_list)\n",
    "\n",
    "print(f\"precision = {precision}\")\n",
    "print(f\"recall = {recall}\")\n",
    "print(f\"accuracy = {accuracy}\")\n",
    "print(f\"f1-score = {f1}\")"
   ],
   "metadata": {
    "collapsed": false,
    "ExecuteTime": {
     "end_time": "2023-06-10T12:03:10.519934Z",
     "start_time": "2023-06-10T12:03:10.183383Z"
    }
   }
  },
  {
   "cell_type": "markdown",
   "source": [
    "### With indicators"
   ],
   "metadata": {
    "collapsed": false
   }
  },
  {
   "cell_type": "code",
   "execution_count": 242,
   "outputs": [],
   "source": [
    "X_eth = pd.read_csv(PATH + \"/ETH_indicators.csv\", index_col='time')\n",
    "y_eth = pd.read_csv(PATH + \"/ETH_target.csv\", index_col='time')\n",
    "y_eth = y_eth.values.ravel()\n",
    "\n",
    "X_eth_train, X_eth_test, y_eth_train, y_eth_test = train_test_split(X_eth, y_eth, test_size=0.33, random_state=42)"
   ],
   "metadata": {
    "collapsed": false,
    "ExecuteTime": {
     "end_time": "2023-06-10T12:03:49.843204Z",
     "start_time": "2023-06-10T12:03:49.787806Z"
    }
   }
  },
  {
   "cell_type": "code",
   "execution_count": 245,
   "outputs": [
    {
     "data": {
      "text/plain": "SVC()",
      "text/html": "<style>#sk-container-id-65 {color: black;background-color: white;}#sk-container-id-65 pre{padding: 0;}#sk-container-id-65 div.sk-toggleable {background-color: white;}#sk-container-id-65 label.sk-toggleable__label {cursor: pointer;display: block;width: 100%;margin-bottom: 0;padding: 0.3em;box-sizing: border-box;text-align: center;}#sk-container-id-65 label.sk-toggleable__label-arrow:before {content: \"▸\";float: left;margin-right: 0.25em;color: #696969;}#sk-container-id-65 label.sk-toggleable__label-arrow:hover:before {color: black;}#sk-container-id-65 div.sk-estimator:hover label.sk-toggleable__label-arrow:before {color: black;}#sk-container-id-65 div.sk-toggleable__content {max-height: 0;max-width: 0;overflow: hidden;text-align: left;background-color: #f0f8ff;}#sk-container-id-65 div.sk-toggleable__content pre {margin: 0.2em;color: black;border-radius: 0.25em;background-color: #f0f8ff;}#sk-container-id-65 input.sk-toggleable__control:checked~div.sk-toggleable__content {max-height: 200px;max-width: 100%;overflow: auto;}#sk-container-id-65 input.sk-toggleable__control:checked~label.sk-toggleable__label-arrow:before {content: \"▾\";}#sk-container-id-65 div.sk-estimator input.sk-toggleable__control:checked~label.sk-toggleable__label {background-color: #d4ebff;}#sk-container-id-65 div.sk-label input.sk-toggleable__control:checked~label.sk-toggleable__label {background-color: #d4ebff;}#sk-container-id-65 input.sk-hidden--visually {border: 0;clip: rect(1px 1px 1px 1px);clip: rect(1px, 1px, 1px, 1px);height: 1px;margin: -1px;overflow: hidden;padding: 0;position: absolute;width: 1px;}#sk-container-id-65 div.sk-estimator {font-family: monospace;background-color: #f0f8ff;border: 1px dotted black;border-radius: 0.25em;box-sizing: border-box;margin-bottom: 0.5em;}#sk-container-id-65 div.sk-estimator:hover {background-color: #d4ebff;}#sk-container-id-65 div.sk-parallel-item::after {content: \"\";width: 100%;border-bottom: 1px solid gray;flex-grow: 1;}#sk-container-id-65 div.sk-label:hover label.sk-toggleable__label {background-color: #d4ebff;}#sk-container-id-65 div.sk-serial::before {content: \"\";position: absolute;border-left: 1px solid gray;box-sizing: border-box;top: 0;bottom: 0;left: 50%;z-index: 0;}#sk-container-id-65 div.sk-serial {display: flex;flex-direction: column;align-items: center;background-color: white;padding-right: 0.2em;padding-left: 0.2em;position: relative;}#sk-container-id-65 div.sk-item {position: relative;z-index: 1;}#sk-container-id-65 div.sk-parallel {display: flex;align-items: stretch;justify-content: center;background-color: white;position: relative;}#sk-container-id-65 div.sk-item::before, #sk-container-id-65 div.sk-parallel-item::before {content: \"\";position: absolute;border-left: 1px solid gray;box-sizing: border-box;top: 0;bottom: 0;left: 50%;z-index: -1;}#sk-container-id-65 div.sk-parallel-item {display: flex;flex-direction: column;z-index: 1;position: relative;background-color: white;}#sk-container-id-65 div.sk-parallel-item:first-child::after {align-self: flex-end;width: 50%;}#sk-container-id-65 div.sk-parallel-item:last-child::after {align-self: flex-start;width: 50%;}#sk-container-id-65 div.sk-parallel-item:only-child::after {width: 0;}#sk-container-id-65 div.sk-dashed-wrapped {border: 1px dashed gray;margin: 0 0.4em 0.5em 0.4em;box-sizing: border-box;padding-bottom: 0.4em;background-color: white;}#sk-container-id-65 div.sk-label label {font-family: monospace;font-weight: bold;display: inline-block;line-height: 1.2em;}#sk-container-id-65 div.sk-label-container {text-align: center;}#sk-container-id-65 div.sk-container {/* jupyter's `normalize.less` sets `[hidden] { display: none; }` but bootstrap.min.css set `[hidden] { display: none !important; }` so we also need the `!important` here to be able to override the default hidden behavior on the sphinx rendered scikit-learn.org. See: https://github.com/scikit-learn/scikit-learn/issues/21755 */display: inline-block !important;position: relative;}#sk-container-id-65 div.sk-text-repr-fallback {display: none;}</style><div id=\"sk-container-id-65\" class=\"sk-top-container\"><div class=\"sk-text-repr-fallback\"><pre>SVC()</pre><b>In a Jupyter environment, please rerun this cell to show the HTML representation or trust the notebook. <br />On GitHub, the HTML representation is unable to render, please try loading this page with nbviewer.org.</b></div><div class=\"sk-container\" hidden><div class=\"sk-item\"><div class=\"sk-estimator sk-toggleable\"><input class=\"sk-toggleable__control sk-hidden--visually\" id=\"sk-estimator-id-65\" type=\"checkbox\" checked><label for=\"sk-estimator-id-65\" class=\"sk-toggleable__label sk-toggleable__label-arrow\">SVC</label><div class=\"sk-toggleable__content\"><pre>SVC()</pre></div></div></div></div></div>"
     },
     "execution_count": 245,
     "metadata": {},
     "output_type": "execute_result"
    }
   ],
   "source": [
    "svm_model_eth = svm.SVC(kernel='rbf')\n",
    "\n",
    "svm_model_eth.fit(X_eth_train, y_eth_train)"
   ],
   "metadata": {
    "collapsed": false,
    "ExecuteTime": {
     "end_time": "2023-06-10T12:03:55.951586Z",
     "start_time": "2023-06-10T12:03:55.794552Z"
    }
   }
  },
  {
   "cell_type": "code",
   "execution_count": 246,
   "outputs": [
    {
     "name": "stdout",
     "output_type": "stream",
     "text": [
      "precision = 0.5338645418326693\n",
      "recall = 0.391812865497076\n",
      "accuracy = 0.5134730538922155\n",
      "f1-score = 0.45193929173693076\n"
     ]
    }
   ],
   "source": [
    "y_predict_eth = svm_model_eth.predict(X_eth_test)\n",
    "\n",
    "precision = precision_score(y_eth_test, y_predict_eth)\n",
    "recall = recall_score(y_eth_test, y_predict_eth)\n",
    "accuracy = accuracy_score(y_eth_test, y_predict_eth)\n",
    "f1 = f1_score(y_eth_test, y_predict_eth)\n",
    "\n",
    "print(f\"precision = {precision}\")\n",
    "print(f\"recall = {recall}\")\n",
    "print(f\"accuracy = {accuracy}\")\n",
    "print(f\"f1-score = {f1}\")"
   ],
   "metadata": {
    "collapsed": false,
    "ExecuteTime": {
     "end_time": "2023-06-10T12:03:57.212486Z",
     "start_time": "2023-06-10T12:03:56.994717Z"
    }
   }
  },
  {
   "cell_type": "code",
   "execution_count": 235,
   "outputs": [
    {
     "name": "stdout",
     "output_type": "stream",
     "text": [
      "precision = 0.5199677121771218\n",
      "recall = 0.541490285466189\n",
      "accuracy = 0.5071691629232591\n",
      "f1-score = 0.4929373648842619\n"
     ]
    }
   ],
   "source": [
    "folds = KFold(n_splits=2, shuffle=True, random_state=42)\n",
    "\n",
    "precision_list = []\n",
    "recall_list = []\n",
    "accuracy_list = []\n",
    "f1_list = []\n",
    "\n",
    "for i, (train_index, test_index) in enumerate(folds.split(X_eth)):\n",
    "    svm_model_eth = svm.SVC(kernel='rbf')\n",
    "    svm_model_eth.fit(X_eth.iloc[train_index], y_eth[train_index])\n",
    "    y_predict_btc = svm_model_eth.predict(X_eth.iloc[test_index])\n",
    "\n",
    "    precision_list.append(precision_score(y_eth[test_index], y_predict_btc))\n",
    "    recall_list.append(recall_score(y_eth[test_index], y_predict_btc))\n",
    "    accuracy_list.append(accuracy_score(y_eth[test_index], y_predict_btc))\n",
    "    f1_list.append(f1_score(y_eth[test_index], y_predict_btc))\n",
    "\n",
    "precision = sum(precision_list) / len(precision_list)\n",
    "recall = sum(recall_list) / len(recall_list)\n",
    "accuracy = sum(accuracy_list) / len(accuracy_list)\n",
    "f1 = sum(f1_list) / len(f1_list)\n",
    "\n",
    "print(f\"precision = {precision}\")\n",
    "print(f\"recall = {recall}\")\n",
    "print(f\"accuracy = {accuracy}\")\n",
    "print(f\"f1-score = {f1}\")"
   ],
   "metadata": {
    "collapsed": false,
    "ExecuteTime": {
     "end_time": "2023-06-10T12:03:25.355135Z",
     "start_time": "2023-06-10T12:03:24.306064Z"
    }
   }
  },
  {
   "cell_type": "markdown",
   "source": [
    "### Reduce dim"
   ],
   "metadata": {
    "collapsed": false
   }
  },
  {
   "cell_type": "code",
   "execution_count": 236,
   "outputs": [],
   "source": [
    "X_eth = pd.read_csv(PATH + \"/ETH_reduce.csv\", index_col='time')\n",
    "y_eth = pd.read_csv(PATH + \"/ETH_target.csv\", index_col='time')\n",
    "y_eth = y_eth.values.ravel()\n",
    "\n",
    "X_eth_train, X_eth_test, y_eth_train, y_eth_test = train_test_split(X_eth, y_eth, test_size=0.33, random_state=42)"
   ],
   "metadata": {
    "collapsed": false,
    "ExecuteTime": {
     "end_time": "2023-06-10T12:03:30.181277Z",
     "start_time": "2023-06-10T12:03:30.024579Z"
    }
   }
  },
  {
   "cell_type": "code",
   "execution_count": 239,
   "outputs": [
    {
     "data": {
      "text/plain": "SVC()",
      "text/html": "<style>#sk-container-id-63 {color: black;background-color: white;}#sk-container-id-63 pre{padding: 0;}#sk-container-id-63 div.sk-toggleable {background-color: white;}#sk-container-id-63 label.sk-toggleable__label {cursor: pointer;display: block;width: 100%;margin-bottom: 0;padding: 0.3em;box-sizing: border-box;text-align: center;}#sk-container-id-63 label.sk-toggleable__label-arrow:before {content: \"▸\";float: left;margin-right: 0.25em;color: #696969;}#sk-container-id-63 label.sk-toggleable__label-arrow:hover:before {color: black;}#sk-container-id-63 div.sk-estimator:hover label.sk-toggleable__label-arrow:before {color: black;}#sk-container-id-63 div.sk-toggleable__content {max-height: 0;max-width: 0;overflow: hidden;text-align: left;background-color: #f0f8ff;}#sk-container-id-63 div.sk-toggleable__content pre {margin: 0.2em;color: black;border-radius: 0.25em;background-color: #f0f8ff;}#sk-container-id-63 input.sk-toggleable__control:checked~div.sk-toggleable__content {max-height: 200px;max-width: 100%;overflow: auto;}#sk-container-id-63 input.sk-toggleable__control:checked~label.sk-toggleable__label-arrow:before {content: \"▾\";}#sk-container-id-63 div.sk-estimator input.sk-toggleable__control:checked~label.sk-toggleable__label {background-color: #d4ebff;}#sk-container-id-63 div.sk-label input.sk-toggleable__control:checked~label.sk-toggleable__label {background-color: #d4ebff;}#sk-container-id-63 input.sk-hidden--visually {border: 0;clip: rect(1px 1px 1px 1px);clip: rect(1px, 1px, 1px, 1px);height: 1px;margin: -1px;overflow: hidden;padding: 0;position: absolute;width: 1px;}#sk-container-id-63 div.sk-estimator {font-family: monospace;background-color: #f0f8ff;border: 1px dotted black;border-radius: 0.25em;box-sizing: border-box;margin-bottom: 0.5em;}#sk-container-id-63 div.sk-estimator:hover {background-color: #d4ebff;}#sk-container-id-63 div.sk-parallel-item::after {content: \"\";width: 100%;border-bottom: 1px solid gray;flex-grow: 1;}#sk-container-id-63 div.sk-label:hover label.sk-toggleable__label {background-color: #d4ebff;}#sk-container-id-63 div.sk-serial::before {content: \"\";position: absolute;border-left: 1px solid gray;box-sizing: border-box;top: 0;bottom: 0;left: 50%;z-index: 0;}#sk-container-id-63 div.sk-serial {display: flex;flex-direction: column;align-items: center;background-color: white;padding-right: 0.2em;padding-left: 0.2em;position: relative;}#sk-container-id-63 div.sk-item {position: relative;z-index: 1;}#sk-container-id-63 div.sk-parallel {display: flex;align-items: stretch;justify-content: center;background-color: white;position: relative;}#sk-container-id-63 div.sk-item::before, #sk-container-id-63 div.sk-parallel-item::before {content: \"\";position: absolute;border-left: 1px solid gray;box-sizing: border-box;top: 0;bottom: 0;left: 50%;z-index: -1;}#sk-container-id-63 div.sk-parallel-item {display: flex;flex-direction: column;z-index: 1;position: relative;background-color: white;}#sk-container-id-63 div.sk-parallel-item:first-child::after {align-self: flex-end;width: 50%;}#sk-container-id-63 div.sk-parallel-item:last-child::after {align-self: flex-start;width: 50%;}#sk-container-id-63 div.sk-parallel-item:only-child::after {width: 0;}#sk-container-id-63 div.sk-dashed-wrapped {border: 1px dashed gray;margin: 0 0.4em 0.5em 0.4em;box-sizing: border-box;padding-bottom: 0.4em;background-color: white;}#sk-container-id-63 div.sk-label label {font-family: monospace;font-weight: bold;display: inline-block;line-height: 1.2em;}#sk-container-id-63 div.sk-label-container {text-align: center;}#sk-container-id-63 div.sk-container {/* jupyter's `normalize.less` sets `[hidden] { display: none; }` but bootstrap.min.css set `[hidden] { display: none !important; }` so we also need the `!important` here to be able to override the default hidden behavior on the sphinx rendered scikit-learn.org. See: https://github.com/scikit-learn/scikit-learn/issues/21755 */display: inline-block !important;position: relative;}#sk-container-id-63 div.sk-text-repr-fallback {display: none;}</style><div id=\"sk-container-id-63\" class=\"sk-top-container\"><div class=\"sk-text-repr-fallback\"><pre>SVC()</pre><b>In a Jupyter environment, please rerun this cell to show the HTML representation or trust the notebook. <br />On GitHub, the HTML representation is unable to render, please try loading this page with nbviewer.org.</b></div><div class=\"sk-container\" hidden><div class=\"sk-item\"><div class=\"sk-estimator sk-toggleable\"><input class=\"sk-toggleable__control sk-hidden--visually\" id=\"sk-estimator-id-63\" type=\"checkbox\" checked><label for=\"sk-estimator-id-63\" class=\"sk-toggleable__label sk-toggleable__label-arrow\">SVC</label><div class=\"sk-toggleable__content\"><pre>SVC()</pre></div></div></div></div></div>"
     },
     "execution_count": 239,
     "metadata": {},
     "output_type": "execute_result"
    }
   ],
   "source": [
    "svm_model_eth = svm.SVC(kernel='rbf')\n",
    "\n",
    "svm_model_eth.fit(X_eth_train, y_eth_train)"
   ],
   "metadata": {
    "collapsed": false,
    "ExecuteTime": {
     "end_time": "2023-06-10T12:03:36.507446Z",
     "start_time": "2023-06-10T12:03:36.355948Z"
    }
   }
  },
  {
   "cell_type": "code",
   "execution_count": 240,
   "outputs": [
    {
     "name": "stdout",
     "output_type": "stream",
     "text": [
      "precision = 0.528125\n",
      "recall = 0.49415204678362573\n",
      "accuracy = 0.5149700598802395\n",
      "f1-score = 0.5105740181268881\n"
     ]
    }
   ],
   "source": [
    "y_predict_eth = svm_model_eth.predict(X_eth_test)\n",
    "\n",
    "precision = precision_score(y_eth_test, y_predict_eth)\n",
    "recall = recall_score(y_eth_test, y_predict_eth)\n",
    "accuracy = accuracy_score(y_eth_test, y_predict_eth)\n",
    "f1 = f1_score(y_eth_test, y_predict_eth)\n",
    "\n",
    "print(f\"precision = {precision}\")\n",
    "print(f\"recall = {recall}\")\n",
    "print(f\"accuracy = {accuracy}\")\n",
    "print(f\"f1-score = {f1}\")"
   ],
   "metadata": {
    "collapsed": false,
    "ExecuteTime": {
     "end_time": "2023-06-10T12:03:37.431120Z",
     "start_time": "2023-06-10T12:03:37.314892Z"
    }
   }
  },
  {
   "cell_type": "code",
   "execution_count": 241,
   "outputs": [
    {
     "name": "stdout",
     "output_type": "stream",
     "text": [
      "precision = 0.5650129480714189\n",
      "recall = 0.6071428571428571\n",
      "accuracy = 0.5136043052118398\n",
      "f1-score = 0.49020594878076784\n"
     ]
    }
   ],
   "source": [
    "folds = KFold(n_splits=2, shuffle=True, random_state=42)\n",
    "\n",
    "precision_list = []\n",
    "recall_list = []\n",
    "accuracy_list = []\n",
    "f1_list = []\n",
    "\n",
    "for i, (train_index, test_index) in enumerate(folds.split(X_eth)):\n",
    "    svm_model_eth = svm.SVC(kernel='rbf')\n",
    "    svm_model_eth.fit(X_eth.iloc[train_index], y_eth[train_index])\n",
    "    y_predict_btc = svm_model_eth.predict(X_eth.iloc[test_index])\n",
    "\n",
    "    precision_list.append(precision_score(y_eth[test_index], y_predict_btc))\n",
    "    recall_list.append(recall_score(y_eth[test_index], y_predict_btc))\n",
    "    accuracy_list.append(accuracy_score(y_eth[test_index], y_predict_btc))\n",
    "    f1_list.append(f1_score(y_eth[test_index], y_predict_btc))\n",
    "\n",
    "precision = sum(precision_list) / len(precision_list)\n",
    "recall = sum(recall_list) / len(recall_list)\n",
    "accuracy = sum(accuracy_list) / len(accuracy_list)\n",
    "f1 = sum(f1_list) / len(f1_list)\n",
    "\n",
    "print(f\"precision = {precision}\")\n",
    "print(f\"recall = {recall}\")\n",
    "print(f\"accuracy = {accuracy}\")\n",
    "print(f\"f1-score = {f1}\")"
   ],
   "metadata": {
    "collapsed": false,
    "ExecuteTime": {
     "end_time": "2023-06-10T12:03:38.980195Z",
     "start_time": "2023-06-10T12:03:38.646471Z"
    }
   }
  },
  {
   "cell_type": "markdown",
   "source": [
    "### With Normalization"
   ],
   "metadata": {
    "collapsed": false
   }
  },
  {
   "cell_type": "code",
   "execution_count": 247,
   "outputs": [],
   "source": [
    "X_eth = pd.read_csv(PATH + \"/ETH_normalization.csv\", index_col='time')\n",
    "y_eth = pd.read_csv(PATH + \"/ETH_target.csv\", index_col='time')\n",
    "y_eth = y_eth.values.ravel()\n",
    "\n",
    "X_eth_train, X_eth_test, y_eth_train, y_eth_test = train_test_split(X_eth, y_eth, test_size=0.33, random_state=42)"
   ],
   "metadata": {
    "collapsed": false,
    "ExecuteTime": {
     "end_time": "2023-06-10T12:04:10.958304Z",
     "start_time": "2023-06-10T12:04:10.604019Z"
    }
   }
  },
  {
   "cell_type": "code",
   "execution_count": 248,
   "outputs": [
    {
     "data": {
      "text/plain": "SVC()",
      "text/html": "<style>#sk-container-id-66 {color: black;background-color: white;}#sk-container-id-66 pre{padding: 0;}#sk-container-id-66 div.sk-toggleable {background-color: white;}#sk-container-id-66 label.sk-toggleable__label {cursor: pointer;display: block;width: 100%;margin-bottom: 0;padding: 0.3em;box-sizing: border-box;text-align: center;}#sk-container-id-66 label.sk-toggleable__label-arrow:before {content: \"▸\";float: left;margin-right: 0.25em;color: #696969;}#sk-container-id-66 label.sk-toggleable__label-arrow:hover:before {color: black;}#sk-container-id-66 div.sk-estimator:hover label.sk-toggleable__label-arrow:before {color: black;}#sk-container-id-66 div.sk-toggleable__content {max-height: 0;max-width: 0;overflow: hidden;text-align: left;background-color: #f0f8ff;}#sk-container-id-66 div.sk-toggleable__content pre {margin: 0.2em;color: black;border-radius: 0.25em;background-color: #f0f8ff;}#sk-container-id-66 input.sk-toggleable__control:checked~div.sk-toggleable__content {max-height: 200px;max-width: 100%;overflow: auto;}#sk-container-id-66 input.sk-toggleable__control:checked~label.sk-toggleable__label-arrow:before {content: \"▾\";}#sk-container-id-66 div.sk-estimator input.sk-toggleable__control:checked~label.sk-toggleable__label {background-color: #d4ebff;}#sk-container-id-66 div.sk-label input.sk-toggleable__control:checked~label.sk-toggleable__label {background-color: #d4ebff;}#sk-container-id-66 input.sk-hidden--visually {border: 0;clip: rect(1px 1px 1px 1px);clip: rect(1px, 1px, 1px, 1px);height: 1px;margin: -1px;overflow: hidden;padding: 0;position: absolute;width: 1px;}#sk-container-id-66 div.sk-estimator {font-family: monospace;background-color: #f0f8ff;border: 1px dotted black;border-radius: 0.25em;box-sizing: border-box;margin-bottom: 0.5em;}#sk-container-id-66 div.sk-estimator:hover {background-color: #d4ebff;}#sk-container-id-66 div.sk-parallel-item::after {content: \"\";width: 100%;border-bottom: 1px solid gray;flex-grow: 1;}#sk-container-id-66 div.sk-label:hover label.sk-toggleable__label {background-color: #d4ebff;}#sk-container-id-66 div.sk-serial::before {content: \"\";position: absolute;border-left: 1px solid gray;box-sizing: border-box;top: 0;bottom: 0;left: 50%;z-index: 0;}#sk-container-id-66 div.sk-serial {display: flex;flex-direction: column;align-items: center;background-color: white;padding-right: 0.2em;padding-left: 0.2em;position: relative;}#sk-container-id-66 div.sk-item {position: relative;z-index: 1;}#sk-container-id-66 div.sk-parallel {display: flex;align-items: stretch;justify-content: center;background-color: white;position: relative;}#sk-container-id-66 div.sk-item::before, #sk-container-id-66 div.sk-parallel-item::before {content: \"\";position: absolute;border-left: 1px solid gray;box-sizing: border-box;top: 0;bottom: 0;left: 50%;z-index: -1;}#sk-container-id-66 div.sk-parallel-item {display: flex;flex-direction: column;z-index: 1;position: relative;background-color: white;}#sk-container-id-66 div.sk-parallel-item:first-child::after {align-self: flex-end;width: 50%;}#sk-container-id-66 div.sk-parallel-item:last-child::after {align-self: flex-start;width: 50%;}#sk-container-id-66 div.sk-parallel-item:only-child::after {width: 0;}#sk-container-id-66 div.sk-dashed-wrapped {border: 1px dashed gray;margin: 0 0.4em 0.5em 0.4em;box-sizing: border-box;padding-bottom: 0.4em;background-color: white;}#sk-container-id-66 div.sk-label label {font-family: monospace;font-weight: bold;display: inline-block;line-height: 1.2em;}#sk-container-id-66 div.sk-label-container {text-align: center;}#sk-container-id-66 div.sk-container {/* jupyter's `normalize.less` sets `[hidden] { display: none; }` but bootstrap.min.css set `[hidden] { display: none !important; }` so we also need the `!important` here to be able to override the default hidden behavior on the sphinx rendered scikit-learn.org. See: https://github.com/scikit-learn/scikit-learn/issues/21755 */display: inline-block !important;position: relative;}#sk-container-id-66 div.sk-text-repr-fallback {display: none;}</style><div id=\"sk-container-id-66\" class=\"sk-top-container\"><div class=\"sk-text-repr-fallback\"><pre>SVC()</pre><b>In a Jupyter environment, please rerun this cell to show the HTML representation or trust the notebook. <br />On GitHub, the HTML representation is unable to render, please try loading this page with nbviewer.org.</b></div><div class=\"sk-container\" hidden><div class=\"sk-item\"><div class=\"sk-estimator sk-toggleable\"><input class=\"sk-toggleable__control sk-hidden--visually\" id=\"sk-estimator-id-66\" type=\"checkbox\" checked><label for=\"sk-estimator-id-66\" class=\"sk-toggleable__label sk-toggleable__label-arrow\">SVC</label><div class=\"sk-toggleable__content\"><pre>SVC()</pre></div></div></div></div></div>"
     },
     "execution_count": 248,
     "metadata": {},
     "output_type": "execute_result"
    }
   ],
   "source": [
    "svm_model_eth = svm.SVC(kernel='rbf')\n",
    "\n",
    "svm_model_eth.fit(X_eth_train, y_eth_train)"
   ],
   "metadata": {
    "collapsed": false,
    "ExecuteTime": {
     "end_time": "2023-06-10T12:04:11.418499Z",
     "start_time": "2023-06-10T12:04:11.309871Z"
    }
   }
  },
  {
   "cell_type": "code",
   "execution_count": 249,
   "outputs": [
    {
     "name": "stdout",
     "output_type": "stream",
     "text": [
      "precision = 0.7887323943661971\n",
      "recall = 0.8187134502923976\n",
      "accuracy = 0.7949101796407185\n",
      "f1-score = 0.8034433285509325\n"
     ]
    }
   ],
   "source": [
    "y_predict_eth = svm_model_eth.predict(X_eth_test)\n",
    "\n",
    "precision = precision_score(y_eth_test, y_predict_eth)\n",
    "recall = recall_score(y_eth_test, y_predict_eth)\n",
    "accuracy = accuracy_score(y_eth_test, y_predict_eth)\n",
    "f1 = f1_score(y_eth_test, y_predict_eth)\n",
    "\n",
    "print(f\"precision = {precision}\")\n",
    "print(f\"recall = {recall}\")\n",
    "print(f\"accuracy = {accuracy}\")\n",
    "print(f\"f1-score = {f1}\")"
   ],
   "metadata": {
    "collapsed": false,
    "ExecuteTime": {
     "end_time": "2023-06-10T12:04:13.821030Z",
     "start_time": "2023-06-10T12:04:13.644990Z"
    }
   }
  },
  {
   "cell_type": "code",
   "execution_count": 250,
   "outputs": [
    {
     "name": "stdout",
     "output_type": "stream",
     "text": [
      "precision = 0.7769562325912818\n",
      "recall = 0.7953560622986432\n",
      "accuracy = 0.7824728028358392\n",
      "f1-score = 0.7858977849456178\n"
     ]
    }
   ],
   "source": [
    "folds = KFold(n_splits=5, shuffle=True, random_state=42)\n",
    "\n",
    "precision_list = []\n",
    "recall_list = []\n",
    "accuracy_list = []\n",
    "f1_list = []\n",
    "\n",
    "for i, (train_index, test_index) in enumerate(folds.split(X_eth)):\n",
    "    svm_model_eth = svm.SVC(kernel='rbf')\n",
    "    svm_model_eth.fit(X_eth.iloc[train_index], y_eth[train_index])\n",
    "    y_predict_btc = svm_model_eth.predict(X_eth.iloc[test_index])\n",
    "\n",
    "    precision_list.append(precision_score(y_eth[test_index], y_predict_btc))\n",
    "    recall_list.append(recall_score(y_eth[test_index], y_predict_btc))\n",
    "    accuracy_list.append(accuracy_score(y_eth[test_index], y_predict_btc))\n",
    "    f1_list.append(f1_score(y_eth[test_index], y_predict_btc))\n",
    "\n",
    "precision = sum(precision_list) / len(precision_list)\n",
    "recall = sum(recall_list) / len(recall_list)\n",
    "accuracy = sum(accuracy_list) / len(accuracy_list)\n",
    "f1 = sum(f1_list) / len(f1_list)\n",
    "\n",
    "print(f\"precision = {precision}\")\n",
    "print(f\"recall = {recall}\")\n",
    "print(f\"accuracy = {accuracy}\")\n",
    "print(f\"f1-score = {f1}\")"
   ],
   "metadata": {
    "collapsed": false,
    "ExecuteTime": {
     "end_time": "2023-06-10T12:04:18.106398Z",
     "start_time": "2023-06-10T12:04:16.327747Z"
    }
   }
  },
  {
   "cell_type": "markdown",
   "source": [
    "### Boosting"
   ],
   "metadata": {
    "collapsed": false
   }
  },
  {
   "cell_type": "code",
   "execution_count": 138,
   "outputs": [],
   "source": [
    "from lightgbm import LGBMClassifier"
   ],
   "metadata": {
    "collapsed": false,
    "ExecuteTime": {
     "end_time": "2023-06-10T10:18:52.978212Z",
     "start_time": "2023-06-10T10:18:52.827352Z"
    }
   }
  },
  {
   "cell_type": "markdown",
   "source": [
    "### No indicators"
   ],
   "metadata": {
    "collapsed": false
   }
  },
  {
   "cell_type": "code",
   "execution_count": 251,
   "outputs": [],
   "source": [
    "X_eth = pd.read_csv(PATH + \"/ETH.csv\", index_col='time')\n",
    "y_eth = pd.read_csv(PATH + \"/ETH_target.csv\", index_col='time')\n",
    "y_eth = y_eth.values.ravel()\n",
    "\n",
    "X_eth_train, X_eth_test, y_eth_train, y_eth_test = train_test_split(X_eth, y_eth, test_size=0.33, random_state=42)"
   ],
   "metadata": {
    "collapsed": false,
    "ExecuteTime": {
     "end_time": "2023-06-10T12:04:24.982408Z",
     "start_time": "2023-06-10T12:04:24.944112Z"
    }
   }
  },
  {
   "cell_type": "code",
   "execution_count": 252,
   "outputs": [
    {
     "data": {
      "text/plain": "LGBMClassifier(colsample_bytree=0.9, learning_rate=0.0003, max_depth=8,\n               n_estimators=10000, num_leaves=34, reg_alpha=0.1, reg_lambda=0.1,\n               subsample=0.8, verbose=-1)",
      "text/html": "<style>#sk-container-id-67 {color: black;background-color: white;}#sk-container-id-67 pre{padding: 0;}#sk-container-id-67 div.sk-toggleable {background-color: white;}#sk-container-id-67 label.sk-toggleable__label {cursor: pointer;display: block;width: 100%;margin-bottom: 0;padding: 0.3em;box-sizing: border-box;text-align: center;}#sk-container-id-67 label.sk-toggleable__label-arrow:before {content: \"▸\";float: left;margin-right: 0.25em;color: #696969;}#sk-container-id-67 label.sk-toggleable__label-arrow:hover:before {color: black;}#sk-container-id-67 div.sk-estimator:hover label.sk-toggleable__label-arrow:before {color: black;}#sk-container-id-67 div.sk-toggleable__content {max-height: 0;max-width: 0;overflow: hidden;text-align: left;background-color: #f0f8ff;}#sk-container-id-67 div.sk-toggleable__content pre {margin: 0.2em;color: black;border-radius: 0.25em;background-color: #f0f8ff;}#sk-container-id-67 input.sk-toggleable__control:checked~div.sk-toggleable__content {max-height: 200px;max-width: 100%;overflow: auto;}#sk-container-id-67 input.sk-toggleable__control:checked~label.sk-toggleable__label-arrow:before {content: \"▾\";}#sk-container-id-67 div.sk-estimator input.sk-toggleable__control:checked~label.sk-toggleable__label {background-color: #d4ebff;}#sk-container-id-67 div.sk-label input.sk-toggleable__control:checked~label.sk-toggleable__label {background-color: #d4ebff;}#sk-container-id-67 input.sk-hidden--visually {border: 0;clip: rect(1px 1px 1px 1px);clip: rect(1px, 1px, 1px, 1px);height: 1px;margin: -1px;overflow: hidden;padding: 0;position: absolute;width: 1px;}#sk-container-id-67 div.sk-estimator {font-family: monospace;background-color: #f0f8ff;border: 1px dotted black;border-radius: 0.25em;box-sizing: border-box;margin-bottom: 0.5em;}#sk-container-id-67 div.sk-estimator:hover {background-color: #d4ebff;}#sk-container-id-67 div.sk-parallel-item::after {content: \"\";width: 100%;border-bottom: 1px solid gray;flex-grow: 1;}#sk-container-id-67 div.sk-label:hover label.sk-toggleable__label {background-color: #d4ebff;}#sk-container-id-67 div.sk-serial::before {content: \"\";position: absolute;border-left: 1px solid gray;box-sizing: border-box;top: 0;bottom: 0;left: 50%;z-index: 0;}#sk-container-id-67 div.sk-serial {display: flex;flex-direction: column;align-items: center;background-color: white;padding-right: 0.2em;padding-left: 0.2em;position: relative;}#sk-container-id-67 div.sk-item {position: relative;z-index: 1;}#sk-container-id-67 div.sk-parallel {display: flex;align-items: stretch;justify-content: center;background-color: white;position: relative;}#sk-container-id-67 div.sk-item::before, #sk-container-id-67 div.sk-parallel-item::before {content: \"\";position: absolute;border-left: 1px solid gray;box-sizing: border-box;top: 0;bottom: 0;left: 50%;z-index: -1;}#sk-container-id-67 div.sk-parallel-item {display: flex;flex-direction: column;z-index: 1;position: relative;background-color: white;}#sk-container-id-67 div.sk-parallel-item:first-child::after {align-self: flex-end;width: 50%;}#sk-container-id-67 div.sk-parallel-item:last-child::after {align-self: flex-start;width: 50%;}#sk-container-id-67 div.sk-parallel-item:only-child::after {width: 0;}#sk-container-id-67 div.sk-dashed-wrapped {border: 1px dashed gray;margin: 0 0.4em 0.5em 0.4em;box-sizing: border-box;padding-bottom: 0.4em;background-color: white;}#sk-container-id-67 div.sk-label label {font-family: monospace;font-weight: bold;display: inline-block;line-height: 1.2em;}#sk-container-id-67 div.sk-label-container {text-align: center;}#sk-container-id-67 div.sk-container {/* jupyter's `normalize.less` sets `[hidden] { display: none; }` but bootstrap.min.css set `[hidden] { display: none !important; }` so we also need the `!important` here to be able to override the default hidden behavior on the sphinx rendered scikit-learn.org. See: https://github.com/scikit-learn/scikit-learn/issues/21755 */display: inline-block !important;position: relative;}#sk-container-id-67 div.sk-text-repr-fallback {display: none;}</style><div id=\"sk-container-id-67\" class=\"sk-top-container\"><div class=\"sk-text-repr-fallback\"><pre>LGBMClassifier(colsample_bytree=0.9, learning_rate=0.0003, max_depth=8,\n               n_estimators=10000, num_leaves=34, reg_alpha=0.1, reg_lambda=0.1,\n               subsample=0.8, verbose=-1)</pre><b>In a Jupyter environment, please rerun this cell to show the HTML representation or trust the notebook. <br />On GitHub, the HTML representation is unable to render, please try loading this page with nbviewer.org.</b></div><div class=\"sk-container\" hidden><div class=\"sk-item\"><div class=\"sk-estimator sk-toggleable\"><input class=\"sk-toggleable__control sk-hidden--visually\" id=\"sk-estimator-id-67\" type=\"checkbox\" checked><label for=\"sk-estimator-id-67\" class=\"sk-toggleable__label sk-toggleable__label-arrow\">LGBMClassifier</label><div class=\"sk-toggleable__content\"><pre>LGBMClassifier(colsample_bytree=0.9, learning_rate=0.0003, max_depth=8,\n               n_estimators=10000, num_leaves=34, reg_alpha=0.1, reg_lambda=0.1,\n               subsample=0.8, verbose=-1)</pre></div></div></div></div></div>"
     },
     "execution_count": 252,
     "metadata": {},
     "output_type": "execute_result"
    }
   ],
   "source": [
    "boosting_model_eth = LGBMClassifier(\n",
    "        n_estimators=10000,\n",
    "        learning_rate=3e-4,\n",
    "        num_leaves=34,\n",
    "        colsample_bytree=0.9,\n",
    "        subsample=0.8,\n",
    "        max_depth=8,\n",
    "        reg_alpha=.1,\n",
    "        reg_lambda=.1,\n",
    "        verbose=-1,\n",
    "        )\n",
    "\n",
    "boosting_model_eth.fit(X_eth_train, y_eth_train)"
   ],
   "metadata": {
    "collapsed": false,
    "ExecuteTime": {
     "end_time": "2023-06-10T12:04:33.313724Z",
     "start_time": "2023-06-10T12:04:25.580377Z"
    }
   }
  },
  {
   "cell_type": "code",
   "execution_count": 253,
   "outputs": [
    {
     "name": "stdout",
     "output_type": "stream",
     "text": [
      "precision = 0.6396648044692738\n",
      "recall = 0.6695906432748538\n",
      "accuracy = 0.6377245508982036\n",
      "f1-score = 0.6542857142857144\n"
     ]
    }
   ],
   "source": [
    "y_predict_eth = boosting_model_eth.predict(X_eth_test)\n",
    "\n",
    "precision = precision_score(y_eth_test, y_predict_eth)\n",
    "recall = recall_score(y_eth_test, y_predict_eth)\n",
    "accuracy = accuracy_score(y_eth_test, y_predict_eth)\n",
    "f1 = f1_score(y_eth_test, y_predict_eth)\n",
    "\n",
    "print(f\"precision = {precision}\")\n",
    "print(f\"recall = {recall}\")\n",
    "print(f\"accuracy = {accuracy}\")\n",
    "print(f\"f1-score = {f1}\")"
   ],
   "metadata": {
    "collapsed": false,
    "ExecuteTime": {
     "end_time": "2023-06-10T12:04:36.505508Z",
     "start_time": "2023-06-10T12:04:36.366323Z"
    }
   }
  },
  {
   "cell_type": "code",
   "execution_count": 254,
   "outputs": [
    {
     "name": "stdout",
     "output_type": "stream",
     "text": [
      "precision = 0.6472578437806048\n",
      "recall = 0.6107021557698205\n",
      "accuracy = 0.6376677667766777\n",
      "f1-score = 0.6277006119858168\n"
     ]
    }
   ],
   "source": [
    "folds = KFold(n_splits=5, shuffle=True, random_state=42)\n",
    "\n",
    "precision_list = []\n",
    "recall_list = []\n",
    "accuracy_list = []\n",
    "f1_list = []\n",
    "\n",
    "for i, (train_index, test_index) in enumerate(folds.split(X_eth)):\n",
    "    boosting_model_eth = LGBMClassifier(\n",
    "        n_estimators=10000,\n",
    "        learning_rate=3e-4,\n",
    "        num_leaves=34,\n",
    "        colsample_bytree=0.9,\n",
    "        subsample=0.8,\n",
    "        max_depth=8,\n",
    "        reg_alpha=.1,\n",
    "        reg_lambda=.1,\n",
    "        verbose=-1,\n",
    "        )\n",
    "    boosting_model_eth.fit(X_eth.iloc[train_index], y_eth[train_index])\n",
    "    y_predict_btc = boosting_model_eth.predict(X_eth.iloc[test_index])\n",
    "\n",
    "    precision_list.append(precision_score(y_eth[test_index], y_predict_btc))\n",
    "    recall_list.append(recall_score(y_eth[test_index], y_predict_btc))\n",
    "    accuracy_list.append(accuracy_score(y_eth[test_index], y_predict_btc))\n",
    "    f1_list.append(f1_score(y_eth[test_index], y_predict_btc))\n",
    "\n",
    "precision = sum(precision_list) / len(precision_list)\n",
    "recall = sum(recall_list) / len(recall_list)\n",
    "accuracy = sum(accuracy_list) / len(accuracy_list)\n",
    "f1 = sum(f1_list) / len(f1_list)\n",
    "\n",
    "print(f\"precision = {precision}\")\n",
    "print(f\"recall = {recall}\")\n",
    "print(f\"accuracy = {accuracy}\")\n",
    "print(f\"f1-score = {f1}\")"
   ],
   "metadata": {
    "collapsed": false,
    "ExecuteTime": {
     "end_time": "2023-06-10T12:05:21.444353Z",
     "start_time": "2023-06-10T12:04:40.024166Z"
    }
   }
  },
  {
   "cell_type": "markdown",
   "source": [
    "### With indicators"
   ],
   "metadata": {
    "collapsed": false
   }
  },
  {
   "cell_type": "code",
   "execution_count": 255,
   "outputs": [],
   "source": [
    "X_eth = pd.read_csv(PATH + \"/ETH_indicators.csv\", index_col='time')\n",
    "y_eth = pd.read_csv(PATH + \"/ETH_target.csv\", index_col='time')\n",
    "y_eth = y_eth.values.ravel()\n",
    "\n",
    "X_eth_train, X_eth_test, y_eth_train, y_eth_test = train_test_split(X_eth, y_eth, test_size=0.33, random_state=42)"
   ],
   "metadata": {
    "collapsed": false,
    "ExecuteTime": {
     "end_time": "2023-06-10T12:05:36.767977Z",
     "start_time": "2023-06-10T12:05:36.709933Z"
    }
   }
  },
  {
   "cell_type": "code",
   "execution_count": 256,
   "outputs": [
    {
     "data": {
      "text/plain": "LGBMClassifier(colsample_bytree=0.9, learning_rate=0.0003, max_depth=8,\n               n_estimators=10000, num_leaves=34, reg_alpha=0.1, reg_lambda=0.1,\n               subsample=0.8, verbose=-1)",
      "text/html": "<style>#sk-container-id-68 {color: black;background-color: white;}#sk-container-id-68 pre{padding: 0;}#sk-container-id-68 div.sk-toggleable {background-color: white;}#sk-container-id-68 label.sk-toggleable__label {cursor: pointer;display: block;width: 100%;margin-bottom: 0;padding: 0.3em;box-sizing: border-box;text-align: center;}#sk-container-id-68 label.sk-toggleable__label-arrow:before {content: \"▸\";float: left;margin-right: 0.25em;color: #696969;}#sk-container-id-68 label.sk-toggleable__label-arrow:hover:before {color: black;}#sk-container-id-68 div.sk-estimator:hover label.sk-toggleable__label-arrow:before {color: black;}#sk-container-id-68 div.sk-toggleable__content {max-height: 0;max-width: 0;overflow: hidden;text-align: left;background-color: #f0f8ff;}#sk-container-id-68 div.sk-toggleable__content pre {margin: 0.2em;color: black;border-radius: 0.25em;background-color: #f0f8ff;}#sk-container-id-68 input.sk-toggleable__control:checked~div.sk-toggleable__content {max-height: 200px;max-width: 100%;overflow: auto;}#sk-container-id-68 input.sk-toggleable__control:checked~label.sk-toggleable__label-arrow:before {content: \"▾\";}#sk-container-id-68 div.sk-estimator input.sk-toggleable__control:checked~label.sk-toggleable__label {background-color: #d4ebff;}#sk-container-id-68 div.sk-label input.sk-toggleable__control:checked~label.sk-toggleable__label {background-color: #d4ebff;}#sk-container-id-68 input.sk-hidden--visually {border: 0;clip: rect(1px 1px 1px 1px);clip: rect(1px, 1px, 1px, 1px);height: 1px;margin: -1px;overflow: hidden;padding: 0;position: absolute;width: 1px;}#sk-container-id-68 div.sk-estimator {font-family: monospace;background-color: #f0f8ff;border: 1px dotted black;border-radius: 0.25em;box-sizing: border-box;margin-bottom: 0.5em;}#sk-container-id-68 div.sk-estimator:hover {background-color: #d4ebff;}#sk-container-id-68 div.sk-parallel-item::after {content: \"\";width: 100%;border-bottom: 1px solid gray;flex-grow: 1;}#sk-container-id-68 div.sk-label:hover label.sk-toggleable__label {background-color: #d4ebff;}#sk-container-id-68 div.sk-serial::before {content: \"\";position: absolute;border-left: 1px solid gray;box-sizing: border-box;top: 0;bottom: 0;left: 50%;z-index: 0;}#sk-container-id-68 div.sk-serial {display: flex;flex-direction: column;align-items: center;background-color: white;padding-right: 0.2em;padding-left: 0.2em;position: relative;}#sk-container-id-68 div.sk-item {position: relative;z-index: 1;}#sk-container-id-68 div.sk-parallel {display: flex;align-items: stretch;justify-content: center;background-color: white;position: relative;}#sk-container-id-68 div.sk-item::before, #sk-container-id-68 div.sk-parallel-item::before {content: \"\";position: absolute;border-left: 1px solid gray;box-sizing: border-box;top: 0;bottom: 0;left: 50%;z-index: -1;}#sk-container-id-68 div.sk-parallel-item {display: flex;flex-direction: column;z-index: 1;position: relative;background-color: white;}#sk-container-id-68 div.sk-parallel-item:first-child::after {align-self: flex-end;width: 50%;}#sk-container-id-68 div.sk-parallel-item:last-child::after {align-self: flex-start;width: 50%;}#sk-container-id-68 div.sk-parallel-item:only-child::after {width: 0;}#sk-container-id-68 div.sk-dashed-wrapped {border: 1px dashed gray;margin: 0 0.4em 0.5em 0.4em;box-sizing: border-box;padding-bottom: 0.4em;background-color: white;}#sk-container-id-68 div.sk-label label {font-family: monospace;font-weight: bold;display: inline-block;line-height: 1.2em;}#sk-container-id-68 div.sk-label-container {text-align: center;}#sk-container-id-68 div.sk-container {/* jupyter's `normalize.less` sets `[hidden] { display: none; }` but bootstrap.min.css set `[hidden] { display: none !important; }` so we also need the `!important` here to be able to override the default hidden behavior on the sphinx rendered scikit-learn.org. See: https://github.com/scikit-learn/scikit-learn/issues/21755 */display: inline-block !important;position: relative;}#sk-container-id-68 div.sk-text-repr-fallback {display: none;}</style><div id=\"sk-container-id-68\" class=\"sk-top-container\"><div class=\"sk-text-repr-fallback\"><pre>LGBMClassifier(colsample_bytree=0.9, learning_rate=0.0003, max_depth=8,\n               n_estimators=10000, num_leaves=34, reg_alpha=0.1, reg_lambda=0.1,\n               subsample=0.8, verbose=-1)</pre><b>In a Jupyter environment, please rerun this cell to show the HTML representation or trust the notebook. <br />On GitHub, the HTML representation is unable to render, please try loading this page with nbviewer.org.</b></div><div class=\"sk-container\" hidden><div class=\"sk-item\"><div class=\"sk-estimator sk-toggleable\"><input class=\"sk-toggleable__control sk-hidden--visually\" id=\"sk-estimator-id-68\" type=\"checkbox\" checked><label for=\"sk-estimator-id-68\" class=\"sk-toggleable__label sk-toggleable__label-arrow\">LGBMClassifier</label><div class=\"sk-toggleable__content\"><pre>LGBMClassifier(colsample_bytree=0.9, learning_rate=0.0003, max_depth=8,\n               n_estimators=10000, num_leaves=34, reg_alpha=0.1, reg_lambda=0.1,\n               subsample=0.8, verbose=-1)</pre></div></div></div></div></div>"
     },
     "execution_count": 256,
     "metadata": {},
     "output_type": "execute_result"
    }
   ],
   "source": [
    "boosting_model_eth = LGBMClassifier(\n",
    "        n_estimators=10000,\n",
    "        learning_rate=3e-4,\n",
    "        num_leaves=34,\n",
    "        colsample_bytree=0.9,\n",
    "        subsample=0.8,\n",
    "        max_depth=8,\n",
    "        reg_alpha=.1,\n",
    "        reg_lambda=.1,\n",
    "        verbose=-1,\n",
    "        )\n",
    "\n",
    "boosting_model_eth.fit(X_eth_train, y_eth_train)"
   ],
   "metadata": {
    "collapsed": false,
    "ExecuteTime": {
     "end_time": "2023-06-10T12:05:50.313171Z",
     "start_time": "2023-06-10T12:05:37.713044Z"
    }
   }
  },
  {
   "cell_type": "code",
   "execution_count": 257,
   "outputs": [
    {
     "name": "stdout",
     "output_type": "stream",
     "text": [
      "precision = 0.8905775075987842\n",
      "recall = 0.8567251461988304\n",
      "accuracy = 0.8727544910179641\n",
      "f1-score = 0.8733233979135618\n"
     ]
    }
   ],
   "source": [
    "y_predict_eth = boosting_model_eth.predict(X_eth_test)\n",
    "\n",
    "precision = precision_score(y_eth_test, y_predict_eth)\n",
    "recall = recall_score(y_eth_test, y_predict_eth)\n",
    "accuracy = accuracy_score(y_eth_test, y_predict_eth)\n",
    "f1 = f1_score(y_eth_test, y_predict_eth)\n",
    "\n",
    "print(f\"precision = {precision}\")\n",
    "print(f\"recall = {recall}\")\n",
    "print(f\"accuracy = {accuracy}\")\n",
    "print(f\"f1-score = {f1}\")"
   ],
   "metadata": {
    "collapsed": false,
    "ExecuteTime": {
     "end_time": "2023-06-10T12:05:55.160943Z",
     "start_time": "2023-06-10T12:05:54.991279Z"
    }
   }
  },
  {
   "cell_type": "code",
   "execution_count": 258,
   "outputs": [
    {
     "data": {
      "text/plain": "0it [00:00, ?it/s]",
      "application/vnd.jupyter.widget-view+json": {
       "version_major": 2,
       "version_minor": 0,
       "model_id": "d7eb358777ac42d991fbf117534317ac"
      }
     },
     "metadata": {},
     "output_type": "display_data"
    },
    {
     "name": "stdout",
     "output_type": "stream",
     "text": [
      "precision = 0.893513217430888\n",
      "recall = 0.8726547015590136\n",
      "accuracy = 0.8833259992665934\n",
      "f1-score = 0.8825434217273298\n"
     ]
    }
   ],
   "source": [
    "folds = KFold(n_splits=5, shuffle=True, random_state=42)\n",
    "\n",
    "precision_list = []\n",
    "recall_list = []\n",
    "accuracy_list = []\n",
    "f1_list = []\n",
    "\n",
    "for i, (train_index, test_index) in tqdm(enumerate(folds.split(X_eth))):\n",
    "    boosting_model_eth = LGBMClassifier(\n",
    "        n_estimators=10000,\n",
    "        learning_rate=3e-4,\n",
    "        num_leaves=34,\n",
    "        colsample_bytree=0.9,\n",
    "        subsample=0.8,\n",
    "        max_depth=8,\n",
    "        reg_alpha=.1,\n",
    "        reg_lambda=.1,\n",
    "        verbose=-1,\n",
    "        )\n",
    "    boosting_model_eth.fit(X_eth.iloc[train_index], y_eth[train_index])\n",
    "    y_predict_btc = boosting_model_eth.predict(X_eth.iloc[test_index])\n",
    "\n",
    "    precision_list.append(precision_score(y_eth[test_index], y_predict_btc))\n",
    "    recall_list.append(recall_score(y_eth[test_index], y_predict_btc))\n",
    "    accuracy_list.append(accuracy_score(y_eth[test_index], y_predict_btc))\n",
    "    f1_list.append(f1_score(y_eth[test_index], y_predict_btc))\n",
    "\n",
    "precision = sum(precision_list) / len(precision_list)\n",
    "recall = sum(recall_list) / len(recall_list)\n",
    "accuracy = sum(accuracy_list) / len(accuracy_list)\n",
    "f1 = sum(f1_list) / len(f1_list)\n",
    "\n",
    "print(f\"precision = {precision}\")\n",
    "print(f\"recall = {recall}\")\n",
    "print(f\"accuracy = {accuracy}\")\n",
    "print(f\"f1-score = {f1}\")"
   ],
   "metadata": {
    "collapsed": false,
    "ExecuteTime": {
     "end_time": "2023-06-10T12:08:58.847609Z",
     "start_time": "2023-06-10T12:06:08.822003Z"
    }
   }
  },
  {
   "cell_type": "markdown",
   "source": [
    "### Reduce dim"
   ],
   "metadata": {
    "collapsed": false
   }
  },
  {
   "cell_type": "code",
   "execution_count": 259,
   "outputs": [],
   "source": [
    "X_eth = pd.read_csv(PATH + \"/ETH_reduce.csv\", index_col='time')\n",
    "y_eth = pd.read_csv(PATH + \"/ETH_target.csv\", index_col='time')\n",
    "y_eth = y_eth.values.ravel()\n",
    "\n",
    "X_eth_train, X_eth_test, y_eth_train, y_eth_test = train_test_split(X_eth, y_eth, test_size=0.33, random_state=42)"
   ],
   "metadata": {
    "collapsed": false,
    "ExecuteTime": {
     "end_time": "2023-06-10T12:09:30.771263Z",
     "start_time": "2023-06-10T12:09:30.719074Z"
    }
   }
  },
  {
   "cell_type": "code",
   "execution_count": 260,
   "outputs": [
    {
     "data": {
      "text/plain": "LGBMClassifier(colsample_bytree=0.9, learning_rate=0.0003, max_depth=8,\n               n_estimators=10000, num_leaves=34, reg_alpha=0.1, reg_lambda=0.1,\n               subsample=0.8, verbose=-1)",
      "text/html": "<style>#sk-container-id-69 {color: black;background-color: white;}#sk-container-id-69 pre{padding: 0;}#sk-container-id-69 div.sk-toggleable {background-color: white;}#sk-container-id-69 label.sk-toggleable__label {cursor: pointer;display: block;width: 100%;margin-bottom: 0;padding: 0.3em;box-sizing: border-box;text-align: center;}#sk-container-id-69 label.sk-toggleable__label-arrow:before {content: \"▸\";float: left;margin-right: 0.25em;color: #696969;}#sk-container-id-69 label.sk-toggleable__label-arrow:hover:before {color: black;}#sk-container-id-69 div.sk-estimator:hover label.sk-toggleable__label-arrow:before {color: black;}#sk-container-id-69 div.sk-toggleable__content {max-height: 0;max-width: 0;overflow: hidden;text-align: left;background-color: #f0f8ff;}#sk-container-id-69 div.sk-toggleable__content pre {margin: 0.2em;color: black;border-radius: 0.25em;background-color: #f0f8ff;}#sk-container-id-69 input.sk-toggleable__control:checked~div.sk-toggleable__content {max-height: 200px;max-width: 100%;overflow: auto;}#sk-container-id-69 input.sk-toggleable__control:checked~label.sk-toggleable__label-arrow:before {content: \"▾\";}#sk-container-id-69 div.sk-estimator input.sk-toggleable__control:checked~label.sk-toggleable__label {background-color: #d4ebff;}#sk-container-id-69 div.sk-label input.sk-toggleable__control:checked~label.sk-toggleable__label {background-color: #d4ebff;}#sk-container-id-69 input.sk-hidden--visually {border: 0;clip: rect(1px 1px 1px 1px);clip: rect(1px, 1px, 1px, 1px);height: 1px;margin: -1px;overflow: hidden;padding: 0;position: absolute;width: 1px;}#sk-container-id-69 div.sk-estimator {font-family: monospace;background-color: #f0f8ff;border: 1px dotted black;border-radius: 0.25em;box-sizing: border-box;margin-bottom: 0.5em;}#sk-container-id-69 div.sk-estimator:hover {background-color: #d4ebff;}#sk-container-id-69 div.sk-parallel-item::after {content: \"\";width: 100%;border-bottom: 1px solid gray;flex-grow: 1;}#sk-container-id-69 div.sk-label:hover label.sk-toggleable__label {background-color: #d4ebff;}#sk-container-id-69 div.sk-serial::before {content: \"\";position: absolute;border-left: 1px solid gray;box-sizing: border-box;top: 0;bottom: 0;left: 50%;z-index: 0;}#sk-container-id-69 div.sk-serial {display: flex;flex-direction: column;align-items: center;background-color: white;padding-right: 0.2em;padding-left: 0.2em;position: relative;}#sk-container-id-69 div.sk-item {position: relative;z-index: 1;}#sk-container-id-69 div.sk-parallel {display: flex;align-items: stretch;justify-content: center;background-color: white;position: relative;}#sk-container-id-69 div.sk-item::before, #sk-container-id-69 div.sk-parallel-item::before {content: \"\";position: absolute;border-left: 1px solid gray;box-sizing: border-box;top: 0;bottom: 0;left: 50%;z-index: -1;}#sk-container-id-69 div.sk-parallel-item {display: flex;flex-direction: column;z-index: 1;position: relative;background-color: white;}#sk-container-id-69 div.sk-parallel-item:first-child::after {align-self: flex-end;width: 50%;}#sk-container-id-69 div.sk-parallel-item:last-child::after {align-self: flex-start;width: 50%;}#sk-container-id-69 div.sk-parallel-item:only-child::after {width: 0;}#sk-container-id-69 div.sk-dashed-wrapped {border: 1px dashed gray;margin: 0 0.4em 0.5em 0.4em;box-sizing: border-box;padding-bottom: 0.4em;background-color: white;}#sk-container-id-69 div.sk-label label {font-family: monospace;font-weight: bold;display: inline-block;line-height: 1.2em;}#sk-container-id-69 div.sk-label-container {text-align: center;}#sk-container-id-69 div.sk-container {/* jupyter's `normalize.less` sets `[hidden] { display: none; }` but bootstrap.min.css set `[hidden] { display: none !important; }` so we also need the `!important` here to be able to override the default hidden behavior on the sphinx rendered scikit-learn.org. See: https://github.com/scikit-learn/scikit-learn/issues/21755 */display: inline-block !important;position: relative;}#sk-container-id-69 div.sk-text-repr-fallback {display: none;}</style><div id=\"sk-container-id-69\" class=\"sk-top-container\"><div class=\"sk-text-repr-fallback\"><pre>LGBMClassifier(colsample_bytree=0.9, learning_rate=0.0003, max_depth=8,\n               n_estimators=10000, num_leaves=34, reg_alpha=0.1, reg_lambda=0.1,\n               subsample=0.8, verbose=-1)</pre><b>In a Jupyter environment, please rerun this cell to show the HTML representation or trust the notebook. <br />On GitHub, the HTML representation is unable to render, please try loading this page with nbviewer.org.</b></div><div class=\"sk-container\" hidden><div class=\"sk-item\"><div class=\"sk-estimator sk-toggleable\"><input class=\"sk-toggleable__control sk-hidden--visually\" id=\"sk-estimator-id-69\" type=\"checkbox\" checked><label for=\"sk-estimator-id-69\" class=\"sk-toggleable__label sk-toggleable__label-arrow\">LGBMClassifier</label><div class=\"sk-toggleable__content\"><pre>LGBMClassifier(colsample_bytree=0.9, learning_rate=0.0003, max_depth=8,\n               n_estimators=10000, num_leaves=34, reg_alpha=0.1, reg_lambda=0.1,\n               subsample=0.8, verbose=-1)</pre></div></div></div></div></div>"
     },
     "execution_count": 260,
     "metadata": {},
     "output_type": "execute_result"
    }
   ],
   "source": [
    "boosting_model_eth = LGBMClassifier(\n",
    "        n_estimators=10000,\n",
    "        learning_rate=3e-4,\n",
    "        num_leaves=34,\n",
    "        colsample_bytree=0.9,\n",
    "        subsample=0.8,\n",
    "        max_depth=8,\n",
    "        reg_alpha=.1,\n",
    "        reg_lambda=.1,\n",
    "        verbose=-1,\n",
    "        )\n",
    "\n",
    "boosting_model_eth.fit(X_eth_train, y_eth_train)"
   ],
   "metadata": {
    "collapsed": false,
    "ExecuteTime": {
     "end_time": "2023-06-10T12:09:50.139485Z",
     "start_time": "2023-06-10T12:09:31.879852Z"
    }
   }
  },
  {
   "cell_type": "code",
   "execution_count": 261,
   "outputs": [
    {
     "name": "stdout",
     "output_type": "stream",
     "text": [
      "precision = 0.8693009118541033\n",
      "recall = 0.8362573099415205\n",
      "accuracy = 0.8517964071856288\n",
      "f1-score = 0.8524590163934427\n"
     ]
    }
   ],
   "source": [
    "y_predict_eth = boosting_model_eth.predict(X_eth_test)\n",
    "\n",
    "precision = precision_score(y_eth_test, y_predict_eth)\n",
    "recall = recall_score(y_eth_test, y_predict_eth)\n",
    "accuracy = accuracy_score(y_eth_test, y_predict_eth)\n",
    "f1 = f1_score(y_eth_test, y_predict_eth)\n",
    "\n",
    "print(f\"precision = {precision}\")\n",
    "print(f\"recall = {recall}\")\n",
    "print(f\"accuracy = {accuracy}\")\n",
    "print(f\"f1-score = {f1}\")"
   ],
   "metadata": {
    "collapsed": false,
    "ExecuteTime": {
     "end_time": "2023-06-10T12:10:04.709287Z",
     "start_time": "2023-06-10T12:10:04.532941Z"
    }
   }
  },
  {
   "cell_type": "code",
   "execution_count": 262,
   "outputs": [
    {
     "data": {
      "text/plain": "0it [00:00, ?it/s]",
      "application/vnd.jupyter.widget-view+json": {
       "version_major": 2,
       "version_minor": 0,
       "model_id": "41b265796a7f4cac81cf3b8174778e86"
      }
     },
     "metadata": {},
     "output_type": "display_data"
    },
    {
     "name": "stdout",
     "output_type": "stream",
     "text": [
      "precision = 0.8409054772159917\n",
      "recall = 0.8647644998708801\n",
      "accuracy = 0.8492213665811026\n",
      "f1-score = 0.8520667746930096\n"
     ]
    }
   ],
   "source": [
    "folds = KFold(n_splits=5, shuffle=True, random_state=42)\n",
    "\n",
    "precision_list = []\n",
    "recall_list = []\n",
    "accuracy_list = []\n",
    "f1_list = []\n",
    "\n",
    "for i, (train_index, test_index) in tqdm(enumerate(folds.split(X_eth))):\n",
    "    boosting_model_eth = LGBMClassifier(\n",
    "        n_estimators=10000,\n",
    "        learning_rate=3e-4,\n",
    "        num_leaves=34,\n",
    "        colsample_bytree=0.9,\n",
    "        subsample=0.8,\n",
    "        max_depth=8,\n",
    "        reg_alpha=.1,\n",
    "        reg_lambda=.1,\n",
    "        verbose=-1,\n",
    "        )\n",
    "    boosting_model_eth.fit(X_eth.iloc[train_index], y_eth[train_index])\n",
    "    y_predict_btc = boosting_model_eth.predict(X_eth.iloc[test_index])\n",
    "\n",
    "    precision_list.append(precision_score(y_eth[test_index], y_predict_btc))\n",
    "    recall_list.append(recall_score(y_eth[test_index], y_predict_btc))\n",
    "    accuracy_list.append(accuracy_score(y_eth[test_index], y_predict_btc))\n",
    "    f1_list.append(f1_score(y_eth[test_index], y_predict_btc))\n",
    "\n",
    "precision = sum(precision_list) / len(precision_list)\n",
    "recall = sum(recall_list) / len(recall_list)\n",
    "accuracy = sum(accuracy_list) / len(accuracy_list)\n",
    "f1 = sum(f1_list) / len(f1_list)\n",
    "\n",
    "print(f\"precision = {precision}\")\n",
    "print(f\"recall = {recall}\")\n",
    "print(f\"accuracy = {accuracy}\")\n",
    "print(f\"f1-score = {f1}\")"
   ],
   "metadata": {
    "collapsed": false,
    "ExecuteTime": {
     "end_time": "2023-06-10T12:12:06.524177Z",
     "start_time": "2023-06-10T12:10:16.853804Z"
    }
   }
  },
  {
   "cell_type": "markdown",
   "source": [
    "### With Normalization"
   ],
   "metadata": {
    "collapsed": false
   }
  },
  {
   "cell_type": "code",
   "execution_count": 263,
   "outputs": [],
   "source": [
    "X_eth = pd.read_csv(PATH + \"/ETH_normalization.csv\", index_col='time')\n",
    "y_eth = pd.read_csv(PATH + \"/ETH_target.csv\", index_col='time')\n",
    "y_eth = y_eth.values.ravel()\n",
    "\n",
    "X_eth_train, X_eth_test, y_eth_train, y_eth_test = train_test_split(X_eth, y_eth, test_size=0.33, random_state=42)"
   ],
   "metadata": {
    "collapsed": false,
    "ExecuteTime": {
     "end_time": "2023-06-10T12:12:31.447611Z",
     "start_time": "2023-06-10T12:12:31.376522Z"
    }
   }
  },
  {
   "cell_type": "code",
   "execution_count": 264,
   "outputs": [
    {
     "data": {
      "text/plain": "LGBMClassifier(colsample_bytree=0.9, learning_rate=0.0003, max_depth=8,\n               n_estimators=10000, num_leaves=34, reg_alpha=0.1, reg_lambda=0.1,\n               subsample=0.8, verbose=-1)",
      "text/html": "<style>#sk-container-id-70 {color: black;background-color: white;}#sk-container-id-70 pre{padding: 0;}#sk-container-id-70 div.sk-toggleable {background-color: white;}#sk-container-id-70 label.sk-toggleable__label {cursor: pointer;display: block;width: 100%;margin-bottom: 0;padding: 0.3em;box-sizing: border-box;text-align: center;}#sk-container-id-70 label.sk-toggleable__label-arrow:before {content: \"▸\";float: left;margin-right: 0.25em;color: #696969;}#sk-container-id-70 label.sk-toggleable__label-arrow:hover:before {color: black;}#sk-container-id-70 div.sk-estimator:hover label.sk-toggleable__label-arrow:before {color: black;}#sk-container-id-70 div.sk-toggleable__content {max-height: 0;max-width: 0;overflow: hidden;text-align: left;background-color: #f0f8ff;}#sk-container-id-70 div.sk-toggleable__content pre {margin: 0.2em;color: black;border-radius: 0.25em;background-color: #f0f8ff;}#sk-container-id-70 input.sk-toggleable__control:checked~div.sk-toggleable__content {max-height: 200px;max-width: 100%;overflow: auto;}#sk-container-id-70 input.sk-toggleable__control:checked~label.sk-toggleable__label-arrow:before {content: \"▾\";}#sk-container-id-70 div.sk-estimator input.sk-toggleable__control:checked~label.sk-toggleable__label {background-color: #d4ebff;}#sk-container-id-70 div.sk-label input.sk-toggleable__control:checked~label.sk-toggleable__label {background-color: #d4ebff;}#sk-container-id-70 input.sk-hidden--visually {border: 0;clip: rect(1px 1px 1px 1px);clip: rect(1px, 1px, 1px, 1px);height: 1px;margin: -1px;overflow: hidden;padding: 0;position: absolute;width: 1px;}#sk-container-id-70 div.sk-estimator {font-family: monospace;background-color: #f0f8ff;border: 1px dotted black;border-radius: 0.25em;box-sizing: border-box;margin-bottom: 0.5em;}#sk-container-id-70 div.sk-estimator:hover {background-color: #d4ebff;}#sk-container-id-70 div.sk-parallel-item::after {content: \"\";width: 100%;border-bottom: 1px solid gray;flex-grow: 1;}#sk-container-id-70 div.sk-label:hover label.sk-toggleable__label {background-color: #d4ebff;}#sk-container-id-70 div.sk-serial::before {content: \"\";position: absolute;border-left: 1px solid gray;box-sizing: border-box;top: 0;bottom: 0;left: 50%;z-index: 0;}#sk-container-id-70 div.sk-serial {display: flex;flex-direction: column;align-items: center;background-color: white;padding-right: 0.2em;padding-left: 0.2em;position: relative;}#sk-container-id-70 div.sk-item {position: relative;z-index: 1;}#sk-container-id-70 div.sk-parallel {display: flex;align-items: stretch;justify-content: center;background-color: white;position: relative;}#sk-container-id-70 div.sk-item::before, #sk-container-id-70 div.sk-parallel-item::before {content: \"\";position: absolute;border-left: 1px solid gray;box-sizing: border-box;top: 0;bottom: 0;left: 50%;z-index: -1;}#sk-container-id-70 div.sk-parallel-item {display: flex;flex-direction: column;z-index: 1;position: relative;background-color: white;}#sk-container-id-70 div.sk-parallel-item:first-child::after {align-self: flex-end;width: 50%;}#sk-container-id-70 div.sk-parallel-item:last-child::after {align-self: flex-start;width: 50%;}#sk-container-id-70 div.sk-parallel-item:only-child::after {width: 0;}#sk-container-id-70 div.sk-dashed-wrapped {border: 1px dashed gray;margin: 0 0.4em 0.5em 0.4em;box-sizing: border-box;padding-bottom: 0.4em;background-color: white;}#sk-container-id-70 div.sk-label label {font-family: monospace;font-weight: bold;display: inline-block;line-height: 1.2em;}#sk-container-id-70 div.sk-label-container {text-align: center;}#sk-container-id-70 div.sk-container {/* jupyter's `normalize.less` sets `[hidden] { display: none; }` but bootstrap.min.css set `[hidden] { display: none !important; }` so we also need the `!important` here to be able to override the default hidden behavior on the sphinx rendered scikit-learn.org. See: https://github.com/scikit-learn/scikit-learn/issues/21755 */display: inline-block !important;position: relative;}#sk-container-id-70 div.sk-text-repr-fallback {display: none;}</style><div id=\"sk-container-id-70\" class=\"sk-top-container\"><div class=\"sk-text-repr-fallback\"><pre>LGBMClassifier(colsample_bytree=0.9, learning_rate=0.0003, max_depth=8,\n               n_estimators=10000, num_leaves=34, reg_alpha=0.1, reg_lambda=0.1,\n               subsample=0.8, verbose=-1)</pre><b>In a Jupyter environment, please rerun this cell to show the HTML representation or trust the notebook. <br />On GitHub, the HTML representation is unable to render, please try loading this page with nbviewer.org.</b></div><div class=\"sk-container\" hidden><div class=\"sk-item\"><div class=\"sk-estimator sk-toggleable\"><input class=\"sk-toggleable__control sk-hidden--visually\" id=\"sk-estimator-id-70\" type=\"checkbox\" checked><label for=\"sk-estimator-id-70\" class=\"sk-toggleable__label sk-toggleable__label-arrow\">LGBMClassifier</label><div class=\"sk-toggleable__content\"><pre>LGBMClassifier(colsample_bytree=0.9, learning_rate=0.0003, max_depth=8,\n               n_estimators=10000, num_leaves=34, reg_alpha=0.1, reg_lambda=0.1,\n               subsample=0.8, verbose=-1)</pre></div></div></div></div></div>"
     },
     "execution_count": 264,
     "metadata": {},
     "output_type": "execute_result"
    }
   ],
   "source": [
    "boosting_model_eth = LGBMClassifier(\n",
    "        n_estimators=10000,\n",
    "        learning_rate=3e-4,\n",
    "        num_leaves=34,\n",
    "        colsample_bytree=0.9,\n",
    "        subsample=0.8,\n",
    "        max_depth=8,\n",
    "        reg_alpha=.1,\n",
    "        reg_lambda=.1,\n",
    "        verbose=-1,\n",
    "        )\n",
    "\n",
    "boosting_model_eth.fit(X_eth_train, y_eth_train)"
   ],
   "metadata": {
    "collapsed": false,
    "ExecuteTime": {
     "end_time": "2023-06-10T12:12:58.056716Z",
     "start_time": "2023-06-10T12:12:31.973272Z"
    }
   }
  },
  {
   "cell_type": "code",
   "execution_count": 265,
   "outputs": [
    {
     "name": "stdout",
     "output_type": "stream",
     "text": [
      "precision = 0.8858858858858859\n",
      "recall = 0.8625730994152047\n",
      "accuracy = 0.8727544910179641\n",
      "f1-score = 0.874074074074074\n"
     ]
    }
   ],
   "source": [
    "y_predict_eth = boosting_model_eth.predict(X_eth_test)\n",
    "\n",
    "precision = precision_score(y_eth_test, y_predict_eth)\n",
    "recall = recall_score(y_eth_test, y_predict_eth)\n",
    "accuracy = accuracy_score(y_eth_test, y_predict_eth)\n",
    "f1 = f1_score(y_eth_test, y_predict_eth)\n",
    "\n",
    "print(f\"precision = {precision}\")\n",
    "print(f\"recall = {recall}\")\n",
    "print(f\"accuracy = {accuracy}\")\n",
    "print(f\"f1-score = {f1}\")"
   ],
   "metadata": {
    "collapsed": false,
    "ExecuteTime": {
     "end_time": "2023-06-10T12:13:27.462227Z",
     "start_time": "2023-06-10T12:13:27.297218Z"
    }
   }
  },
  {
   "cell_type": "code",
   "execution_count": 266,
   "outputs": [
    {
     "data": {
      "text/plain": "0it [00:00, ?it/s]",
      "application/vnd.jupyter.widget-view+json": {
       "version_major": 2,
       "version_minor": 0,
       "model_id": "9c3577a875204609a177fb7cfb009d71"
      }
     },
     "metadata": {},
     "output_type": "display_data"
    },
    {
     "name": "stdout",
     "output_type": "stream",
     "text": [
      "precision = 0.8968865223889761\n",
      "recall = 0.8615599198392918\n",
      "accuracy = 0.8803654809925436\n",
      "f1-score = 0.8784489530271037\n"
     ]
    }
   ],
   "source": [
    "folds = KFold(n_splits=5, shuffle=True, random_state=42)\n",
    "\n",
    "precision_list = []\n",
    "recall_list = []\n",
    "accuracy_list = []\n",
    "f1_list = []\n",
    "\n",
    "for i, (train_index, test_index) in tqdm(enumerate(folds.split(X_eth))):\n",
    "    boosting_model_eth = LGBMClassifier(\n",
    "        n_estimators=10000,\n",
    "        learning_rate=3e-4,\n",
    "        num_leaves=34,\n",
    "        colsample_bytree=0.9,\n",
    "        subsample=0.8,\n",
    "        max_depth=8,\n",
    "        reg_alpha=.1,\n",
    "        reg_lambda=.1,\n",
    "        verbose=-1,\n",
    "        )\n",
    "    boosting_model_eth.fit(X_eth.iloc[train_index], y_eth[train_index])\n",
    "    y_predict_btc = boosting_model_eth.predict(X_eth.iloc[test_index])\n",
    "\n",
    "    precision_list.append(precision_score(y_eth[test_index], y_predict_btc))\n",
    "    recall_list.append(recall_score(y_eth[test_index], y_predict_btc))\n",
    "    accuracy_list.append(accuracy_score(y_eth[test_index], y_predict_btc))\n",
    "    f1_list.append(f1_score(y_eth[test_index], y_predict_btc))\n",
    "\n",
    "precision = sum(precision_list) / len(precision_list)\n",
    "recall = sum(recall_list) / len(recall_list)\n",
    "accuracy = sum(accuracy_list) / len(accuracy_list)\n",
    "f1 = sum(f1_list) / len(f1_list)\n",
    "\n",
    "print(f\"precision = {precision}\")\n",
    "print(f\"recall = {recall}\")\n",
    "print(f\"accuracy = {accuracy}\")\n",
    "print(f\"f1-score = {f1}\")"
   ],
   "metadata": {
    "collapsed": false,
    "ExecuteTime": {
     "end_time": "2023-06-10T12:16:37.911570Z",
     "start_time": "2023-06-10T12:13:46.554629Z"
    }
   }
  }
 ],
 "metadata": {
  "kernelspec": {
   "display_name": "Python 3",
   "language": "python",
   "name": "python3"
  },
  "language_info": {
   "codemirror_mode": {
    "name": "ipython",
    "version": 2
   },
   "file_extension": ".py",
   "mimetype": "text/x-python",
   "name": "python",
   "nbconvert_exporter": "python",
   "pygments_lexer": "ipython2",
   "version": "2.7.6"
  }
 },
 "nbformat": 4,
 "nbformat_minor": 0
}
